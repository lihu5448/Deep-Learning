{
 "cells": [
  {
   "cell_type": "code",
   "execution_count": 1,
   "id": "2dac92c6",
   "metadata": {},
   "outputs": [],
   "source": [
    "#Numerical Operations\n",
    "import math\n",
    "import numpy as np\n",
    "\n",
    "#Reading/Writing Data\n",
    "import pandas as pd\n",
    "import os\n",
    "import csv\n",
    "\n",
    "#For Progress Bar\n",
    "from tqdm import tqdm\n",
    "\n",
    "#Pytorch\n",
    "import torch\n",
    "import torch.nn as nn\n",
    "from torch.utils.data import Dataset,DataLoader,random_split\n",
    "\n",
    "#For plotting learning curve\n",
    "from torch.utils.tensorboard import SummaryWriter\n"
   ]
  },
  {
   "cell_type": "code",
   "execution_count": 2,
   "id": "426ccfff",
   "metadata": {},
   "outputs": [],
   "source": [
    "#Some Utility Functions\n",
    "def same_seed(seed):\n",
    "    '''Fixes random number generator seeds for reproducibility.'''\n",
    "    torch.backends.cudnn.deterministic = True\n",
    "    torch.backends.cudnn.benchmark = False\n",
    "    np.random.seed(seed)\n",
    "    torch.manual_seed(seed)\n",
    "    if torch.cuda.is_available():\n",
    "        torch.cuda.manual_seed_all(seed)\n",
    "    \n",
    "def train_valid_split(data_set, valid_ratio, seed):\n",
    "    '''Split provided training data into training set and validation set'''\n",
    "    valid_set_size = int(valid_ratio * len(data_set)) \n",
    "    train_set_size = len(data_set) - valid_set_size\n",
    "    train_set, valid_set = random_split(data_set, [train_set_size, valid_set_size], generator=torch.Generator().manual_seed(seed))\n",
    "    return np.array(train_set), np.array(valid_set)\n",
    "\n",
    "def predict(test_loader, model, device):\n",
    "    model.eval() # Set your model to evaluation mode.\n",
    "    preds = []\n",
    "    for x in tqdm(test_loader):\n",
    "        x = x.to(device)                        \n",
    "        with torch.no_grad():                   \n",
    "            pred = model(x)                     \n",
    "            preds.append(pred.detach().cpu())   \n",
    "    preds = torch.cat(preds, dim=0).numpy()  \n",
    "    return preds"
   ]
  },
  {
   "cell_type": "code",
   "execution_count": 3,
   "id": "9bc70e46",
   "metadata": {},
   "outputs": [],
   "source": [
    "class COVID19Dataset(Dataset):\n",
    "    '''\n",
    "    x: Features.\n",
    "    y: Targets, if none ,do prediction.\n",
    "    '''\n",
    "    def __init__(self,x,y=None):\n",
    "        '''common'''\n",
    "        if y is None:\n",
    "            self.y = y\n",
    "        else:\n",
    "            self.y = torch.FloatTensor(y)\n",
    "        self.x = torch.FloatTensor(x)\n",
    "        \n",
    "    def __getitem__(self,idx):\n",
    "        if self.y is None:\n",
    "            return self.x[idx]\n",
    "        else:\n",
    "            return self.x[idx], self.y[idx]\n",
    "\n",
    "    def __len__(self):\n",
    "        return len(self.x)        "
   ]
  },
  {
   "cell_type": "code",
   "execution_count": 4,
   "id": "ea927e1c",
   "metadata": {},
   "outputs": [],
   "source": [
    "class My_Model(nn.Module):\n",
    "    def __init__(self, input_dim):\n",
    "        super(My_Model, self).__init__()\n",
    "        # TODO: modify model's structure, be aware of dimensions.\n",
    "        self.layers = nn.Sequential(\n",
    "            nn.Linear(input_dim, 16),\n",
    "            nn.ReLU(),\n",
    "            nn.Linear(16, 8),\n",
    "            nn.ReLU(),\n",
    "            nn.Linear(8, 1)\n",
    "        )\n",
    "    \n",
    "    def forward(self, x):\n",
    "        x = self.layers(x)\n",
    "        x = x.squeeze(1) # (B, 1) -> (B)\n",
    "        return x"
   ]
  },
  {
   "cell_type": "code",
   "execution_count": 5,
   "id": "e457a531",
   "metadata": {},
   "outputs": [],
   "source": [
    "def select_feat(train_data, valid_data, test_data, select_all=True):\n",
    "    '''Select useful features to perform regression'''\n",
    "    y_train, y_valid = train_data[:, -1], valid_data[:, -1]\n",
    "    raw_x_train, raw_x_valid, raw_x_test = train_data[:,:-1], valid_data[:,:-1], test_data\n",
    "    \n",
    "    if select_all:\n",
    "        feat_idx = list(range(raw_x_train.shape[1]))\n",
    "    else:\n",
    "        feat_idx = [0,1,2,3,4] # TODO: Select suitable feature columns.\n",
    "        \n",
    "    return raw_x_train[:,feat_idx], raw_x_valid[:,feat_idx], raw_x_test[:,feat_idx], y_train, y_valid"
   ]
  },
  {
   "cell_type": "code",
   "execution_count": 6,
   "id": "a062aa73",
   "metadata": {},
   "outputs": [],
   "source": [
    "def trainer(train_loader, valid_loader, model, config, device):\n",
    "\n",
    "    criterion = nn.MSELoss(reduction='mean') # Define your loss function, do not modify this.\n",
    "\n",
    "    # Define your optimization algorithm. \n",
    "    # TODO: Please check https://pytorch.org/docs/stable/optim.html to get more available algorithms.\n",
    "    # TODO: L2 regularization (optimizer(weight decay...) or implement by your self).\n",
    "    optimizer = torch.optim.SGD(model.parameters(), lr=config['learning_rate'], momentum=0.9) \n",
    "\n",
    "    writer = SummaryWriter() # Writer of tensoboard.\n",
    "\n",
    "    if not os.path.isdir('./models'):\n",
    "        os.mkdir('./models') # Create directory of saving models.\n",
    "\n",
    "    n_epochs, best_loss, step, early_stop_count = config['n_epochs'], math.inf, 0, 0\n",
    "\n",
    "    for epoch in range(n_epochs):\n",
    "        model.train() # Set your model to train mode.\n",
    "        loss_record = []\n",
    "\n",
    "        # tqdm is a package to visualize your training progress.\n",
    "        train_pbar = tqdm(train_loader, position=0, leave=True)\n",
    "\n",
    "        for x, y in train_pbar:\n",
    "            optimizer.zero_grad()               # Set gradient to zero.\n",
    "            x, y = x.to(device), y.to(device)   # Move your data to device. \n",
    "            pred = model(x)             \n",
    "            loss = criterion(pred, y)\n",
    "            loss.backward()                     # Compute gradient(backpropagation).\n",
    "            optimizer.step()                    # Update parameters.\n",
    "            step += 1\n",
    "            loss_record.append(loss.detach().item())\n",
    "            \n",
    "            # Display current epoch number and loss on tqdm progress bar.\n",
    "            train_pbar.set_description(f'Epoch [{epoch+1}/{n_epochs}]')\n",
    "            train_pbar.set_postfix({'loss': loss.detach().item()})\n",
    "\n",
    "        mean_train_loss = sum(loss_record)/len(loss_record)\n",
    "        writer.add_scalar('Loss/train', mean_train_loss, step)\n",
    "\n",
    "        model.eval() # Set your model to evaluation mode.\n",
    "        loss_record = []\n",
    "        for x, y in valid_loader:\n",
    "            x, y = x.to(device), y.to(device)\n",
    "            with torch.no_grad():\n",
    "                pred = model(x)\n",
    "                loss = criterion(pred, y)\n",
    "\n",
    "            loss_record.append(loss.item())\n",
    "            \n",
    "        mean_valid_loss = sum(loss_record)/len(loss_record)\n",
    "        print(f'Epoch [{epoch+1}/{n_epochs}]: Train loss: {mean_train_loss:.4f}, Valid loss: {mean_valid_loss:.4f}')\n",
    "        writer.add_scalar('Loss/valid', mean_valid_loss, step)\n",
    "\n",
    "        if mean_valid_loss < best_loss:\n",
    "            best_loss = mean_valid_loss\n",
    "            torch.save(model.state_dict(), config['save_path']) # Save your best model\n",
    "            print('Saving model with loss {:.3f}...'.format(best_loss))\n",
    "            early_stop_count = 0\n",
    "        else: \n",
    "            early_stop_count += 1\n",
    "\n",
    "        if early_stop_count >= config['early_stop']:\n",
    "            print('\\nModel is not improving, so we halt the training session.')\n",
    "            return"
   ]
  },
  {
   "cell_type": "code",
   "execution_count": 7,
   "id": "8103cc52",
   "metadata": {},
   "outputs": [],
   "source": [
    "device = 'cuda' if torch.cuda.is_available() else 'cpu'\n",
    "config = {\n",
    "    'seed': 5201314,      # Your seed number, you can pick your lucky number. :)\n",
    "    'select_all': True,   # Whether to use all features.\n",
    "    'valid_ratio': 0.2,   # validation_size = train_size * valid_ratio\n",
    "    'n_epochs': 1800,     # Number of epochs.            \n",
    "    'batch_size': 256, \n",
    "    'learning_rate': 1e-5,              \n",
    "    'early_stop': 400,    # If model has not improved for this many consecutive epochs, stop training.     \n",
    "    'save_path': './models/model.ckpt'  # Your model will be saved here.\n",
    "}"
   ]
  },
  {
   "cell_type": "code",
   "execution_count": 8,
   "id": "9ea12660",
   "metadata": {},
   "outputs": [
    {
     "name": "stdout",
     "output_type": "stream",
     "text": [
      "train_data size: (2160, 118) \n",
      "valid_data size: (539, 118) \n",
      "test_data size: (1078, 117)\n",
      "number of features: 117\n"
     ]
    }
   ],
   "source": [
    "# Set seed for reproducibility\n",
    "same_seed(config['seed'])\n",
    "\n",
    "\n",
    "# train_data size: 2699 x 118 (id + 37 states + 16 features x 5 days) \n",
    "# test_data size: 1078 x 117 (without last day's positive rate)\n",
    "train_data, test_data = pd.read_csv('./covid.train.csv').values, pd.read_csv('./covid.test.csv').values\n",
    "train_data, valid_data = train_valid_split(train_data, config['valid_ratio'], config['seed'])\n",
    "\n",
    "# Print out the data size.\n",
    "print(f\"\"\"train_data size: {train_data.shape} \n",
    "valid_data size: {valid_data.shape} \n",
    "test_data size: {test_data.shape}\"\"\")\n",
    "\n",
    "# Select features\n",
    "x_train, x_valid, x_test, y_train, y_valid = select_feat(train_data, valid_data, test_data, config['select_all'])\n",
    "\n",
    "# Print out the number of features.\n",
    "print(f'number of features: {x_train.shape[1]}')\n",
    "\n",
    "train_dataset, valid_dataset, test_dataset = COVID19Dataset(x_train, y_train), \\\n",
    "                                            COVID19Dataset(x_valid, y_valid), \\\n",
    "                                            COVID19Dataset(x_test)\n",
    "\n",
    "# Pytorch data loader loads pytorch dataset into batches.\n",
    "train_loader = DataLoader(train_dataset, batch_size=config['batch_size'], shuffle=True, pin_memory=True)\n",
    "valid_loader = DataLoader(valid_dataset, batch_size=config['batch_size'], shuffle=True, pin_memory=True)\n",
    "test_loader = DataLoader(test_dataset, batch_size=config['batch_size'], shuffle=False, pin_memory=True)"
   ]
  },
  {
   "cell_type": "code",
   "execution_count": 9,
   "id": "1277c908",
   "metadata": {
    "scrolled": false
   },
   "outputs": [
    {
     "name": "stderr",
     "output_type": "stream",
     "text": [
      "Epoch [1/1800]: 100%|█████████████████████████████████████████████████████████| 9/9 [00:14<00:00,  1.64s/it, loss=60.4]\n"
     ]
    },
    {
     "name": "stdout",
     "output_type": "stream",
     "text": [
      "Epoch [1/1800]: Train loss: 134.2442, Valid loss: 107.2154\n",
      "Saving model with loss 107.215...\n"
     ]
    },
    {
     "name": "stderr",
     "output_type": "stream",
     "text": [
      "Epoch [2/1800]: 100%|████████████████████████████████████████████████████████| 9/9 [00:00<00:00, 130.78it/s, loss=65.9]\n"
     ]
    },
    {
     "name": "stdout",
     "output_type": "stream",
     "text": [
      "Epoch [2/1800]: Train loss: 69.8928, Valid loss: 50.8182\n",
      "Saving model with loss 50.818...\n"
     ]
    },
    {
     "name": "stderr",
     "output_type": "stream",
     "text": [
      "Epoch [3/1800]: 100%|████████████████████████████████████████████████████████| 9/9 [00:00<00:00, 132.56it/s, loss=61.8]"
     ]
    },
    {
     "name": "stdout",
     "output_type": "stream",
     "text": [
      "Epoch [3/1800]: Train loss: 48.5299, Valid loss: 39.1162\n"
     ]
    },
    {
     "name": "stderr",
     "output_type": "stream",
     "text": [
      "\n"
     ]
    },
    {
     "name": "stdout",
     "output_type": "stream",
     "text": [
      "Saving model with loss 39.116...\n"
     ]
    },
    {
     "name": "stderr",
     "output_type": "stream",
     "text": [
      "Epoch [4/1800]: 100%|██████████████████████████████████████████████████████████| 9/9 [00:00<00:00, 136.71it/s, loss=42]\n"
     ]
    },
    {
     "name": "stdout",
     "output_type": "stream",
     "text": [
      "Epoch [4/1800]: Train loss: 39.2691, Valid loss: 39.9758\n"
     ]
    },
    {
     "name": "stderr",
     "output_type": "stream",
     "text": [
      "Epoch [5/1800]: 100%|████████████████████████████████████████████████████████| 9/9 [00:00<00:00, 126.81it/s, loss=37.6]\n"
     ]
    },
    {
     "name": "stdout",
     "output_type": "stream",
     "text": [
      "Epoch [5/1800]: Train loss: 34.3680, Valid loss: 34.5855\n",
      "Saving model with loss 34.585...\n"
     ]
    },
    {
     "name": "stderr",
     "output_type": "stream",
     "text": [
      "Epoch [6/1800]: 100%|████████████████████████████████████████████████████████| 9/9 [00:00<00:00, 134.69it/s, loss=35.4]\n"
     ]
    },
    {
     "name": "stdout",
     "output_type": "stream",
     "text": [
      "Epoch [6/1800]: Train loss: 32.7019, Valid loss: 34.4896\n",
      "Saving model with loss 34.490...\n"
     ]
    },
    {
     "name": "stderr",
     "output_type": "stream",
     "text": [
      "Epoch [7/1800]: 100%|████████████████████████████████████████████████████████| 9/9 [00:00<00:00, 143.24it/s, loss=30.4]\n"
     ]
    },
    {
     "name": "stdout",
     "output_type": "stream",
     "text": [
      "Epoch [7/1800]: Train loss: 31.6557, Valid loss: 32.7822\n",
      "Saving model with loss 32.782...\n"
     ]
    },
    {
     "name": "stderr",
     "output_type": "stream",
     "text": [
      "Epoch [8/1800]: 100%|████████████████████████████████████████████████████████| 9/9 [00:00<00:00, 146.77it/s, loss=31.8]\n"
     ]
    },
    {
     "name": "stdout",
     "output_type": "stream",
     "text": [
      "Epoch [8/1800]: Train loss: 31.0152, Valid loss: 28.5507\n",
      "Saving model with loss 28.551...\n"
     ]
    },
    {
     "name": "stderr",
     "output_type": "stream",
     "text": [
      "Epoch [9/1800]: 100%|████████████████████████████████████████████████████████| 9/9 [00:00<00:00, 136.30it/s, loss=28.6]\n"
     ]
    },
    {
     "name": "stdout",
     "output_type": "stream",
     "text": [
      "Epoch [9/1800]: Train loss: 30.0828, Valid loss: 29.0465\n"
     ]
    },
    {
     "name": "stderr",
     "output_type": "stream",
     "text": [
      "Epoch [10/1800]: 100%|█████████████████████████████████████████████████████████| 9/9 [00:00<00:00, 138.83it/s, loss=30]\n"
     ]
    },
    {
     "name": "stdout",
     "output_type": "stream",
     "text": [
      "Epoch [10/1800]: Train loss: 29.1485, Valid loss: 29.9683\n"
     ]
    },
    {
     "name": "stderr",
     "output_type": "stream",
     "text": [
      "Epoch [11/1800]: 100%|███████████████████████████████████████████████████████| 9/9 [00:00<00:00, 145.98it/s, loss=30.9]\n"
     ]
    },
    {
     "name": "stdout",
     "output_type": "stream",
     "text": [
      "Epoch [11/1800]: Train loss: 27.2044, Valid loss: 34.4239\n"
     ]
    },
    {
     "name": "stderr",
     "output_type": "stream",
     "text": [
      "Epoch [12/1800]: 100%|███████████████████████████████████████████████████████| 9/9 [00:00<00:00, 147.94it/s, loss=28.5]\n"
     ]
    },
    {
     "name": "stdout",
     "output_type": "stream",
     "text": [
      "Epoch [12/1800]: Train loss: 30.4587, Valid loss: 30.5449\n"
     ]
    },
    {
     "name": "stderr",
     "output_type": "stream",
     "text": [
      "Epoch [13/1800]: 100%|███████████████████████████████████████████████████████| 9/9 [00:00<00:00, 143.19it/s, loss=26.4]\n"
     ]
    },
    {
     "name": "stdout",
     "output_type": "stream",
     "text": [
      "Epoch [13/1800]: Train loss: 28.8501, Valid loss: 38.8158\n"
     ]
    },
    {
     "name": "stderr",
     "output_type": "stream",
     "text": [
      "Epoch [14/1800]: 100%|███████████████████████████████████████████████████████| 9/9 [00:00<00:00, 134.69it/s, loss=25.9]\n"
     ]
    },
    {
     "name": "stdout",
     "output_type": "stream",
     "text": [
      "Epoch [14/1800]: Train loss: 30.4944, Valid loss: 23.6368\n",
      "Saving model with loss 23.637...\n"
     ]
    },
    {
     "name": "stderr",
     "output_type": "stream",
     "text": [
      "Epoch [15/1800]: 100%|█████████████████████████████████████████████████████████| 9/9 [00:00<00:00, 143.09it/s, loss=20]\n"
     ]
    },
    {
     "name": "stdout",
     "output_type": "stream",
     "text": [
      "Epoch [15/1800]: Train loss: 22.0876, Valid loss: 21.6634\n",
      "Saving model with loss 21.663...\n"
     ]
    },
    {
     "name": "stderr",
     "output_type": "stream",
     "text": [
      "Epoch [16/1800]: 100%|████████████████████████████████████████████████████████| 9/9 [00:00<00:00, 81.30it/s, loss=27.3]\n"
     ]
    },
    {
     "name": "stdout",
     "output_type": "stream",
     "text": [
      "Epoch [16/1800]: Train loss: 21.9709, Valid loss: 21.4196\n",
      "Saving model with loss 21.420...\n"
     ]
    },
    {
     "name": "stderr",
     "output_type": "stream",
     "text": [
      "Epoch [17/1800]: 100%|███████████████████████████████████████████████████████| 9/9 [00:00<00:00, 143.24it/s, loss=18.6]\n"
     ]
    },
    {
     "name": "stdout",
     "output_type": "stream",
     "text": [
      "Epoch [17/1800]: Train loss: 18.8819, Valid loss: 17.4513\n",
      "Saving model with loss 17.451...\n"
     ]
    },
    {
     "name": "stderr",
     "output_type": "stream",
     "text": [
      "Epoch [18/1800]: 100%|███████████████████████████████████████████████████████| 9/9 [00:00<00:00, 136.73it/s, loss=16.5]\n"
     ]
    },
    {
     "name": "stdout",
     "output_type": "stream",
     "text": [
      "Epoch [18/1800]: Train loss: 19.4507, Valid loss: 16.2923\n",
      "Saving model with loss 16.292...\n"
     ]
    },
    {
     "name": "stderr",
     "output_type": "stream",
     "text": [
      "Epoch [19/1800]: 100%|████████████████████████████████████████████████████████| 9/9 [00:00<00:00, 82.84it/s, loss=18.7]\n"
     ]
    },
    {
     "name": "stdout",
     "output_type": "stream",
     "text": [
      "Epoch [19/1800]: Train loss: 17.1157, Valid loss: 12.4207\n",
      "Saving model with loss 12.421...\n"
     ]
    },
    {
     "name": "stderr",
     "output_type": "stream",
     "text": [
      "Epoch [20/1800]: 100%|███████████████████████████████████████████████████████| 9/9 [00:00<00:00, 144.50it/s, loss=16.1]\n"
     ]
    },
    {
     "name": "stdout",
     "output_type": "stream",
     "text": [
      "Epoch [20/1800]: Train loss: 14.4297, Valid loss: 12.4151\n",
      "Saving model with loss 12.415...\n"
     ]
    },
    {
     "name": "stderr",
     "output_type": "stream",
     "text": [
      "Epoch [21/1800]: 100%|███████████████████████████████████████████████████████| 9/9 [00:00<00:00, 145.55it/s, loss=11.5]\n"
     ]
    },
    {
     "name": "stdout",
     "output_type": "stream",
     "text": [
      "Epoch [21/1800]: Train loss: 12.4320, Valid loss: 10.2073\n",
      "Saving model with loss 10.207...\n"
     ]
    },
    {
     "name": "stderr",
     "output_type": "stream",
     "text": [
      "Epoch [22/1800]: 100%|███████████████████████████████████████████████████████| 9/9 [00:00<00:00, 145.07it/s, loss=8.66]\n"
     ]
    },
    {
     "name": "stdout",
     "output_type": "stream",
     "text": [
      "Epoch [22/1800]: Train loss: 9.8818, Valid loss: 8.9819\n",
      "Saving model with loss 8.982...\n"
     ]
    },
    {
     "name": "stderr",
     "output_type": "stream",
     "text": [
      "Epoch [23/1800]: 100%|████████████████████████████████████████████████████████| 9/9 [00:00<00:00, 141.00it/s, loss=9.7]\n"
     ]
    },
    {
     "name": "stdout",
     "output_type": "stream",
     "text": [
      "Epoch [23/1800]: Train loss: 9.4208, Valid loss: 8.1958\n",
      "Saving model with loss 8.196...\n"
     ]
    },
    {
     "name": "stderr",
     "output_type": "stream",
     "text": [
      "Epoch [24/1800]: 100%|███████████████████████████████████████████████████████| 9/9 [00:00<00:00, 141.00it/s, loss=5.93]\n"
     ]
    },
    {
     "name": "stdout",
     "output_type": "stream",
     "text": [
      "Epoch [24/1800]: Train loss: 9.9797, Valid loss: 11.8303\n"
     ]
    },
    {
     "name": "stderr",
     "output_type": "stream",
     "text": [
      "Epoch [25/1800]: 100%|███████████████████████████████████████████████████████| 9/9 [00:00<00:00, 143.89it/s, loss=11.6]\n"
     ]
    },
    {
     "name": "stdout",
     "output_type": "stream",
     "text": [
      "Epoch [25/1800]: Train loss: 13.3446, Valid loss: 18.9868\n"
     ]
    },
    {
     "name": "stderr",
     "output_type": "stream",
     "text": [
      "Epoch [26/1800]: 100%|███████████████████████████████████████████████████████| 9/9 [00:00<00:00, 145.55it/s, loss=33.1]\n"
     ]
    },
    {
     "name": "stdout",
     "output_type": "stream",
     "text": [
      "Epoch [26/1800]: Train loss: 32.1902, Valid loss: 16.0406\n"
     ]
    },
    {
     "name": "stderr",
     "output_type": "stream",
     "text": [
      "Epoch [27/1800]: 100%|███████████████████████████████████████████████████████| 9/9 [00:00<00:00, 143.24it/s, loss=12.9]\n"
     ]
    },
    {
     "name": "stdout",
     "output_type": "stream",
     "text": [
      "Epoch [27/1800]: Train loss: 22.0533, Valid loss: 33.8389\n"
     ]
    },
    {
     "name": "stderr",
     "output_type": "stream",
     "text": [
      "Epoch [28/1800]: 100%|███████████████████████████████████████████████████████| 9/9 [00:00<00:00, 148.63it/s, loss=12.2]\n"
     ]
    },
    {
     "name": "stdout",
     "output_type": "stream",
     "text": [
      "Epoch [28/1800]: Train loss: 24.0357, Valid loss: 16.6854\n"
     ]
    },
    {
     "name": "stderr",
     "output_type": "stream",
     "text": [
      "Epoch [29/1800]: 100%|███████████████████████████████████████████████████████| 9/9 [00:00<00:00, 138.83it/s, loss=14.1]\n"
     ]
    },
    {
     "name": "stdout",
     "output_type": "stream",
     "text": [
      "Epoch [29/1800]: Train loss: 16.1686, Valid loss: 16.0273\n"
     ]
    },
    {
     "name": "stderr",
     "output_type": "stream",
     "text": [
      "Epoch [30/1800]: 100%|███████████████████████████████████████████████████████| 9/9 [00:00<00:00, 141.00it/s, loss=10.7]\n"
     ]
    },
    {
     "name": "stdout",
     "output_type": "stream",
     "text": [
      "Epoch [30/1800]: Train loss: 13.3803, Valid loss: 12.4326\n"
     ]
    },
    {
     "name": "stderr",
     "output_type": "stream",
     "text": [
      "Epoch [31/1800]: 100%|███████████████████████████████████████████████████████| 9/9 [00:00<00:00, 138.83it/s, loss=9.65]\n"
     ]
    },
    {
     "name": "stdout",
     "output_type": "stream",
     "text": [
      "Epoch [31/1800]: Train loss: 10.6079, Valid loss: 8.4420\n"
     ]
    },
    {
     "name": "stderr",
     "output_type": "stream",
     "text": [
      "Epoch [32/1800]: 100%|███████████████████████████████████████████████████████| 9/9 [00:00<00:00, 145.55it/s, loss=5.79]\n"
     ]
    },
    {
     "name": "stdout",
     "output_type": "stream",
     "text": [
      "Epoch [32/1800]: Train loss: 8.7218, Valid loss: 7.7092\n",
      "Saving model with loss 7.709...\n"
     ]
    },
    {
     "name": "stderr",
     "output_type": "stream",
     "text": [
      "Epoch [33/1800]: 100%|███████████████████████████████████████████████████████| 9/9 [00:00<00:00, 145.55it/s, loss=7.05]\n"
     ]
    },
    {
     "name": "stdout",
     "output_type": "stream",
     "text": [
      "Epoch [33/1800]: Train loss: 7.5954, Valid loss: 9.9335\n"
     ]
    },
    {
     "name": "stderr",
     "output_type": "stream",
     "text": [
      "Epoch [34/1800]: 100%|███████████████████████████████████████████████████████| 9/9 [00:00<00:00, 141.00it/s, loss=6.24]\n"
     ]
    },
    {
     "name": "stdout",
     "output_type": "stream",
     "text": [
      "Epoch [34/1800]: Train loss: 6.5666, Valid loss: 6.4406\n",
      "Saving model with loss 6.441...\n"
     ]
    },
    {
     "name": "stderr",
     "output_type": "stream",
     "text": [
      "Epoch [35/1800]: 100%|███████████████████████████████████████████████████████| 9/9 [00:00<00:00, 145.55it/s, loss=5.68]\n"
     ]
    },
    {
     "name": "stdout",
     "output_type": "stream",
     "text": [
      "Epoch [35/1800]: Train loss: 6.4794, Valid loss: 7.4152\n"
     ]
    },
    {
     "name": "stderr",
     "output_type": "stream",
     "text": [
      "Epoch [36/1800]: 100%|███████████████████████████████████████████████████████| 9/9 [00:00<00:00, 136.14it/s, loss=11.6]\n"
     ]
    },
    {
     "name": "stdout",
     "output_type": "stream",
     "text": [
      "Epoch [36/1800]: Train loss: 8.8856, Valid loss: 5.8347\n",
      "Saving model with loss 5.835...\n"
     ]
    },
    {
     "name": "stderr",
     "output_type": "stream",
     "text": [
      "Epoch [37/1800]: 100%|███████████████████████████████████████████████████████| 9/9 [00:00<00:00, 146.00it/s, loss=12.5]\n"
     ]
    },
    {
     "name": "stdout",
     "output_type": "stream",
     "text": [
      "Epoch [37/1800]: Train loss: 19.5824, Valid loss: 17.4234\n"
     ]
    },
    {
     "name": "stderr",
     "output_type": "stream",
     "text": [
      "Epoch [38/1800]: 100%|███████████████████████████████████████████████████████| 9/9 [00:00<00:00, 145.55it/s, loss=21.9]\n"
     ]
    },
    {
     "name": "stdout",
     "output_type": "stream",
     "text": [
      "Epoch [38/1800]: Train loss: 16.1337, Valid loss: 12.7968\n"
     ]
    },
    {
     "name": "stderr",
     "output_type": "stream",
     "text": [
      "Epoch [39/1800]: 100%|███████████████████████████████████████████████████████| 9/9 [00:00<00:00, 149.11it/s, loss=15.5]\n"
     ]
    },
    {
     "name": "stdout",
     "output_type": "stream",
     "text": [
      "Epoch [39/1800]: Train loss: 17.6179, Valid loss: 24.7275\n"
     ]
    },
    {
     "name": "stderr",
     "output_type": "stream",
     "text": [
      "Epoch [40/1800]: 100%|███████████████████████████████████████████████████████| 9/9 [00:00<00:00, 134.76it/s, loss=16.6]\n"
     ]
    },
    {
     "name": "stdout",
     "output_type": "stream",
     "text": [
      "Epoch [40/1800]: Train loss: 19.5051, Valid loss: 17.4497\n"
     ]
    },
    {
     "name": "stderr",
     "output_type": "stream",
     "text": [
      "Epoch [41/1800]: 100%|████████████████████████████████████████████████████████| 9/9 [00:00<00:00, 83.56it/s, loss=7.25]\n"
     ]
    },
    {
     "name": "stdout",
     "output_type": "stream",
     "text": [
      "Epoch [41/1800]: Train loss: 12.1636, Valid loss: 7.6737\n"
     ]
    },
    {
     "name": "stderr",
     "output_type": "stream",
     "text": [
      "Epoch [42/1800]: 100%|███████████████████████████████████████████████████████| 9/9 [00:00<00:00, 147.94it/s, loss=8.49]\n"
     ]
    },
    {
     "name": "stdout",
     "output_type": "stream",
     "text": [
      "Epoch [42/1800]: Train loss: 8.2530, Valid loss: 9.4061\n"
     ]
    },
    {
     "name": "stderr",
     "output_type": "stream",
     "text": [
      "Epoch [43/1800]: 100%|███████████████████████████████████████████████████████| 9/9 [00:00<00:00, 136.73it/s, loss=9.67]\n"
     ]
    },
    {
     "name": "stdout",
     "output_type": "stream",
     "text": [
      "Epoch [43/1800]: Train loss: 8.2199, Valid loss: 15.1527\n"
     ]
    },
    {
     "name": "stderr",
     "output_type": "stream",
     "text": [
      "Epoch [44/1800]: 100%|███████████████████████████████████████████████████████| 9/9 [00:00<00:00, 141.00it/s, loss=6.41]\n"
     ]
    },
    {
     "name": "stdout",
     "output_type": "stream",
     "text": [
      "Epoch [44/1800]: Train loss: 9.8783, Valid loss: 10.7422\n"
     ]
    },
    {
     "name": "stderr",
     "output_type": "stream",
     "text": [
      "Epoch [45/1800]: 100%|███████████████████████████████████████████████████████| 9/9 [00:00<00:00, 138.88it/s, loss=8.77]\n"
     ]
    },
    {
     "name": "stdout",
     "output_type": "stream",
     "text": [
      "Epoch [45/1800]: Train loss: 7.8725, Valid loss: 6.3228\n"
     ]
    },
    {
     "name": "stderr",
     "output_type": "stream",
     "text": [
      "Epoch [46/1800]: 100%|███████████████████████████████████████████████████████| 9/9 [00:00<00:00, 147.94it/s, loss=5.52]\n"
     ]
    },
    {
     "name": "stdout",
     "output_type": "stream",
     "text": [
      "Epoch [46/1800]: Train loss: 6.3747, Valid loss: 5.3165\n",
      "Saving model with loss 5.317...\n"
     ]
    },
    {
     "name": "stderr",
     "output_type": "stream",
     "text": [
      "Epoch [47/1800]: 100%|███████████████████████████████████████████████████████| 9/9 [00:00<00:00, 138.83it/s, loss=7.22]\n"
     ]
    },
    {
     "name": "stdout",
     "output_type": "stream",
     "text": [
      "Epoch [47/1800]: Train loss: 6.5257, Valid loss: 6.2334\n"
     ]
    },
    {
     "name": "stderr",
     "output_type": "stream",
     "text": [
      "Epoch [48/1800]: 100%|███████████████████████████████████████████████████████| 9/9 [00:00<00:00, 136.16it/s, loss=7.94]\n"
     ]
    },
    {
     "name": "stdout",
     "output_type": "stream",
     "text": [
      "Epoch [48/1800]: Train loss: 7.7111, Valid loss: 13.9593\n"
     ]
    },
    {
     "name": "stderr",
     "output_type": "stream",
     "text": [
      "Epoch [49/1800]: 100%|███████████████████████████████████████████████████████| 9/9 [00:00<00:00, 145.55it/s, loss=8.72]\n"
     ]
    },
    {
     "name": "stdout",
     "output_type": "stream",
     "text": [
      "Epoch [49/1800]: Train loss: 8.3763, Valid loss: 5.3406\n"
     ]
    },
    {
     "name": "stderr",
     "output_type": "stream",
     "text": [
      "Epoch [50/1800]: 100%|███████████████████████████████████████████████████████| 9/9 [00:00<00:00, 141.00it/s, loss=5.21]\n"
     ]
    },
    {
     "name": "stdout",
     "output_type": "stream",
     "text": [
      "Epoch [50/1800]: Train loss: 7.3379, Valid loss: 14.2956\n"
     ]
    },
    {
     "name": "stderr",
     "output_type": "stream",
     "text": [
      "Epoch [51/1800]: 100%|███████████████████████████████████████████████████████| 9/9 [00:00<00:00, 143.24it/s, loss=7.72]\n"
     ]
    },
    {
     "name": "stdout",
     "output_type": "stream",
     "text": [
      "Epoch [51/1800]: Train loss: 9.4546, Valid loss: 8.9283\n"
     ]
    },
    {
     "name": "stderr",
     "output_type": "stream",
     "text": [
      "Epoch [52/1800]: 100%|███████████████████████████████████████████████████████| 9/9 [00:00<00:00, 141.00it/s, loss=9.07]\n"
     ]
    },
    {
     "name": "stdout",
     "output_type": "stream",
     "text": [
      "Epoch [52/1800]: Train loss: 6.7931, Valid loss: 5.3797\n"
     ]
    },
    {
     "name": "stderr",
     "output_type": "stream",
     "text": [
      "Epoch [53/1800]: 100%|███████████████████████████████████████████████████████| 9/9 [00:00<00:00, 147.80it/s, loss=6.24]\n"
     ]
    },
    {
     "name": "stdout",
     "output_type": "stream",
     "text": [
      "Epoch [53/1800]: Train loss: 6.5075, Valid loss: 6.3548\n"
     ]
    },
    {
     "name": "stderr",
     "output_type": "stream",
     "text": [
      "Epoch [54/1800]: 100%|███████████████████████████████████████████████████████| 9/9 [00:00<00:00, 141.00it/s, loss=5.26]\n"
     ]
    },
    {
     "name": "stdout",
     "output_type": "stream",
     "text": [
      "Epoch [54/1800]: Train loss: 6.1054, Valid loss: 9.2565\n"
     ]
    },
    {
     "name": "stderr",
     "output_type": "stream",
     "text": [
      "Epoch [55/1800]: 100%|███████████████████████████████████████████████████████| 9/9 [00:00<00:00, 137.59it/s, loss=5.34]\n"
     ]
    },
    {
     "name": "stdout",
     "output_type": "stream",
     "text": [
      "Epoch [55/1800]: Train loss: 5.7771, Valid loss: 7.7181\n"
     ]
    },
    {
     "name": "stderr",
     "output_type": "stream",
     "text": [
      "Epoch [56/1800]: 100%|███████████████████████████████████████████████████████| 9/9 [00:00<00:00, 142.50it/s, loss=7.07]\n"
     ]
    },
    {
     "name": "stdout",
     "output_type": "stream",
     "text": [
      "Epoch [56/1800]: Train loss: 6.8120, Valid loss: 4.6944\n",
      "Saving model with loss 4.694...\n"
     ]
    },
    {
     "name": "stderr",
     "output_type": "stream",
     "text": [
      "Epoch [57/1800]: 100%|███████████████████████████████████████████████████████| 9/9 [00:00<00:00, 150.40it/s, loss=4.88]\n"
     ]
    },
    {
     "name": "stdout",
     "output_type": "stream",
     "text": [
      "Epoch [57/1800]: Train loss: 6.4834, Valid loss: 6.3440\n"
     ]
    },
    {
     "name": "stderr",
     "output_type": "stream",
     "text": [
      "Epoch [58/1800]: 100%|███████████████████████████████████████████████████████| 9/9 [00:00<00:00, 141.01it/s, loss=6.74]\n"
     ]
    },
    {
     "name": "stdout",
     "output_type": "stream",
     "text": [
      "Epoch [58/1800]: Train loss: 5.9133, Valid loss: 5.0100\n"
     ]
    },
    {
     "name": "stderr",
     "output_type": "stream",
     "text": [
      "Epoch [59/1800]: 100%|███████████████████████████████████████████████████████| 9/9 [00:00<00:00, 141.00it/s, loss=4.87]\n"
     ]
    },
    {
     "name": "stdout",
     "output_type": "stream",
     "text": [
      "Epoch [59/1800]: Train loss: 5.6228, Valid loss: 4.9069\n"
     ]
    },
    {
     "name": "stderr",
     "output_type": "stream",
     "text": [
      "Epoch [60/1800]: 100%|███████████████████████████████████████████████████████| 9/9 [00:00<00:00, 140.99it/s, loss=4.08]\n"
     ]
    },
    {
     "name": "stdout",
     "output_type": "stream",
     "text": [
      "Epoch [60/1800]: Train loss: 5.2522, Valid loss: 5.3258\n"
     ]
    },
    {
     "name": "stderr",
     "output_type": "stream",
     "text": [
      "Epoch [61/1800]: 100%|████████████████████████████████████████████████████████| 9/9 [00:00<00:00, 145.55it/s, loss=5.9]\n"
     ]
    },
    {
     "name": "stdout",
     "output_type": "stream",
     "text": [
      "Epoch [61/1800]: Train loss: 5.5995, Valid loss: 4.9254\n"
     ]
    },
    {
     "name": "stderr",
     "output_type": "stream",
     "text": [
      "Epoch [62/1800]: 100%|███████████████████████████████████████████████████████| 9/9 [00:00<00:00, 134.69it/s, loss=5.86]\n"
     ]
    },
    {
     "name": "stdout",
     "output_type": "stream",
     "text": [
      "Epoch [62/1800]: Train loss: 5.6188, Valid loss: 9.6780\n"
     ]
    },
    {
     "name": "stderr",
     "output_type": "stream",
     "text": [
      "Epoch [63/1800]: 100%|███████████████████████████████████████████████████████| 9/9 [00:00<00:00, 143.24it/s, loss=5.38]\n"
     ]
    },
    {
     "name": "stdout",
     "output_type": "stream",
     "text": [
      "Epoch [63/1800]: Train loss: 6.8469, Valid loss: 8.8066\n"
     ]
    },
    {
     "name": "stderr",
     "output_type": "stream",
     "text": [
      "Epoch [64/1800]: 100%|███████████████████████████████████████████████████████| 9/9 [00:00<00:00, 143.24it/s, loss=7.94]\n"
     ]
    },
    {
     "name": "stdout",
     "output_type": "stream",
     "text": [
      "Epoch [64/1800]: Train loss: 7.2843, Valid loss: 6.4447\n"
     ]
    },
    {
     "name": "stderr",
     "output_type": "stream",
     "text": [
      "Epoch [65/1800]: 100%|████████████████████████████████████████████████████████| 9/9 [00:00<00:00, 150.40it/s, loss=7.8]\n"
     ]
    },
    {
     "name": "stdout",
     "output_type": "stream",
     "text": [
      "Epoch [65/1800]: Train loss: 7.2602, Valid loss: 4.6124\n",
      "Saving model with loss 4.612...\n"
     ]
    },
    {
     "name": "stderr",
     "output_type": "stream",
     "text": [
      "Epoch [66/1800]: 100%|███████████████████████████████████████████████████████| 9/9 [00:00<00:00, 138.83it/s, loss=5.08]\n"
     ]
    },
    {
     "name": "stdout",
     "output_type": "stream",
     "text": [
      "Epoch [66/1800]: Train loss: 5.3186, Valid loss: 5.1185\n"
     ]
    },
    {
     "name": "stderr",
     "output_type": "stream",
     "text": [
      "Epoch [67/1800]: 100%|███████████████████████████████████████████████████████| 9/9 [00:00<00:00, 141.00it/s, loss=7.47]\n"
     ]
    },
    {
     "name": "stdout",
     "output_type": "stream",
     "text": [
      "Epoch [67/1800]: Train loss: 5.4745, Valid loss: 4.9559\n"
     ]
    },
    {
     "name": "stderr",
     "output_type": "stream",
     "text": [
      "Epoch [68/1800]: 100%|████████████████████████████████████████████████████████| 9/9 [00:00<00:00, 146.02it/s, loss=5.4]\n"
     ]
    },
    {
     "name": "stdout",
     "output_type": "stream",
     "text": [
      "Epoch [68/1800]: Train loss: 5.9333, Valid loss: 5.7113\n"
     ]
    },
    {
     "name": "stderr",
     "output_type": "stream",
     "text": [
      "Epoch [69/1800]: 100%|███████████████████████████████████████████████████████| 9/9 [00:00<00:00, 138.84it/s, loss=5.97]\n"
     ]
    },
    {
     "name": "stdout",
     "output_type": "stream",
     "text": [
      "Epoch [69/1800]: Train loss: 5.2833, Valid loss: 5.0786\n"
     ]
    },
    {
     "name": "stderr",
     "output_type": "stream",
     "text": [
      "Epoch [70/1800]: 100%|███████████████████████████████████████████████████████| 9/9 [00:00<00:00, 134.69it/s, loss=5.68]\n"
     ]
    },
    {
     "name": "stdout",
     "output_type": "stream",
     "text": [
      "Epoch [70/1800]: Train loss: 5.8124, Valid loss: 4.0815\n",
      "Saving model with loss 4.082...\n"
     ]
    },
    {
     "name": "stderr",
     "output_type": "stream",
     "text": [
      "Epoch [71/1800]: 100%|███████████████████████████████████████████████████████| 9/9 [00:00<00:00, 145.55it/s, loss=6.66]\n"
     ]
    },
    {
     "name": "stdout",
     "output_type": "stream",
     "text": [
      "Epoch [71/1800]: Train loss: 5.3183, Valid loss: 4.5389\n"
     ]
    },
    {
     "name": "stderr",
     "output_type": "stream",
     "text": [
      "Epoch [72/1800]: 100%|███████████████████████████████████████████████████████| 9/9 [00:00<00:00, 144.96it/s, loss=5.44]\n"
     ]
    },
    {
     "name": "stdout",
     "output_type": "stream",
     "text": [
      "Epoch [72/1800]: Train loss: 5.1393, Valid loss: 5.7420\n"
     ]
    },
    {
     "name": "stderr",
     "output_type": "stream",
     "text": [
      "Epoch [73/1800]: 100%|███████████████████████████████████████████████████████| 9/9 [00:00<00:00, 143.24it/s, loss=7.17]\n"
     ]
    },
    {
     "name": "stdout",
     "output_type": "stream",
     "text": [
      "Epoch [73/1800]: Train loss: 5.3465, Valid loss: 5.2317\n"
     ]
    },
    {
     "name": "stderr",
     "output_type": "stream",
     "text": [
      "Epoch [74/1800]: 100%|███████████████████████████████████████████████████████| 9/9 [00:00<00:00, 147.67it/s, loss=4.83]\n"
     ]
    },
    {
     "name": "stdout",
     "output_type": "stream",
     "text": [
      "Epoch [74/1800]: Train loss: 5.3555, Valid loss: 4.5402\n"
     ]
    },
    {
     "name": "stderr",
     "output_type": "stream",
     "text": [
      "Epoch [75/1800]: 100%|███████████████████████████████████████████████████████| 9/9 [00:00<00:00, 145.55it/s, loss=4.46]\n"
     ]
    },
    {
     "name": "stdout",
     "output_type": "stream",
     "text": [
      "Epoch [75/1800]: Train loss: 4.9005, Valid loss: 4.6246\n"
     ]
    },
    {
     "name": "stderr",
     "output_type": "stream",
     "text": [
      "Epoch [76/1800]: 100%|███████████████████████████████████████████████████████| 9/9 [00:00<00:00, 143.24it/s, loss=4.03]\n"
     ]
    },
    {
     "name": "stdout",
     "output_type": "stream",
     "text": [
      "Epoch [76/1800]: Train loss: 4.9041, Valid loss: 4.7498\n"
     ]
    },
    {
     "name": "stderr",
     "output_type": "stream",
     "text": [
      "Epoch [77/1800]: 100%|███████████████████████████████████████████████████████| 9/9 [00:00<00:00, 141.00it/s, loss=4.64]\n"
     ]
    },
    {
     "name": "stdout",
     "output_type": "stream",
     "text": [
      "Epoch [77/1800]: Train loss: 5.0909, Valid loss: 5.3346\n"
     ]
    },
    {
     "name": "stderr",
     "output_type": "stream",
     "text": [
      "Epoch [78/1800]: 100%|███████████████████████████████████████████████████████| 9/9 [00:00<00:00, 138.84it/s, loss=5.49]\n"
     ]
    },
    {
     "name": "stdout",
     "output_type": "stream",
     "text": [
      "Epoch [78/1800]: Train loss: 5.4091, Valid loss: 4.8733\n"
     ]
    },
    {
     "name": "stderr",
     "output_type": "stream",
     "text": [
      "Epoch [79/1800]: 100%|███████████████████████████████████████████████████████| 9/9 [00:00<00:00, 134.69it/s, loss=6.12]\n"
     ]
    },
    {
     "name": "stdout",
     "output_type": "stream",
     "text": [
      "Epoch [79/1800]: Train loss: 5.3307, Valid loss: 8.4540\n"
     ]
    },
    {
     "name": "stderr",
     "output_type": "stream",
     "text": [
      "Epoch [80/1800]: 100%|███████████████████████████████████████████████████████| 9/9 [00:00<00:00, 145.55it/s, loss=5.37]\n"
     ]
    },
    {
     "name": "stdout",
     "output_type": "stream",
     "text": [
      "Epoch [80/1800]: Train loss: 6.5440, Valid loss: 5.8575\n"
     ]
    },
    {
     "name": "stderr",
     "output_type": "stream",
     "text": [
      "Epoch [81/1800]: 100%|███████████████████████████████████████████████████████| 9/9 [00:00<00:00, 144.84it/s, loss=5.41]\n"
     ]
    },
    {
     "name": "stdout",
     "output_type": "stream",
     "text": [
      "Epoch [81/1800]: Train loss: 5.1447, Valid loss: 5.5449\n"
     ]
    },
    {
     "name": "stderr",
     "output_type": "stream",
     "text": [
      "Epoch [82/1800]: 100%|███████████████████████████████████████████████████████| 9/9 [00:00<00:00, 142.64it/s, loss=5.94]\n"
     ]
    },
    {
     "name": "stdout",
     "output_type": "stream",
     "text": [
      "Epoch [82/1800]: Train loss: 4.9316, Valid loss: 4.2265\n"
     ]
    },
    {
     "name": "stderr",
     "output_type": "stream",
     "text": [
      "Epoch [83/1800]: 100%|███████████████████████████████████████████████████████| 9/9 [00:00<00:00, 147.94it/s, loss=4.83]\n"
     ]
    },
    {
     "name": "stdout",
     "output_type": "stream",
     "text": [
      "Epoch [83/1800]: Train loss: 4.8084, Valid loss: 5.8828\n"
     ]
    },
    {
     "name": "stderr",
     "output_type": "stream",
     "text": [
      "Epoch [84/1800]: 100%|███████████████████████████████████████████████████████| 9/9 [00:00<00:00, 143.24it/s, loss=5.66]\n"
     ]
    },
    {
     "name": "stdout",
     "output_type": "stream",
     "text": [
      "Epoch [84/1800]: Train loss: 5.3915, Valid loss: 5.8648\n"
     ]
    },
    {
     "name": "stderr",
     "output_type": "stream",
     "text": [
      "Epoch [85/1800]: 100%|███████████████████████████████████████████████████████| 9/9 [00:00<00:00, 136.76it/s, loss=5.82]\n"
     ]
    },
    {
     "name": "stdout",
     "output_type": "stream",
     "text": [
      "Epoch [85/1800]: Train loss: 5.1763, Valid loss: 4.0577\n",
      "Saving model with loss 4.058...\n"
     ]
    },
    {
     "name": "stderr",
     "output_type": "stream",
     "text": [
      "Epoch [86/1800]: 100%|███████████████████████████████████████████████████████| 9/9 [00:00<00:00, 138.73it/s, loss=7.73]\n"
     ]
    },
    {
     "name": "stdout",
     "output_type": "stream",
     "text": [
      "Epoch [86/1800]: Train loss: 5.7155, Valid loss: 5.3878\n"
     ]
    },
    {
     "name": "stderr",
     "output_type": "stream",
     "text": [
      "Epoch [87/1800]: 100%|███████████████████████████████████████████████████████| 9/9 [00:00<00:00, 139.47it/s, loss=9.04]\n"
     ]
    },
    {
     "name": "stdout",
     "output_type": "stream",
     "text": [
      "Epoch [87/1800]: Train loss: 6.4043, Valid loss: 7.4312\n"
     ]
    },
    {
     "name": "stderr",
     "output_type": "stream",
     "text": [
      "Epoch [88/1800]: 100%|███████████████████████████████████████████████████████| 9/9 [00:00<00:00, 141.00it/s, loss=4.46]\n"
     ]
    },
    {
     "name": "stdout",
     "output_type": "stream",
     "text": [
      "Epoch [88/1800]: Train loss: 6.1535, Valid loss: 5.0591\n"
     ]
    },
    {
     "name": "stderr",
     "output_type": "stream",
     "text": [
      "Epoch [89/1800]: 100%|████████████████████████████████████████████████████████| 9/9 [00:00<00:00, 145.55it/s, loss=5.1]\n"
     ]
    },
    {
     "name": "stdout",
     "output_type": "stream",
     "text": [
      "Epoch [89/1800]: Train loss: 5.6397, Valid loss: 8.6258\n"
     ]
    },
    {
     "name": "stderr",
     "output_type": "stream",
     "text": [
      "Epoch [90/1800]: 100%|███████████████████████████████████████████████████████| 9/9 [00:00<00:00, 147.94it/s, loss=7.28]\n"
     ]
    },
    {
     "name": "stdout",
     "output_type": "stream",
     "text": [
      "Epoch [90/1800]: Train loss: 6.5649, Valid loss: 5.2624\n"
     ]
    },
    {
     "name": "stderr",
     "output_type": "stream",
     "text": [
      "Epoch [91/1800]: 100%|███████████████████████████████████████████████████████| 9/9 [00:00<00:00, 145.59it/s, loss=6.02]\n"
     ]
    },
    {
     "name": "stdout",
     "output_type": "stream",
     "text": [
      "Epoch [91/1800]: Train loss: 6.3031, Valid loss: 9.1134\n"
     ]
    },
    {
     "name": "stderr",
     "output_type": "stream",
     "text": [
      "Epoch [92/1800]: 100%|███████████████████████████████████████████████████████| 9/9 [00:00<00:00, 141.01it/s, loss=4.49]\n"
     ]
    },
    {
     "name": "stdout",
     "output_type": "stream",
     "text": [
      "Epoch [92/1800]: Train loss: 5.9542, Valid loss: 6.6290\n"
     ]
    },
    {
     "name": "stderr",
     "output_type": "stream",
     "text": [
      "Epoch [93/1800]: 100%|████████████████████████████████████████████████████████| 9/9 [00:00<00:00, 145.55it/s, loss=5.2]\n"
     ]
    },
    {
     "name": "stdout",
     "output_type": "stream",
     "text": [
      "Epoch [93/1800]: Train loss: 5.3701, Valid loss: 4.5155\n"
     ]
    },
    {
     "name": "stderr",
     "output_type": "stream",
     "text": [
      "Epoch [94/1800]: 100%|████████████████████████████████████████████████████████| 9/9 [00:00<00:00, 145.55it/s, loss=5.3]\n"
     ]
    },
    {
     "name": "stdout",
     "output_type": "stream",
     "text": [
      "Epoch [94/1800]: Train loss: 4.7028, Valid loss: 5.1786\n"
     ]
    },
    {
     "name": "stderr",
     "output_type": "stream",
     "text": [
      "Epoch [95/1800]: 100%|███████████████████████████████████████████████████████| 9/9 [00:00<00:00, 145.29it/s, loss=4.89]\n"
     ]
    },
    {
     "name": "stdout",
     "output_type": "stream",
     "text": [
      "Epoch [95/1800]: Train loss: 4.9395, Valid loss: 5.5996\n"
     ]
    },
    {
     "name": "stderr",
     "output_type": "stream",
     "text": [
      "Epoch [96/1800]: 100%|███████████████████████████████████████████████████████| 9/9 [00:00<00:00, 142.25it/s, loss=4.92]\n"
     ]
    },
    {
     "name": "stdout",
     "output_type": "stream",
     "text": [
      "Epoch [96/1800]: Train loss: 5.2078, Valid loss: 4.8685\n"
     ]
    },
    {
     "name": "stderr",
     "output_type": "stream",
     "text": [
      "Epoch [97/1800]: 100%|███████████████████████████████████████████████████████| 9/9 [00:00<00:00, 145.56it/s, loss=5.62]\n"
     ]
    },
    {
     "name": "stdout",
     "output_type": "stream",
     "text": [
      "Epoch [97/1800]: Train loss: 5.2726, Valid loss: 4.5409\n"
     ]
    },
    {
     "name": "stderr",
     "output_type": "stream",
     "text": [
      "Epoch [98/1800]: 100%|████████████████████████████████████████████████████████| 9/9 [00:00<00:00, 96.00it/s, loss=4.72]\n"
     ]
    },
    {
     "name": "stdout",
     "output_type": "stream",
     "text": [
      "Epoch [98/1800]: Train loss: 5.6021, Valid loss: 6.0158\n"
     ]
    },
    {
     "name": "stderr",
     "output_type": "stream",
     "text": [
      "Epoch [99/1800]: 100%|███████████████████████████████████████████████████████| 9/9 [00:00<00:00, 141.00it/s, loss=5.92]\n"
     ]
    },
    {
     "name": "stdout",
     "output_type": "stream",
     "text": [
      "Epoch [99/1800]: Train loss: 5.8206, Valid loss: 5.2834\n"
     ]
    },
    {
     "name": "stderr",
     "output_type": "stream",
     "text": [
      "Epoch [100/1800]: 100%|██████████████████████████████████████████████████████| 9/9 [00:00<00:00, 134.69it/s, loss=4.69]\n"
     ]
    },
    {
     "name": "stdout",
     "output_type": "stream",
     "text": [
      "Epoch [100/1800]: Train loss: 4.9787, Valid loss: 5.1001\n"
     ]
    },
    {
     "name": "stderr",
     "output_type": "stream",
     "text": [
      "Epoch [101/1800]: 100%|██████████████████████████████████████████████████████| 9/9 [00:00<00:00, 134.70it/s, loss=5.66]\n"
     ]
    },
    {
     "name": "stdout",
     "output_type": "stream",
     "text": [
      "Epoch [101/1800]: Train loss: 5.0013, Valid loss: 5.3861\n"
     ]
    },
    {
     "name": "stderr",
     "output_type": "stream",
     "text": [
      "Epoch [102/1800]: 100%|███████████████████████████████████████████████████████| 9/9 [00:00<00:00, 141.00it/s, loss=4.9]\n"
     ]
    },
    {
     "name": "stdout",
     "output_type": "stream",
     "text": [
      "Epoch [102/1800]: Train loss: 4.7510, Valid loss: 5.4823\n"
     ]
    },
    {
     "name": "stderr",
     "output_type": "stream",
     "text": [
      "Epoch [103/1800]: 100%|██████████████████████████████████████████████████████| 9/9 [00:00<00:00, 141.01it/s, loss=6.34]\n"
     ]
    },
    {
     "name": "stdout",
     "output_type": "stream",
     "text": [
      "Epoch [103/1800]: Train loss: 5.0214, Valid loss: 5.5704\n"
     ]
    },
    {
     "name": "stderr",
     "output_type": "stream",
     "text": [
      "Epoch [104/1800]: 100%|██████████████████████████████████████████████████████| 9/9 [00:00<00:00, 138.83it/s, loss=7.93]\n"
     ]
    },
    {
     "name": "stdout",
     "output_type": "stream",
     "text": [
      "Epoch [104/1800]: Train loss: 6.6743, Valid loss: 5.3854\n"
     ]
    },
    {
     "name": "stderr",
     "output_type": "stream",
     "text": [
      "Epoch [105/1800]: 100%|██████████████████████████████████████████████████████| 9/9 [00:00<00:00, 141.00it/s, loss=5.49]\n"
     ]
    },
    {
     "name": "stdout",
     "output_type": "stream",
     "text": [
      "Epoch [105/1800]: Train loss: 6.2988, Valid loss: 7.4067\n"
     ]
    },
    {
     "name": "stderr",
     "output_type": "stream",
     "text": [
      "Epoch [106/1800]: 100%|██████████████████████████████████████████████████████| 9/9 [00:00<00:00, 144.32it/s, loss=4.68]\n"
     ]
    },
    {
     "name": "stdout",
     "output_type": "stream",
     "text": [
      "Epoch [106/1800]: Train loss: 4.8015, Valid loss: 5.5026\n"
     ]
    },
    {
     "name": "stderr",
     "output_type": "stream",
     "text": [
      "Epoch [107/1800]: 100%|██████████████████████████████████████████████████████| 9/9 [00:00<00:00, 145.55it/s, loss=8.56]\n"
     ]
    },
    {
     "name": "stdout",
     "output_type": "stream",
     "text": [
      "Epoch [107/1800]: Train loss: 6.3346, Valid loss: 5.0443\n"
     ]
    },
    {
     "name": "stderr",
     "output_type": "stream",
     "text": [
      "Epoch [108/1800]: 100%|██████████████████████████████████████████████████████| 9/9 [00:00<00:00, 145.55it/s, loss=5.22]\n"
     ]
    },
    {
     "name": "stdout",
     "output_type": "stream",
     "text": [
      "Epoch [108/1800]: Train loss: 5.7679, Valid loss: 5.9326\n"
     ]
    },
    {
     "name": "stderr",
     "output_type": "stream",
     "text": [
      "Epoch [109/1800]: 100%|██████████████████████████████████████████████████████| 9/9 [00:00<00:00, 145.55it/s, loss=4.26]\n"
     ]
    },
    {
     "name": "stdout",
     "output_type": "stream",
     "text": [
      "Epoch [109/1800]: Train loss: 5.0730, Valid loss: 5.4157\n"
     ]
    },
    {
     "name": "stderr",
     "output_type": "stream",
     "text": [
      "Epoch [110/1800]: 100%|██████████████████████████████████████████████████████| 9/9 [00:00<00:00, 143.24it/s, loss=12.3]\n"
     ]
    },
    {
     "name": "stdout",
     "output_type": "stream",
     "text": [
      "Epoch [110/1800]: Train loss: 6.4497, Valid loss: 4.3097\n"
     ]
    },
    {
     "name": "stderr",
     "output_type": "stream",
     "text": [
      "Epoch [111/1800]: 100%|██████████████████████████████████████████████████████| 9/9 [00:00<00:00, 145.55it/s, loss=7.78]\n"
     ]
    },
    {
     "name": "stdout",
     "output_type": "stream",
     "text": [
      "Epoch [111/1800]: Train loss: 7.1894, Valid loss: 7.9079\n"
     ]
    },
    {
     "name": "stderr",
     "output_type": "stream",
     "text": [
      "Epoch [112/1800]: 100%|██████████████████████████████████████████████████████| 9/9 [00:00<00:00, 145.57it/s, loss=3.66]\n"
     ]
    },
    {
     "name": "stdout",
     "output_type": "stream",
     "text": [
      "Epoch [112/1800]: Train loss: 7.1812, Valid loss: 5.2711\n"
     ]
    },
    {
     "name": "stderr",
     "output_type": "stream",
     "text": [
      "Epoch [113/1800]: 100%|██████████████████████████████████████████████████████| 9/9 [00:00<00:00, 147.94it/s, loss=7.15]\n"
     ]
    },
    {
     "name": "stdout",
     "output_type": "stream",
     "text": [
      "Epoch [113/1800]: Train loss: 6.0646, Valid loss: 4.4205\n"
     ]
    },
    {
     "name": "stderr",
     "output_type": "stream",
     "text": [
      "Epoch [114/1800]: 100%|██████████████████████████████████████████████████████| 9/9 [00:00<00:00, 143.24it/s, loss=5.63]\n"
     ]
    },
    {
     "name": "stdout",
     "output_type": "stream",
     "text": [
      "Epoch [114/1800]: Train loss: 5.0197, Valid loss: 5.0324\n"
     ]
    },
    {
     "name": "stderr",
     "output_type": "stream",
     "text": [
      "Epoch [115/1800]: 100%|██████████████████████████████████████████████████████| 9/9 [00:00<00:00, 143.24it/s, loss=4.76]\n"
     ]
    },
    {
     "name": "stdout",
     "output_type": "stream",
     "text": [
      "Epoch [115/1800]: Train loss: 4.6659, Valid loss: 4.3652\n"
     ]
    },
    {
     "name": "stderr",
     "output_type": "stream",
     "text": [
      "Epoch [116/1800]: 100%|██████████████████████████████████████████████████████| 9/9 [00:00<00:00, 143.19it/s, loss=5.18]\n"
     ]
    },
    {
     "name": "stdout",
     "output_type": "stream",
     "text": [
      "Epoch [116/1800]: Train loss: 4.6548, Valid loss: 4.3505\n"
     ]
    },
    {
     "name": "stderr",
     "output_type": "stream",
     "text": [
      "Epoch [117/1800]: 100%|██████████████████████████████████████████████████████| 9/9 [00:00<00:00, 145.55it/s, loss=3.92]\n"
     ]
    },
    {
     "name": "stdout",
     "output_type": "stream",
     "text": [
      "Epoch [117/1800]: Train loss: 4.6387, Valid loss: 5.5692\n"
     ]
    },
    {
     "name": "stderr",
     "output_type": "stream",
     "text": [
      "Epoch [118/1800]: 100%|██████████████████████████████████████████████████████| 9/9 [00:00<00:00, 145.55it/s, loss=5.65]\n"
     ]
    },
    {
     "name": "stdout",
     "output_type": "stream",
     "text": [
      "Epoch [118/1800]: Train loss: 5.1126, Valid loss: 5.0383\n"
     ]
    },
    {
     "name": "stderr",
     "output_type": "stream",
     "text": [
      "Epoch [119/1800]: 100%|██████████████████████████████████████████████████████| 9/9 [00:00<00:00, 144.46it/s, loss=4.67]\n"
     ]
    },
    {
     "name": "stdout",
     "output_type": "stream",
     "text": [
      "Epoch [119/1800]: Train loss: 4.5919, Valid loss: 4.4972\n"
     ]
    },
    {
     "name": "stderr",
     "output_type": "stream",
     "text": [
      "Epoch [120/1800]: 100%|██████████████████████████████████████████████████████| 9/9 [00:00<00:00, 145.55it/s, loss=6.04]\n"
     ]
    },
    {
     "name": "stdout",
     "output_type": "stream",
     "text": [
      "Epoch [120/1800]: Train loss: 4.4375, Valid loss: 4.6176\n"
     ]
    },
    {
     "name": "stderr",
     "output_type": "stream",
     "text": [
      "Epoch [121/1800]: 100%|██████████████████████████████████████████████████████| 9/9 [00:00<00:00, 145.55it/s, loss=4.66]\n"
     ]
    },
    {
     "name": "stdout",
     "output_type": "stream",
     "text": [
      "Epoch [121/1800]: Train loss: 4.5873, Valid loss: 4.5548\n"
     ]
    },
    {
     "name": "stderr",
     "output_type": "stream",
     "text": [
      "Epoch [122/1800]: 100%|███████████████████████████████████████████████████████| 9/9 [00:00<00:00, 141.00it/s, loss=4.1]\n"
     ]
    },
    {
     "name": "stdout",
     "output_type": "stream",
     "text": [
      "Epoch [122/1800]: Train loss: 4.6821, Valid loss: 5.2650\n"
     ]
    },
    {
     "name": "stderr",
     "output_type": "stream",
     "text": [
      "Epoch [123/1800]: 100%|██████████████████████████████████████████████████████| 9/9 [00:00<00:00, 145.58it/s, loss=4.83]\n"
     ]
    },
    {
     "name": "stdout",
     "output_type": "stream",
     "text": [
      "Epoch [123/1800]: Train loss: 5.8943, Valid loss: 10.0117\n"
     ]
    },
    {
     "name": "stderr",
     "output_type": "stream",
     "text": [
      "Epoch [124/1800]: 100%|██████████████████████████████████████████████████████| 9/9 [00:00<00:00, 149.33it/s, loss=3.83]\n"
     ]
    },
    {
     "name": "stdout",
     "output_type": "stream",
     "text": [
      "Epoch [124/1800]: Train loss: 5.8366, Valid loss: 4.9333\n"
     ]
    },
    {
     "name": "stderr",
     "output_type": "stream",
     "text": [
      "Epoch [125/1800]: 100%|██████████████████████████████████████████████████████| 9/9 [00:00<00:00, 148.01it/s, loss=8.28]\n"
     ]
    },
    {
     "name": "stdout",
     "output_type": "stream",
     "text": [
      "Epoch [125/1800]: Train loss: 5.6454, Valid loss: 4.9339\n"
     ]
    },
    {
     "name": "stderr",
     "output_type": "stream",
     "text": [
      "Epoch [126/1800]: 100%|██████████████████████████████████████████████████████| 9/9 [00:00<00:00, 147.95it/s, loss=6.71]\n"
     ]
    },
    {
     "name": "stdout",
     "output_type": "stream",
     "text": [
      "Epoch [126/1800]: Train loss: 5.8344, Valid loss: 3.9446\n",
      "Saving model with loss 3.945...\n"
     ]
    },
    {
     "name": "stderr",
     "output_type": "stream",
     "text": [
      "Epoch [127/1800]: 100%|██████████████████████████████████████████████████████| 9/9 [00:00<00:00, 145.90it/s, loss=5.49]\n"
     ]
    },
    {
     "name": "stdout",
     "output_type": "stream",
     "text": [
      "Epoch [127/1800]: Train loss: 4.9171, Valid loss: 4.0712\n"
     ]
    },
    {
     "name": "stderr",
     "output_type": "stream",
     "text": [
      "Epoch [128/1800]: 100%|██████████████████████████████████████████████████████| 9/9 [00:00<00:00, 145.55it/s, loss=4.31]\n"
     ]
    },
    {
     "name": "stdout",
     "output_type": "stream",
     "text": [
      "Epoch [128/1800]: Train loss: 4.3929, Valid loss: 4.8577\n"
     ]
    },
    {
     "name": "stderr",
     "output_type": "stream",
     "text": [
      "Epoch [129/1800]: 100%|██████████████████████████████████████████████████████| 9/9 [00:00<00:00, 148.05it/s, loss=3.64]\n"
     ]
    },
    {
     "name": "stdout",
     "output_type": "stream",
     "text": [
      "Epoch [129/1800]: Train loss: 5.2633, Valid loss: 4.1968\n"
     ]
    },
    {
     "name": "stderr",
     "output_type": "stream",
     "text": [
      "Epoch [130/1800]: 100%|███████████████████████████████████████████████████████| 9/9 [00:00<00:00, 145.57it/s, loss=3.5]\n"
     ]
    },
    {
     "name": "stdout",
     "output_type": "stream",
     "text": [
      "Epoch [130/1800]: Train loss: 4.6408, Valid loss: 7.2920\n"
     ]
    },
    {
     "name": "stderr",
     "output_type": "stream",
     "text": [
      "Epoch [131/1800]: 100%|██████████████████████████████████████████████████████| 9/9 [00:00<00:00, 147.94it/s, loss=5.74]\n"
     ]
    },
    {
     "name": "stdout",
     "output_type": "stream",
     "text": [
      "Epoch [131/1800]: Train loss: 4.8995, Valid loss: 3.9927\n"
     ]
    },
    {
     "name": "stderr",
     "output_type": "stream",
     "text": [
      "Epoch [132/1800]: 100%|██████████████████████████████████████████████████████| 9/9 [00:00<00:00, 147.54it/s, loss=5.22]\n"
     ]
    },
    {
     "name": "stdout",
     "output_type": "stream",
     "text": [
      "Epoch [132/1800]: Train loss: 4.9474, Valid loss: 5.0382\n"
     ]
    },
    {
     "name": "stderr",
     "output_type": "stream",
     "text": [
      "Epoch [133/1800]: 100%|██████████████████████████████████████████████████████| 9/9 [00:00<00:00, 145.55it/s, loss=5.34]\n"
     ]
    },
    {
     "name": "stdout",
     "output_type": "stream",
     "text": [
      "Epoch [133/1800]: Train loss: 4.9183, Valid loss: 6.7227\n"
     ]
    },
    {
     "name": "stderr",
     "output_type": "stream",
     "text": [
      "Epoch [134/1800]: 100%|██████████████████████████████████████████████████████| 9/9 [00:00<00:00, 149.55it/s, loss=7.74]\n"
     ]
    },
    {
     "name": "stdout",
     "output_type": "stream",
     "text": [
      "Epoch [134/1800]: Train loss: 6.2390, Valid loss: 4.3149\n"
     ]
    },
    {
     "name": "stderr",
     "output_type": "stream",
     "text": [
      "Epoch [135/1800]: 100%|██████████████████████████████████████████████████████| 9/9 [00:00<00:00, 134.69it/s, loss=4.65]\n"
     ]
    },
    {
     "name": "stdout",
     "output_type": "stream",
     "text": [
      "Epoch [135/1800]: Train loss: 4.5139, Valid loss: 4.5052\n"
     ]
    },
    {
     "name": "stderr",
     "output_type": "stream",
     "text": [
      "Epoch [136/1800]: 100%|██████████████████████████████████████████████████████| 9/9 [00:00<00:00, 134.69it/s, loss=3.75]\n"
     ]
    },
    {
     "name": "stdout",
     "output_type": "stream",
     "text": [
      "Epoch [136/1800]: Train loss: 4.1652, Valid loss: 5.0212\n"
     ]
    },
    {
     "name": "stderr",
     "output_type": "stream",
     "text": [
      "Epoch [137/1800]: 100%|██████████████████████████████████████████████████████| 9/9 [00:00<00:00, 145.55it/s, loss=3.63]\n"
     ]
    },
    {
     "name": "stdout",
     "output_type": "stream",
     "text": [
      "Epoch [137/1800]: Train loss: 4.3329, Valid loss: 4.3301\n"
     ]
    },
    {
     "name": "stderr",
     "output_type": "stream",
     "text": [
      "Epoch [138/1800]: 100%|██████████████████████████████████████████████████████| 9/9 [00:00<00:00, 143.68it/s, loss=4.64]\n"
     ]
    },
    {
     "name": "stdout",
     "output_type": "stream",
     "text": [
      "Epoch [138/1800]: Train loss: 4.5709, Valid loss: 4.2299\n"
     ]
    },
    {
     "name": "stderr",
     "output_type": "stream",
     "text": [
      "Epoch [139/1800]: 100%|██████████████████████████████████████████████████████| 9/9 [00:00<00:00, 145.55it/s, loss=5.68]\n"
     ]
    },
    {
     "name": "stdout",
     "output_type": "stream",
     "text": [
      "Epoch [139/1800]: Train loss: 4.3757, Valid loss: 3.8715\n",
      "Saving model with loss 3.872...\n"
     ]
    },
    {
     "name": "stderr",
     "output_type": "stream",
     "text": [
      "Epoch [140/1800]: 100%|██████████████████████████████████████████████████████| 9/9 [00:00<00:00, 147.94it/s, loss=4.78]\n"
     ]
    },
    {
     "name": "stdout",
     "output_type": "stream",
     "text": [
      "Epoch [140/1800]: Train loss: 4.6455, Valid loss: 4.2222\n"
     ]
    },
    {
     "name": "stderr",
     "output_type": "stream",
     "text": [
      "Epoch [141/1800]: 100%|██████████████████████████████████████████████████████| 9/9 [00:00<00:00, 143.23it/s, loss=3.87]\n"
     ]
    },
    {
     "name": "stdout",
     "output_type": "stream",
     "text": [
      "Epoch [141/1800]: Train loss: 4.2568, Valid loss: 3.9242\n"
     ]
    },
    {
     "name": "stderr",
     "output_type": "stream",
     "text": [
      "Epoch [142/1800]: 100%|███████████████████████████████████████████████████████| 9/9 [00:00<00:00, 143.24it/s, loss=4.3]\n"
     ]
    },
    {
     "name": "stdout",
     "output_type": "stream",
     "text": [
      "Epoch [142/1800]: Train loss: 4.3565, Valid loss: 4.5948\n"
     ]
    },
    {
     "name": "stderr",
     "output_type": "stream",
     "text": [
      "Epoch [143/1800]: 100%|██████████████████████████████████████████████████████| 9/9 [00:00<00:00, 145.02it/s, loss=3.68]\n"
     ]
    },
    {
     "name": "stdout",
     "output_type": "stream",
     "text": [
      "Epoch [143/1800]: Train loss: 4.4763, Valid loss: 4.3881\n"
     ]
    },
    {
     "name": "stderr",
     "output_type": "stream",
     "text": [
      "Epoch [144/1800]: 100%|██████████████████████████████████████████████████████| 9/9 [00:00<00:00, 147.27it/s, loss=7.18]\n"
     ]
    },
    {
     "name": "stdout",
     "output_type": "stream",
     "text": [
      "Epoch [144/1800]: Train loss: 4.8583, Valid loss: 4.1341\n"
     ]
    },
    {
     "name": "stderr",
     "output_type": "stream",
     "text": [
      "Epoch [145/1800]: 100%|██████████████████████████████████████████████████████| 9/9 [00:00<00:00, 147.94it/s, loss=4.73]\n"
     ]
    },
    {
     "name": "stdout",
     "output_type": "stream",
     "text": [
      "Epoch [145/1800]: Train loss: 4.5892, Valid loss: 4.5555\n"
     ]
    },
    {
     "name": "stderr",
     "output_type": "stream",
     "text": [
      "Epoch [146/1800]: 100%|███████████████████████████████████████████████████████| 9/9 [00:00<00:00, 86.68it/s, loss=3.86]\n"
     ]
    },
    {
     "name": "stdout",
     "output_type": "stream",
     "text": [
      "Epoch [146/1800]: Train loss: 4.1095, Valid loss: 5.0945\n"
     ]
    },
    {
     "name": "stderr",
     "output_type": "stream",
     "text": [
      "Epoch [147/1800]: 100%|██████████████████████████████████████████████████████| 9/9 [00:00<00:00, 141.00it/s, loss=4.94]\n"
     ]
    },
    {
     "name": "stdout",
     "output_type": "stream",
     "text": [
      "Epoch [147/1800]: Train loss: 4.5042, Valid loss: 3.9497\n"
     ]
    },
    {
     "name": "stderr",
     "output_type": "stream",
     "text": [
      "Epoch [148/1800]: 100%|██████████████████████████████████████████████████████| 9/9 [00:00<00:00, 132.71it/s, loss=6.55]\n"
     ]
    },
    {
     "name": "stdout",
     "output_type": "stream",
     "text": [
      "Epoch [148/1800]: Train loss: 4.9940, Valid loss: 4.7853\n"
     ]
    },
    {
     "name": "stderr",
     "output_type": "stream",
     "text": [
      "Epoch [149/1800]: 100%|███████████████████████████████████████████████████████| 9/9 [00:00<00:00, 141.00it/s, loss=5.8]\n"
     ]
    },
    {
     "name": "stdout",
     "output_type": "stream",
     "text": [
      "Epoch [149/1800]: Train loss: 5.0623, Valid loss: 4.1274\n"
     ]
    },
    {
     "name": "stderr",
     "output_type": "stream",
     "text": [
      "Epoch [150/1800]: 100%|██████████████████████████████████████████████████████| 9/9 [00:00<00:00, 145.55it/s, loss=5.17]\n"
     ]
    },
    {
     "name": "stdout",
     "output_type": "stream",
     "text": [
      "Epoch [150/1800]: Train loss: 4.4486, Valid loss: 4.1456\n"
     ]
    },
    {
     "name": "stderr",
     "output_type": "stream",
     "text": [
      "Epoch [151/1800]: 100%|██████████████████████████████████████████████████████| 9/9 [00:00<00:00, 143.24it/s, loss=3.93]\n"
     ]
    },
    {
     "name": "stdout",
     "output_type": "stream",
     "text": [
      "Epoch [151/1800]: Train loss: 4.0768, Valid loss: 4.3486\n"
     ]
    },
    {
     "name": "stderr",
     "output_type": "stream",
     "text": [
      "Epoch [152/1800]: 100%|██████████████████████████████████████████████████████| 9/9 [00:00<00:00, 145.55it/s, loss=3.31]\n"
     ]
    },
    {
     "name": "stdout",
     "output_type": "stream",
     "text": [
      "Epoch [152/1800]: Train loss: 4.5900, Valid loss: 4.6412\n"
     ]
    },
    {
     "name": "stderr",
     "output_type": "stream",
     "text": [
      "Epoch [153/1800]: 100%|██████████████████████████████████████████████████████| 9/9 [00:00<00:00, 145.56it/s, loss=4.62]\n"
     ]
    },
    {
     "name": "stdout",
     "output_type": "stream",
     "text": [
      "Epoch [153/1800]: Train loss: 4.1024, Valid loss: 4.1002\n"
     ]
    },
    {
     "name": "stderr",
     "output_type": "stream",
     "text": [
      "Epoch [154/1800]: 100%|██████████████████████████████████████████████████████| 9/9 [00:00<00:00, 144.03it/s, loss=4.63]\n"
     ]
    },
    {
     "name": "stdout",
     "output_type": "stream",
     "text": [
      "Epoch [154/1800]: Train loss: 4.0229, Valid loss: 4.2499\n"
     ]
    },
    {
     "name": "stderr",
     "output_type": "stream",
     "text": [
      "Epoch [155/1800]: 100%|██████████████████████████████████████████████████████| 9/9 [00:00<00:00, 145.55it/s, loss=5.77]\n"
     ]
    },
    {
     "name": "stdout",
     "output_type": "stream",
     "text": [
      "Epoch [155/1800]: Train loss: 4.3906, Valid loss: 3.7261\n",
      "Saving model with loss 3.726...\n"
     ]
    },
    {
     "name": "stderr",
     "output_type": "stream",
     "text": [
      "Epoch [156/1800]: 100%|███████████████████████████████████████████████████████| 9/9 [00:00<00:00, 92.91it/s, loss=3.93]\n"
     ]
    },
    {
     "name": "stdout",
     "output_type": "stream",
     "text": [
      "Epoch [156/1800]: Train loss: 5.0037, Valid loss: 5.3575\n"
     ]
    },
    {
     "name": "stderr",
     "output_type": "stream",
     "text": [
      "Epoch [157/1800]: 100%|██████████████████████████████████████████████████████| 9/9 [00:00<00:00, 147.58it/s, loss=3.25]\n"
     ]
    },
    {
     "name": "stdout",
     "output_type": "stream",
     "text": [
      "Epoch [157/1800]: Train loss: 4.3349, Valid loss: 4.0142\n"
     ]
    },
    {
     "name": "stderr",
     "output_type": "stream",
     "text": [
      "Epoch [158/1800]: 100%|██████████████████████████████████████████████████████| 9/9 [00:00<00:00, 145.55it/s, loss=4.72]\n"
     ]
    },
    {
     "name": "stdout",
     "output_type": "stream",
     "text": [
      "Epoch [158/1800]: Train loss: 4.5120, Valid loss: 3.9255\n"
     ]
    },
    {
     "name": "stderr",
     "output_type": "stream",
     "text": [
      "Epoch [159/1800]: 100%|██████████████████████████████████████████████████████| 9/9 [00:00<00:00, 143.24it/s, loss=2.92]\n"
     ]
    },
    {
     "name": "stdout",
     "output_type": "stream",
     "text": [
      "Epoch [159/1800]: Train loss: 3.9220, Valid loss: 3.9187\n"
     ]
    },
    {
     "name": "stderr",
     "output_type": "stream",
     "text": [
      "Epoch [160/1800]: 100%|██████████████████████████████████████████████████████| 9/9 [00:00<00:00, 145.55it/s, loss=2.93]\n"
     ]
    },
    {
     "name": "stdout",
     "output_type": "stream",
     "text": [
      "Epoch [160/1800]: Train loss: 4.1352, Valid loss: 4.9901\n"
     ]
    },
    {
     "name": "stderr",
     "output_type": "stream",
     "text": [
      "Epoch [161/1800]: 100%|██████████████████████████████████████████████████████| 9/9 [00:00<00:00, 145.55it/s, loss=3.01]\n"
     ]
    },
    {
     "name": "stdout",
     "output_type": "stream",
     "text": [
      "Epoch [161/1800]: Train loss: 3.9333, Valid loss: 5.0577\n"
     ]
    },
    {
     "name": "stderr",
     "output_type": "stream",
     "text": [
      "Epoch [162/1800]: 100%|██████████████████████████████████████████████████████| 9/9 [00:00<00:00, 148.35it/s, loss=4.28]\n"
     ]
    },
    {
     "name": "stdout",
     "output_type": "stream",
     "text": [
      "Epoch [162/1800]: Train loss: 4.5341, Valid loss: 3.4723\n",
      "Saving model with loss 3.472...\n"
     ]
    },
    {
     "name": "stderr",
     "output_type": "stream",
     "text": [
      "Epoch [163/1800]: 100%|██████████████████████████████████████████████████████| 9/9 [00:00<00:00, 147.94it/s, loss=5.14]\n"
     ]
    },
    {
     "name": "stdout",
     "output_type": "stream",
     "text": [
      "Epoch [163/1800]: Train loss: 4.8423, Valid loss: 4.8712\n"
     ]
    },
    {
     "name": "stderr",
     "output_type": "stream",
     "text": [
      "Epoch [164/1800]: 100%|██████████████████████████████████████████████████████| 9/9 [00:00<00:00, 143.24it/s, loss=3.21]\n"
     ]
    },
    {
     "name": "stdout",
     "output_type": "stream",
     "text": [
      "Epoch [164/1800]: Train loss: 3.9885, Valid loss: 3.6659\n"
     ]
    },
    {
     "name": "stderr",
     "output_type": "stream",
     "text": [
      "Epoch [165/1800]: 100%|██████████████████████████████████████████████████████| 9/9 [00:00<00:00, 145.55it/s, loss=3.43]\n"
     ]
    },
    {
     "name": "stdout",
     "output_type": "stream",
     "text": [
      "Epoch [165/1800]: Train loss: 4.2108, Valid loss: 4.5158\n"
     ]
    },
    {
     "name": "stderr",
     "output_type": "stream",
     "text": [
      "Epoch [166/1800]: 100%|██████████████████████████████████████████████████████| 9/9 [00:00<00:00, 145.55it/s, loss=5.21]\n"
     ]
    },
    {
     "name": "stdout",
     "output_type": "stream",
     "text": [
      "Epoch [166/1800]: Train loss: 4.4929, Valid loss: 4.0397\n"
     ]
    },
    {
     "name": "stderr",
     "output_type": "stream",
     "text": [
      "Epoch [167/1800]: 100%|██████████████████████████████████████████████████████| 9/9 [00:00<00:00, 148.17it/s, loss=6.16]\n"
     ]
    },
    {
     "name": "stdout",
     "output_type": "stream",
     "text": [
      "Epoch [167/1800]: Train loss: 5.0900, Valid loss: 6.2739\n"
     ]
    },
    {
     "name": "stderr",
     "output_type": "stream",
     "text": [
      "Epoch [168/1800]: 100%|██████████████████████████████████████████████████████| 9/9 [00:00<00:00, 145.55it/s, loss=3.09]\n"
     ]
    },
    {
     "name": "stdout",
     "output_type": "stream",
     "text": [
      "Epoch [168/1800]: Train loss: 4.9594, Valid loss: 4.4027\n"
     ]
    },
    {
     "name": "stderr",
     "output_type": "stream",
     "text": [
      "Epoch [169/1800]: 100%|██████████████████████████████████████████████████████| 9/9 [00:00<00:00, 145.56it/s, loss=3.03]\n"
     ]
    },
    {
     "name": "stdout",
     "output_type": "stream",
     "text": [
      "Epoch [169/1800]: Train loss: 3.9635, Valid loss: 3.2645\n",
      "Saving model with loss 3.264...\n"
     ]
    },
    {
     "name": "stderr",
     "output_type": "stream",
     "text": [
      "Epoch [170/1800]: 100%|██████████████████████████████████████████████████████| 9/9 [00:00<00:00, 147.93it/s, loss=3.63]\n"
     ]
    },
    {
     "name": "stdout",
     "output_type": "stream",
     "text": [
      "Epoch [170/1800]: Train loss: 3.9811, Valid loss: 4.3102\n"
     ]
    },
    {
     "name": "stderr",
     "output_type": "stream",
     "text": [
      "Epoch [171/1800]: 100%|██████████████████████████████████████████████████████| 9/9 [00:00<00:00, 147.93it/s, loss=4.16]\n"
     ]
    },
    {
     "name": "stdout",
     "output_type": "stream",
     "text": [
      "Epoch [171/1800]: Train loss: 3.8664, Valid loss: 4.8776\n"
     ]
    },
    {
     "name": "stderr",
     "output_type": "stream",
     "text": [
      "Epoch [172/1800]: 100%|██████████████████████████████████████████████████████| 9/9 [00:00<00:00, 145.55it/s, loss=4.27]\n"
     ]
    },
    {
     "name": "stdout",
     "output_type": "stream",
     "text": [
      "Epoch [172/1800]: Train loss: 3.9366, Valid loss: 4.9780\n"
     ]
    },
    {
     "name": "stderr",
     "output_type": "stream",
     "text": [
      "Epoch [173/1800]: 100%|██████████████████████████████████████████████████████| 9/9 [00:00<00:00, 138.83it/s, loss=3.89]\n"
     ]
    },
    {
     "name": "stdout",
     "output_type": "stream",
     "text": [
      "Epoch [173/1800]: Train loss: 3.8663, Valid loss: 4.0433\n"
     ]
    },
    {
     "name": "stderr",
     "output_type": "stream",
     "text": [
      "Epoch [174/1800]: 100%|██████████████████████████████████████████████████████| 9/9 [00:00<00:00, 134.56it/s, loss=4.32]\n"
     ]
    },
    {
     "name": "stdout",
     "output_type": "stream",
     "text": [
      "Epoch [174/1800]: Train loss: 4.1810, Valid loss: 4.3934\n"
     ]
    },
    {
     "name": "stderr",
     "output_type": "stream",
     "text": [
      "Epoch [175/1800]: 100%|██████████████████████████████████████████████████████| 9/9 [00:00<00:00, 143.24it/s, loss=2.93]\n"
     ]
    },
    {
     "name": "stdout",
     "output_type": "stream",
     "text": [
      "Epoch [175/1800]: Train loss: 4.1097, Valid loss: 3.7993\n"
     ]
    },
    {
     "name": "stderr",
     "output_type": "stream",
     "text": [
      "Epoch [176/1800]: 100%|███████████████████████████████████████████████████████| 9/9 [00:00<00:00, 136.73it/s, loss=3.3]\n"
     ]
    },
    {
     "name": "stdout",
     "output_type": "stream",
     "text": [
      "Epoch [176/1800]: Train loss: 3.9235, Valid loss: 3.7984\n"
     ]
    },
    {
     "name": "stderr",
     "output_type": "stream",
     "text": [
      "Epoch [177/1800]: 100%|██████████████████████████████████████████████████████| 9/9 [00:00<00:00, 134.69it/s, loss=4.93]\n"
     ]
    },
    {
     "name": "stdout",
     "output_type": "stream",
     "text": [
      "Epoch [177/1800]: Train loss: 4.0052, Valid loss: 3.8153\n"
     ]
    },
    {
     "name": "stderr",
     "output_type": "stream",
     "text": [
      "Epoch [178/1800]: 100%|██████████████████████████████████████████████████████| 9/9 [00:00<00:00, 136.73it/s, loss=4.31]\n"
     ]
    },
    {
     "name": "stdout",
     "output_type": "stream",
     "text": [
      "Epoch [178/1800]: Train loss: 3.9295, Valid loss: 3.9938\n"
     ]
    },
    {
     "name": "stderr",
     "output_type": "stream",
     "text": [
      "Epoch [179/1800]: 100%|██████████████████████████████████████████████████████| 9/9 [00:00<00:00, 136.73it/s, loss=6.42]\n"
     ]
    },
    {
     "name": "stdout",
     "output_type": "stream",
     "text": [
      "Epoch [179/1800]: Train loss: 5.0541, Valid loss: 5.0550\n"
     ]
    },
    {
     "name": "stderr",
     "output_type": "stream",
     "text": [
      "Epoch [180/1800]: 100%|██████████████████████████████████████████████████████| 9/9 [00:00<00:00, 137.57it/s, loss=3.85]\n"
     ]
    },
    {
     "name": "stdout",
     "output_type": "stream",
     "text": [
      "Epoch [180/1800]: Train loss: 4.3950, Valid loss: 3.8607\n"
     ]
    },
    {
     "name": "stderr",
     "output_type": "stream",
     "text": [
      "Epoch [181/1800]: 100%|██████████████████████████████████████████████████████| 9/9 [00:00<00:00, 141.00it/s, loss=3.72]\n"
     ]
    },
    {
     "name": "stdout",
     "output_type": "stream",
     "text": [
      "Epoch [181/1800]: Train loss: 3.8059, Valid loss: 3.8940\n"
     ]
    },
    {
     "name": "stderr",
     "output_type": "stream",
     "text": [
      "Epoch [182/1800]: 100%|██████████████████████████████████████████████████████| 9/9 [00:00<00:00, 145.55it/s, loss=5.27]\n"
     ]
    },
    {
     "name": "stdout",
     "output_type": "stream",
     "text": [
      "Epoch [182/1800]: Train loss: 3.9819, Valid loss: 3.7435\n"
     ]
    },
    {
     "name": "stderr",
     "output_type": "stream",
     "text": [
      "Epoch [183/1800]: 100%|██████████████████████████████████████████████████████| 9/9 [00:00<00:00, 143.24it/s, loss=2.75]\n"
     ]
    },
    {
     "name": "stdout",
     "output_type": "stream",
     "text": [
      "Epoch [183/1800]: Train loss: 3.9075, Valid loss: 4.9141\n"
     ]
    },
    {
     "name": "stderr",
     "output_type": "stream",
     "text": [
      "Epoch [184/1800]: 100%|██████████████████████████████████████████████████████| 9/9 [00:00<00:00, 146.43it/s, loss=3.58]\n"
     ]
    },
    {
     "name": "stdout",
     "output_type": "stream",
     "text": [
      "Epoch [184/1800]: Train loss: 3.6963, Valid loss: 4.8124\n"
     ]
    },
    {
     "name": "stderr",
     "output_type": "stream",
     "text": [
      "Epoch [185/1800]: 100%|███████████████████████████████████████████████████████| 9/9 [00:00<00:00, 147.93it/s, loss=4.7]\n"
     ]
    },
    {
     "name": "stdout",
     "output_type": "stream",
     "text": [
      "Epoch [185/1800]: Train loss: 4.1859, Valid loss: 3.8090\n"
     ]
    },
    {
     "name": "stderr",
     "output_type": "stream",
     "text": [
      "Epoch [186/1800]: 100%|██████████████████████████████████████████████████████| 9/9 [00:00<00:00, 143.24it/s, loss=3.32]\n"
     ]
    },
    {
     "name": "stdout",
     "output_type": "stream",
     "text": [
      "Epoch [186/1800]: Train loss: 4.1998, Valid loss: 4.3589\n"
     ]
    },
    {
     "name": "stderr",
     "output_type": "stream",
     "text": [
      "Epoch [187/1800]: 100%|██████████████████████████████████████████████████████| 9/9 [00:00<00:00, 143.54it/s, loss=4.07]\n"
     ]
    },
    {
     "name": "stdout",
     "output_type": "stream",
     "text": [
      "Epoch [187/1800]: Train loss: 3.7951, Valid loss: 3.7136\n"
     ]
    },
    {
     "name": "stderr",
     "output_type": "stream",
     "text": [
      "Epoch [188/1800]: 100%|███████████████████████████████████████████████████████| 9/9 [00:00<00:00, 89.35it/s, loss=3.87]\n"
     ]
    },
    {
     "name": "stdout",
     "output_type": "stream",
     "text": [
      "Epoch [188/1800]: Train loss: 3.6587, Valid loss: 3.8984\n"
     ]
    },
    {
     "name": "stderr",
     "output_type": "stream",
     "text": [
      "Epoch [189/1800]: 100%|███████████████████████████████████████████████████████| 9/9 [00:00<00:00, 138.82it/s, loss=3.9]\n"
     ]
    },
    {
     "name": "stdout",
     "output_type": "stream",
     "text": [
      "Epoch [189/1800]: Train loss: 3.8765, Valid loss: 3.4480\n"
     ]
    },
    {
     "name": "stderr",
     "output_type": "stream",
     "text": [
      "Epoch [190/1800]: 100%|██████████████████████████████████████████████████████| 9/9 [00:00<00:00, 139.29it/s, loss=3.14]\n"
     ]
    },
    {
     "name": "stdout",
     "output_type": "stream",
     "text": [
      "Epoch [190/1800]: Train loss: 3.6493, Valid loss: 4.1630\n"
     ]
    },
    {
     "name": "stderr",
     "output_type": "stream",
     "text": [
      "Epoch [191/1800]: 100%|██████████████████████████████████████████████████████| 9/9 [00:00<00:00, 145.55it/s, loss=4.47]\n"
     ]
    },
    {
     "name": "stdout",
     "output_type": "stream",
     "text": [
      "Epoch [191/1800]: Train loss: 3.8792, Valid loss: 3.6183\n"
     ]
    },
    {
     "name": "stderr",
     "output_type": "stream",
     "text": [
      "Epoch [192/1800]: 100%|██████████████████████████████████████████████████████| 9/9 [00:00<00:00, 143.24it/s, loss=3.35]\n"
     ]
    },
    {
     "name": "stdout",
     "output_type": "stream",
     "text": [
      "Epoch [192/1800]: Train loss: 3.9264, Valid loss: 4.6955\n"
     ]
    },
    {
     "name": "stderr",
     "output_type": "stream",
     "text": [
      "Epoch [193/1800]: 100%|██████████████████████████████████████████████████████| 9/9 [00:00<00:00, 147.59it/s, loss=3.29]\n"
     ]
    },
    {
     "name": "stdout",
     "output_type": "stream",
     "text": [
      "Epoch [193/1800]: Train loss: 4.0057, Valid loss: 6.1470\n"
     ]
    },
    {
     "name": "stderr",
     "output_type": "stream",
     "text": [
      "Epoch [194/1800]: 100%|██████████████████████████████████████████████████████| 9/9 [00:00<00:00, 132.68it/s, loss=6.51]\n"
     ]
    },
    {
     "name": "stdout",
     "output_type": "stream",
     "text": [
      "Epoch [194/1800]: Train loss: 4.7139, Valid loss: 3.9566\n"
     ]
    },
    {
     "name": "stderr",
     "output_type": "stream",
     "text": [
      "Epoch [195/1800]: 100%|██████████████████████████████████████████████████████| 9/9 [00:00<00:00, 145.55it/s, loss=5.75]\n"
     ]
    },
    {
     "name": "stdout",
     "output_type": "stream",
     "text": [
      "Epoch [195/1800]: Train loss: 4.5333, Valid loss: 4.0766\n"
     ]
    },
    {
     "name": "stderr",
     "output_type": "stream",
     "text": [
      "Epoch [196/1800]: 100%|██████████████████████████████████████████████████████| 9/9 [00:00<00:00, 145.55it/s, loss=5.29]\n"
     ]
    },
    {
     "name": "stdout",
     "output_type": "stream",
     "text": [
      "Epoch [196/1800]: Train loss: 4.5721, Valid loss: 3.6558\n"
     ]
    },
    {
     "name": "stderr",
     "output_type": "stream",
     "text": [
      "Epoch [197/1800]: 100%|██████████████████████████████████████████████████████| 9/9 [00:00<00:00, 150.39it/s, loss=6.72]\n"
     ]
    },
    {
     "name": "stdout",
     "output_type": "stream",
     "text": [
      "Epoch [197/1800]: Train loss: 4.7694, Valid loss: 3.8942\n"
     ]
    },
    {
     "name": "stderr",
     "output_type": "stream",
     "text": [
      "Epoch [198/1800]: 100%|██████████████████████████████████████████████████████| 9/9 [00:00<00:00, 145.54it/s, loss=4.76]\n"
     ]
    },
    {
     "name": "stdout",
     "output_type": "stream",
     "text": [
      "Epoch [198/1800]: Train loss: 4.8612, Valid loss: 4.1975\n"
     ]
    },
    {
     "name": "stderr",
     "output_type": "stream",
     "text": [
      "Epoch [199/1800]: 100%|██████████████████████████████████████████████████████| 9/9 [00:00<00:00, 143.24it/s, loss=4.34]\n"
     ]
    },
    {
     "name": "stdout",
     "output_type": "stream",
     "text": [
      "Epoch [199/1800]: Train loss: 4.7769, Valid loss: 6.5019\n"
     ]
    },
    {
     "name": "stderr",
     "output_type": "stream",
     "text": [
      "Epoch [200/1800]: 100%|██████████████████████████████████████████████████████| 9/9 [00:00<00:00, 141.00it/s, loss=2.51]\n"
     ]
    },
    {
     "name": "stdout",
     "output_type": "stream",
     "text": [
      "Epoch [200/1800]: Train loss: 4.7169, Valid loss: 3.9680\n"
     ]
    },
    {
     "name": "stderr",
     "output_type": "stream",
     "text": [
      "Epoch [201/1800]: 100%|██████████████████████████████████████████████████████| 9/9 [00:00<00:00, 143.24it/s, loss=3.26]\n"
     ]
    },
    {
     "name": "stdout",
     "output_type": "stream",
     "text": [
      "Epoch [201/1800]: Train loss: 3.8601, Valid loss: 4.0101\n"
     ]
    },
    {
     "name": "stderr",
     "output_type": "stream",
     "text": [
      "Epoch [202/1800]: 100%|██████████████████████████████████████████████████████| 9/9 [00:00<00:00, 138.83it/s, loss=4.71]\n"
     ]
    },
    {
     "name": "stdout",
     "output_type": "stream",
     "text": [
      "Epoch [202/1800]: Train loss: 3.7365, Valid loss: 3.9495\n"
     ]
    },
    {
     "name": "stderr",
     "output_type": "stream",
     "text": [
      "Epoch [203/1800]: 100%|██████████████████████████████████████████████████████| 9/9 [00:00<00:00, 143.87it/s, loss=4.76]\n"
     ]
    },
    {
     "name": "stdout",
     "output_type": "stream",
     "text": [
      "Epoch [203/1800]: Train loss: 4.1201, Valid loss: 7.8305\n"
     ]
    },
    {
     "name": "stderr",
     "output_type": "stream",
     "text": [
      "Epoch [204/1800]: 100%|██████████████████████████████████████████████████████| 9/9 [00:00<00:00, 147.93it/s, loss=2.92]\n"
     ]
    },
    {
     "name": "stdout",
     "output_type": "stream",
     "text": [
      "Epoch [204/1800]: Train loss: 5.3120, Valid loss: 4.1729\n"
     ]
    },
    {
     "name": "stderr",
     "output_type": "stream",
     "text": [
      "Epoch [205/1800]: 100%|██████████████████████████████████████████████████████| 9/9 [00:00<00:00, 143.24it/s, loss=4.58]\n"
     ]
    },
    {
     "name": "stdout",
     "output_type": "stream",
     "text": [
      "Epoch [205/1800]: Train loss: 4.0314, Valid loss: 3.4105\n"
     ]
    },
    {
     "name": "stderr",
     "output_type": "stream",
     "text": [
      "Epoch [206/1800]: 100%|██████████████████████████████████████████████████████| 9/9 [00:00<00:00, 141.82it/s, loss=2.91]\n"
     ]
    },
    {
     "name": "stdout",
     "output_type": "stream",
     "text": [
      "Epoch [206/1800]: Train loss: 3.4894, Valid loss: 5.3363\n"
     ]
    },
    {
     "name": "stderr",
     "output_type": "stream",
     "text": [
      "Epoch [207/1800]: 100%|██████████████████████████████████████████████████████| 9/9 [00:00<00:00, 143.24it/s, loss=5.06]\n"
     ]
    },
    {
     "name": "stdout",
     "output_type": "stream",
     "text": [
      "Epoch [207/1800]: Train loss: 5.5855, Valid loss: 4.8455\n"
     ]
    },
    {
     "name": "stderr",
     "output_type": "stream",
     "text": [
      "Epoch [208/1800]: 100%|██████████████████████████████████████████████████████| 9/9 [00:00<00:00, 145.55it/s, loss=4.25]\n"
     ]
    },
    {
     "name": "stdout",
     "output_type": "stream",
     "text": [
      "Epoch [208/1800]: Train loss: 4.6881, Valid loss: 4.1199\n"
     ]
    },
    {
     "name": "stderr",
     "output_type": "stream",
     "text": [
      "Epoch [209/1800]: 100%|██████████████████████████████████████████████████████| 9/9 [00:00<00:00, 140.76it/s, loss=4.37]\n"
     ]
    },
    {
     "name": "stdout",
     "output_type": "stream",
     "text": [
      "Epoch [209/1800]: Train loss: 3.7539, Valid loss: 3.5012\n"
     ]
    },
    {
     "name": "stderr",
     "output_type": "stream",
     "text": [
      "Epoch [210/1800]: 100%|███████████████████████████████████████████████████████| 9/9 [00:00<00:00, 99.17it/s, loss=2.96]\n"
     ]
    },
    {
     "name": "stdout",
     "output_type": "stream",
     "text": [
      "Epoch [210/1800]: Train loss: 3.4054, Valid loss: 3.9176\n"
     ]
    },
    {
     "name": "stderr",
     "output_type": "stream",
     "text": [
      "Epoch [211/1800]: 100%|██████████████████████████████████████████████████████| 9/9 [00:00<00:00, 143.24it/s, loss=3.65]"
     ]
    },
    {
     "name": "stdout",
     "output_type": "stream",
     "text": [
      "Epoch [211/1800]: Train loss: 3.5467, Valid loss: 3.2774"
     ]
    },
    {
     "name": "stderr",
     "output_type": "stream",
     "text": [
      "\n"
     ]
    },
    {
     "name": "stdout",
     "output_type": "stream",
     "text": [
      "\n"
     ]
    },
    {
     "name": "stderr",
     "output_type": "stream",
     "text": [
      "Epoch [212/1800]: 100%|██████████████████████████████████████████████████████| 9/9 [00:00<00:00, 141.00it/s, loss=3.11]\n"
     ]
    },
    {
     "name": "stdout",
     "output_type": "stream",
     "text": [
      "Epoch [212/1800]: Train loss: 3.3994, Valid loss: 3.9703\n"
     ]
    },
    {
     "name": "stderr",
     "output_type": "stream",
     "text": [
      "Epoch [213/1800]: 100%|██████████████████████████████████████████████████████| 9/9 [00:00<00:00, 143.24it/s, loss=3.75]\n"
     ]
    },
    {
     "name": "stdout",
     "output_type": "stream",
     "text": [
      "Epoch [213/1800]: Train loss: 3.4760, Valid loss: 3.6851\n"
     ]
    },
    {
     "name": "stderr",
     "output_type": "stream",
     "text": [
      "Epoch [214/1800]: 100%|██████████████████████████████████████████████████████| 9/9 [00:00<00:00, 141.00it/s, loss=3.17]\n"
     ]
    },
    {
     "name": "stdout",
     "output_type": "stream",
     "text": [
      "Epoch [214/1800]: Train loss: 3.3639, Valid loss: 4.3834\n"
     ]
    },
    {
     "name": "stderr",
     "output_type": "stream",
     "text": [
      "Epoch [215/1800]: 100%|██████████████████████████████████████████████████████| 9/9 [00:00<00:00, 143.24it/s, loss=4.69]\n"
     ]
    },
    {
     "name": "stdout",
     "output_type": "stream",
     "text": [
      "Epoch [215/1800]: Train loss: 3.7204, Valid loss: 4.3926\n"
     ]
    },
    {
     "name": "stderr",
     "output_type": "stream",
     "text": [
      "Epoch [216/1800]: 100%|██████████████████████████████████████████████████████| 9/9 [00:00<00:00, 141.00it/s, loss=3.89]\n"
     ]
    },
    {
     "name": "stdout",
     "output_type": "stream",
     "text": [
      "Epoch [216/1800]: Train loss: 3.5184, Valid loss: 4.1716\n"
     ]
    },
    {
     "name": "stderr",
     "output_type": "stream",
     "text": [
      "Epoch [217/1800]: 100%|██████████████████████████████████████████████████████| 9/9 [00:00<00:00, 143.24it/s, loss=4.33]\n"
     ]
    },
    {
     "name": "stdout",
     "output_type": "stream",
     "text": [
      "Epoch [217/1800]: Train loss: 3.6823, Valid loss: 3.7965\n"
     ]
    },
    {
     "name": "stderr",
     "output_type": "stream",
     "text": [
      "Epoch [218/1800]: 100%|██████████████████████████████████████████████████████| 9/9 [00:00<00:00, 147.25it/s, loss=4.44]\n"
     ]
    },
    {
     "name": "stdout",
     "output_type": "stream",
     "text": [
      "Epoch [218/1800]: Train loss: 4.0778, Valid loss: 3.7744\n"
     ]
    },
    {
     "name": "stderr",
     "output_type": "stream",
     "text": [
      "Epoch [219/1800]: 100%|██████████████████████████████████████████████████████| 9/9 [00:00<00:00, 146.00it/s, loss=4.27]\n"
     ]
    },
    {
     "name": "stdout",
     "output_type": "stream",
     "text": [
      "Epoch [219/1800]: Train loss: 4.3311, Valid loss: 4.1608\n"
     ]
    },
    {
     "name": "stderr",
     "output_type": "stream",
     "text": [
      "Epoch [220/1800]: 100%|██████████████████████████████████████████████████████| 9/9 [00:00<00:00, 145.55it/s, loss=3.63]\n"
     ]
    },
    {
     "name": "stdout",
     "output_type": "stream",
     "text": [
      "Epoch [220/1800]: Train loss: 4.1162, Valid loss: 7.1650\n"
     ]
    },
    {
     "name": "stderr",
     "output_type": "stream",
     "text": [
      "Epoch [221/1800]: 100%|██████████████████████████████████████████████████████| 9/9 [00:00<00:00, 142.92it/s, loss=3.22]\n"
     ]
    },
    {
     "name": "stdout",
     "output_type": "stream",
     "text": [
      "Epoch [221/1800]: Train loss: 4.1864, Valid loss: 3.6727\n"
     ]
    },
    {
     "name": "stderr",
     "output_type": "stream",
     "text": [
      "Epoch [222/1800]: 100%|███████████████████████████████████████████████████████| 9/9 [00:00<00:00, 145.68it/s, loss=3.7]\n"
     ]
    },
    {
     "name": "stdout",
     "output_type": "stream",
     "text": [
      "Epoch [222/1800]: Train loss: 4.0617, Valid loss: 2.9255\n",
      "Saving model with loss 2.925...\n"
     ]
    },
    {
     "name": "stderr",
     "output_type": "stream",
     "text": [
      "Epoch [223/1800]: 100%|██████████████████████████████████████████████████████| 9/9 [00:00<00:00, 143.24it/s, loss=4.64]\n"
     ]
    },
    {
     "name": "stdout",
     "output_type": "stream",
     "text": [
      "Epoch [223/1800]: Train loss: 4.1233, Valid loss: 4.1914\n"
     ]
    },
    {
     "name": "stderr",
     "output_type": "stream",
     "text": [
      "Epoch [224/1800]: 100%|██████████████████████████████████████████████████████| 9/9 [00:00<00:00, 145.55it/s, loss=2.63]\n"
     ]
    },
    {
     "name": "stdout",
     "output_type": "stream",
     "text": [
      "Epoch [224/1800]: Train loss: 4.3770, Valid loss: 3.8138\n"
     ]
    },
    {
     "name": "stderr",
     "output_type": "stream",
     "text": [
      "Epoch [225/1800]: 100%|██████████████████████████████████████████████████████| 9/9 [00:00<00:00, 133.67it/s, loss=4.36]\n"
     ]
    },
    {
     "name": "stdout",
     "output_type": "stream",
     "text": [
      "Epoch [225/1800]: Train loss: 3.3441, Valid loss: 3.1718\n"
     ]
    },
    {
     "name": "stderr",
     "output_type": "stream",
     "text": [
      "Epoch [226/1800]: 100%|██████████████████████████████████████████████████████| 9/9 [00:00<00:00, 140.65it/s, loss=4.26]\n"
     ]
    },
    {
     "name": "stdout",
     "output_type": "stream",
     "text": [
      "Epoch [226/1800]: Train loss: 3.9288, Valid loss: 3.8897\n"
     ]
    },
    {
     "name": "stderr",
     "output_type": "stream",
     "text": [
      "Epoch [227/1800]: 100%|██████████████████████████████████████████████████████| 9/9 [00:00<00:00, 145.56it/s, loss=2.82]\n"
     ]
    },
    {
     "name": "stdout",
     "output_type": "stream",
     "text": [
      "Epoch [227/1800]: Train loss: 3.8420, Valid loss: 2.7641\n",
      "Saving model with loss 2.764...\n"
     ]
    },
    {
     "name": "stderr",
     "output_type": "stream",
     "text": [
      "Epoch [228/1800]: 100%|██████████████████████████████████████████████████████| 9/9 [00:00<00:00, 145.55it/s, loss=4.53]\n"
     ]
    },
    {
     "name": "stdout",
     "output_type": "stream",
     "text": [
      "Epoch [228/1800]: Train loss: 3.6603, Valid loss: 3.5837\n"
     ]
    },
    {
     "name": "stderr",
     "output_type": "stream",
     "text": [
      "Epoch [229/1800]: 100%|██████████████████████████████████████████████████████| 9/9 [00:00<00:00, 141.00it/s, loss=3.27]\n"
     ]
    },
    {
     "name": "stdout",
     "output_type": "stream",
     "text": [
      "Epoch [229/1800]: Train loss: 3.6538, Valid loss: 4.0179\n"
     ]
    },
    {
     "name": "stderr",
     "output_type": "stream",
     "text": [
      "Epoch [230/1800]: 100%|███████████████████████████████████████████████████████| 9/9 [00:00<00:00, 85.24it/s, loss=3.07]\n"
     ]
    },
    {
     "name": "stdout",
     "output_type": "stream",
     "text": [
      "Epoch [230/1800]: Train loss: 3.5980, Valid loss: 3.9577\n"
     ]
    },
    {
     "name": "stderr",
     "output_type": "stream",
     "text": [
      "Epoch [231/1800]: 100%|██████████████████████████████████████████████████████| 9/9 [00:00<00:00, 134.69it/s, loss=3.52]\n"
     ]
    },
    {
     "name": "stdout",
     "output_type": "stream",
     "text": [
      "Epoch [231/1800]: Train loss: 3.7990, Valid loss: 3.3190\n"
     ]
    },
    {
     "name": "stderr",
     "output_type": "stream",
     "text": [
      "Epoch [232/1800]: 100%|██████████████████████████████████████████████████████| 9/9 [00:00<00:00, 135.48it/s, loss=3.85]\n"
     ]
    },
    {
     "name": "stdout",
     "output_type": "stream",
     "text": [
      "Epoch [232/1800]: Train loss: 3.9956, Valid loss: 3.9688\n"
     ]
    },
    {
     "name": "stderr",
     "output_type": "stream",
     "text": [
      "Epoch [233/1800]: 100%|██████████████████████████████████████████████████████| 9/9 [00:00<00:00, 138.85it/s, loss=2.96]\n"
     ]
    },
    {
     "name": "stdout",
     "output_type": "stream",
     "text": [
      "Epoch [233/1800]: Train loss: 3.4396, Valid loss: 3.4360\n"
     ]
    },
    {
     "name": "stderr",
     "output_type": "stream",
     "text": [
      "Epoch [234/1800]: 100%|██████████████████████████████████████████████████████| 9/9 [00:00<00:00, 136.73it/s, loss=5.93]\n"
     ]
    },
    {
     "name": "stdout",
     "output_type": "stream",
     "text": [
      "Epoch [234/1800]: Train loss: 3.7132, Valid loss: 4.4344\n"
     ]
    },
    {
     "name": "stderr",
     "output_type": "stream",
     "text": [
      "Epoch [235/1800]: 100%|██████████████████████████████████████████████████████| 9/9 [00:00<00:00, 141.00it/s, loss=2.72]\n"
     ]
    },
    {
     "name": "stdout",
     "output_type": "stream",
     "text": [
      "Epoch [235/1800]: Train loss: 4.5000, Valid loss: 7.6881\n"
     ]
    },
    {
     "name": "stderr",
     "output_type": "stream",
     "text": [
      "Epoch [236/1800]: 100%|██████████████████████████████████████████████████████| 9/9 [00:00<00:00, 134.69it/s, loss=4.69]\n"
     ]
    },
    {
     "name": "stdout",
     "output_type": "stream",
     "text": [
      "Epoch [236/1800]: Train loss: 4.0225, Valid loss: 4.4329\n"
     ]
    },
    {
     "name": "stderr",
     "output_type": "stream",
     "text": [
      "Epoch [237/1800]: 100%|██████████████████████████████████████████████████████| 9/9 [00:00<00:00, 136.73it/s, loss=3.47]\n"
     ]
    },
    {
     "name": "stdout",
     "output_type": "stream",
     "text": [
      "Epoch [237/1800]: Train loss: 3.5075, Valid loss: 2.7419\n",
      "Saving model with loss 2.742...\n"
     ]
    },
    {
     "name": "stderr",
     "output_type": "stream",
     "text": [
      "Epoch [238/1800]: 100%|██████████████████████████████████████████████████████| 9/9 [00:00<00:00, 143.24it/s, loss=4.84]\n"
     ]
    },
    {
     "name": "stdout",
     "output_type": "stream",
     "text": [
      "Epoch [238/1800]: Train loss: 3.7481, Valid loss: 4.1915\n"
     ]
    },
    {
     "name": "stderr",
     "output_type": "stream",
     "text": [
      "Epoch [239/1800]: 100%|███████████████████████████████████████████████████████| 9/9 [00:00<00:00, 136.73it/s, loss=4.4]\n"
     ]
    },
    {
     "name": "stdout",
     "output_type": "stream",
     "text": [
      "Epoch [239/1800]: Train loss: 4.1005, Valid loss: 4.4860\n"
     ]
    },
    {
     "name": "stderr",
     "output_type": "stream",
     "text": [
      "Epoch [240/1800]: 100%|██████████████████████████████████████████████████████| 9/9 [00:00<00:00, 139.10it/s, loss=6.51]\n"
     ]
    },
    {
     "name": "stdout",
     "output_type": "stream",
     "text": [
      "Epoch [240/1800]: Train loss: 5.3282, Valid loss: 6.6437\n"
     ]
    },
    {
     "name": "stderr",
     "output_type": "stream",
     "text": [
      "Epoch [241/1800]: 100%|██████████████████████████████████████████████████████| 9/9 [00:00<00:00, 134.69it/s, loss=2.17]\n"
     ]
    },
    {
     "name": "stdout",
     "output_type": "stream",
     "text": [
      "Epoch [241/1800]: Train loss: 4.8187, Valid loss: 3.5369\n"
     ]
    },
    {
     "name": "stderr",
     "output_type": "stream",
     "text": [
      "Epoch [242/1800]: 100%|██████████████████████████████████████████████████████| 9/9 [00:00<00:00, 136.37it/s, loss=2.69]\n"
     ]
    },
    {
     "name": "stdout",
     "output_type": "stream",
     "text": [
      "Epoch [242/1800]: Train loss: 3.7773, Valid loss: 3.1556\n"
     ]
    },
    {
     "name": "stderr",
     "output_type": "stream",
     "text": [
      "Epoch [243/1800]: 100%|██████████████████████████████████████████████████████| 9/9 [00:00<00:00, 143.24it/s, loss=3.05]\n"
     ]
    },
    {
     "name": "stdout",
     "output_type": "stream",
     "text": [
      "Epoch [243/1800]: Train loss: 3.2153, Valid loss: 3.8383\n"
     ]
    },
    {
     "name": "stderr",
     "output_type": "stream",
     "text": [
      "Epoch [244/1800]: 100%|██████████████████████████████████████████████████████| 9/9 [00:00<00:00, 134.85it/s, loss=3.97]\n"
     ]
    },
    {
     "name": "stdout",
     "output_type": "stream",
     "text": [
      "Epoch [244/1800]: Train loss: 3.3587, Valid loss: 2.9803\n"
     ]
    },
    {
     "name": "stderr",
     "output_type": "stream",
     "text": [
      "Epoch [245/1800]: 100%|██████████████████████████████████████████████████████| 9/9 [00:00<00:00, 131.60it/s, loss=4.13]\n"
     ]
    },
    {
     "name": "stdout",
     "output_type": "stream",
     "text": [
      "Epoch [245/1800]: Train loss: 3.2833, Valid loss: 4.0519\n"
     ]
    },
    {
     "name": "stderr",
     "output_type": "stream",
     "text": [
      "Epoch [246/1800]: 100%|██████████████████████████████████████████████████████| 9/9 [00:00<00:00, 138.83it/s, loss=4.09]\n"
     ]
    },
    {
     "name": "stdout",
     "output_type": "stream",
     "text": [
      "Epoch [246/1800]: Train loss: 3.2726, Valid loss: 3.9876\n"
     ]
    },
    {
     "name": "stderr",
     "output_type": "stream",
     "text": [
      "Epoch [247/1800]: 100%|██████████████████████████████████████████████████████| 9/9 [00:00<00:00, 136.73it/s, loss=3.51]\n"
     ]
    },
    {
     "name": "stdout",
     "output_type": "stream",
     "text": [
      "Epoch [247/1800]: Train loss: 3.8050, Valid loss: 3.9071\n"
     ]
    },
    {
     "name": "stderr",
     "output_type": "stream",
     "text": [
      "Epoch [248/1800]: 100%|██████████████████████████████████████████████████████| 9/9 [00:00<00:00, 138.83it/s, loss=3.35]\n"
     ]
    },
    {
     "name": "stdout",
     "output_type": "stream",
     "text": [
      "Epoch [248/1800]: Train loss: 3.9130, Valid loss: 3.1637\n"
     ]
    },
    {
     "name": "stderr",
     "output_type": "stream",
     "text": [
      "Epoch [249/1800]: 100%|██████████████████████████████████████████████████████| 9/9 [00:00<00:00, 135.70it/s, loss=3.08]\n"
     ]
    },
    {
     "name": "stdout",
     "output_type": "stream",
     "text": [
      "Epoch [249/1800]: Train loss: 3.8264, Valid loss: 3.9759\n"
     ]
    },
    {
     "name": "stderr",
     "output_type": "stream",
     "text": [
      "Epoch [250/1800]: 100%|██████████████████████████████████████████████████████| 9/9 [00:00<00:00, 131.01it/s, loss=3.13]\n"
     ]
    },
    {
     "name": "stdout",
     "output_type": "stream",
     "text": [
      "Epoch [250/1800]: Train loss: 3.1579, Valid loss: 4.3321\n"
     ]
    },
    {
     "name": "stderr",
     "output_type": "stream",
     "text": [
      "Epoch [251/1800]: 100%|██████████████████████████████████████████████████████| 9/9 [00:00<00:00, 136.73it/s, loss=2.77]\n"
     ]
    },
    {
     "name": "stdout",
     "output_type": "stream",
     "text": [
      "Epoch [251/1800]: Train loss: 3.3396, Valid loss: 2.8129\n"
     ]
    },
    {
     "name": "stderr",
     "output_type": "stream",
     "text": [
      "Epoch [252/1800]: 100%|██████████████████████████████████████████████████████| 9/9 [00:00<00:00, 138.83it/s, loss=2.65]\n"
     ]
    },
    {
     "name": "stdout",
     "output_type": "stream",
     "text": [
      "Epoch [252/1800]: Train loss: 3.0957, Valid loss: 3.5456\n"
     ]
    },
    {
     "name": "stderr",
     "output_type": "stream",
     "text": [
      "Epoch [253/1800]: 100%|██████████████████████████████████████████████████████| 9/9 [00:00<00:00, 136.73it/s, loss=2.89]\n"
     ]
    },
    {
     "name": "stdout",
     "output_type": "stream",
     "text": [
      "Epoch [253/1800]: Train loss: 3.1505, Valid loss: 3.7191\n"
     ]
    },
    {
     "name": "stderr",
     "output_type": "stream",
     "text": [
      "Epoch [254/1800]: 100%|██████████████████████████████████████████████████████| 9/9 [00:00<00:00, 136.73it/s, loss=3.17]\n"
     ]
    },
    {
     "name": "stdout",
     "output_type": "stream",
     "text": [
      "Epoch [254/1800]: Train loss: 3.3933, Valid loss: 3.2346\n"
     ]
    },
    {
     "name": "stderr",
     "output_type": "stream",
     "text": [
      "Epoch [255/1800]: 100%|██████████████████████████████████████████████████████| 9/9 [00:00<00:00, 141.00it/s, loss=4.04]\n"
     ]
    },
    {
     "name": "stdout",
     "output_type": "stream",
     "text": [
      "Epoch [255/1800]: Train loss: 3.3140, Valid loss: 4.2829\n"
     ]
    },
    {
     "name": "stderr",
     "output_type": "stream",
     "text": [
      "Epoch [256/1800]: 100%|██████████████████████████████████████████████████████| 9/9 [00:00<00:00, 134.69it/s, loss=3.57]\n"
     ]
    },
    {
     "name": "stdout",
     "output_type": "stream",
     "text": [
      "Epoch [256/1800]: Train loss: 3.6926, Valid loss: 2.6700\n",
      "Saving model with loss 2.670...\n"
     ]
    },
    {
     "name": "stderr",
     "output_type": "stream",
     "text": [
      "Epoch [257/1800]: 100%|██████████████████████████████████████████████████████| 9/9 [00:00<00:00, 138.83it/s, loss=3.07]\n"
     ]
    },
    {
     "name": "stdout",
     "output_type": "stream",
     "text": [
      "Epoch [257/1800]: Train loss: 3.6174, Valid loss: 3.6728\n"
     ]
    },
    {
     "name": "stderr",
     "output_type": "stream",
     "text": [
      "Epoch [258/1800]: 100%|███████████████████████████████████████████████████████| 9/9 [00:00<00:00, 89.11it/s, loss=3.27]\n"
     ]
    },
    {
     "name": "stdout",
     "output_type": "stream",
     "text": [
      "Epoch [258/1800]: Train loss: 3.4085, Valid loss: 3.1374\n"
     ]
    },
    {
     "name": "stderr",
     "output_type": "stream",
     "text": [
      "Epoch [259/1800]: 100%|██████████████████████████████████████████████████████| 9/9 [00:00<00:00, 145.55it/s, loss=3.69]\n"
     ]
    },
    {
     "name": "stdout",
     "output_type": "stream",
     "text": [
      "Epoch [259/1800]: Train loss: 4.4587, Valid loss: 3.4956\n"
     ]
    },
    {
     "name": "stderr",
     "output_type": "stream",
     "text": [
      "Epoch [260/1800]: 100%|██████████████████████████████████████████████████████| 9/9 [00:00<00:00, 139.26it/s, loss=3.71]\n"
     ]
    },
    {
     "name": "stdout",
     "output_type": "stream",
     "text": [
      "Epoch [260/1800]: Train loss: 4.2952, Valid loss: 7.5269\n"
     ]
    },
    {
     "name": "stderr",
     "output_type": "stream",
     "text": [
      "Epoch [261/1800]: 100%|██████████████████████████████████████████████████████| 9/9 [00:00<00:00, 140.81it/s, loss=4.73]\n"
     ]
    },
    {
     "name": "stdout",
     "output_type": "stream",
     "text": [
      "Epoch [261/1800]: Train loss: 5.3369, Valid loss: 4.1788\n"
     ]
    },
    {
     "name": "stderr",
     "output_type": "stream",
     "text": [
      "Epoch [262/1800]: 100%|██████████████████████████████████████████████████████| 9/9 [00:00<00:00, 145.55it/s, loss=4.62]\n"
     ]
    },
    {
     "name": "stdout",
     "output_type": "stream",
     "text": [
      "Epoch [262/1800]: Train loss: 4.2512, Valid loss: 7.1794\n"
     ]
    },
    {
     "name": "stderr",
     "output_type": "stream",
     "text": [
      "Epoch [263/1800]: 100%|██████████████████████████████████████████████████████| 9/9 [00:00<00:00, 139.33it/s, loss=3.17]\n"
     ]
    },
    {
     "name": "stdout",
     "output_type": "stream",
     "text": [
      "Epoch [263/1800]: Train loss: 4.3299, Valid loss: 3.6558\n"
     ]
    },
    {
     "name": "stderr",
     "output_type": "stream",
     "text": [
      "Epoch [264/1800]: 100%|██████████████████████████████████████████████████████| 9/9 [00:00<00:00, 143.24it/s, loss=3.39]\n"
     ]
    },
    {
     "name": "stdout",
     "output_type": "stream",
     "text": [
      "Epoch [264/1800]: Train loss: 4.5915, Valid loss: 4.5309\n"
     ]
    },
    {
     "name": "stderr",
     "output_type": "stream",
     "text": [
      "Epoch [265/1800]: 100%|██████████████████████████████████████████████████████| 9/9 [00:00<00:00, 141.00it/s, loss=3.12]\n"
     ]
    },
    {
     "name": "stdout",
     "output_type": "stream",
     "text": [
      "Epoch [265/1800]: Train loss: 4.5461, Valid loss: 4.5206\n"
     ]
    },
    {
     "name": "stderr",
     "output_type": "stream",
     "text": [
      "Epoch [266/1800]: 100%|██████████████████████████████████████████████████████| 9/9 [00:00<00:00, 143.24it/s, loss=3.81]\n"
     ]
    },
    {
     "name": "stdout",
     "output_type": "stream",
     "text": [
      "Epoch [266/1800]: Train loss: 4.0748, Valid loss: 5.0125\n"
     ]
    },
    {
     "name": "stderr",
     "output_type": "stream",
     "text": [
      "Epoch [267/1800]: 100%|███████████████████████████████████████████████████████| 9/9 [00:00<00:00, 139.05it/s, loss=3.2]\n"
     ]
    },
    {
     "name": "stdout",
     "output_type": "stream",
     "text": [
      "Epoch [267/1800]: Train loss: 4.0151, Valid loss: 4.4088\n"
     ]
    },
    {
     "name": "stderr",
     "output_type": "stream",
     "text": [
      "Epoch [268/1800]: 100%|██████████████████████████████████████████████████████| 9/9 [00:00<00:00, 141.00it/s, loss=4.14]\n"
     ]
    },
    {
     "name": "stdout",
     "output_type": "stream",
     "text": [
      "Epoch [268/1800]: Train loss: 3.4312, Valid loss: 4.7372\n"
     ]
    },
    {
     "name": "stderr",
     "output_type": "stream",
     "text": [
      "Epoch [269/1800]: 100%|██████████████████████████████████████████████████████| 9/9 [00:00<00:00, 143.24it/s, loss=3.79]\n"
     ]
    },
    {
     "name": "stdout",
     "output_type": "stream",
     "text": [
      "Epoch [269/1800]: Train loss: 3.2589, Valid loss: 3.1475\n"
     ]
    },
    {
     "name": "stderr",
     "output_type": "stream",
     "text": [
      "Epoch [270/1800]: 100%|██████████████████████████████████████████████████████| 9/9 [00:00<00:00, 141.00it/s, loss=6.42]\n"
     ]
    },
    {
     "name": "stdout",
     "output_type": "stream",
     "text": [
      "Epoch [270/1800]: Train loss: 4.2266, Valid loss: 2.5825\n",
      "Saving model with loss 2.582...\n"
     ]
    },
    {
     "name": "stderr",
     "output_type": "stream",
     "text": [
      "Epoch [271/1800]: 100%|██████████████████████████████████████████████████████| 9/9 [00:00<00:00, 143.08it/s, loss=5.57]\n"
     ]
    },
    {
     "name": "stdout",
     "output_type": "stream",
     "text": [
      "Epoch [271/1800]: Train loss: 3.9988, Valid loss: 4.9399\n"
     ]
    },
    {
     "name": "stderr",
     "output_type": "stream",
     "text": [
      "Epoch [272/1800]: 100%|███████████████████████████████████████████████████████| 9/9 [00:00<00:00, 87.61it/s, loss=4.03]\n"
     ]
    },
    {
     "name": "stdout",
     "output_type": "stream",
     "text": [
      "Epoch [272/1800]: Train loss: 4.5509, Valid loss: 2.6292\n"
     ]
    },
    {
     "name": "stderr",
     "output_type": "stream",
     "text": [
      "Epoch [273/1800]: 100%|██████████████████████████████████████████████████████| 9/9 [00:00<00:00, 136.73it/s, loss=4.04]\n"
     ]
    },
    {
     "name": "stdout",
     "output_type": "stream",
     "text": [
      "Epoch [273/1800]: Train loss: 3.3934, Valid loss: 2.7809\n"
     ]
    },
    {
     "name": "stderr",
     "output_type": "stream",
     "text": [
      "Epoch [274/1800]: 100%|██████████████████████████████████████████████████████| 9/9 [00:00<00:00, 134.69it/s, loss=3.05]\n"
     ]
    },
    {
     "name": "stdout",
     "output_type": "stream",
     "text": [
      "Epoch [274/1800]: Train loss: 3.9432, Valid loss: 4.0469\n"
     ]
    },
    {
     "name": "stderr",
     "output_type": "stream",
     "text": [
      "Epoch [275/1800]: 100%|██████████████████████████████████████████████████████| 9/9 [00:00<00:00, 138.83it/s, loss=2.77]\n"
     ]
    },
    {
     "name": "stdout",
     "output_type": "stream",
     "text": [
      "Epoch [275/1800]: Train loss: 3.0641, Valid loss: 3.2193\n"
     ]
    },
    {
     "name": "stderr",
     "output_type": "stream",
     "text": [
      "Epoch [276/1800]: 100%|██████████████████████████████████████████████████████| 9/9 [00:00<00:00, 136.73it/s, loss=2.81]\n"
     ]
    },
    {
     "name": "stdout",
     "output_type": "stream",
     "text": [
      "Epoch [276/1800]: Train loss: 3.4035, Valid loss: 3.8378\n"
     ]
    },
    {
     "name": "stderr",
     "output_type": "stream",
     "text": [
      "Epoch [277/1800]: 100%|██████████████████████████████████████████████████████| 9/9 [00:00<00:00, 134.69it/s, loss=2.87]\n"
     ]
    },
    {
     "name": "stdout",
     "output_type": "stream",
     "text": [
      "Epoch [277/1800]: Train loss: 3.0876, Valid loss: 3.0513\n"
     ]
    },
    {
     "name": "stderr",
     "output_type": "stream",
     "text": [
      "Epoch [278/1800]: 100%|██████████████████████████████████████████████████████| 9/9 [00:00<00:00, 134.69it/s, loss=2.75]\n"
     ]
    },
    {
     "name": "stdout",
     "output_type": "stream",
     "text": [
      "Epoch [278/1800]: Train loss: 2.9189, Valid loss: 2.5596\n",
      "Saving model with loss 2.560...\n"
     ]
    },
    {
     "name": "stderr",
     "output_type": "stream",
     "text": [
      "Epoch [279/1800]: 100%|██████████████████████████████████████████████████████| 9/9 [00:00<00:00, 138.83it/s, loss=4.03]\n"
     ]
    },
    {
     "name": "stdout",
     "output_type": "stream",
     "text": [
      "Epoch [279/1800]: Train loss: 2.9864, Valid loss: 3.2506\n"
     ]
    },
    {
     "name": "stderr",
     "output_type": "stream",
     "text": [
      "Epoch [280/1800]: 100%|██████████████████████████████████████████████████████| 9/9 [00:00<00:00, 134.69it/s, loss=4.08]\n"
     ]
    },
    {
     "name": "stdout",
     "output_type": "stream",
     "text": [
      "Epoch [280/1800]: Train loss: 3.8079, Valid loss: 6.3681\n"
     ]
    },
    {
     "name": "stderr",
     "output_type": "stream",
     "text": [
      "Epoch [281/1800]: 100%|██████████████████████████████████████████████████████| 9/9 [00:00<00:00, 141.00it/s, loss=5.27]\n"
     ]
    },
    {
     "name": "stdout",
     "output_type": "stream",
     "text": [
      "Epoch [281/1800]: Train loss: 4.4200, Valid loss: 3.2607\n"
     ]
    },
    {
     "name": "stderr",
     "output_type": "stream",
     "text": [
      "Epoch [282/1800]: 100%|██████████████████████████████████████████████████████| 9/9 [00:00<00:00, 134.69it/s, loss=3.43]\n"
     ]
    },
    {
     "name": "stdout",
     "output_type": "stream",
     "text": [
      "Epoch [282/1800]: Train loss: 4.7252, Valid loss: 5.6009\n"
     ]
    },
    {
     "name": "stderr",
     "output_type": "stream",
     "text": [
      "Epoch [283/1800]: 100%|██████████████████████████████████████████████████████| 9/9 [00:00<00:00, 135.52it/s, loss=3.45]\n"
     ]
    },
    {
     "name": "stdout",
     "output_type": "stream",
     "text": [
      "Epoch [283/1800]: Train loss: 3.6069, Valid loss: 2.8605\n"
     ]
    },
    {
     "name": "stderr",
     "output_type": "stream",
     "text": [
      "Epoch [284/1800]: 100%|██████████████████████████████████████████████████████| 9/9 [00:00<00:00, 138.83it/s, loss=8.23]\n"
     ]
    },
    {
     "name": "stdout",
     "output_type": "stream",
     "text": [
      "Epoch [284/1800]: Train loss: 4.1643, Valid loss: 2.9675\n"
     ]
    },
    {
     "name": "stderr",
     "output_type": "stream",
     "text": [
      "Epoch [285/1800]: 100%|██████████████████████████████████████████████████████| 9/9 [00:00<00:00, 136.83it/s, loss=3.85]\n"
     ]
    },
    {
     "name": "stdout",
     "output_type": "stream",
     "text": [
      "Epoch [285/1800]: Train loss: 4.4769, Valid loss: 4.2208\n"
     ]
    },
    {
     "name": "stderr",
     "output_type": "stream",
     "text": [
      "Epoch [286/1800]: 100%|██████████████████████████████████████████████████████| 9/9 [00:00<00:00, 138.83it/s, loss=4.07]\n"
     ]
    },
    {
     "name": "stdout",
     "output_type": "stream",
     "text": [
      "Epoch [286/1800]: Train loss: 3.7592, Valid loss: 4.5545\n"
     ]
    },
    {
     "name": "stderr",
     "output_type": "stream",
     "text": [
      "Epoch [287/1800]: 100%|██████████████████████████████████████████████████████| 9/9 [00:00<00:00, 139.01it/s, loss=2.54]\n"
     ]
    },
    {
     "name": "stdout",
     "output_type": "stream",
     "text": [
      "Epoch [287/1800]: Train loss: 3.3028, Valid loss: 3.0336\n"
     ]
    },
    {
     "name": "stderr",
     "output_type": "stream",
     "text": [
      "Epoch [288/1800]: 100%|██████████████████████████████████████████████████████| 9/9 [00:00<00:00, 134.69it/s, loss=3.34]\n"
     ]
    },
    {
     "name": "stdout",
     "output_type": "stream",
     "text": [
      "Epoch [288/1800]: Train loss: 3.0246, Valid loss: 2.9628\n"
     ]
    },
    {
     "name": "stderr",
     "output_type": "stream",
     "text": [
      "Epoch [289/1800]: 100%|██████████████████████████████████████████████████████| 9/9 [00:00<00:00, 134.69it/s, loss=3.36]\n"
     ]
    },
    {
     "name": "stdout",
     "output_type": "stream",
     "text": [
      "Epoch [289/1800]: Train loss: 3.2470, Valid loss: 4.7676\n"
     ]
    },
    {
     "name": "stderr",
     "output_type": "stream",
     "text": [
      "Epoch [290/1800]: 100%|███████████████████████████████████████████████████████| 9/9 [00:00<00:00, 132.71it/s, loss=5.8]\n"
     ]
    },
    {
     "name": "stdout",
     "output_type": "stream",
     "text": [
      "Epoch [290/1800]: Train loss: 3.8906, Valid loss: 5.6641\n"
     ]
    },
    {
     "name": "stderr",
     "output_type": "stream",
     "text": [
      "Epoch [291/1800]: 100%|██████████████████████████████████████████████████████| 9/9 [00:00<00:00, 130.78it/s, loss=3.13]\n"
     ]
    },
    {
     "name": "stdout",
     "output_type": "stream",
     "text": [
      "Epoch [291/1800]: Train loss: 4.1139, Valid loss: 4.7113\n"
     ]
    },
    {
     "name": "stderr",
     "output_type": "stream",
     "text": [
      "Epoch [292/1800]: 100%|██████████████████████████████████████████████████████| 9/9 [00:00<00:00, 137.89it/s, loss=6.33]\n"
     ]
    },
    {
     "name": "stdout",
     "output_type": "stream",
     "text": [
      "Epoch [292/1800]: Train loss: 5.2236, Valid loss: 4.8320\n"
     ]
    },
    {
     "name": "stderr",
     "output_type": "stream",
     "text": [
      "Epoch [293/1800]: 100%|██████████████████████████████████████████████████████| 9/9 [00:00<00:00, 141.00it/s, loss=6.67]\n"
     ]
    },
    {
     "name": "stdout",
     "output_type": "stream",
     "text": [
      "Epoch [293/1800]: Train loss: 4.8874, Valid loss: 3.0984\n"
     ]
    },
    {
     "name": "stderr",
     "output_type": "stream",
     "text": [
      "Epoch [294/1800]: 100%|█████████████████████████████████████████████████████████| 9/9 [00:00<00:00, 132.71it/s, loss=2]\n"
     ]
    },
    {
     "name": "stdout",
     "output_type": "stream",
     "text": [
      "Epoch [294/1800]: Train loss: 3.8153, Valid loss: 4.7051\n"
     ]
    },
    {
     "name": "stderr",
     "output_type": "stream",
     "text": [
      "Epoch [295/1800]: 100%|██████████████████████████████████████████████████████| 9/9 [00:00<00:00, 136.70it/s, loss=8.28]\n"
     ]
    },
    {
     "name": "stdout",
     "output_type": "stream",
     "text": [
      "Epoch [295/1800]: Train loss: 5.3488, Valid loss: 2.7360\n"
     ]
    },
    {
     "name": "stderr",
     "output_type": "stream",
     "text": [
      "Epoch [296/1800]: 100%|██████████████████████████████████████████████████████| 9/9 [00:00<00:00, 137.07it/s, loss=4.17]\n"
     ]
    },
    {
     "name": "stdout",
     "output_type": "stream",
     "text": [
      "Epoch [296/1800]: Train loss: 4.3694, Valid loss: 2.6843\n"
     ]
    },
    {
     "name": "stderr",
     "output_type": "stream",
     "text": [
      "Epoch [297/1800]: 100%|█████████████████████████████████████████████████████████| 9/9 [00:00<00:00, 132.71it/s, loss=4]\n"
     ]
    },
    {
     "name": "stdout",
     "output_type": "stream",
     "text": [
      "Epoch [297/1800]: Train loss: 3.3438, Valid loss: 2.6094\n"
     ]
    },
    {
     "name": "stderr",
     "output_type": "stream",
     "text": [
      "Epoch [298/1800]: 100%|██████████████████████████████████████████████████████| 9/9 [00:00<00:00, 134.57it/s, loss=4.05]\n"
     ]
    },
    {
     "name": "stdout",
     "output_type": "stream",
     "text": [
      "Epoch [298/1800]: Train loss: 3.2904, Valid loss: 2.9704\n"
     ]
    },
    {
     "name": "stderr",
     "output_type": "stream",
     "text": [
      "Epoch [299/1800]: 100%|██████████████████████████████████████████████████████| 9/9 [00:00<00:00, 141.00it/s, loss=3.07]\n"
     ]
    },
    {
     "name": "stdout",
     "output_type": "stream",
     "text": [
      "Epoch [299/1800]: Train loss: 3.1589, Valid loss: 4.3450\n"
     ]
    },
    {
     "name": "stderr",
     "output_type": "stream",
     "text": [
      "Epoch [300/1800]: 100%|██████████████████████████████████████████████████████| 9/9 [00:00<00:00, 136.73it/s, loss=3.32]\n"
     ]
    },
    {
     "name": "stdout",
     "output_type": "stream",
     "text": [
      "Epoch [300/1800]: Train loss: 3.6236, Valid loss: 2.6222\n"
     ]
    },
    {
     "name": "stderr",
     "output_type": "stream",
     "text": [
      "Epoch [301/1800]: 100%|██████████████████████████████████████████████████████| 9/9 [00:00<00:00, 132.71it/s, loss=2.59]\n"
     ]
    },
    {
     "name": "stdout",
     "output_type": "stream",
     "text": [
      "Epoch [301/1800]: Train loss: 3.1225, Valid loss: 2.9236\n"
     ]
    },
    {
     "name": "stderr",
     "output_type": "stream",
     "text": [
      "Epoch [302/1800]: 100%|███████████████████████████████████████████████████████| 9/9 [00:00<00:00, 141.00it/s, loss=2.6]\n"
     ]
    },
    {
     "name": "stdout",
     "output_type": "stream",
     "text": [
      "Epoch [302/1800]: Train loss: 3.0082, Valid loss: 3.8183\n"
     ]
    },
    {
     "name": "stderr",
     "output_type": "stream",
     "text": [
      "Epoch [303/1800]: 100%|██████████████████████████████████████████████████████| 9/9 [00:00<00:00, 134.69it/s, loss=2.54]\n"
     ]
    },
    {
     "name": "stdout",
     "output_type": "stream",
     "text": [
      "Epoch [303/1800]: Train loss: 3.0205, Valid loss: 2.9652\n"
     ]
    },
    {
     "name": "stderr",
     "output_type": "stream",
     "text": [
      "Epoch [304/1800]: 100%|██████████████████████████████████████████████████████| 9/9 [00:00<00:00, 132.71it/s, loss=3.04]\n"
     ]
    },
    {
     "name": "stdout",
     "output_type": "stream",
     "text": [
      "Epoch [304/1800]: Train loss: 2.8675, Valid loss: 3.0426\n"
     ]
    },
    {
     "name": "stderr",
     "output_type": "stream",
     "text": [
      "Epoch [305/1800]: 100%|███████████████████████████████████████████████████████| 9/9 [00:00<00:00, 84.34it/s, loss=2.98]\n"
     ]
    },
    {
     "name": "stdout",
     "output_type": "stream",
     "text": [
      "Epoch [305/1800]: Train loss: 3.0876, Valid loss: 4.7201\n"
     ]
    },
    {
     "name": "stderr",
     "output_type": "stream",
     "text": [
      "Epoch [306/1800]: 100%|██████████████████████████████████████████████████████| 9/9 [00:00<00:00, 141.00it/s, loss=8.01]\n"
     ]
    },
    {
     "name": "stdout",
     "output_type": "stream",
     "text": [
      "Epoch [306/1800]: Train loss: 4.4076, Valid loss: 5.1985\n"
     ]
    },
    {
     "name": "stderr",
     "output_type": "stream",
     "text": [
      "Epoch [307/1800]: 100%|██████████████████████████████████████████████████████| 9/9 [00:00<00:00, 138.83it/s, loss=2.27]\n"
     ]
    },
    {
     "name": "stdout",
     "output_type": "stream",
     "text": [
      "Epoch [307/1800]: Train loss: 3.3018, Valid loss: 3.3212\n"
     ]
    },
    {
     "name": "stderr",
     "output_type": "stream",
     "text": [
      "Epoch [308/1800]: 100%|██████████████████████████████████████████████████████| 9/9 [00:00<00:00, 140.99it/s, loss=2.77]\n"
     ]
    },
    {
     "name": "stdout",
     "output_type": "stream",
     "text": [
      "Epoch [308/1800]: Train loss: 3.2098, Valid loss: 3.9898\n"
     ]
    },
    {
     "name": "stderr",
     "output_type": "stream",
     "text": [
      "Epoch [309/1800]: 100%|██████████████████████████████████████████████████████| 9/9 [00:00<00:00, 141.43it/s, loss=3.63]\n"
     ]
    },
    {
     "name": "stdout",
     "output_type": "stream",
     "text": [
      "Epoch [309/1800]: Train loss: 3.6286, Valid loss: 2.7918\n"
     ]
    },
    {
     "name": "stderr",
     "output_type": "stream",
     "text": [
      "Epoch [310/1800]: 100%|███████████████████████████████████████████████████████| 9/9 [00:00<00:00, 143.24it/s, loss=2.4]\n"
     ]
    },
    {
     "name": "stdout",
     "output_type": "stream",
     "text": [
      "Epoch [310/1800]: Train loss: 3.5037, Valid loss: 6.1563\n"
     ]
    },
    {
     "name": "stderr",
     "output_type": "stream",
     "text": [
      "Epoch [311/1800]: 100%|██████████████████████████████████████████████████████| 9/9 [00:00<00:00, 141.00it/s, loss=3.67]\n"
     ]
    },
    {
     "name": "stdout",
     "output_type": "stream",
     "text": [
      "Epoch [311/1800]: Train loss: 3.8531, Valid loss: 3.7179\n"
     ]
    },
    {
     "name": "stderr",
     "output_type": "stream",
     "text": [
      "Epoch [312/1800]: 100%|██████████████████████████████████████████████████████| 9/9 [00:00<00:00, 143.24it/s, loss=2.69]\n"
     ]
    },
    {
     "name": "stdout",
     "output_type": "stream",
     "text": [
      "Epoch [312/1800]: Train loss: 3.0543, Valid loss: 3.4805\n"
     ]
    },
    {
     "name": "stderr",
     "output_type": "stream",
     "text": [
      "Epoch [313/1800]: 100%|██████████████████████████████████████████████████████| 9/9 [00:00<00:00, 137.06it/s, loss=3.24]\n"
     ]
    },
    {
     "name": "stdout",
     "output_type": "stream",
     "text": [
      "Epoch [313/1800]: Train loss: 3.3745, Valid loss: 3.2132\n"
     ]
    },
    {
     "name": "stderr",
     "output_type": "stream",
     "text": [
      "Epoch [314/1800]: 100%|███████████████████████████████████████████████████████| 9/9 [00:00<00:00, 87.61it/s, loss=4.89]\n"
     ]
    },
    {
     "name": "stdout",
     "output_type": "stream",
     "text": [
      "Epoch [314/1800]: Train loss: 3.7550, Valid loss: 2.5692\n"
     ]
    },
    {
     "name": "stderr",
     "output_type": "stream",
     "text": [
      "Epoch [315/1800]: 100%|██████████████████████████████████████████████████████| 9/9 [00:00<00:00, 132.51it/s, loss=6.89]\n"
     ]
    },
    {
     "name": "stdout",
     "output_type": "stream",
     "text": [
      "Epoch [315/1800]: Train loss: 3.8933, Valid loss: 5.4771\n"
     ]
    },
    {
     "name": "stderr",
     "output_type": "stream",
     "text": [
      "Epoch [316/1800]: 100%|██████████████████████████████████████████████████████| 9/9 [00:00<00:00, 132.68it/s, loss=4.17]\n"
     ]
    },
    {
     "name": "stdout",
     "output_type": "stream",
     "text": [
      "Epoch [316/1800]: Train loss: 4.1872, Valid loss: 8.5624\n"
     ]
    },
    {
     "name": "stderr",
     "output_type": "stream",
     "text": [
      "Epoch [317/1800]: 100%|██████████████████████████████████████████████████████| 9/9 [00:00<00:00, 127.10it/s, loss=6.56]\n"
     ]
    },
    {
     "name": "stdout",
     "output_type": "stream",
     "text": [
      "Epoch [317/1800]: Train loss: 5.7745, Valid loss: 3.4484\n"
     ]
    },
    {
     "name": "stderr",
     "output_type": "stream",
     "text": [
      "Epoch [318/1800]: 100%|██████████████████████████████████████████████████████| 9/9 [00:00<00:00, 138.85it/s, loss=3.88]\n"
     ]
    },
    {
     "name": "stdout",
     "output_type": "stream",
     "text": [
      "Epoch [318/1800]: Train loss: 4.2661, Valid loss: 2.8999\n"
     ]
    },
    {
     "name": "stderr",
     "output_type": "stream",
     "text": [
      "Epoch [319/1800]: 100%|███████████████████████████████████████████████████████| 9/9 [00:00<00:00, 145.55it/s, loss=2.9]\n"
     ]
    },
    {
     "name": "stdout",
     "output_type": "stream",
     "text": [
      "Epoch [319/1800]: Train loss: 2.9726, Valid loss: 3.8267\n"
     ]
    },
    {
     "name": "stderr",
     "output_type": "stream",
     "text": [
      "Epoch [320/1800]: 100%|██████████████████████████████████████████████████████| 9/9 [00:00<00:00, 136.54it/s, loss=5.55]\n"
     ]
    },
    {
     "name": "stdout",
     "output_type": "stream",
     "text": [
      "Epoch [320/1800]: Train loss: 3.9071, Valid loss: 2.5144\n",
      "Saving model with loss 2.514...\n"
     ]
    },
    {
     "name": "stderr",
     "output_type": "stream",
     "text": [
      "Epoch [321/1800]: 100%|██████████████████████████████████████████████████████| 9/9 [00:00<00:00, 141.83it/s, loss=3.11]\n"
     ]
    },
    {
     "name": "stdout",
     "output_type": "stream",
     "text": [
      "Epoch [321/1800]: Train loss: 3.8661, Valid loss: 5.0578\n"
     ]
    },
    {
     "name": "stderr",
     "output_type": "stream",
     "text": [
      "Epoch [322/1800]: 100%|██████████████████████████████████████████████████████| 9/9 [00:00<00:00, 139.93it/s, loss=3.09]\n"
     ]
    },
    {
     "name": "stdout",
     "output_type": "stream",
     "text": [
      "Epoch [322/1800]: Train loss: 2.9755, Valid loss: 2.3004\n",
      "Saving model with loss 2.300...\n"
     ]
    },
    {
     "name": "stderr",
     "output_type": "stream",
     "text": [
      "Epoch [323/1800]: 100%|██████████████████████████████████████████████████████| 9/9 [00:00<00:00, 147.94it/s, loss=2.65]\n"
     ]
    },
    {
     "name": "stdout",
     "output_type": "stream",
     "text": [
      "Epoch [323/1800]: Train loss: 3.2547, Valid loss: 3.0768\n"
     ]
    },
    {
     "name": "stderr",
     "output_type": "stream",
     "text": [
      "Epoch [324/1800]: 100%|██████████████████████████████████████████████████████| 9/9 [00:00<00:00, 138.83it/s, loss=4.74]\n"
     ]
    },
    {
     "name": "stdout",
     "output_type": "stream",
     "text": [
      "Epoch [324/1800]: Train loss: 3.2517, Valid loss: 2.9988\n"
     ]
    },
    {
     "name": "stderr",
     "output_type": "stream",
     "text": [
      "Epoch [325/1800]: 100%|██████████████████████████████████████████████████████| 9/9 [00:00<00:00, 141.00it/s, loss=3.97]\n"
     ]
    },
    {
     "name": "stdout",
     "output_type": "stream",
     "text": [
      "Epoch [325/1800]: Train loss: 4.7657, Valid loss: 11.3084\n"
     ]
    },
    {
     "name": "stderr",
     "output_type": "stream",
     "text": [
      "Epoch [326/1800]: 100%|██████████████████████████████████████████████████████| 9/9 [00:00<00:00, 142.82it/s, loss=6.87]\n"
     ]
    },
    {
     "name": "stdout",
     "output_type": "stream",
     "text": [
      "Epoch [326/1800]: Train loss: 8.7772, Valid loss: 6.6892\n"
     ]
    },
    {
     "name": "stderr",
     "output_type": "stream",
     "text": [
      "Epoch [327/1800]: 100%|███████████████████████████████████████████████████████| 9/9 [00:00<00:00, 141.00it/s, loss=7.1]\n"
     ]
    },
    {
     "name": "stdout",
     "output_type": "stream",
     "text": [
      "Epoch [327/1800]: Train loss: 8.6121, Valid loss: 8.0401\n"
     ]
    },
    {
     "name": "stderr",
     "output_type": "stream",
     "text": [
      "Epoch [328/1800]: 100%|██████████████████████████████████████████████████████| 9/9 [00:00<00:00, 138.83it/s, loss=4.71]\n"
     ]
    },
    {
     "name": "stdout",
     "output_type": "stream",
     "text": [
      "Epoch [328/1800]: Train loss: 5.2420, Valid loss: 6.2107\n"
     ]
    },
    {
     "name": "stderr",
     "output_type": "stream",
     "text": [
      "Epoch [329/1800]: 100%|██████████████████████████████████████████████████████| 9/9 [00:00<00:00, 137.06it/s, loss=2.84]\n"
     ]
    },
    {
     "name": "stdout",
     "output_type": "stream",
     "text": [
      "Epoch [329/1800]: Train loss: 4.3778, Valid loss: 4.6927\n"
     ]
    },
    {
     "name": "stderr",
     "output_type": "stream",
     "text": [
      "Epoch [330/1800]: 100%|██████████████████████████████████████████████████████| 9/9 [00:00<00:00, 145.55it/s, loss=3.17]\n"
     ]
    },
    {
     "name": "stdout",
     "output_type": "stream",
     "text": [
      "Epoch [330/1800]: Train loss: 3.4667, Valid loss: 4.0280\n"
     ]
    },
    {
     "name": "stderr",
     "output_type": "stream",
     "text": [
      "Epoch [331/1800]: 100%|██████████████████████████████████████████████████████| 9/9 [00:00<00:00, 138.83it/s, loss=5.33]\n"
     ]
    },
    {
     "name": "stdout",
     "output_type": "stream",
     "text": [
      "Epoch [331/1800]: Train loss: 4.3863, Valid loss: 5.6875\n"
     ]
    },
    {
     "name": "stderr",
     "output_type": "stream",
     "text": [
      "Epoch [332/1800]: 100%|███████████████████████████████████████████████████████| 9/9 [00:00<00:00, 143.24it/s, loss=8.4]\n"
     ]
    },
    {
     "name": "stdout",
     "output_type": "stream",
     "text": [
      "Epoch [332/1800]: Train loss: 4.8230, Valid loss: 3.7783\n"
     ]
    },
    {
     "name": "stderr",
     "output_type": "stream",
     "text": [
      "Epoch [333/1800]: 100%|██████████████████████████████████████████████████████| 9/9 [00:00<00:00, 136.73it/s, loss=3.22]\n"
     ]
    },
    {
     "name": "stdout",
     "output_type": "stream",
     "text": [
      "Epoch [333/1800]: Train loss: 3.9910, Valid loss: 4.1971\n"
     ]
    },
    {
     "name": "stderr",
     "output_type": "stream",
     "text": [
      "Epoch [334/1800]: 100%|██████████████████████████████████████████████████████| 9/9 [00:00<00:00, 142.74it/s, loss=5.27]\n"
     ]
    },
    {
     "name": "stdout",
     "output_type": "stream",
     "text": [
      "Epoch [334/1800]: Train loss: 5.0134, Valid loss: 4.9341\n"
     ]
    },
    {
     "name": "stderr",
     "output_type": "stream",
     "text": [
      "Epoch [335/1800]: 100%|██████████████████████████████████████████████████████| 9/9 [00:00<00:00, 139.43it/s, loss=3.27]\n"
     ]
    },
    {
     "name": "stdout",
     "output_type": "stream",
     "text": [
      "Epoch [335/1800]: Train loss: 4.4872, Valid loss: 5.7931\n"
     ]
    },
    {
     "name": "stderr",
     "output_type": "stream",
     "text": [
      "Epoch [336/1800]: 100%|██████████████████████████████████████████████████████| 9/9 [00:00<00:00, 143.24it/s, loss=5.16]\n"
     ]
    },
    {
     "name": "stdout",
     "output_type": "stream",
     "text": [
      "Epoch [336/1800]: Train loss: 4.2617, Valid loss: 3.5964\n"
     ]
    },
    {
     "name": "stderr",
     "output_type": "stream",
     "text": [
      "Epoch [337/1800]: 100%|██████████████████████████████████████████████████████| 9/9 [00:00<00:00, 139.07it/s, loss=2.71]\n"
     ]
    },
    {
     "name": "stdout",
     "output_type": "stream",
     "text": [
      "Epoch [337/1800]: Train loss: 4.2192, Valid loss: 6.2137\n"
     ]
    },
    {
     "name": "stderr",
     "output_type": "stream",
     "text": [
      "Epoch [338/1800]: 100%|██████████████████████████████████████████████████████| 9/9 [00:00<00:00, 141.05it/s, loss=3.47]\n"
     ]
    },
    {
     "name": "stdout",
     "output_type": "stream",
     "text": [
      "Epoch [338/1800]: Train loss: 4.2365, Valid loss: 4.3637\n"
     ]
    },
    {
     "name": "stderr",
     "output_type": "stream",
     "text": [
      "Epoch [339/1800]: 100%|██████████████████████████████████████████████████████| 9/9 [00:00<00:00, 136.73it/s, loss=2.84]\n"
     ]
    },
    {
     "name": "stdout",
     "output_type": "stream",
     "text": [
      "Epoch [339/1800]: Train loss: 3.3365, Valid loss: 3.2342\n"
     ]
    },
    {
     "name": "stderr",
     "output_type": "stream",
     "text": [
      "Epoch [340/1800]: 100%|██████████████████████████████████████████████████████| 9/9 [00:00<00:00, 145.55it/s, loss=2.35]\n"
     ]
    },
    {
     "name": "stdout",
     "output_type": "stream",
     "text": [
      "Epoch [340/1800]: Train loss: 2.9581, Valid loss: 3.3929\n"
     ]
    },
    {
     "name": "stderr",
     "output_type": "stream",
     "text": [
      "Epoch [341/1800]: 100%|██████████████████████████████████████████████████████| 9/9 [00:00<00:00, 136.73it/s, loss=3.05]\n"
     ]
    },
    {
     "name": "stdout",
     "output_type": "stream",
     "text": [
      "Epoch [341/1800]: Train loss: 3.1950, Valid loss: 3.2387\n"
     ]
    },
    {
     "name": "stderr",
     "output_type": "stream",
     "text": [
      "Epoch [342/1800]: 100%|██████████████████████████████████████████████████████| 9/9 [00:00<00:00, 143.24it/s, loss=2.75]\n"
     ]
    },
    {
     "name": "stdout",
     "output_type": "stream",
     "text": [
      "Epoch [342/1800]: Train loss: 3.1991, Valid loss: 8.5543\n"
     ]
    },
    {
     "name": "stderr",
     "output_type": "stream",
     "text": [
      "Epoch [343/1800]: 100%|███████████████████████████████████████████████████████| 9/9 [00:00<00:00, 138.85it/s, loss=4.7]\n"
     ]
    },
    {
     "name": "stdout",
     "output_type": "stream",
     "text": [
      "Epoch [343/1800]: Train loss: 3.9828, Valid loss: 3.3645\n"
     ]
    },
    {
     "name": "stderr",
     "output_type": "stream",
     "text": [
      "Epoch [344/1800]: 100%|██████████████████████████████████████████████████████| 9/9 [00:00<00:00, 141.00it/s, loss=3.46]\n"
     ]
    },
    {
     "name": "stdout",
     "output_type": "stream",
     "text": [
      "Epoch [344/1800]: Train loss: 2.9933, Valid loss: 2.6474\n"
     ]
    },
    {
     "name": "stderr",
     "output_type": "stream",
     "text": [
      "Epoch [345/1800]: 100%|███████████████████████████████████████████████████████| 9/9 [00:00<00:00, 136.73it/s, loss=3.4]\n"
     ]
    },
    {
     "name": "stdout",
     "output_type": "stream",
     "text": [
      "Epoch [345/1800]: Train loss: 2.7689, Valid loss: 3.2269\n"
     ]
    },
    {
     "name": "stderr",
     "output_type": "stream",
     "text": [
      "Epoch [346/1800]: 100%|██████████████████████████████████████████████████████| 9/9 [00:00<00:00, 145.55it/s, loss=2.26]\n"
     ]
    },
    {
     "name": "stdout",
     "output_type": "stream",
     "text": [
      "Epoch [346/1800]: Train loss: 2.8056, Valid loss: 2.6553\n"
     ]
    },
    {
     "name": "stderr",
     "output_type": "stream",
     "text": [
      "Epoch [347/1800]: 100%|██████████████████████████████████████████████████████| 9/9 [00:00<00:00, 141.00it/s, loss=3.08]\n"
     ]
    },
    {
     "name": "stdout",
     "output_type": "stream",
     "text": [
      "Epoch [347/1800]: Train loss: 2.9836, Valid loss: 2.8156\n"
     ]
    },
    {
     "name": "stderr",
     "output_type": "stream",
     "text": [
      "Epoch [348/1800]: 100%|██████████████████████████████████████████████████████| 9/9 [00:00<00:00, 141.66it/s, loss=2.67]\n"
     ]
    },
    {
     "name": "stdout",
     "output_type": "stream",
     "text": [
      "Epoch [348/1800]: Train loss: 2.9021, Valid loss: 5.1297\n"
     ]
    },
    {
     "name": "stderr",
     "output_type": "stream",
     "text": [
      "Epoch [349/1800]: 100%|██████████████████████████████████████████████████████| 9/9 [00:00<00:00, 136.73it/s, loss=3.28]\n"
     ]
    },
    {
     "name": "stdout",
     "output_type": "stream",
     "text": [
      "Epoch [349/1800]: Train loss: 4.0134, Valid loss: 3.5105\n"
     ]
    },
    {
     "name": "stderr",
     "output_type": "stream",
     "text": [
      "Epoch [350/1800]: 100%|██████████████████████████████████████████████████████| 9/9 [00:00<00:00, 138.83it/s, loss=2.48]\n"
     ]
    },
    {
     "name": "stdout",
     "output_type": "stream",
     "text": [
      "Epoch [350/1800]: Train loss: 2.9771, Valid loss: 2.7828\n"
     ]
    },
    {
     "name": "stderr",
     "output_type": "stream",
     "text": [
      "Epoch [351/1800]: 100%|███████████████████████████████████████████████████████| 9/9 [00:00<00:00, 89.28it/s, loss=3.21]\n"
     ]
    },
    {
     "name": "stdout",
     "output_type": "stream",
     "text": [
      "Epoch [351/1800]: Train loss: 2.7563, Valid loss: 3.4001\n"
     ]
    },
    {
     "name": "stderr",
     "output_type": "stream",
     "text": [
      "Epoch [352/1800]: 100%|██████████████████████████████████████████████████████| 9/9 [00:00<00:00, 134.79it/s, loss=3.75]\n"
     ]
    },
    {
     "name": "stdout",
     "output_type": "stream",
     "text": [
      "Epoch [352/1800]: Train loss: 3.4732, Valid loss: 3.1647\n"
     ]
    },
    {
     "name": "stderr",
     "output_type": "stream",
     "text": [
      "Epoch [353/1800]: 100%|██████████████████████████████████████████████████████| 9/9 [00:00<00:00, 141.00it/s, loss=3.63]\n"
     ]
    },
    {
     "name": "stdout",
     "output_type": "stream",
     "text": [
      "Epoch [353/1800]: Train loss: 4.1904, Valid loss: 9.1907\n"
     ]
    },
    {
     "name": "stderr",
     "output_type": "stream",
     "text": [
      "Epoch [354/1800]: 100%|██████████████████████████████████████████████████████| 9/9 [00:00<00:00, 141.00it/s, loss=7.38]\n"
     ]
    },
    {
     "name": "stdout",
     "output_type": "stream",
     "text": [
      "Epoch [354/1800]: Train loss: 6.1640, Valid loss: 2.7121\n"
     ]
    },
    {
     "name": "stderr",
     "output_type": "stream",
     "text": [
      "Epoch [355/1800]: 100%|██████████████████████████████████████████████████████| 9/9 [00:00<00:00, 141.00it/s, loss=2.56]\n"
     ]
    },
    {
     "name": "stdout",
     "output_type": "stream",
     "text": [
      "Epoch [355/1800]: Train loss: 3.1132, Valid loss: 3.0308\n"
     ]
    },
    {
     "name": "stderr",
     "output_type": "stream",
     "text": [
      "Epoch [356/1800]: 100%|███████████████████████████████████████████████████████| 9/9 [00:00<00:00, 85.13it/s, loss=3.42]\n"
     ]
    },
    {
     "name": "stdout",
     "output_type": "stream",
     "text": [
      "Epoch [356/1800]: Train loss: 2.9366, Valid loss: 2.9331\n"
     ]
    },
    {
     "name": "stderr",
     "output_type": "stream",
     "text": [
      "Epoch [357/1800]: 100%|██████████████████████████████████████████████████████| 9/9 [00:00<00:00, 130.78it/s, loss=2.97]\n"
     ]
    },
    {
     "name": "stdout",
     "output_type": "stream",
     "text": [
      "Epoch [357/1800]: Train loss: 2.8057, Valid loss: 2.4166\n"
     ]
    },
    {
     "name": "stderr",
     "output_type": "stream",
     "text": [
      "Epoch [358/1800]: 100%|█████████████████████████████████████████████████████████| 9/9 [00:00<00:00, 136.40it/s, loss=3]\n"
     ]
    },
    {
     "name": "stdout",
     "output_type": "stream",
     "text": [
      "Epoch [358/1800]: Train loss: 2.7642, Valid loss: 3.0925\n"
     ]
    },
    {
     "name": "stderr",
     "output_type": "stream",
     "text": [
      "Epoch [359/1800]: 100%|██████████████████████████████████████████████████████| 9/9 [00:00<00:00, 141.00it/s, loss=2.65]\n"
     ]
    },
    {
     "name": "stdout",
     "output_type": "stream",
     "text": [
      "Epoch [359/1800]: Train loss: 2.8864, Valid loss: 2.7416\n"
     ]
    },
    {
     "name": "stderr",
     "output_type": "stream",
     "text": [
      "Epoch [360/1800]: 100%|██████████████████████████████████████████████████████| 9/9 [00:00<00:00, 138.39it/s, loss=3.86]\n"
     ]
    },
    {
     "name": "stdout",
     "output_type": "stream",
     "text": [
      "Epoch [360/1800]: Train loss: 2.7076, Valid loss: 2.7313\n"
     ]
    },
    {
     "name": "stderr",
     "output_type": "stream",
     "text": [
      "Epoch [361/1800]: 100%|██████████████████████████████████████████████████████| 9/9 [00:00<00:00, 141.00it/s, loss=2.55]\n"
     ]
    },
    {
     "name": "stdout",
     "output_type": "stream",
     "text": [
      "Epoch [361/1800]: Train loss: 2.8035, Valid loss: 3.3700\n"
     ]
    },
    {
     "name": "stderr",
     "output_type": "stream",
     "text": [
      "Epoch [362/1800]: 100%|██████████████████████████████████████████████████████| 9/9 [00:00<00:00, 141.00it/s, loss=2.65]\n"
     ]
    },
    {
     "name": "stdout",
     "output_type": "stream",
     "text": [
      "Epoch [362/1800]: Train loss: 2.6842, Valid loss: 2.9559\n"
     ]
    },
    {
     "name": "stderr",
     "output_type": "stream",
     "text": [
      "Epoch [363/1800]: 100%|██████████████████████████████████████████████████████| 9/9 [00:00<00:00, 138.83it/s, loss=2.33]\n"
     ]
    },
    {
     "name": "stdout",
     "output_type": "stream",
     "text": [
      "Epoch [363/1800]: Train loss: 2.8578, Valid loss: 2.7757\n"
     ]
    },
    {
     "name": "stderr",
     "output_type": "stream",
     "text": [
      "Epoch [364/1800]: 100%|██████████████████████████████████████████████████████| 9/9 [00:00<00:00, 138.83it/s, loss=2.79]\n"
     ]
    },
    {
     "name": "stdout",
     "output_type": "stream",
     "text": [
      "Epoch [364/1800]: Train loss: 2.8324, Valid loss: 3.3796\n"
     ]
    },
    {
     "name": "stderr",
     "output_type": "stream",
     "text": [
      "Epoch [365/1800]: 100%|██████████████████████████████████████████████████████| 9/9 [00:00<00:00, 141.00it/s, loss=4.67]\n"
     ]
    },
    {
     "name": "stdout",
     "output_type": "stream",
     "text": [
      "Epoch [365/1800]: Train loss: 3.6147, Valid loss: 4.6575\n"
     ]
    },
    {
     "name": "stderr",
     "output_type": "stream",
     "text": [
      "Epoch [366/1800]: 100%|██████████████████████████████████████████████████████| 9/9 [00:00<00:00, 138.83it/s, loss=2.83]\n"
     ]
    },
    {
     "name": "stdout",
     "output_type": "stream",
     "text": [
      "Epoch [366/1800]: Train loss: 3.5618, Valid loss: 3.1898\n"
     ]
    },
    {
     "name": "stderr",
     "output_type": "stream",
     "text": [
      "Epoch [367/1800]: 100%|██████████████████████████████████████████████████████| 9/9 [00:00<00:00, 138.83it/s, loss=2.71]\n"
     ]
    },
    {
     "name": "stdout",
     "output_type": "stream",
     "text": [
      "Epoch [367/1800]: Train loss: 2.9788, Valid loss: 2.4607\n"
     ]
    },
    {
     "name": "stderr",
     "output_type": "stream",
     "text": [
      "Epoch [368/1800]: 100%|██████████████████████████████████████████████████████| 9/9 [00:00<00:00, 132.71it/s, loss=2.94]\n"
     ]
    },
    {
     "name": "stdout",
     "output_type": "stream",
     "text": [
      "Epoch [368/1800]: Train loss: 2.7656, Valid loss: 3.0391\n"
     ]
    },
    {
     "name": "stderr",
     "output_type": "stream",
     "text": [
      "Epoch [369/1800]: 100%|██████████████████████████████████████████████████████| 9/9 [00:00<00:00, 139.74it/s, loss=4.88]\n"
     ]
    },
    {
     "name": "stdout",
     "output_type": "stream",
     "text": [
      "Epoch [369/1800]: Train loss: 3.1835, Valid loss: 3.1904\n"
     ]
    },
    {
     "name": "stderr",
     "output_type": "stream",
     "text": [
      "Epoch [370/1800]: 100%|██████████████████████████████████████████████████████| 9/9 [00:00<00:00, 141.00it/s, loss=3.08]\n"
     ]
    },
    {
     "name": "stdout",
     "output_type": "stream",
     "text": [
      "Epoch [370/1800]: Train loss: 3.7186, Valid loss: 4.4115\n"
     ]
    },
    {
     "name": "stderr",
     "output_type": "stream",
     "text": [
      "Epoch [371/1800]: 100%|██████████████████████████████████████████████████████| 9/9 [00:00<00:00, 138.47it/s, loss=3.88]\n"
     ]
    },
    {
     "name": "stdout",
     "output_type": "stream",
     "text": [
      "Epoch [371/1800]: Train loss: 3.2532, Valid loss: 2.9135\n"
     ]
    },
    {
     "name": "stderr",
     "output_type": "stream",
     "text": [
      "Epoch [372/1800]: 100%|██████████████████████████████████████████████████████| 9/9 [00:00<00:00, 143.24it/s, loss=2.56]\n"
     ]
    },
    {
     "name": "stdout",
     "output_type": "stream",
     "text": [
      "Epoch [372/1800]: Train loss: 2.8308, Valid loss: 3.8271\n"
     ]
    },
    {
     "name": "stderr",
     "output_type": "stream",
     "text": [
      "Epoch [373/1800]: 100%|██████████████████████████████████████████████████████| 9/9 [00:00<00:00, 135.46it/s, loss=3.07]\n"
     ]
    },
    {
     "name": "stdout",
     "output_type": "stream",
     "text": [
      "Epoch [373/1800]: Train loss: 3.1566, Valid loss: 2.5335\n"
     ]
    },
    {
     "name": "stderr",
     "output_type": "stream",
     "text": [
      "Epoch [374/1800]: 100%|██████████████████████████████████████████████████████| 9/9 [00:00<00:00, 143.24it/s, loss=3.21]\n"
     ]
    },
    {
     "name": "stdout",
     "output_type": "stream",
     "text": [
      "Epoch [374/1800]: Train loss: 2.8530, Valid loss: 2.7530\n"
     ]
    },
    {
     "name": "stderr",
     "output_type": "stream",
     "text": [
      "Epoch [375/1800]: 100%|██████████████████████████████████████████████████████| 9/9 [00:00<00:00, 140.69it/s, loss=2.63]\n"
     ]
    },
    {
     "name": "stdout",
     "output_type": "stream",
     "text": [
      "Epoch [375/1800]: Train loss: 3.0398, Valid loss: 2.7639\n"
     ]
    },
    {
     "name": "stderr",
     "output_type": "stream",
     "text": [
      "Epoch [376/1800]: 100%|██████████████████████████████████████████████████████| 9/9 [00:00<00:00, 141.00it/s, loss=3.55]\n"
     ]
    },
    {
     "name": "stdout",
     "output_type": "stream",
     "text": [
      "Epoch [376/1800]: Train loss: 2.7928, Valid loss: 4.0706\n"
     ]
    },
    {
     "name": "stderr",
     "output_type": "stream",
     "text": [
      "Epoch [377/1800]: 100%|██████████████████████████████████████████████████████| 9/9 [00:00<00:00, 141.24it/s, loss=2.87]\n"
     ]
    },
    {
     "name": "stdout",
     "output_type": "stream",
     "text": [
      "Epoch [377/1800]: Train loss: 2.8881, Valid loss: 2.9947\n"
     ]
    },
    {
     "name": "stderr",
     "output_type": "stream",
     "text": [
      "Epoch [378/1800]: 100%|██████████████████████████████████████████████████████| 9/9 [00:00<00:00, 141.10it/s, loss=3.72]\n"
     ]
    },
    {
     "name": "stdout",
     "output_type": "stream",
     "text": [
      "Epoch [378/1800]: Train loss: 2.8054, Valid loss: 2.5965\n"
     ]
    },
    {
     "name": "stderr",
     "output_type": "stream",
     "text": [
      "Epoch [379/1800]: 100%|██████████████████████████████████████████████████████| 9/9 [00:00<00:00, 136.73it/s, loss=2.23]\n"
     ]
    },
    {
     "name": "stdout",
     "output_type": "stream",
     "text": [
      "Epoch [379/1800]: Train loss: 2.5964, Valid loss: 2.5299\n"
     ]
    },
    {
     "name": "stderr",
     "output_type": "stream",
     "text": [
      "Epoch [380/1800]: 100%|██████████████████████████████████████████████████████| 9/9 [00:00<00:00, 141.00it/s, loss=3.58]\n"
     ]
    },
    {
     "name": "stdout",
     "output_type": "stream",
     "text": [
      "Epoch [380/1800]: Train loss: 2.9717, Valid loss: 3.3409\n"
     ]
    },
    {
     "name": "stderr",
     "output_type": "stream",
     "text": [
      "Epoch [381/1800]: 100%|██████████████████████████████████████████████████████| 9/9 [00:00<00:00, 138.81it/s, loss=2.64]\n"
     ]
    },
    {
     "name": "stdout",
     "output_type": "stream",
     "text": [
      "Epoch [381/1800]: Train loss: 2.7954, Valid loss: 3.2033\n"
     ]
    },
    {
     "name": "stderr",
     "output_type": "stream",
     "text": [
      "Epoch [382/1800]: 100%|███████████████████████████████████████████████████████| 9/9 [00:00<00:00, 138.83it/s, loss=2.3]\n"
     ]
    },
    {
     "name": "stdout",
     "output_type": "stream",
     "text": [
      "Epoch [382/1800]: Train loss: 3.1107, Valid loss: 3.9883\n"
     ]
    },
    {
     "name": "stderr",
     "output_type": "stream",
     "text": [
      "Epoch [383/1800]: 100%|██████████████████████████████████████████████████████| 9/9 [00:00<00:00, 138.83it/s, loss=2.08]\n"
     ]
    },
    {
     "name": "stdout",
     "output_type": "stream",
     "text": [
      "Epoch [383/1800]: Train loss: 3.0864, Valid loss: 3.0710\n"
     ]
    },
    {
     "name": "stderr",
     "output_type": "stream",
     "text": [
      "Epoch [384/1800]: 100%|██████████████████████████████████████████████████████| 9/9 [00:00<00:00, 143.24it/s, loss=2.19]\n"
     ]
    },
    {
     "name": "stdout",
     "output_type": "stream",
     "text": [
      "Epoch [384/1800]: Train loss: 2.9592, Valid loss: 3.0739\n"
     ]
    },
    {
     "name": "stderr",
     "output_type": "stream",
     "text": [
      "Epoch [385/1800]: 100%|██████████████████████████████████████████████████████| 9/9 [00:00<00:00, 138.83it/s, loss=2.87]\n"
     ]
    },
    {
     "name": "stdout",
     "output_type": "stream",
     "text": [
      "Epoch [385/1800]: Train loss: 2.8851, Valid loss: 2.6842\n"
     ]
    },
    {
     "name": "stderr",
     "output_type": "stream",
     "text": [
      "Epoch [386/1800]: 100%|██████████████████████████████████████████████████████| 9/9 [00:00<00:00, 138.70it/s, loss=2.81]\n"
     ]
    },
    {
     "name": "stdout",
     "output_type": "stream",
     "text": [
      "Epoch [386/1800]: Train loss: 2.6544, Valid loss: 2.9176\n"
     ]
    },
    {
     "name": "stderr",
     "output_type": "stream",
     "text": [
      "Epoch [387/1800]: 100%|██████████████████████████████████████████████████████| 9/9 [00:00<00:00, 138.74it/s, loss=3.11]\n"
     ]
    },
    {
     "name": "stdout",
     "output_type": "stream",
     "text": [
      "Epoch [387/1800]: Train loss: 2.8784, Valid loss: 2.7872\n"
     ]
    },
    {
     "name": "stderr",
     "output_type": "stream",
     "text": [
      "Epoch [388/1800]: 100%|██████████████████████████████████████████████████████| 9/9 [00:00<00:00, 138.83it/s, loss=3.45]\n"
     ]
    },
    {
     "name": "stdout",
     "output_type": "stream",
     "text": [
      "Epoch [388/1800]: Train loss: 3.0456, Valid loss: 2.9956\n"
     ]
    },
    {
     "name": "stderr",
     "output_type": "stream",
     "text": [
      "Epoch [389/1800]: 100%|██████████████████████████████████████████████████████| 9/9 [00:00<00:00, 140.73it/s, loss=6.86]\n"
     ]
    },
    {
     "name": "stdout",
     "output_type": "stream",
     "text": [
      "Epoch [389/1800]: Train loss: 3.9218, Valid loss: 5.6569\n"
     ]
    },
    {
     "name": "stderr",
     "output_type": "stream",
     "text": [
      "Epoch [390/1800]: 100%|██████████████████████████████████████████████████████| 9/9 [00:00<00:00, 136.73it/s, loss=2.99]\n"
     ]
    },
    {
     "name": "stdout",
     "output_type": "stream",
     "text": [
      "Epoch [390/1800]: Train loss: 3.9994, Valid loss: 3.1851\n"
     ]
    },
    {
     "name": "stderr",
     "output_type": "stream",
     "text": [
      "Epoch [391/1800]: 100%|██████████████████████████████████████████████████████| 9/9 [00:00<00:00, 138.83it/s, loss=2.23]\n"
     ]
    },
    {
     "name": "stdout",
     "output_type": "stream",
     "text": [
      "Epoch [391/1800]: Train loss: 2.7568, Valid loss: 2.7949\n"
     ]
    },
    {
     "name": "stderr",
     "output_type": "stream",
     "text": [
      "Epoch [392/1800]: 100%|██████████████████████████████████████████████████████| 9/9 [00:00<00:00, 143.24it/s, loss=2.83]\n"
     ]
    },
    {
     "name": "stdout",
     "output_type": "stream",
     "text": [
      "Epoch [392/1800]: Train loss: 2.7338, Valid loss: 3.6428\n"
     ]
    },
    {
     "name": "stderr",
     "output_type": "stream",
     "text": [
      "Epoch [393/1800]: 100%|███████████████████████████████████████████████████████| 9/9 [00:00<00:00, 138.83it/s, loss=2.9]\n"
     ]
    },
    {
     "name": "stdout",
     "output_type": "stream",
     "text": [
      "Epoch [393/1800]: Train loss: 3.3551, Valid loss: 2.5737\n"
     ]
    },
    {
     "name": "stderr",
     "output_type": "stream",
     "text": [
      "Epoch [394/1800]: 100%|██████████████████████████████████████████████████████| 9/9 [00:00<00:00, 143.07it/s, loss=5.29]\n"
     ]
    },
    {
     "name": "stdout",
     "output_type": "stream",
     "text": [
      "Epoch [394/1800]: Train loss: 3.3120, Valid loss: 4.7249\n"
     ]
    },
    {
     "name": "stderr",
     "output_type": "stream",
     "text": [
      "Epoch [395/1800]: 100%|██████████████████████████████████████████████████████| 9/9 [00:00<00:00, 141.00it/s, loss=3.76]\n"
     ]
    },
    {
     "name": "stdout",
     "output_type": "stream",
     "text": [
      "Epoch [395/1800]: Train loss: 5.0565, Valid loss: 3.8205\n"
     ]
    },
    {
     "name": "stderr",
     "output_type": "stream",
     "text": [
      "Epoch [396/1800]: 100%|██████████████████████████████████████████████████████| 9/9 [00:00<00:00, 121.95it/s, loss=3.71]\n"
     ]
    },
    {
     "name": "stdout",
     "output_type": "stream",
     "text": [
      "Epoch [396/1800]: Train loss: 4.5191, Valid loss: 5.0187\n"
     ]
    },
    {
     "name": "stderr",
     "output_type": "stream",
     "text": [
      "Epoch [397/1800]: 100%|██████████████████████████████████████████████████████| 9/9 [00:00<00:00, 118.97it/s, loss=4.01]\n"
     ]
    },
    {
     "name": "stdout",
     "output_type": "stream",
     "text": [
      "Epoch [397/1800]: Train loss: 4.3301, Valid loss: 7.2845\n"
     ]
    },
    {
     "name": "stderr",
     "output_type": "stream",
     "text": [
      "Epoch [398/1800]: 100%|███████████████████████████████████████████████████████| 9/9 [00:00<00:00, 85.04it/s, loss=4.44]\n"
     ]
    },
    {
     "name": "stdout",
     "output_type": "stream",
     "text": [
      "Epoch [398/1800]: Train loss: 4.0521, Valid loss: 3.0894\n"
     ]
    },
    {
     "name": "stderr",
     "output_type": "stream",
     "text": [
      "Epoch [399/1800]: 100%|██████████████████████████████████████████████████████| 9/9 [00:00<00:00, 136.73it/s, loss=2.57]\n"
     ]
    },
    {
     "name": "stdout",
     "output_type": "stream",
     "text": [
      "Epoch [399/1800]: Train loss: 2.6995, Valid loss: 2.4893\n"
     ]
    },
    {
     "name": "stderr",
     "output_type": "stream",
     "text": [
      "Epoch [400/1800]: 100%|██████████████████████████████████████████████████████| 9/9 [00:00<00:00, 137.81it/s, loss=2.57]\n"
     ]
    },
    {
     "name": "stdout",
     "output_type": "stream",
     "text": [
      "Epoch [400/1800]: Train loss: 2.6060, Valid loss: 4.4497\n"
     ]
    },
    {
     "name": "stderr",
     "output_type": "stream",
     "text": [
      "Epoch [401/1800]: 100%|██████████████████████████████████████████████████████| 9/9 [00:00<00:00, 136.73it/s, loss=6.41]\n"
     ]
    },
    {
     "name": "stdout",
     "output_type": "stream",
     "text": [
      "Epoch [401/1800]: Train loss: 5.3665, Valid loss: 7.9661\n"
     ]
    },
    {
     "name": "stderr",
     "output_type": "stream",
     "text": [
      "Epoch [402/1800]: 100%|██████████████████████████████████████████████████████| 9/9 [00:00<00:00, 134.69it/s, loss=3.35]\n"
     ]
    },
    {
     "name": "stdout",
     "output_type": "stream",
     "text": [
      "Epoch [402/1800]: Train loss: 4.8922, Valid loss: 3.1284\n"
     ]
    },
    {
     "name": "stderr",
     "output_type": "stream",
     "text": [
      "Epoch [403/1800]: 100%|██████████████████████████████████████████████████████| 9/9 [00:00<00:00, 132.71it/s, loss=2.76]\n"
     ]
    },
    {
     "name": "stdout",
     "output_type": "stream",
     "text": [
      "Epoch [403/1800]: Train loss: 3.6259, Valid loss: 4.9881\n"
     ]
    },
    {
     "name": "stderr",
     "output_type": "stream",
     "text": [
      "Epoch [404/1800]: 100%|███████████████████████████████████████████████████████| 9/9 [00:00<00:00, 125.58it/s, loss=2.8]\n"
     ]
    },
    {
     "name": "stdout",
     "output_type": "stream",
     "text": [
      "Epoch [404/1800]: Train loss: 3.5541, Valid loss: 3.0735\n"
     ]
    },
    {
     "name": "stderr",
     "output_type": "stream",
     "text": [
      "Epoch [405/1800]: 100%|██████████████████████████████████████████████████████| 9/9 [00:00<00:00, 133.34it/s, loss=2.96]\n"
     ]
    },
    {
     "name": "stdout",
     "output_type": "stream",
     "text": [
      "Epoch [405/1800]: Train loss: 3.0211, Valid loss: 2.7219\n"
     ]
    },
    {
     "name": "stderr",
     "output_type": "stream",
     "text": [
      "Epoch [406/1800]: 100%|██████████████████████████████████████████████████████| 9/9 [00:00<00:00, 132.87it/s, loss=4.32]\n"
     ]
    },
    {
     "name": "stdout",
     "output_type": "stream",
     "text": [
      "Epoch [406/1800]: Train loss: 4.0003, Valid loss: 6.1656\n"
     ]
    },
    {
     "name": "stderr",
     "output_type": "stream",
     "text": [
      "Epoch [407/1800]: 100%|██████████████████████████████████████████████████████| 9/9 [00:00<00:00, 136.73it/s, loss=3.35]\n"
     ]
    },
    {
     "name": "stdout",
     "output_type": "stream",
     "text": [
      "Epoch [407/1800]: Train loss: 4.3264, Valid loss: 2.9395\n"
     ]
    },
    {
     "name": "stderr",
     "output_type": "stream",
     "text": [
      "Epoch [408/1800]: 100%|██████████████████████████████████████████████████████| 9/9 [00:00<00:00, 136.13it/s, loss=4.08]\n"
     ]
    },
    {
     "name": "stdout",
     "output_type": "stream",
     "text": [
      "Epoch [408/1800]: Train loss: 3.2470, Valid loss: 2.6718\n"
     ]
    },
    {
     "name": "stderr",
     "output_type": "stream",
     "text": [
      "Epoch [409/1800]: 100%|██████████████████████████████████████████████████████| 9/9 [00:00<00:00, 138.83it/s, loss=2.96]\n"
     ]
    },
    {
     "name": "stdout",
     "output_type": "stream",
     "text": [
      "Epoch [409/1800]: Train loss: 2.6576, Valid loss: 2.4775\n"
     ]
    },
    {
     "name": "stderr",
     "output_type": "stream",
     "text": [
      "Epoch [410/1800]: 100%|██████████████████████████████████████████████████████| 9/9 [00:00<00:00, 132.71it/s, loss=1.82]\n"
     ]
    },
    {
     "name": "stdout",
     "output_type": "stream",
     "text": [
      "Epoch [410/1800]: Train loss: 2.6715, Valid loss: 3.5728\n"
     ]
    },
    {
     "name": "stderr",
     "output_type": "stream",
     "text": [
      "Epoch [411/1800]: 100%|██████████████████████████████████████████████████████| 9/9 [00:00<00:00, 133.33it/s, loss=5.67]\n"
     ]
    },
    {
     "name": "stdout",
     "output_type": "stream",
     "text": [
      "Epoch [411/1800]: Train loss: 3.6537, Valid loss: 4.2534\n"
     ]
    },
    {
     "name": "stderr",
     "output_type": "stream",
     "text": [
      "Epoch [412/1800]: 100%|██████████████████████████████████████████████████████| 9/9 [00:00<00:00, 136.73it/s, loss=3.69]\n"
     ]
    },
    {
     "name": "stdout",
     "output_type": "stream",
     "text": [
      "Epoch [412/1800]: Train loss: 3.4158, Valid loss: 3.6757\n"
     ]
    },
    {
     "name": "stderr",
     "output_type": "stream",
     "text": [
      "Epoch [413/1800]: 100%|██████████████████████████████████████████████████████| 9/9 [00:00<00:00, 136.73it/s, loss=2.68]\n"
     ]
    },
    {
     "name": "stdout",
     "output_type": "stream",
     "text": [
      "Epoch [413/1800]: Train loss: 2.9505, Valid loss: 3.0452\n"
     ]
    },
    {
     "name": "stderr",
     "output_type": "stream",
     "text": [
      "Epoch [414/1800]: 100%|██████████████████████████████████████████████████████| 9/9 [00:00<00:00, 131.26it/s, loss=2.39]\n"
     ]
    },
    {
     "name": "stdout",
     "output_type": "stream",
     "text": [
      "Epoch [414/1800]: Train loss: 2.5373, Valid loss: 2.6132\n"
     ]
    },
    {
     "name": "stderr",
     "output_type": "stream",
     "text": [
      "Epoch [415/1800]: 100%|██████████████████████████████████████████████████████| 9/9 [00:00<00:00, 134.69it/s, loss=2.45]\n"
     ]
    },
    {
     "name": "stdout",
     "output_type": "stream",
     "text": [
      "Epoch [415/1800]: Train loss: 2.6218, Valid loss: 3.7801\n"
     ]
    },
    {
     "name": "stderr",
     "output_type": "stream",
     "text": [
      "Epoch [416/1800]: 100%|██████████████████████████████████████████████████████| 9/9 [00:00<00:00, 136.73it/s, loss=5.15]\n"
     ]
    },
    {
     "name": "stdout",
     "output_type": "stream",
     "text": [
      "Epoch [416/1800]: Train loss: 3.9437, Valid loss: 4.4826\n"
     ]
    },
    {
     "name": "stderr",
     "output_type": "stream",
     "text": [
      "Epoch [417/1800]: 100%|███████████████████████████████████████████████████████| 9/9 [00:00<00:00, 130.19it/s, loss=2.6]\n"
     ]
    },
    {
     "name": "stdout",
     "output_type": "stream",
     "text": [
      "Epoch [417/1800]: Train loss: 6.2340, Valid loss: 13.7561\n"
     ]
    },
    {
     "name": "stderr",
     "output_type": "stream",
     "text": [
      "Epoch [418/1800]: 100%|██████████████████████████████████████████████████████| 9/9 [00:00<00:00, 134.69it/s, loss=7.12]\n"
     ]
    },
    {
     "name": "stdout",
     "output_type": "stream",
     "text": [
      "Epoch [418/1800]: Train loss: 7.3762, Valid loss: 2.6150\n"
     ]
    },
    {
     "name": "stderr",
     "output_type": "stream",
     "text": [
      "Epoch [419/1800]: 100%|██████████████████████████████████████████████████████| 9/9 [00:00<00:00, 134.69it/s, loss=8.38]\n"
     ]
    },
    {
     "name": "stdout",
     "output_type": "stream",
     "text": [
      "Epoch [419/1800]: Train loss: 6.7077, Valid loss: 4.1511\n"
     ]
    },
    {
     "name": "stderr",
     "output_type": "stream",
     "text": [
      "Epoch [420/1800]: 100%|██████████████████████████████████████████████████████| 9/9 [00:00<00:00, 136.73it/s, loss=6.67]\n"
     ]
    },
    {
     "name": "stdout",
     "output_type": "stream",
     "text": [
      "Epoch [420/1800]: Train loss: 5.6548, Valid loss: 12.0356\n"
     ]
    },
    {
     "name": "stderr",
     "output_type": "stream",
     "text": [
      "Epoch [421/1800]: 100%|██████████████████████████████████████████████████████| 9/9 [00:00<00:00, 132.71it/s, loss=3.75]\n"
     ]
    },
    {
     "name": "stdout",
     "output_type": "stream",
     "text": [
      "Epoch [421/1800]: Train loss: 6.6999, Valid loss: 8.5131\n"
     ]
    },
    {
     "name": "stderr",
     "output_type": "stream",
     "text": [
      "Epoch [422/1800]: 100%|██████████████████████████████████████████████████████| 9/9 [00:00<00:00, 127.10it/s, loss=3.79]\n"
     ]
    },
    {
     "name": "stdout",
     "output_type": "stream",
     "text": [
      "Epoch [422/1800]: Train loss: 4.6410, Valid loss: 6.0166\n"
     ]
    },
    {
     "name": "stderr",
     "output_type": "stream",
     "text": [
      "Epoch [423/1800]: 100%|███████████████████████████████████████████████████████| 9/9 [00:00<00:00, 136.60it/s, loss=3.7]\n"
     ]
    },
    {
     "name": "stdout",
     "output_type": "stream",
     "text": [
      "Epoch [423/1800]: Train loss: 3.9588, Valid loss: 2.5782\n"
     ]
    },
    {
     "name": "stderr",
     "output_type": "stream",
     "text": [
      "Epoch [424/1800]: 100%|██████████████████████████████████████████████████████| 9/9 [00:00<00:00, 134.92it/s, loss=3.24]\n"
     ]
    },
    {
     "name": "stdout",
     "output_type": "stream",
     "text": [
      "Epoch [424/1800]: Train loss: 3.3548, Valid loss: 2.8935\n"
     ]
    },
    {
     "name": "stderr",
     "output_type": "stream",
     "text": [
      "Epoch [425/1800]: 100%|██████████████████████████████████████████████████████| 9/9 [00:00<00:00, 132.71it/s, loss=2.99]\n"
     ]
    },
    {
     "name": "stdout",
     "output_type": "stream",
     "text": [
      "Epoch [425/1800]: Train loss: 3.2324, Valid loss: 5.0279\n"
     ]
    },
    {
     "name": "stderr",
     "output_type": "stream",
     "text": [
      "Epoch [426/1800]: 100%|█████████████████████████████████████████████████████████| 9/9 [00:00<00:00, 134.68it/s, loss=3]\n"
     ]
    },
    {
     "name": "stdout",
     "output_type": "stream",
     "text": [
      "Epoch [426/1800]: Train loss: 3.6472, Valid loss: 3.3304\n"
     ]
    },
    {
     "name": "stderr",
     "output_type": "stream",
     "text": [
      "Epoch [427/1800]: 100%|██████████████████████████████████████████████████████| 9/9 [00:00<00:00, 138.83it/s, loss=3.75]\n"
     ]
    },
    {
     "name": "stdout",
     "output_type": "stream",
     "text": [
      "Epoch [427/1800]: Train loss: 3.5251, Valid loss: 2.4452\n"
     ]
    },
    {
     "name": "stderr",
     "output_type": "stream",
     "text": [
      "Epoch [428/1800]: 100%|██████████████████████████████████████████████████████| 9/9 [00:00<00:00, 132.71it/s, loss=3.86]\n"
     ]
    },
    {
     "name": "stdout",
     "output_type": "stream",
     "text": [
      "Epoch [428/1800]: Train loss: 3.1852, Valid loss: 6.5202\n"
     ]
    },
    {
     "name": "stderr",
     "output_type": "stream",
     "text": [
      "Epoch [429/1800]: 100%|██████████████████████████████████████████████████████| 9/9 [00:00<00:00, 133.95it/s, loss=2.68]\n"
     ]
    },
    {
     "name": "stdout",
     "output_type": "stream",
     "text": [
      "Epoch [429/1800]: Train loss: 4.6723, Valid loss: 5.7219\n"
     ]
    },
    {
     "name": "stderr",
     "output_type": "stream",
     "text": [
      "Epoch [430/1800]: 100%|██████████████████████████████████████████████████████| 9/9 [00:00<00:00, 134.69it/s, loss=4.73]\n"
     ]
    },
    {
     "name": "stdout",
     "output_type": "stream",
     "text": [
      "Epoch [430/1800]: Train loss: 4.5631, Valid loss: 4.1561\n"
     ]
    },
    {
     "name": "stderr",
     "output_type": "stream",
     "text": [
      "Epoch [431/1800]: 100%|███████████████████████████████████████████████████████| 9/9 [00:00<00:00, 136.73it/s, loss=2.3]\n"
     ]
    },
    {
     "name": "stdout",
     "output_type": "stream",
     "text": [
      "Epoch [431/1800]: Train loss: 3.7575, Valid loss: 3.4898\n"
     ]
    },
    {
     "name": "stderr",
     "output_type": "stream",
     "text": [
      "Epoch [432/1800]: 100%|██████████████████████████████████████████████████████| 9/9 [00:00<00:00, 134.69it/s, loss=2.59]\n"
     ]
    },
    {
     "name": "stdout",
     "output_type": "stream",
     "text": [
      "Epoch [432/1800]: Train loss: 2.9837, Valid loss: 2.4806\n"
     ]
    },
    {
     "name": "stderr",
     "output_type": "stream",
     "text": [
      "Epoch [433/1800]: 100%|██████████████████████████████████████████████████████| 9/9 [00:00<00:00, 132.49it/s, loss=2.19]\n"
     ]
    },
    {
     "name": "stdout",
     "output_type": "stream",
     "text": [
      "Epoch [433/1800]: Train loss: 2.6000, Valid loss: 2.6919\n"
     ]
    },
    {
     "name": "stderr",
     "output_type": "stream",
     "text": [
      "Epoch [434/1800]: 100%|██████████████████████████████████████████████████████| 9/9 [00:00<00:00, 134.69it/s, loss=2.91]\n"
     ]
    },
    {
     "name": "stdout",
     "output_type": "stream",
     "text": [
      "Epoch [434/1800]: Train loss: 2.6295, Valid loss: 3.2459\n"
     ]
    },
    {
     "name": "stderr",
     "output_type": "stream",
     "text": [
      "Epoch [435/1800]: 100%|██████████████████████████████████████████████████████| 9/9 [00:00<00:00, 132.71it/s, loss=3.22]\n"
     ]
    },
    {
     "name": "stdout",
     "output_type": "stream",
     "text": [
      "Epoch [435/1800]: Train loss: 3.2269, Valid loss: 3.2650\n"
     ]
    },
    {
     "name": "stderr",
     "output_type": "stream",
     "text": [
      "Epoch [436/1800]: 100%|██████████████████████████████████████████████████████| 9/9 [00:00<00:00, 132.57it/s, loss=3.61]\n"
     ]
    },
    {
     "name": "stdout",
     "output_type": "stream",
     "text": [
      "Epoch [436/1800]: Train loss: 3.1355, Valid loss: 6.9328\n"
     ]
    },
    {
     "name": "stderr",
     "output_type": "stream",
     "text": [
      "Epoch [437/1800]: 100%|██████████████████████████████████████████████████████| 9/9 [00:00<00:00, 134.97it/s, loss=2.86]\n"
     ]
    },
    {
     "name": "stdout",
     "output_type": "stream",
     "text": [
      "Epoch [437/1800]: Train loss: 5.0266, Valid loss: 4.1385\n"
     ]
    },
    {
     "name": "stderr",
     "output_type": "stream",
     "text": [
      "Epoch [438/1800]: 100%|██████████████████████████████████████████████████████| 9/9 [00:00<00:00, 134.69it/s, loss=5.43]\n"
     ]
    },
    {
     "name": "stdout",
     "output_type": "stream",
     "text": [
      "Epoch [438/1800]: Train loss: 3.9642, Valid loss: 4.1973\n"
     ]
    },
    {
     "name": "stderr",
     "output_type": "stream",
     "text": [
      "Epoch [439/1800]: 100%|███████████████████████████████████████████████████████| 9/9 [00:00<00:00, 79.86it/s, loss=3.35]\n"
     ]
    },
    {
     "name": "stdout",
     "output_type": "stream",
     "text": [
      "Epoch [439/1800]: Train loss: 3.6257, Valid loss: 3.4749\n"
     ]
    },
    {
     "name": "stderr",
     "output_type": "stream",
     "text": [
      "Epoch [440/1800]: 100%|███████████████████████████████████████████████████████| 9/9 [00:00<00:00, 87.98it/s, loss=2.32]\n"
     ]
    },
    {
     "name": "stdout",
     "output_type": "stream",
     "text": [
      "Epoch [440/1800]: Train loss: 2.7749, Valid loss: 2.6542\n"
     ]
    },
    {
     "name": "stderr",
     "output_type": "stream",
     "text": [
      "Epoch [441/1800]: 100%|██████████████████████████████████████████████████████| 9/9 [00:00<00:00, 128.91it/s, loss=3.43]\n"
     ]
    },
    {
     "name": "stdout",
     "output_type": "stream",
     "text": [
      "Epoch [441/1800]: Train loss: 2.7150, Valid loss: 3.4284\n"
     ]
    },
    {
     "name": "stderr",
     "output_type": "stream",
     "text": [
      "Epoch [442/1800]: 100%|██████████████████████████████████████████████████████| 9/9 [00:00<00:00, 141.00it/s, loss=2.68]\n"
     ]
    },
    {
     "name": "stdout",
     "output_type": "stream",
     "text": [
      "Epoch [442/1800]: Train loss: 2.7354, Valid loss: 2.5067\n"
     ]
    },
    {
     "name": "stderr",
     "output_type": "stream",
     "text": [
      "Epoch [443/1800]: 100%|██████████████████████████████████████████████████████| 9/9 [00:00<00:00, 136.73it/s, loss=3.13]\n"
     ]
    },
    {
     "name": "stdout",
     "output_type": "stream",
     "text": [
      "Epoch [443/1800]: Train loss: 2.6681, Valid loss: 3.7005\n"
     ]
    },
    {
     "name": "stderr",
     "output_type": "stream",
     "text": [
      "Epoch [444/1800]: 100%|██████████████████████████████████████████████████████| 9/9 [00:00<00:00, 138.83it/s, loss=3.73]\n"
     ]
    },
    {
     "name": "stdout",
     "output_type": "stream",
     "text": [
      "Epoch [444/1800]: Train loss: 3.0061, Valid loss: 2.9873\n"
     ]
    },
    {
     "name": "stderr",
     "output_type": "stream",
     "text": [
      "Epoch [445/1800]: 100%|██████████████████████████████████████████████████████| 9/9 [00:00<00:00, 140.98it/s, loss=2.42]\n"
     ]
    },
    {
     "name": "stdout",
     "output_type": "stream",
     "text": [
      "Epoch [445/1800]: Train loss: 3.3304, Valid loss: 2.7268\n"
     ]
    },
    {
     "name": "stderr",
     "output_type": "stream",
     "text": [
      "Epoch [446/1800]: 100%|██████████████████████████████████████████████████████| 9/9 [00:00<00:00, 143.24it/s, loss=2.11]\n"
     ]
    },
    {
     "name": "stdout",
     "output_type": "stream",
     "text": [
      "Epoch [446/1800]: Train loss: 2.4889, Valid loss: 2.4293\n"
     ]
    },
    {
     "name": "stderr",
     "output_type": "stream",
     "text": [
      "Epoch [447/1800]: 100%|██████████████████████████████████████████████████████| 9/9 [00:00<00:00, 141.00it/s, loss=2.91]\n"
     ]
    },
    {
     "name": "stdout",
     "output_type": "stream",
     "text": [
      "Epoch [447/1800]: Train loss: 2.6717, Valid loss: 2.8306\n"
     ]
    },
    {
     "name": "stderr",
     "output_type": "stream",
     "text": [
      "Epoch [448/1800]: 100%|██████████████████████████████████████████████████████| 9/9 [00:00<00:00, 135.56it/s, loss=2.75]\n"
     ]
    },
    {
     "name": "stdout",
     "output_type": "stream",
     "text": [
      "Epoch [448/1800]: Train loss: 2.6184, Valid loss: 3.0511\n"
     ]
    },
    {
     "name": "stderr",
     "output_type": "stream",
     "text": [
      "Epoch [449/1800]: 100%|███████████████████████████████████████████████████████| 9/9 [00:00<00:00, 143.24it/s, loss=2.1]\n"
     ]
    },
    {
     "name": "stdout",
     "output_type": "stream",
     "text": [
      "Epoch [449/1800]: Train loss: 2.7775, Valid loss: 2.3460\n"
     ]
    },
    {
     "name": "stderr",
     "output_type": "stream",
     "text": [
      "Epoch [450/1800]: 100%|██████████████████████████████████████████████████████| 9/9 [00:00<00:00, 138.83it/s, loss=2.58]\n"
     ]
    },
    {
     "name": "stdout",
     "output_type": "stream",
     "text": [
      "Epoch [450/1800]: Train loss: 2.5754, Valid loss: 3.2654\n"
     ]
    },
    {
     "name": "stderr",
     "output_type": "stream",
     "text": [
      "Epoch [451/1800]: 100%|██████████████████████████████████████████████████████| 9/9 [00:00<00:00, 134.69it/s, loss=2.95]\n"
     ]
    },
    {
     "name": "stdout",
     "output_type": "stream",
     "text": [
      "Epoch [451/1800]: Train loss: 3.1470, Valid loss: 2.5526\n"
     ]
    },
    {
     "name": "stderr",
     "output_type": "stream",
     "text": [
      "Epoch [452/1800]: 100%|██████████████████████████████████████████████████████| 9/9 [00:00<00:00, 141.00it/s, loss=2.41]\n"
     ]
    },
    {
     "name": "stdout",
     "output_type": "stream",
     "text": [
      "Epoch [452/1800]: Train loss: 2.5536, Valid loss: 2.3418\n"
     ]
    },
    {
     "name": "stderr",
     "output_type": "stream",
     "text": [
      "Epoch [453/1800]: 100%|██████████████████████████████████████████████████████| 9/9 [00:00<00:00, 143.86it/s, loss=3.15]\n"
     ]
    },
    {
     "name": "stdout",
     "output_type": "stream",
     "text": [
      "Epoch [453/1800]: Train loss: 2.8146, Valid loss: 4.2767\n"
     ]
    },
    {
     "name": "stderr",
     "output_type": "stream",
     "text": [
      "Epoch [454/1800]: 100%|██████████████████████████████████████████████████████| 9/9 [00:00<00:00, 145.55it/s, loss=2.69]\n"
     ]
    },
    {
     "name": "stdout",
     "output_type": "stream",
     "text": [
      "Epoch [454/1800]: Train loss: 3.0374, Valid loss: 4.0168\n"
     ]
    },
    {
     "name": "stderr",
     "output_type": "stream",
     "text": [
      "Epoch [455/1800]: 100%|██████████████████████████████████████████████████████| 9/9 [00:00<00:00, 138.84it/s, loss=3.22]\n"
     ]
    },
    {
     "name": "stdout",
     "output_type": "stream",
     "text": [
      "Epoch [455/1800]: Train loss: 3.7125, Valid loss: 4.0473\n"
     ]
    },
    {
     "name": "stderr",
     "output_type": "stream",
     "text": [
      "Epoch [456/1800]: 100%|██████████████████████████████████████████████████████| 9/9 [00:00<00:00, 143.37it/s, loss=3.09]\n"
     ]
    },
    {
     "name": "stdout",
     "output_type": "stream",
     "text": [
      "Epoch [456/1800]: Train loss: 3.0998, Valid loss: 3.5283\n"
     ]
    },
    {
     "name": "stderr",
     "output_type": "stream",
     "text": [
      "Epoch [457/1800]: 100%|██████████████████████████████████████████████████████| 9/9 [00:00<00:00, 142.63it/s, loss=2.16]\n"
     ]
    },
    {
     "name": "stdout",
     "output_type": "stream",
     "text": [
      "Epoch [457/1800]: Train loss: 2.6469, Valid loss: 2.7325\n"
     ]
    },
    {
     "name": "stderr",
     "output_type": "stream",
     "text": [
      "Epoch [458/1800]: 100%|██████████████████████████████████████████████████████| 9/9 [00:00<00:00, 143.24it/s, loss=2.88]\n"
     ]
    },
    {
     "name": "stdout",
     "output_type": "stream",
     "text": [
      "Epoch [458/1800]: Train loss: 2.5356, Valid loss: 2.9875\n"
     ]
    },
    {
     "name": "stderr",
     "output_type": "stream",
     "text": [
      "Epoch [459/1800]: 100%|██████████████████████████████████████████████████████| 9/9 [00:00<00:00, 136.38it/s, loss=2.53]\n"
     ]
    },
    {
     "name": "stdout",
     "output_type": "stream",
     "text": [
      "Epoch [459/1800]: Train loss: 2.7118, Valid loss: 2.7216\n"
     ]
    },
    {
     "name": "stderr",
     "output_type": "stream",
     "text": [
      "Epoch [460/1800]: 100%|██████████████████████████████████████████████████████| 9/9 [00:00<00:00, 141.00it/s, loss=1.96]\n"
     ]
    },
    {
     "name": "stdout",
     "output_type": "stream",
     "text": [
      "Epoch [460/1800]: Train loss: 2.4243, Valid loss: 2.7752\n"
     ]
    },
    {
     "name": "stderr",
     "output_type": "stream",
     "text": [
      "Epoch [461/1800]: 100%|███████████████████████████████████████████████████████| 9/9 [00:00<00:00, 136.73it/s, loss=1.7]\n"
     ]
    },
    {
     "name": "stdout",
     "output_type": "stream",
     "text": [
      "Epoch [461/1800]: Train loss: 2.5839, Valid loss: 2.9405\n"
     ]
    },
    {
     "name": "stderr",
     "output_type": "stream",
     "text": [
      "Epoch [462/1800]: 100%|███████████████████████████████████████████████████████| 9/9 [00:00<00:00, 136.73it/s, loss=2.4]\n"
     ]
    },
    {
     "name": "stdout",
     "output_type": "stream",
     "text": [
      "Epoch [462/1800]: Train loss: 2.6375, Valid loss: 2.3832\n"
     ]
    },
    {
     "name": "stderr",
     "output_type": "stream",
     "text": [
      "Epoch [463/1800]: 100%|██████████████████████████████████████████████████████| 9/9 [00:00<00:00, 145.54it/s, loss=3.06]\n"
     ]
    },
    {
     "name": "stdout",
     "output_type": "stream",
     "text": [
      "Epoch [463/1800]: Train loss: 2.5237, Valid loss: 2.5547\n"
     ]
    },
    {
     "name": "stderr",
     "output_type": "stream",
     "text": [
      "Epoch [464/1800]: 100%|██████████████████████████████████████████████████████| 9/9 [00:00<00:00, 136.73it/s, loss=1.54]\n"
     ]
    },
    {
     "name": "stdout",
     "output_type": "stream",
     "text": [
      "Epoch [464/1800]: Train loss: 2.6333, Valid loss: 5.0501\n"
     ]
    },
    {
     "name": "stderr",
     "output_type": "stream",
     "text": [
      "Epoch [465/1800]: 100%|██████████████████████████████████████████████████████| 9/9 [00:00<00:00, 145.55it/s, loss=6.11]\n"
     ]
    },
    {
     "name": "stdout",
     "output_type": "stream",
     "text": [
      "Epoch [465/1800]: Train loss: 3.9313, Valid loss: 2.9530\n"
     ]
    },
    {
     "name": "stderr",
     "output_type": "stream",
     "text": [
      "Epoch [466/1800]: 100%|██████████████████████████████████████████████████████| 9/9 [00:00<00:00, 136.54it/s, loss=2.45]\n"
     ]
    },
    {
     "name": "stdout",
     "output_type": "stream",
     "text": [
      "Epoch [466/1800]: Train loss: 2.9014, Valid loss: 2.4111\n"
     ]
    },
    {
     "name": "stderr",
     "output_type": "stream",
     "text": [
      "Epoch [467/1800]: 100%|███████████████████████████████████████████████████████| 9/9 [00:00<00:00, 136.73it/s, loss=2.1]\n"
     ]
    },
    {
     "name": "stdout",
     "output_type": "stream",
     "text": [
      "Epoch [467/1800]: Train loss: 2.5861, Valid loss: 2.9048\n"
     ]
    },
    {
     "name": "stderr",
     "output_type": "stream",
     "text": [
      "Epoch [468/1800]: 100%|██████████████████████████████████████████████████████| 9/9 [00:00<00:00, 136.73it/s, loss=2.44]\n"
     ]
    },
    {
     "name": "stdout",
     "output_type": "stream",
     "text": [
      "Epoch [468/1800]: Train loss: 2.7150, Valid loss: 3.3772\n"
     ]
    },
    {
     "name": "stderr",
     "output_type": "stream",
     "text": [
      "Epoch [469/1800]: 100%|██████████████████████████████████████████████████████| 9/9 [00:00<00:00, 143.24it/s, loss=2.14]\n"
     ]
    },
    {
     "name": "stdout",
     "output_type": "stream",
     "text": [
      "Epoch [469/1800]: Train loss: 2.5173, Valid loss: 2.3090\n"
     ]
    },
    {
     "name": "stderr",
     "output_type": "stream",
     "text": [
      "Epoch [470/1800]: 100%|██████████████████████████████████████████████████████| 9/9 [00:00<00:00, 136.93it/s, loss=3.85]\n"
     ]
    },
    {
     "name": "stdout",
     "output_type": "stream",
     "text": [
      "Epoch [470/1800]: Train loss: 2.7392, Valid loss: 3.9651\n"
     ]
    },
    {
     "name": "stderr",
     "output_type": "stream",
     "text": [
      "Epoch [471/1800]: 100%|██████████████████████████████████████████████████████| 9/9 [00:00<00:00, 136.73it/s, loss=2.03]\n"
     ]
    },
    {
     "name": "stdout",
     "output_type": "stream",
     "text": [
      "Epoch [471/1800]: Train loss: 2.9879, Valid loss: 2.6070\n"
     ]
    },
    {
     "name": "stderr",
     "output_type": "stream",
     "text": [
      "Epoch [472/1800]: 100%|██████████████████████████████████████████████████████| 9/9 [00:00<00:00, 141.00it/s, loss=2.99]\n"
     ]
    },
    {
     "name": "stdout",
     "output_type": "stream",
     "text": [
      "Epoch [472/1800]: Train loss: 2.8253, Valid loss: 3.1118\n"
     ]
    },
    {
     "name": "stderr",
     "output_type": "stream",
     "text": [
      "Epoch [473/1800]: 100%|██████████████████████████████████████████████████████| 9/9 [00:00<00:00, 146.62it/s, loss=3.73]\n"
     ]
    },
    {
     "name": "stdout",
     "output_type": "stream",
     "text": [
      "Epoch [473/1800]: Train loss: 2.6309, Valid loss: 5.0588\n"
     ]
    },
    {
     "name": "stderr",
     "output_type": "stream",
     "text": [
      "Epoch [474/1800]: 100%|██████████████████████████████████████████████████████| 9/9 [00:00<00:00, 141.00it/s, loss=4.26]\n"
     ]
    },
    {
     "name": "stdout",
     "output_type": "stream",
     "text": [
      "Epoch [474/1800]: Train loss: 3.0494, Valid loss: 2.4080\n"
     ]
    },
    {
     "name": "stderr",
     "output_type": "stream",
     "text": [
      "Epoch [475/1800]: 100%|███████████████████████████████████████████████████████| 9/9 [00:00<00:00, 139.55it/s, loss=2.1]\n"
     ]
    },
    {
     "name": "stdout",
     "output_type": "stream",
     "text": [
      "Epoch [475/1800]: Train loss: 2.7990, Valid loss: 3.1124\n"
     ]
    },
    {
     "name": "stderr",
     "output_type": "stream",
     "text": [
      "Epoch [476/1800]: 100%|██████████████████████████████████████████████████████| 9/9 [00:00<00:00, 143.24it/s, loss=4.59]\n"
     ]
    },
    {
     "name": "stdout",
     "output_type": "stream",
     "text": [
      "Epoch [476/1800]: Train loss: 3.4652, Valid loss: 3.7199\n"
     ]
    },
    {
     "name": "stderr",
     "output_type": "stream",
     "text": [
      "Epoch [477/1800]: 100%|██████████████████████████████████████████████████████| 9/9 [00:00<00:00, 138.30it/s, loss=3.64]\n"
     ]
    },
    {
     "name": "stdout",
     "output_type": "stream",
     "text": [
      "Epoch [477/1800]: Train loss: 3.0369, Valid loss: 3.1712\n"
     ]
    },
    {
     "name": "stderr",
     "output_type": "stream",
     "text": [
      "Epoch [478/1800]: 100%|██████████████████████████████████████████████████████| 9/9 [00:00<00:00, 141.00it/s, loss=2.67]\n"
     ]
    },
    {
     "name": "stdout",
     "output_type": "stream",
     "text": [
      "Epoch [478/1800]: Train loss: 2.5096, Valid loss: 2.9355\n"
     ]
    },
    {
     "name": "stderr",
     "output_type": "stream",
     "text": [
      "Epoch [479/1800]: 100%|██████████████████████████████████████████████████████| 9/9 [00:00<00:00, 139.40it/s, loss=2.51]\n"
     ]
    },
    {
     "name": "stdout",
     "output_type": "stream",
     "text": [
      "Epoch [479/1800]: Train loss: 2.5864, Valid loss: 2.4750\n"
     ]
    },
    {
     "name": "stderr",
     "output_type": "stream",
     "text": [
      "Epoch [480/1800]: 100%|██████████████████████████████████████████████████████| 9/9 [00:00<00:00, 134.69it/s, loss=2.81]\n"
     ]
    },
    {
     "name": "stdout",
     "output_type": "stream",
     "text": [
      "Epoch [480/1800]: Train loss: 2.7769, Valid loss: 3.6692\n"
     ]
    },
    {
     "name": "stderr",
     "output_type": "stream",
     "text": [
      "Epoch [481/1800]: 100%|███████████████████████████████████████████████████████| 9/9 [00:00<00:00, 84.33it/s, loss=3.59]\n"
     ]
    },
    {
     "name": "stdout",
     "output_type": "stream",
     "text": [
      "Epoch [481/1800]: Train loss: 2.9445, Valid loss: 3.5182\n"
     ]
    },
    {
     "name": "stderr",
     "output_type": "stream",
     "text": [
      "Epoch [482/1800]: 100%|██████████████████████████████████████████████████████| 9/9 [00:00<00:00, 134.69it/s, loss=3.12]\n"
     ]
    },
    {
     "name": "stdout",
     "output_type": "stream",
     "text": [
      "Epoch [482/1800]: Train loss: 3.0717, Valid loss: 4.7397\n"
     ]
    },
    {
     "name": "stderr",
     "output_type": "stream",
     "text": [
      "Epoch [483/1800]: 100%|██████████████████████████████████████████████████████| 9/9 [00:00<00:00, 141.27it/s, loss=2.04]\n"
     ]
    },
    {
     "name": "stdout",
     "output_type": "stream",
     "text": [
      "Epoch [483/1800]: Train loss: 3.1022, Valid loss: 3.2922\n"
     ]
    },
    {
     "name": "stderr",
     "output_type": "stream",
     "text": [
      "Epoch [484/1800]: 100%|██████████████████████████████████████████████████████| 9/9 [00:00<00:00, 143.24it/s, loss=2.47]\n"
     ]
    },
    {
     "name": "stdout",
     "output_type": "stream",
     "text": [
      "Epoch [484/1800]: Train loss: 2.9991, Valid loss: 4.1669\n"
     ]
    },
    {
     "name": "stderr",
     "output_type": "stream",
     "text": [
      "Epoch [485/1800]: 100%|██████████████████████████████████████████████████████| 9/9 [00:00<00:00, 143.24it/s, loss=2.72]\n"
     ]
    },
    {
     "name": "stdout",
     "output_type": "stream",
     "text": [
      "Epoch [485/1800]: Train loss: 3.1418, Valid loss: 4.1195\n"
     ]
    },
    {
     "name": "stderr",
     "output_type": "stream",
     "text": [
      "Epoch [486/1800]: 100%|██████████████████████████████████████████████████████| 9/9 [00:00<00:00, 137.96it/s, loss=4.52]\n"
     ]
    },
    {
     "name": "stdout",
     "output_type": "stream",
     "text": [
      "Epoch [486/1800]: Train loss: 3.3331, Valid loss: 2.5238\n"
     ]
    },
    {
     "name": "stderr",
     "output_type": "stream",
     "text": [
      "Epoch [487/1800]: 100%|█████████████████████████████████████████████████████████| 9/9 [00:00<00:00, 141.68it/s, loss=3]\n"
     ]
    },
    {
     "name": "stdout",
     "output_type": "stream",
     "text": [
      "Epoch [487/1800]: Train loss: 2.6908, Valid loss: 3.8325\n"
     ]
    },
    {
     "name": "stderr",
     "output_type": "stream",
     "text": [
      "Epoch [488/1800]: 100%|██████████████████████████████████████████████████████| 9/9 [00:00<00:00, 139.08it/s, loss=2.58]\n"
     ]
    },
    {
     "name": "stdout",
     "output_type": "stream",
     "text": [
      "Epoch [488/1800]: Train loss: 2.5657, Valid loss: 2.6146\n"
     ]
    },
    {
     "name": "stderr",
     "output_type": "stream",
     "text": [
      "Epoch [489/1800]: 100%|██████████████████████████████████████████████████████| 9/9 [00:00<00:00, 132.83it/s, loss=3.14]\n"
     ]
    },
    {
     "name": "stdout",
     "output_type": "stream",
     "text": [
      "Epoch [489/1800]: Train loss: 3.1570, Valid loss: 2.4334\n"
     ]
    },
    {
     "name": "stderr",
     "output_type": "stream",
     "text": [
      "Epoch [490/1800]: 100%|██████████████████████████████████████████████████████| 9/9 [00:00<00:00, 143.24it/s, loss=2.86]\n"
     ]
    },
    {
     "name": "stdout",
     "output_type": "stream",
     "text": [
      "Epoch [490/1800]: Train loss: 3.2093, Valid loss: 3.6855\n"
     ]
    },
    {
     "name": "stderr",
     "output_type": "stream",
     "text": [
      "Epoch [491/1800]: 100%|██████████████████████████████████████████████████████| 9/9 [00:00<00:00, 143.95it/s, loss=4.16]\n"
     ]
    },
    {
     "name": "stdout",
     "output_type": "stream",
     "text": [
      "Epoch [491/1800]: Train loss: 3.3064, Valid loss: 2.2335\n",
      "Saving model with loss 2.233...\n"
     ]
    },
    {
     "name": "stderr",
     "output_type": "stream",
     "text": [
      "Epoch [492/1800]: 100%|███████████████████████████████████████████████████████| 9/9 [00:00<00:00, 141.00it/s, loss=2.3]\n"
     ]
    },
    {
     "name": "stdout",
     "output_type": "stream",
     "text": [
      "Epoch [492/1800]: Train loss: 2.8311, Valid loss: 3.8992\n"
     ]
    },
    {
     "name": "stderr",
     "output_type": "stream",
     "text": [
      "Epoch [493/1800]: 100%|██████████████████████████████████████████████████████| 9/9 [00:00<00:00, 134.69it/s, loss=2.38]\n"
     ]
    },
    {
     "name": "stdout",
     "output_type": "stream",
     "text": [
      "Epoch [493/1800]: Train loss: 2.6463, Valid loss: 3.3457\n"
     ]
    },
    {
     "name": "stderr",
     "output_type": "stream",
     "text": [
      "Epoch [494/1800]: 100%|██████████████████████████████████████████████████████| 9/9 [00:00<00:00, 134.72it/s, loss=3.64]\n"
     ]
    },
    {
     "name": "stdout",
     "output_type": "stream",
     "text": [
      "Epoch [494/1800]: Train loss: 3.0601, Valid loss: 2.7331\n"
     ]
    },
    {
     "name": "stderr",
     "output_type": "stream",
     "text": [
      "Epoch [495/1800]: 100%|██████████████████████████████████████████████████████| 9/9 [00:00<00:00, 147.94it/s, loss=3.14]\n"
     ]
    },
    {
     "name": "stdout",
     "output_type": "stream",
     "text": [
      "Epoch [495/1800]: Train loss: 3.3084, Valid loss: 3.9506\n"
     ]
    },
    {
     "name": "stderr",
     "output_type": "stream",
     "text": [
      "Epoch [496/1800]: 100%|██████████████████████████████████████████████████████| 9/9 [00:00<00:00, 136.73it/s, loss=4.15]\n"
     ]
    },
    {
     "name": "stdout",
     "output_type": "stream",
     "text": [
      "Epoch [496/1800]: Train loss: 3.4446, Valid loss: 2.5959\n"
     ]
    },
    {
     "name": "stderr",
     "output_type": "stream",
     "text": [
      "Epoch [497/1800]: 100%|██████████████████████████████████████████████████████| 9/9 [00:00<00:00, 141.00it/s, loss=4.18]\n"
     ]
    },
    {
     "name": "stdout",
     "output_type": "stream",
     "text": [
      "Epoch [497/1800]: Train loss: 2.9623, Valid loss: 3.7067\n"
     ]
    },
    {
     "name": "stderr",
     "output_type": "stream",
     "text": [
      "Epoch [498/1800]: 100%|██████████████████████████████████████████████████████| 9/9 [00:00<00:00, 136.73it/s, loss=2.18]\n"
     ]
    },
    {
     "name": "stdout",
     "output_type": "stream",
     "text": [
      "Epoch [498/1800]: Train loss: 3.0571, Valid loss: 2.6727\n"
     ]
    },
    {
     "name": "stderr",
     "output_type": "stream",
     "text": [
      "Epoch [499/1800]: 100%|██████████████████████████████████████████████████████| 9/9 [00:00<00:00, 138.83it/s, loss=1.76]\n"
     ]
    },
    {
     "name": "stdout",
     "output_type": "stream",
     "text": [
      "Epoch [499/1800]: Train loss: 2.3199, Valid loss: 2.2242\n",
      "Saving model with loss 2.224...\n"
     ]
    },
    {
     "name": "stderr",
     "output_type": "stream",
     "text": [
      "Epoch [500/1800]: 100%|██████████████████████████████████████████████████████| 9/9 [00:00<00:00, 136.52it/s, loss=2.93]\n"
     ]
    },
    {
     "name": "stdout",
     "output_type": "stream",
     "text": [
      "Epoch [500/1800]: Train loss: 2.4573, Valid loss: 2.3608\n"
     ]
    },
    {
     "name": "stderr",
     "output_type": "stream",
     "text": [
      "Epoch [501/1800]: 100%|█████████████████████████████████████████████████████████| 9/9 [00:00<00:00, 145.55it/s, loss=2]\n"
     ]
    },
    {
     "name": "stdout",
     "output_type": "stream",
     "text": [
      "Epoch [501/1800]: Train loss: 2.3814, Valid loss: 2.4300\n"
     ]
    },
    {
     "name": "stderr",
     "output_type": "stream",
     "text": [
      "Epoch [502/1800]: 100%|██████████████████████████████████████████████████████| 9/9 [00:00<00:00, 143.24it/s, loss=2.44]\n"
     ]
    },
    {
     "name": "stdout",
     "output_type": "stream",
     "text": [
      "Epoch [502/1800]: Train loss: 2.9886, Valid loss: 4.2772\n"
     ]
    },
    {
     "name": "stderr",
     "output_type": "stream",
     "text": [
      "Epoch [503/1800]: 100%|██████████████████████████████████████████████████████| 9/9 [00:00<00:00, 120.32it/s, loss=3.12]\n"
     ]
    },
    {
     "name": "stdout",
     "output_type": "stream",
     "text": [
      "Epoch [503/1800]: Train loss: 2.9098, Valid loss: 2.6740\n"
     ]
    },
    {
     "name": "stderr",
     "output_type": "stream",
     "text": [
      "Epoch [504/1800]: 100%|██████████████████████████████████████████████████████| 9/9 [00:00<00:00, 111.41it/s, loss=2.46]\n"
     ]
    },
    {
     "name": "stdout",
     "output_type": "stream",
     "text": [
      "Epoch [504/1800]: Train loss: 2.5418, Valid loss: 2.3529\n"
     ]
    },
    {
     "name": "stderr",
     "output_type": "stream",
     "text": [
      "Epoch [505/1800]: 100%|███████████████████████████████████████████████████████| 9/9 [00:00<00:00, 121.95it/s, loss=2.5]\n"
     ]
    },
    {
     "name": "stdout",
     "output_type": "stream",
     "text": [
      "Epoch [505/1800]: Train loss: 2.4675, Valid loss: 5.6216\n"
     ]
    },
    {
     "name": "stderr",
     "output_type": "stream",
     "text": [
      "Epoch [506/1800]: 100%|███████████████████████████████████████████████████████| 9/9 [00:00<00:00, 136.73it/s, loss=2.8]\n"
     ]
    },
    {
     "name": "stdout",
     "output_type": "stream",
     "text": [
      "Epoch [506/1800]: Train loss: 3.0042, Valid loss: 3.1522\n"
     ]
    },
    {
     "name": "stderr",
     "output_type": "stream",
     "text": [
      "Epoch [507/1800]: 100%|██████████████████████████████████████████████████████| 9/9 [00:00<00:00, 138.83it/s, loss=2.94]\n"
     ]
    },
    {
     "name": "stdout",
     "output_type": "stream",
     "text": [
      "Epoch [507/1800]: Train loss: 2.7098, Valid loss: 2.6218\n"
     ]
    },
    {
     "name": "stderr",
     "output_type": "stream",
     "text": [
      "Epoch [508/1800]: 100%|███████████████████████████████████████████████████████| 9/9 [00:00<00:00, 135.48it/s, loss=2.8]\n"
     ]
    },
    {
     "name": "stdout",
     "output_type": "stream",
     "text": [
      "Epoch [508/1800]: Train loss: 2.8138, Valid loss: 3.1780\n"
     ]
    },
    {
     "name": "stderr",
     "output_type": "stream",
     "text": [
      "Epoch [509/1800]: 100%|█████████████████████████████████████████████████████████| 9/9 [00:00<00:00, 137.96it/s, loss=3]\n"
     ]
    },
    {
     "name": "stdout",
     "output_type": "stream",
     "text": [
      "Epoch [509/1800]: Train loss: 3.0055, Valid loss: 2.5109\n"
     ]
    },
    {
     "name": "stderr",
     "output_type": "stream",
     "text": [
      "Epoch [510/1800]: 100%|███████████████████████████████████████████████████████| 9/9 [00:00<00:00, 141.00it/s, loss=4.5]\n"
     ]
    },
    {
     "name": "stdout",
     "output_type": "stream",
     "text": [
      "Epoch [510/1800]: Train loss: 2.9721, Valid loss: 4.5819\n"
     ]
    },
    {
     "name": "stderr",
     "output_type": "stream",
     "text": [
      "Epoch [511/1800]: 100%|███████████████████████████████████████████████████████| 9/9 [00:00<00:00, 138.83it/s, loss=2.6]\n"
     ]
    },
    {
     "name": "stdout",
     "output_type": "stream",
     "text": [
      "Epoch [511/1800]: Train loss: 3.1697, Valid loss: 2.9101\n"
     ]
    },
    {
     "name": "stderr",
     "output_type": "stream",
     "text": [
      "Epoch [512/1800]: 100%|██████████████████████████████████████████████████████| 9/9 [00:00<00:00, 136.29it/s, loss=2.92]\n"
     ]
    },
    {
     "name": "stdout",
     "output_type": "stream",
     "text": [
      "Epoch [512/1800]: Train loss: 3.2343, Valid loss: 3.7413\n"
     ]
    },
    {
     "name": "stderr",
     "output_type": "stream",
     "text": [
      "Epoch [513/1800]: 100%|██████████████████████████████████████████████████████| 9/9 [00:00<00:00, 140.49it/s, loss=6.01]\n"
     ]
    },
    {
     "name": "stdout",
     "output_type": "stream",
     "text": [
      "Epoch [513/1800]: Train loss: 3.9095, Valid loss: 2.5896\n"
     ]
    },
    {
     "name": "stderr",
     "output_type": "stream",
     "text": [
      "Epoch [514/1800]: 100%|███████████████████████████████████████████████████████| 9/9 [00:00<00:00, 138.83it/s, loss=2.4]\n"
     ]
    },
    {
     "name": "stdout",
     "output_type": "stream",
     "text": [
      "Epoch [514/1800]: Train loss: 2.9396, Valid loss: 3.9157\n"
     ]
    },
    {
     "name": "stderr",
     "output_type": "stream",
     "text": [
      "Epoch [515/1800]: 100%|██████████████████████████████████████████████████████| 9/9 [00:00<00:00, 134.69it/s, loss=2.32]\n"
     ]
    },
    {
     "name": "stdout",
     "output_type": "stream",
     "text": [
      "Epoch [515/1800]: Train loss: 2.7404, Valid loss: 2.4549\n"
     ]
    },
    {
     "name": "stderr",
     "output_type": "stream",
     "text": [
      "Epoch [516/1800]: 100%|██████████████████████████████████████████████████████| 9/9 [00:00<00:00, 141.36it/s, loss=3.18]\n"
     ]
    },
    {
     "name": "stdout",
     "output_type": "stream",
     "text": [
      "Epoch [516/1800]: Train loss: 2.5654, Valid loss: 4.5299\n"
     ]
    },
    {
     "name": "stderr",
     "output_type": "stream",
     "text": [
      "Epoch [517/1800]: 100%|██████████████████████████████████████████████████████| 9/9 [00:00<00:00, 138.83it/s, loss=2.26]\n"
     ]
    },
    {
     "name": "stdout",
     "output_type": "stream",
     "text": [
      "Epoch [517/1800]: Train loss: 2.9937, Valid loss: 2.4722\n"
     ]
    },
    {
     "name": "stderr",
     "output_type": "stream",
     "text": [
      "Epoch [518/1800]: 100%|██████████████████████████████████████████████████████| 9/9 [00:00<00:00, 145.42it/s, loss=2.06]\n"
     ]
    },
    {
     "name": "stdout",
     "output_type": "stream",
     "text": [
      "Epoch [518/1800]: Train loss: 2.4891, Valid loss: 2.1884\n",
      "Saving model with loss 2.188...\n"
     ]
    },
    {
     "name": "stderr",
     "output_type": "stream",
     "text": [
      "Epoch [519/1800]: 100%|██████████████████████████████████████████████████████| 9/9 [00:00<00:00, 134.69it/s, loss=1.92]\n"
     ]
    },
    {
     "name": "stdout",
     "output_type": "stream",
     "text": [
      "Epoch [519/1800]: Train loss: 2.5818, Valid loss: 3.2192\n"
     ]
    },
    {
     "name": "stderr",
     "output_type": "stream",
     "text": [
      "Epoch [520/1800]: 100%|███████████████████████████████████████████████████████| 9/9 [00:00<00:00, 134.47it/s, loss=2.7]\n"
     ]
    },
    {
     "name": "stdout",
     "output_type": "stream",
     "text": [
      "Epoch [520/1800]: Train loss: 2.8581, Valid loss: 2.5509\n"
     ]
    },
    {
     "name": "stderr",
     "output_type": "stream",
     "text": [
      "Epoch [521/1800]: 100%|███████████████████████████████████████████████████████| 9/9 [00:00<00:00, 94.00it/s, loss=2.39]"
     ]
    },
    {
     "name": "stdout",
     "output_type": "stream",
     "text": [
      "Epoch [521/1800]: Train loss: 2.3384, Valid loss: 2.4785"
     ]
    },
    {
     "name": "stderr",
     "output_type": "stream",
     "text": [
      "\n"
     ]
    },
    {
     "name": "stdout",
     "output_type": "stream",
     "text": [
      "\n"
     ]
    },
    {
     "name": "stderr",
     "output_type": "stream",
     "text": [
      "Epoch [522/1800]: 100%|█████████████████████████████████████████████████████████| 9/9 [00:00<00:00, 120.32it/s, loss=4]\n"
     ]
    },
    {
     "name": "stdout",
     "output_type": "stream",
     "text": [
      "Epoch [522/1800]: Train loss: 2.6505, Valid loss: 3.3897\n"
     ]
    },
    {
     "name": "stderr",
     "output_type": "stream",
     "text": [
      "Epoch [523/1800]: 100%|██████████████████████████████████████████████████████| 9/9 [00:00<00:00, 137.83it/s, loss=2.86]\n"
     ]
    },
    {
     "name": "stdout",
     "output_type": "stream",
     "text": [
      "Epoch [523/1800]: Train loss: 2.5282, Valid loss: 2.6422\n"
     ]
    },
    {
     "name": "stderr",
     "output_type": "stream",
     "text": [
      "Epoch [524/1800]: 100%|██████████████████████████████████████████████████████| 9/9 [00:00<00:00, 136.73it/s, loss=2.32]\n"
     ]
    },
    {
     "name": "stdout",
     "output_type": "stream",
     "text": [
      "Epoch [524/1800]: Train loss: 2.6436, Valid loss: 2.8787\n"
     ]
    },
    {
     "name": "stderr",
     "output_type": "stream",
     "text": [
      "Epoch [525/1800]: 100%|██████████████████████████████████████████████████████| 9/9 [00:00<00:00, 134.69it/s, loss=4.21]\n"
     ]
    },
    {
     "name": "stdout",
     "output_type": "stream",
     "text": [
      "Epoch [525/1800]: Train loss: 3.0064, Valid loss: 2.7009\n"
     ]
    },
    {
     "name": "stderr",
     "output_type": "stream",
     "text": [
      "Epoch [526/1800]: 100%|███████████████████████████████████████████████████████| 9/9 [00:00<00:00, 141.00it/s, loss=3.6]\n"
     ]
    },
    {
     "name": "stdout",
     "output_type": "stream",
     "text": [
      "Epoch [526/1800]: Train loss: 3.3994, Valid loss: 2.5691\n"
     ]
    },
    {
     "name": "stderr",
     "output_type": "stream",
     "text": [
      "Epoch [527/1800]: 100%|██████████████████████████████████████████████████████| 9/9 [00:00<00:00, 136.73it/s, loss=2.47]\n"
     ]
    },
    {
     "name": "stdout",
     "output_type": "stream",
     "text": [
      "Epoch [527/1800]: Train loss: 2.7634, Valid loss: 3.0532\n"
     ]
    },
    {
     "name": "stderr",
     "output_type": "stream",
     "text": [
      "Epoch [528/1800]: 100%|███████████████████████████████████████████████████████| 9/9 [00:00<00:00, 136.73it/s, loss=2.5]\n"
     ]
    },
    {
     "name": "stdout",
     "output_type": "stream",
     "text": [
      "Epoch [528/1800]: Train loss: 2.6294, Valid loss: 3.3242\n"
     ]
    },
    {
     "name": "stderr",
     "output_type": "stream",
     "text": [
      "Epoch [529/1800]: 100%|██████████████████████████████████████████████████████| 9/9 [00:00<00:00, 143.24it/s, loss=3.42]\n"
     ]
    },
    {
     "name": "stdout",
     "output_type": "stream",
     "text": [
      "Epoch [529/1800]: Train loss: 2.5300, Valid loss: 3.7048\n"
     ]
    },
    {
     "name": "stderr",
     "output_type": "stream",
     "text": [
      "Epoch [530/1800]: 100%|██████████████████████████████████████████████████████| 9/9 [00:00<00:00, 141.61it/s, loss=2.92]\n"
     ]
    },
    {
     "name": "stdout",
     "output_type": "stream",
     "text": [
      "Epoch [530/1800]: Train loss: 3.1487, Valid loss: 3.0183\n"
     ]
    },
    {
     "name": "stderr",
     "output_type": "stream",
     "text": [
      "Epoch [531/1800]: 100%|██████████████████████████████████████████████████████| 9/9 [00:00<00:00, 136.73it/s, loss=3.46]\n"
     ]
    },
    {
     "name": "stdout",
     "output_type": "stream",
     "text": [
      "Epoch [531/1800]: Train loss: 3.0368, Valid loss: 7.7200\n"
     ]
    },
    {
     "name": "stderr",
     "output_type": "stream",
     "text": [
      "Epoch [532/1800]: 100%|██████████████████████████████████████████████████████| 9/9 [00:00<00:00, 134.69it/s, loss=2.14]\n"
     ]
    },
    {
     "name": "stdout",
     "output_type": "stream",
     "text": [
      "Epoch [532/1800]: Train loss: 4.7753, Valid loss: 3.1763\n"
     ]
    },
    {
     "name": "stderr",
     "output_type": "stream",
     "text": [
      "Epoch [533/1800]: 100%|██████████████████████████████████████████████████████| 9/9 [00:00<00:00, 136.73it/s, loss=2.89]\n"
     ]
    },
    {
     "name": "stdout",
     "output_type": "stream",
     "text": [
      "Epoch [533/1800]: Train loss: 3.6994, Valid loss: 7.2402\n"
     ]
    },
    {
     "name": "stderr",
     "output_type": "stream",
     "text": [
      "Epoch [534/1800]: 100%|██████████████████████████████████████████████████████| 9/9 [00:00<00:00, 143.24it/s, loss=2.47]\n"
     ]
    },
    {
     "name": "stdout",
     "output_type": "stream",
     "text": [
      "Epoch [534/1800]: Train loss: 3.0930, Valid loss: 3.6084\n"
     ]
    },
    {
     "name": "stderr",
     "output_type": "stream",
     "text": [
      "Epoch [535/1800]: 100%|██████████████████████████████████████████████████████| 9/9 [00:00<00:00, 136.73it/s, loss=3.52]\n"
     ]
    },
    {
     "name": "stdout",
     "output_type": "stream",
     "text": [
      "Epoch [535/1800]: Train loss: 3.7504, Valid loss: 2.9179\n"
     ]
    },
    {
     "name": "stderr",
     "output_type": "stream",
     "text": [
      "Epoch [536/1800]: 100%|██████████████████████████████████████████████████████| 9/9 [00:00<00:00, 138.83it/s, loss=2.69]\n"
     ]
    },
    {
     "name": "stdout",
     "output_type": "stream",
     "text": [
      "Epoch [536/1800]: Train loss: 2.6454, Valid loss: 3.8718\n"
     ]
    },
    {
     "name": "stderr",
     "output_type": "stream",
     "text": [
      "Epoch [537/1800]: 100%|██████████████████████████████████████████████████████| 9/9 [00:00<00:00, 139.51it/s, loss=3.07]\n"
     ]
    },
    {
     "name": "stdout",
     "output_type": "stream",
     "text": [
      "Epoch [537/1800]: Train loss: 2.6718, Valid loss: 2.4079\n"
     ]
    },
    {
     "name": "stderr",
     "output_type": "stream",
     "text": [
      "Epoch [538/1800]: 100%|███████████████████████████████████████████████████████| 9/9 [00:00<00:00, 138.83it/s, loss=2.9]\n"
     ]
    },
    {
     "name": "stdout",
     "output_type": "stream",
     "text": [
      "Epoch [538/1800]: Train loss: 2.7370, Valid loss: 2.2225\n"
     ]
    },
    {
     "name": "stderr",
     "output_type": "stream",
     "text": [
      "Epoch [539/1800]: 100%|██████████████████████████████████████████████████████| 9/9 [00:00<00:00, 143.24it/s, loss=2.26]\n"
     ]
    },
    {
     "name": "stdout",
     "output_type": "stream",
     "text": [
      "Epoch [539/1800]: Train loss: 2.2972, Valid loss: 2.4832\n"
     ]
    },
    {
     "name": "stderr",
     "output_type": "stream",
     "text": [
      "Epoch [540/1800]: 100%|██████████████████████████████████████████████████████| 9/9 [00:00<00:00, 141.87it/s, loss=3.29]\n"
     ]
    },
    {
     "name": "stdout",
     "output_type": "stream",
     "text": [
      "Epoch [540/1800]: Train loss: 2.4623, Valid loss: 2.4159\n"
     ]
    },
    {
     "name": "stderr",
     "output_type": "stream",
     "text": [
      "Epoch [541/1800]: 100%|██████████████████████████████████████████████████████| 9/9 [00:00<00:00, 143.24it/s, loss=3.45]\n"
     ]
    },
    {
     "name": "stdout",
     "output_type": "stream",
     "text": [
      "Epoch [541/1800]: Train loss: 3.1631, Valid loss: 2.4503\n"
     ]
    },
    {
     "name": "stderr",
     "output_type": "stream",
     "text": [
      "Epoch [542/1800]: 100%|██████████████████████████████████████████████████████| 9/9 [00:00<00:00, 134.69it/s, loss=2.06]\n"
     ]
    },
    {
     "name": "stdout",
     "output_type": "stream",
     "text": [
      "Epoch [542/1800]: Train loss: 2.8306, Valid loss: 3.0253\n"
     ]
    },
    {
     "name": "stderr",
     "output_type": "stream",
     "text": [
      "Epoch [543/1800]: 100%|██████████████████████████████████████████████████████| 9/9 [00:00<00:00, 138.83it/s, loss=2.39]\n"
     ]
    },
    {
     "name": "stdout",
     "output_type": "stream",
     "text": [
      "Epoch [543/1800]: Train loss: 2.4140, Valid loss: 2.0724\n",
      "Saving model with loss 2.072...\n"
     ]
    },
    {
     "name": "stderr",
     "output_type": "stream",
     "text": [
      "Epoch [544/1800]: 100%|██████████████████████████████████████████████████████| 9/9 [00:00<00:00, 136.73it/s, loss=3.02]\n"
     ]
    },
    {
     "name": "stdout",
     "output_type": "stream",
     "text": [
      "Epoch [544/1800]: Train loss: 2.6419, Valid loss: 2.4228\n"
     ]
    },
    {
     "name": "stderr",
     "output_type": "stream",
     "text": [
      "Epoch [545/1800]: 100%|██████████████████████████████████████████████████████| 9/9 [00:00<00:00, 141.00it/s, loss=2.07]\n"
     ]
    },
    {
     "name": "stdout",
     "output_type": "stream",
     "text": [
      "Epoch [545/1800]: Train loss: 2.6308, Valid loss: 3.5551\n"
     ]
    },
    {
     "name": "stderr",
     "output_type": "stream",
     "text": [
      "Epoch [546/1800]: 100%|███████████████████████████████████████████████████████| 9/9 [00:00<00:00, 138.83it/s, loss=5.7]\n"
     ]
    },
    {
     "name": "stdout",
     "output_type": "stream",
     "text": [
      "Epoch [546/1800]: Train loss: 3.6964, Valid loss: 2.9152\n"
     ]
    },
    {
     "name": "stderr",
     "output_type": "stream",
     "text": [
      "Epoch [547/1800]: 100%|██████████████████████████████████████████████████████| 9/9 [00:00<00:00, 138.83it/s, loss=2.33]\n"
     ]
    },
    {
     "name": "stdout",
     "output_type": "stream",
     "text": [
      "Epoch [547/1800]: Train loss: 3.1143, Valid loss: 2.4778\n"
     ]
    },
    {
     "name": "stderr",
     "output_type": "stream",
     "text": [
      "Epoch [548/1800]: 100%|██████████████████████████████████████████████████████| 9/9 [00:00<00:00, 136.77it/s, loss=2.52]\n"
     ]
    },
    {
     "name": "stdout",
     "output_type": "stream",
     "text": [
      "Epoch [548/1800]: Train loss: 2.4460, Valid loss: 2.2987\n"
     ]
    },
    {
     "name": "stderr",
     "output_type": "stream",
     "text": [
      "Epoch [549/1800]: 100%|██████████████████████████████████████████████████████| 9/9 [00:00<00:00, 141.17it/s, loss=2.63]\n"
     ]
    },
    {
     "name": "stdout",
     "output_type": "stream",
     "text": [
      "Epoch [549/1800]: Train loss: 2.4232, Valid loss: 2.6124\n"
     ]
    },
    {
     "name": "stderr",
     "output_type": "stream",
     "text": [
      "Epoch [550/1800]: 100%|██████████████████████████████████████████████████████| 9/9 [00:00<00:00, 137.28it/s, loss=2.55]\n"
     ]
    },
    {
     "name": "stdout",
     "output_type": "stream",
     "text": [
      "Epoch [550/1800]: Train loss: 2.8092, Valid loss: 2.6466\n"
     ]
    },
    {
     "name": "stderr",
     "output_type": "stream",
     "text": [
      "Epoch [551/1800]: 100%|██████████████████████████████████████████████████████| 9/9 [00:00<00:00, 138.83it/s, loss=1.94]\n"
     ]
    },
    {
     "name": "stdout",
     "output_type": "stream",
     "text": [
      "Epoch [551/1800]: Train loss: 2.3979, Valid loss: 2.4407\n"
     ]
    },
    {
     "name": "stderr",
     "output_type": "stream",
     "text": [
      "Epoch [552/1800]: 100%|███████████████████████████████████████████████████████| 9/9 [00:00<00:00, 143.34it/s, loss=2.5]\n"
     ]
    },
    {
     "name": "stdout",
     "output_type": "stream",
     "text": [
      "Epoch [552/1800]: Train loss: 2.8957, Valid loss: 4.6438\n"
     ]
    },
    {
     "name": "stderr",
     "output_type": "stream",
     "text": [
      "Epoch [553/1800]: 100%|██████████████████████████████████████████████████████| 9/9 [00:00<00:00, 141.00it/s, loss=2.99]\n"
     ]
    },
    {
     "name": "stdout",
     "output_type": "stream",
     "text": [
      "Epoch [553/1800]: Train loss: 3.0074, Valid loss: 2.3065\n"
     ]
    },
    {
     "name": "stderr",
     "output_type": "stream",
     "text": [
      "Epoch [554/1800]: 100%|██████████████████████████████████████████████████████| 9/9 [00:00<00:00, 136.73it/s, loss=2.96]\n"
     ]
    },
    {
     "name": "stdout",
     "output_type": "stream",
     "text": [
      "Epoch [554/1800]: Train loss: 2.3421, Valid loss: 2.5013\n"
     ]
    },
    {
     "name": "stderr",
     "output_type": "stream",
     "text": [
      "Epoch [555/1800]: 100%|██████████████████████████████████████████████████████| 9/9 [00:00<00:00, 136.73it/s, loss=3.15]\n"
     ]
    },
    {
     "name": "stdout",
     "output_type": "stream",
     "text": [
      "Epoch [555/1800]: Train loss: 2.5348, Valid loss: 2.7841\n"
     ]
    },
    {
     "name": "stderr",
     "output_type": "stream",
     "text": [
      "Epoch [556/1800]: 100%|███████████████████████████████████████████████████████| 9/9 [00:00<00:00, 136.73it/s, loss=2.4]\n"
     ]
    },
    {
     "name": "stdout",
     "output_type": "stream",
     "text": [
      "Epoch [556/1800]: Train loss: 2.3449, Valid loss: 2.2899\n"
     ]
    },
    {
     "name": "stderr",
     "output_type": "stream",
     "text": [
      "Epoch [557/1800]: 100%|██████████████████████████████████████████████████████| 9/9 [00:00<00:00, 138.83it/s, loss=2.46]\n"
     ]
    },
    {
     "name": "stdout",
     "output_type": "stream",
     "text": [
      "Epoch [557/1800]: Train loss: 2.4041, Valid loss: 2.8020\n"
     ]
    },
    {
     "name": "stderr",
     "output_type": "stream",
     "text": [
      "Epoch [558/1800]: 100%|██████████████████████████████████████████████████████| 9/9 [00:00<00:00, 104.93it/s, loss=2.56]\n"
     ]
    },
    {
     "name": "stdout",
     "output_type": "stream",
     "text": [
      "Epoch [558/1800]: Train loss: 2.3752, Valid loss: 3.2570\n"
     ]
    },
    {
     "name": "stderr",
     "output_type": "stream",
     "text": [
      "Epoch [559/1800]: 100%|██████████████████████████████████████████████████████| 9/9 [00:00<00:00, 111.41it/s, loss=3.18]\n"
     ]
    },
    {
     "name": "stdout",
     "output_type": "stream",
     "text": [
      "Epoch [559/1800]: Train loss: 2.6680, Valid loss: 4.3137\n"
     ]
    },
    {
     "name": "stderr",
     "output_type": "stream",
     "text": [
      "Epoch [560/1800]: 100%|██████████████████████████████████████████████████████| 9/9 [00:00<00:00, 135.47it/s, loss=2.29]\n"
     ]
    },
    {
     "name": "stdout",
     "output_type": "stream",
     "text": [
      "Epoch [560/1800]: Train loss: 2.7170, Valid loss: 2.5877\n"
     ]
    },
    {
     "name": "stderr",
     "output_type": "stream",
     "text": [
      "Epoch [561/1800]: 100%|██████████████████████████████████████████████████████| 9/9 [00:00<00:00, 138.83it/s, loss=2.27]\n"
     ]
    },
    {
     "name": "stdout",
     "output_type": "stream",
     "text": [
      "Epoch [561/1800]: Train loss: 2.2904, Valid loss: 2.5995\n"
     ]
    },
    {
     "name": "stderr",
     "output_type": "stream",
     "text": [
      "Epoch [562/1800]: 100%|██████████████████████████████████████████████████████| 9/9 [00:00<00:00, 133.05it/s, loss=2.09]\n"
     ]
    },
    {
     "name": "stdout",
     "output_type": "stream",
     "text": [
      "Epoch [562/1800]: Train loss: 2.3931, Valid loss: 3.4826\n"
     ]
    },
    {
     "name": "stderr",
     "output_type": "stream",
     "text": [
      "Epoch [563/1800]: 100%|██████████████████████████████████████████████████████| 9/9 [00:00<00:00, 134.68it/s, loss=2.82]\n"
     ]
    },
    {
     "name": "stdout",
     "output_type": "stream",
     "text": [
      "Epoch [563/1800]: Train loss: 2.6415, Valid loss: 2.9134\n"
     ]
    },
    {
     "name": "stderr",
     "output_type": "stream",
     "text": [
      "Epoch [564/1800]: 100%|██████████████████████████████████████████████████████| 9/9 [00:00<00:00, 134.68it/s, loss=2.49]\n"
     ]
    },
    {
     "name": "stdout",
     "output_type": "stream",
     "text": [
      "Epoch [564/1800]: Train loss: 2.5672, Valid loss: 2.5396\n"
     ]
    },
    {
     "name": "stderr",
     "output_type": "stream",
     "text": [
      "Epoch [565/1800]: 100%|██████████████████████████████████████████████████████| 9/9 [00:00<00:00, 138.83it/s, loss=2.19]\n"
     ]
    },
    {
     "name": "stdout",
     "output_type": "stream",
     "text": [
      "Epoch [565/1800]: Train loss: 2.2959, Valid loss: 2.4175\n"
     ]
    },
    {
     "name": "stderr",
     "output_type": "stream",
     "text": [
      "Epoch [566/1800]: 100%|██████████████████████████████████████████████████████| 9/9 [00:00<00:00, 128.91it/s, loss=2.87]\n"
     ]
    },
    {
     "name": "stdout",
     "output_type": "stream",
     "text": [
      "Epoch [566/1800]: Train loss: 2.8086, Valid loss: 2.5229\n"
     ]
    },
    {
     "name": "stderr",
     "output_type": "stream",
     "text": [
      "Epoch [567/1800]: 100%|████████████████████████████████████████████████████████| 9/9 [00:00<00:00, 84.34it/s, loss=2.8]\n"
     ]
    },
    {
     "name": "stdout",
     "output_type": "stream",
     "text": [
      "Epoch [567/1800]: Train loss: 2.5766, Valid loss: 2.3026\n"
     ]
    },
    {
     "name": "stderr",
     "output_type": "stream",
     "text": [
      "Epoch [568/1800]: 100%|██████████████████████████████████████████████████████| 9/9 [00:00<00:00, 134.76it/s, loss=2.58]\n"
     ]
    },
    {
     "name": "stdout",
     "output_type": "stream",
     "text": [
      "Epoch [568/1800]: Train loss: 2.3512, Valid loss: 4.8609\n"
     ]
    },
    {
     "name": "stderr",
     "output_type": "stream",
     "text": [
      "Epoch [569/1800]: 100%|██████████████████████████████████████████████████████| 9/9 [00:00<00:00, 136.64it/s, loss=2.35]\n"
     ]
    },
    {
     "name": "stdout",
     "output_type": "stream",
     "text": [
      "Epoch [569/1800]: Train loss: 2.6809, Valid loss: 2.8467\n"
     ]
    },
    {
     "name": "stderr",
     "output_type": "stream",
     "text": [
      "Epoch [570/1800]: 100%|███████████████████████████████████████████████████████| 9/9 [00:00<00:00, 141.00it/s, loss=2.6]\n"
     ]
    },
    {
     "name": "stdout",
     "output_type": "stream",
     "text": [
      "Epoch [570/1800]: Train loss: 3.0828, Valid loss: 5.3602\n"
     ]
    },
    {
     "name": "stderr",
     "output_type": "stream",
     "text": [
      "Epoch [571/1800]: 100%|██████████████████████████████████████████████████████| 9/9 [00:00<00:00, 137.90it/s, loss=4.81]\n"
     ]
    },
    {
     "name": "stdout",
     "output_type": "stream",
     "text": [
      "Epoch [571/1800]: Train loss: 4.1302, Valid loss: 2.6189\n"
     ]
    },
    {
     "name": "stderr",
     "output_type": "stream",
     "text": [
      "Epoch [572/1800]: 100%|██████████████████████████████████████████████████████| 9/9 [00:00<00:00, 136.77it/s, loss=2.46]\n"
     ]
    },
    {
     "name": "stdout",
     "output_type": "stream",
     "text": [
      "Epoch [572/1800]: Train loss: 2.5958, Valid loss: 4.6259\n"
     ]
    },
    {
     "name": "stderr",
     "output_type": "stream",
     "text": [
      "Epoch [573/1800]: 100%|███████████████████████████████████████████████████████| 9/9 [00:00<00:00, 134.69it/s, loss=2.9]\n"
     ]
    },
    {
     "name": "stdout",
     "output_type": "stream",
     "text": [
      "Epoch [573/1800]: Train loss: 2.6129, Valid loss: 2.9600\n"
     ]
    },
    {
     "name": "stderr",
     "output_type": "stream",
     "text": [
      "Epoch [574/1800]: 100%|██████████████████████████████████████████████████████| 9/9 [00:00<00:00, 141.00it/s, loss=1.79]\n"
     ]
    },
    {
     "name": "stdout",
     "output_type": "stream",
     "text": [
      "Epoch [574/1800]: Train loss: 2.5615, Valid loss: 2.8344\n"
     ]
    },
    {
     "name": "stderr",
     "output_type": "stream",
     "text": [
      "Epoch [575/1800]: 100%|██████████████████████████████████████████████████████| 9/9 [00:00<00:00, 144.02it/s, loss=3.01]\n"
     ]
    },
    {
     "name": "stdout",
     "output_type": "stream",
     "text": [
      "Epoch [575/1800]: Train loss: 2.6878, Valid loss: 3.0617\n"
     ]
    },
    {
     "name": "stderr",
     "output_type": "stream",
     "text": [
      "Epoch [576/1800]: 100%|██████████████████████████████████████████████████████| 9/9 [00:00<00:00, 138.48it/s, loss=3.63]\n"
     ]
    },
    {
     "name": "stdout",
     "output_type": "stream",
     "text": [
      "Epoch [576/1800]: Train loss: 2.5655, Valid loss: 2.6387\n"
     ]
    },
    {
     "name": "stderr",
     "output_type": "stream",
     "text": [
      "Epoch [577/1800]: 100%|██████████████████████████████████████████████████████| 9/9 [00:00<00:00, 134.87it/s, loss=2.41]\n"
     ]
    },
    {
     "name": "stdout",
     "output_type": "stream",
     "text": [
      "Epoch [577/1800]: Train loss: 2.5913, Valid loss: 2.1479\n"
     ]
    },
    {
     "name": "stderr",
     "output_type": "stream",
     "text": [
      "Epoch [578/1800]: 100%|██████████████████████████████████████████████████████| 9/9 [00:00<00:00, 138.83it/s, loss=2.25]\n"
     ]
    },
    {
     "name": "stdout",
     "output_type": "stream",
     "text": [
      "Epoch [578/1800]: Train loss: 2.2932, Valid loss: 3.2268\n"
     ]
    },
    {
     "name": "stderr",
     "output_type": "stream",
     "text": [
      "Epoch [579/1800]: 100%|██████████████████████████████████████████████████████| 9/9 [00:00<00:00, 136.73it/s, loss=2.79]\n"
     ]
    },
    {
     "name": "stdout",
     "output_type": "stream",
     "text": [
      "Epoch [579/1800]: Train loss: 2.7290, Valid loss: 2.6188\n"
     ]
    },
    {
     "name": "stderr",
     "output_type": "stream",
     "text": [
      "Epoch [580/1800]: 100%|██████████████████████████████████████████████████████| 9/9 [00:00<00:00, 143.24it/s, loss=3.28]\n"
     ]
    },
    {
     "name": "stdout",
     "output_type": "stream",
     "text": [
      "Epoch [580/1800]: Train loss: 2.6026, Valid loss: 3.0055\n"
     ]
    },
    {
     "name": "stderr",
     "output_type": "stream",
     "text": [
      "Epoch [581/1800]: 100%|██████████████████████████████████████████████████████| 9/9 [00:00<00:00, 140.99it/s, loss=2.88]\n"
     ]
    },
    {
     "name": "stdout",
     "output_type": "stream",
     "text": [
      "Epoch [581/1800]: Train loss: 2.4795, Valid loss: 2.9367\n"
     ]
    },
    {
     "name": "stderr",
     "output_type": "stream",
     "text": [
      "Epoch [582/1800]: 100%|██████████████████████████████████████████████████████| 9/9 [00:00<00:00, 145.48it/s, loss=1.54]\n"
     ]
    },
    {
     "name": "stdout",
     "output_type": "stream",
     "text": [
      "Epoch [582/1800]: Train loss: 2.5690, Valid loss: 2.7685\n"
     ]
    },
    {
     "name": "stderr",
     "output_type": "stream",
     "text": [
      "Epoch [583/1800]: 100%|██████████████████████████████████████████████████████| 9/9 [00:00<00:00, 140.02it/s, loss=1.84]\n"
     ]
    },
    {
     "name": "stdout",
     "output_type": "stream",
     "text": [
      "Epoch [583/1800]: Train loss: 2.2735, Valid loss: 2.2024\n"
     ]
    },
    {
     "name": "stderr",
     "output_type": "stream",
     "text": [
      "Epoch [584/1800]: 100%|██████████████████████████████████████████████████████| 9/9 [00:00<00:00, 138.83it/s, loss=1.88]\n"
     ]
    },
    {
     "name": "stdout",
     "output_type": "stream",
     "text": [
      "Epoch [584/1800]: Train loss: 2.3883, Valid loss: 5.8919\n"
     ]
    },
    {
     "name": "stderr",
     "output_type": "stream",
     "text": [
      "Epoch [585/1800]: 100%|██████████████████████████████████████████████████████| 9/9 [00:00<00:00, 136.73it/s, loss=3.42]\n"
     ]
    },
    {
     "name": "stdout",
     "output_type": "stream",
     "text": [
      "Epoch [585/1800]: Train loss: 3.7262, Valid loss: 3.0589\n"
     ]
    },
    {
     "name": "stderr",
     "output_type": "stream",
     "text": [
      "Epoch [586/1800]: 100%|██████████████████████████████████████████████████████| 9/9 [00:00<00:00, 141.00it/s, loss=2.41]\n"
     ]
    },
    {
     "name": "stdout",
     "output_type": "stream",
     "text": [
      "Epoch [586/1800]: Train loss: 3.2929, Valid loss: 2.6468\n"
     ]
    },
    {
     "name": "stderr",
     "output_type": "stream",
     "text": [
      "Epoch [587/1800]: 100%|██████████████████████████████████████████████████████| 9/9 [00:00<00:00, 143.24it/s, loss=2.66]\n"
     ]
    },
    {
     "name": "stdout",
     "output_type": "stream",
     "text": [
      "Epoch [587/1800]: Train loss: 2.6390, Valid loss: 3.0729\n"
     ]
    },
    {
     "name": "stderr",
     "output_type": "stream",
     "text": [
      "Epoch [588/1800]: 100%|██████████████████████████████████████████████████████| 9/9 [00:00<00:00, 135.93it/s, loss=2.66]\n"
     ]
    },
    {
     "name": "stdout",
     "output_type": "stream",
     "text": [
      "Epoch [588/1800]: Train loss: 2.5430, Valid loss: 2.5713\n"
     ]
    },
    {
     "name": "stderr",
     "output_type": "stream",
     "text": [
      "Epoch [589/1800]: 100%|██████████████████████████████████████████████████████| 9/9 [00:00<00:00, 136.73it/s, loss=2.33]\n"
     ]
    },
    {
     "name": "stdout",
     "output_type": "stream",
     "text": [
      "Epoch [589/1800]: Train loss: 2.3603, Valid loss: 2.5241\n"
     ]
    },
    {
     "name": "stderr",
     "output_type": "stream",
     "text": [
      "Epoch [590/1800]: 100%|██████████████████████████████████████████████████████| 9/9 [00:00<00:00, 136.73it/s, loss=2.55]\n"
     ]
    },
    {
     "name": "stdout",
     "output_type": "stream",
     "text": [
      "Epoch [590/1800]: Train loss: 2.6865, Valid loss: 2.1743\n"
     ]
    },
    {
     "name": "stderr",
     "output_type": "stream",
     "text": [
      "Epoch [591/1800]: 100%|██████████████████████████████████████████████████████| 9/9 [00:00<00:00, 141.12it/s, loss=2.64]\n"
     ]
    },
    {
     "name": "stdout",
     "output_type": "stream",
     "text": [
      "Epoch [591/1800]: Train loss: 2.2333, Valid loss: 2.9486\n"
     ]
    },
    {
     "name": "stderr",
     "output_type": "stream",
     "text": [
      "Epoch [592/1800]: 100%|██████████████████████████████████████████████████████| 9/9 [00:00<00:00, 143.24it/s, loss=2.33]\n"
     ]
    },
    {
     "name": "stdout",
     "output_type": "stream",
     "text": [
      "Epoch [592/1800]: Train loss: 2.1824, Valid loss: 2.4793\n"
     ]
    },
    {
     "name": "stderr",
     "output_type": "stream",
     "text": [
      "Epoch [593/1800]: 100%|██████████████████████████████████████████████████████| 9/9 [00:00<00:00, 138.41it/s, loss=2.61]\n"
     ]
    },
    {
     "name": "stdout",
     "output_type": "stream",
     "text": [
      "Epoch [593/1800]: Train loss: 2.6592, Valid loss: 2.4232\n"
     ]
    },
    {
     "name": "stderr",
     "output_type": "stream",
     "text": [
      "Epoch [594/1800]: 100%|███████████████████████████████████████████████████████| 9/9 [00:00<00:00, 90.24it/s, loss=2.19]\n"
     ]
    },
    {
     "name": "stdout",
     "output_type": "stream",
     "text": [
      "Epoch [594/1800]: Train loss: 2.2381, Valid loss: 2.5548\n"
     ]
    },
    {
     "name": "stderr",
     "output_type": "stream",
     "text": [
      "Epoch [595/1800]: 100%|██████████████████████████████████████████████████████| 9/9 [00:00<00:00, 115.69it/s, loss=2.11]\n"
     ]
    },
    {
     "name": "stdout",
     "output_type": "stream",
     "text": [
      "Epoch [595/1800]: Train loss: 2.1863, Valid loss: 2.1023\n"
     ]
    },
    {
     "name": "stderr",
     "output_type": "stream",
     "text": [
      "Epoch [596/1800]: 100%|██████████████████████████████████████████████████████| 9/9 [00:00<00:00, 134.70it/s, loss=2.19]\n"
     ]
    },
    {
     "name": "stdout",
     "output_type": "stream",
     "text": [
      "Epoch [596/1800]: Train loss: 2.4211, Valid loss: 2.7985\n"
     ]
    },
    {
     "name": "stderr",
     "output_type": "stream",
     "text": [
      "Epoch [597/1800]: 100%|██████████████████████████████████████████████████████| 9/9 [00:00<00:00, 136.28it/s, loss=4.11]\n"
     ]
    },
    {
     "name": "stdout",
     "output_type": "stream",
     "text": [
      "Epoch [597/1800]: Train loss: 3.4797, Valid loss: 4.4317\n"
     ]
    },
    {
     "name": "stderr",
     "output_type": "stream",
     "text": [
      "Epoch [598/1800]: 100%|██████████████████████████████████████████████████████| 9/9 [00:00<00:00, 134.11it/s, loss=9.92]\n"
     ]
    },
    {
     "name": "stdout",
     "output_type": "stream",
     "text": [
      "Epoch [598/1800]: Train loss: 5.8548, Valid loss: 4.5020\n"
     ]
    },
    {
     "name": "stderr",
     "output_type": "stream",
     "text": [
      "Epoch [599/1800]: 100%|██████████████████████████████████████████████████████| 9/9 [00:00<00:00, 130.78it/s, loss=8.05]\n"
     ]
    },
    {
     "name": "stdout",
     "output_type": "stream",
     "text": [
      "Epoch [599/1800]: Train loss: 6.2192, Valid loss: 2.6233\n"
     ]
    },
    {
     "name": "stderr",
     "output_type": "stream",
     "text": [
      "Epoch [600/1800]: 100%|██████████████████████████████████████████████████████| 9/9 [00:00<00:00, 127.69it/s, loss=5.89]\n"
     ]
    },
    {
     "name": "stdout",
     "output_type": "stream",
     "text": [
      "Epoch [600/1800]: Train loss: 4.7247, Valid loss: 4.5048\n"
     ]
    },
    {
     "name": "stderr",
     "output_type": "stream",
     "text": [
      "Epoch [601/1800]: 100%|██████████████████████████████████████████████████████| 9/9 [00:00<00:00, 134.69it/s, loss=2.93]\n"
     ]
    },
    {
     "name": "stdout",
     "output_type": "stream",
     "text": [
      "Epoch [601/1800]: Train loss: 3.6428, Valid loss: 3.3765\n"
     ]
    },
    {
     "name": "stderr",
     "output_type": "stream",
     "text": [
      "Epoch [602/1800]: 100%|██████████████████████████████████████████████████████| 9/9 [00:00<00:00, 135.12it/s, loss=2.75]\n"
     ]
    },
    {
     "name": "stdout",
     "output_type": "stream",
     "text": [
      "Epoch [602/1800]: Train loss: 2.5429, Valid loss: 3.3116\n"
     ]
    },
    {
     "name": "stderr",
     "output_type": "stream",
     "text": [
      "Epoch [603/1800]: 100%|██████████████████████████████████████████████████████| 9/9 [00:00<00:00, 130.78it/s, loss=5.02]\n"
     ]
    },
    {
     "name": "stdout",
     "output_type": "stream",
     "text": [
      "Epoch [603/1800]: Train loss: 3.3414, Valid loss: 2.5989\n"
     ]
    },
    {
     "name": "stderr",
     "output_type": "stream",
     "text": [
      "Epoch [604/1800]: 100%|██████████████████████████████████████████████████████| 9/9 [00:00<00:00, 136.66it/s, loss=1.99]\n"
     ]
    },
    {
     "name": "stdout",
     "output_type": "stream",
     "text": [
      "Epoch [604/1800]: Train loss: 2.9749, Valid loss: 2.7152\n"
     ]
    },
    {
     "name": "stderr",
     "output_type": "stream",
     "text": [
      "Epoch [605/1800]: 100%|██████████████████████████████████████████████████████| 9/9 [00:00<00:00, 132.71it/s, loss=2.84]\n"
     ]
    },
    {
     "name": "stdout",
     "output_type": "stream",
     "text": [
      "Epoch [605/1800]: Train loss: 2.3550, Valid loss: 2.1831\n"
     ]
    },
    {
     "name": "stderr",
     "output_type": "stream",
     "text": [
      "Epoch [606/1800]: 100%|██████████████████████████████████████████████████████| 9/9 [00:00<00:00, 136.73it/s, loss=2.26]\n"
     ]
    },
    {
     "name": "stdout",
     "output_type": "stream",
     "text": [
      "Epoch [606/1800]: Train loss: 2.4014, Valid loss: 4.0417\n"
     ]
    },
    {
     "name": "stderr",
     "output_type": "stream",
     "text": [
      "Epoch [607/1800]: 100%|███████████████████████████████████████████████████████| 9/9 [00:00<00:00, 132.71it/s, loss=2.9]\n"
     ]
    },
    {
     "name": "stdout",
     "output_type": "stream",
     "text": [
      "Epoch [607/1800]: Train loss: 3.0178, Valid loss: 2.2942\n"
     ]
    },
    {
     "name": "stderr",
     "output_type": "stream",
     "text": [
      "Epoch [608/1800]: 100%|██████████████████████████████████████████████████████| 9/9 [00:00<00:00, 132.37it/s, loss=2.21]\n"
     ]
    },
    {
     "name": "stdout",
     "output_type": "stream",
     "text": [
      "Epoch [608/1800]: Train loss: 2.2953, Valid loss: 2.0817\n"
     ]
    },
    {
     "name": "stderr",
     "output_type": "stream",
     "text": [
      "Epoch [609/1800]: 100%|███████████████████████████████████████████████████████| 9/9 [00:00<00:00, 83.56it/s, loss=2.29]\n"
     ]
    },
    {
     "name": "stdout",
     "output_type": "stream",
     "text": [
      "Epoch [609/1800]: Train loss: 2.2927, Valid loss: 2.8746\n"
     ]
    },
    {
     "name": "stderr",
     "output_type": "stream",
     "text": [
      "Epoch [610/1800]: 100%|██████████████████████████████████████████████████████| 9/9 [00:00<00:00, 134.69it/s, loss=2.23]\n"
     ]
    },
    {
     "name": "stdout",
     "output_type": "stream",
     "text": [
      "Epoch [610/1800]: Train loss: 2.4902, Valid loss: 2.6783\n"
     ]
    },
    {
     "name": "stderr",
     "output_type": "stream",
     "text": [
      "Epoch [611/1800]: 100%|██████████████████████████████████████████████████████| 9/9 [00:00<00:00, 143.25it/s, loss=2.04]\n"
     ]
    },
    {
     "name": "stdout",
     "output_type": "stream",
     "text": [
      "Epoch [611/1800]: Train loss: 2.2117, Valid loss: 2.5221\n"
     ]
    },
    {
     "name": "stderr",
     "output_type": "stream",
     "text": [
      "Epoch [612/1800]: 100%|███████████████████████████████████████████████████████| 9/9 [00:00<00:00, 132.72it/s, loss=2.2]\n"
     ]
    },
    {
     "name": "stdout",
     "output_type": "stream",
     "text": [
      "Epoch [612/1800]: Train loss: 2.2899, Valid loss: 2.4658\n"
     ]
    },
    {
     "name": "stderr",
     "output_type": "stream",
     "text": [
      "Epoch [613/1800]: 100%|██████████████████████████████████████████████████████| 9/9 [00:00<00:00, 143.24it/s, loss=4.29]\n"
     ]
    },
    {
     "name": "stdout",
     "output_type": "stream",
     "text": [
      "Epoch [613/1800]: Train loss: 3.7762, Valid loss: 7.8383\n"
     ]
    },
    {
     "name": "stderr",
     "output_type": "stream",
     "text": [
      "Epoch [614/1800]: 100%|██████████████████████████████████████████████████████| 9/9 [00:00<00:00, 143.25it/s, loss=2.83]\n"
     ]
    },
    {
     "name": "stdout",
     "output_type": "stream",
     "text": [
      "Epoch [614/1800]: Train loss: 4.2528, Valid loss: 5.3012\n"
     ]
    },
    {
     "name": "stderr",
     "output_type": "stream",
     "text": [
      "Epoch [615/1800]: 100%|██████████████████████████████████████████████████████| 9/9 [00:00<00:00, 137.41it/s, loss=3.03]\n"
     ]
    },
    {
     "name": "stdout",
     "output_type": "stream",
     "text": [
      "Epoch [615/1800]: Train loss: 2.8660, Valid loss: 2.9255\n"
     ]
    },
    {
     "name": "stderr",
     "output_type": "stream",
     "text": [
      "Epoch [616/1800]: 100%|██████████████████████████████████████████████████████| 9/9 [00:00<00:00, 138.83it/s, loss=2.27]\n"
     ]
    },
    {
     "name": "stdout",
     "output_type": "stream",
     "text": [
      "Epoch [616/1800]: Train loss: 2.3476, Valid loss: 3.1285\n"
     ]
    },
    {
     "name": "stderr",
     "output_type": "stream",
     "text": [
      "Epoch [617/1800]: 100%|██████████████████████████████████████████████████████| 9/9 [00:00<00:00, 132.71it/s, loss=3.04]\n"
     ]
    },
    {
     "name": "stdout",
     "output_type": "stream",
     "text": [
      "Epoch [617/1800]: Train loss: 2.5476, Valid loss: 2.1625\n"
     ]
    },
    {
     "name": "stderr",
     "output_type": "stream",
     "text": [
      "Epoch [618/1800]: 100%|██████████████████████████████████████████████████████| 9/9 [00:00<00:00, 141.19it/s, loss=2.33]\n"
     ]
    },
    {
     "name": "stdout",
     "output_type": "stream",
     "text": [
      "Epoch [618/1800]: Train loss: 2.3792, Valid loss: 2.4434\n"
     ]
    },
    {
     "name": "stderr",
     "output_type": "stream",
     "text": [
      "Epoch [619/1800]: 100%|██████████████████████████████████████████████████████| 9/9 [00:00<00:00, 138.81it/s, loss=2.32]\n"
     ]
    },
    {
     "name": "stdout",
     "output_type": "stream",
     "text": [
      "Epoch [619/1800]: Train loss: 2.4297, Valid loss: 4.0673\n"
     ]
    },
    {
     "name": "stderr",
     "output_type": "stream",
     "text": [
      "Epoch [620/1800]: 100%|██████████████████████████████████████████████████████| 9/9 [00:00<00:00, 132.72it/s, loss=3.01]\n"
     ]
    },
    {
     "name": "stdout",
     "output_type": "stream",
     "text": [
      "Epoch [620/1800]: Train loss: 2.8576, Valid loss: 2.9106\n"
     ]
    },
    {
     "name": "stderr",
     "output_type": "stream",
     "text": [
      "Epoch [621/1800]: 100%|███████████████████████████████████████████████████████| 9/9 [00:00<00:00, 136.63it/s, loss=2.4]\n"
     ]
    },
    {
     "name": "stdout",
     "output_type": "stream",
     "text": [
      "Epoch [621/1800]: Train loss: 2.4251, Valid loss: 2.9787\n"
     ]
    },
    {
     "name": "stderr",
     "output_type": "stream",
     "text": [
      "Epoch [622/1800]: 100%|██████████████████████████████████████████████████████| 9/9 [00:00<00:00, 141.00it/s, loss=2.84]\n"
     ]
    },
    {
     "name": "stdout",
     "output_type": "stream",
     "text": [
      "Epoch [622/1800]: Train loss: 2.4535, Valid loss: 2.2802\n"
     ]
    },
    {
     "name": "stderr",
     "output_type": "stream",
     "text": [
      "Epoch [623/1800]: 100%|██████████████████████████████████████████████████████| 9/9 [00:00<00:00, 134.69it/s, loss=2.34]\n"
     ]
    },
    {
     "name": "stdout",
     "output_type": "stream",
     "text": [
      "Epoch [623/1800]: Train loss: 2.5002, Valid loss: 2.5774\n"
     ]
    },
    {
     "name": "stderr",
     "output_type": "stream",
     "text": [
      "Epoch [624/1800]: 100%|██████████████████████████████████████████████████████| 9/9 [00:00<00:00, 138.84it/s, loss=2.44]\n"
     ]
    },
    {
     "name": "stdout",
     "output_type": "stream",
     "text": [
      "Epoch [624/1800]: Train loss: 2.3382, Valid loss: 2.5076\n"
     ]
    },
    {
     "name": "stderr",
     "output_type": "stream",
     "text": [
      "Epoch [625/1800]: 100%|██████████████████████████████████████████████████████| 9/9 [00:00<00:00, 139.56it/s, loss=3.05]\n"
     ]
    },
    {
     "name": "stdout",
     "output_type": "stream",
     "text": [
      "Epoch [625/1800]: Train loss: 2.6510, Valid loss: 3.0265\n"
     ]
    },
    {
     "name": "stderr",
     "output_type": "stream",
     "text": [
      "Epoch [626/1800]: 100%|██████████████████████████████████████████████████████| 9/9 [00:00<00:00, 132.71it/s, loss=2.26]\n"
     ]
    },
    {
     "name": "stdout",
     "output_type": "stream",
     "text": [
      "Epoch [626/1800]: Train loss: 2.8259, Valid loss: 4.9188\n"
     ]
    },
    {
     "name": "stderr",
     "output_type": "stream",
     "text": [
      "Epoch [627/1800]: 100%|████████████████████████████████████████████████████████| 9/9 [00:00<00:00, 96.00it/s, loss=4.1]\n"
     ]
    },
    {
     "name": "stdout",
     "output_type": "stream",
     "text": [
      "Epoch [627/1800]: Train loss: 3.7136, Valid loss: 2.4665\n"
     ]
    },
    {
     "name": "stderr",
     "output_type": "stream",
     "text": [
      "Epoch [628/1800]: 100%|██████████████████████████████████████████████████████| 9/9 [00:00<00:00, 121.95it/s, loss=4.52]\n"
     ]
    },
    {
     "name": "stdout",
     "output_type": "stream",
     "text": [
      "Epoch [628/1800]: Train loss: 3.9285, Valid loss: 5.5110\n"
     ]
    },
    {
     "name": "stderr",
     "output_type": "stream",
     "text": [
      "Epoch [629/1800]: 100%|██████████████████████████████████████████████████████| 9/9 [00:00<00:00, 143.24it/s, loss=5.79]\n"
     ]
    },
    {
     "name": "stdout",
     "output_type": "stream",
     "text": [
      "Epoch [629/1800]: Train loss: 4.1098, Valid loss: 4.2841\n"
     ]
    },
    {
     "name": "stderr",
     "output_type": "stream",
     "text": [
      "Epoch [630/1800]: 100%|██████████████████████████████████████████████████████| 9/9 [00:00<00:00, 138.83it/s, loss=6.15]\n"
     ]
    },
    {
     "name": "stdout",
     "output_type": "stream",
     "text": [
      "Epoch [630/1800]: Train loss: 4.5915, Valid loss: 3.6285\n"
     ]
    },
    {
     "name": "stderr",
     "output_type": "stream",
     "text": [
      "Epoch [631/1800]: 100%|██████████████████████████████████████████████████████| 9/9 [00:00<00:00, 136.72it/s, loss=3.61]\n"
     ]
    },
    {
     "name": "stdout",
     "output_type": "stream",
     "text": [
      "Epoch [631/1800]: Train loss: 3.4137, Valid loss: 2.6704\n"
     ]
    },
    {
     "name": "stderr",
     "output_type": "stream",
     "text": [
      "Epoch [632/1800]: 100%|██████████████████████████████████████████████████████| 9/9 [00:00<00:00, 134.69it/s, loss=2.37]\n"
     ]
    },
    {
     "name": "stdout",
     "output_type": "stream",
     "text": [
      "Epoch [632/1800]: Train loss: 2.7160, Valid loss: 2.7422\n"
     ]
    },
    {
     "name": "stderr",
     "output_type": "stream",
     "text": [
      "Epoch [633/1800]: 100%|██████████████████████████████████████████████████████| 9/9 [00:00<00:00, 137.67it/s, loss=1.57]\n"
     ]
    },
    {
     "name": "stdout",
     "output_type": "stream",
     "text": [
      "Epoch [633/1800]: Train loss: 2.4711, Valid loss: 2.4870\n"
     ]
    },
    {
     "name": "stderr",
     "output_type": "stream",
     "text": [
      "Epoch [634/1800]: 100%|██████████████████████████████████████████████████████| 9/9 [00:00<00:00, 145.55it/s, loss=2.28]\n"
     ]
    },
    {
     "name": "stdout",
     "output_type": "stream",
     "text": [
      "Epoch [634/1800]: Train loss: 2.5462, Valid loss: 2.4961\n"
     ]
    },
    {
     "name": "stderr",
     "output_type": "stream",
     "text": [
      "Epoch [635/1800]: 100%|██████████████████████████████████████████████████████| 9/9 [00:00<00:00, 140.34it/s, loss=2.42]\n"
     ]
    },
    {
     "name": "stdout",
     "output_type": "stream",
     "text": [
      "Epoch [635/1800]: Train loss: 2.3762, Valid loss: 3.2032\n"
     ]
    },
    {
     "name": "stderr",
     "output_type": "stream",
     "text": [
      "Epoch [636/1800]: 100%|██████████████████████████████████████████████████████| 9/9 [00:00<00:00, 145.69it/s, loss=1.98]\n"
     ]
    },
    {
     "name": "stdout",
     "output_type": "stream",
     "text": [
      "Epoch [636/1800]: Train loss: 2.6498, Valid loss: 2.7636\n"
     ]
    },
    {
     "name": "stderr",
     "output_type": "stream",
     "text": [
      "Epoch [637/1800]: 100%|██████████████████████████████████████████████████████| 9/9 [00:00<00:00, 136.73it/s, loss=1.72]\n"
     ]
    },
    {
     "name": "stdout",
     "output_type": "stream",
     "text": [
      "Epoch [637/1800]: Train loss: 2.4061, Valid loss: 3.3227\n"
     ]
    },
    {
     "name": "stderr",
     "output_type": "stream",
     "text": [
      "Epoch [638/1800]: 100%|██████████████████████████████████████████████████████| 9/9 [00:00<00:00, 138.35it/s, loss=3.23]\n"
     ]
    },
    {
     "name": "stdout",
     "output_type": "stream",
     "text": [
      "Epoch [638/1800]: Train loss: 2.5189, Valid loss: 2.4077\n"
     ]
    },
    {
     "name": "stderr",
     "output_type": "stream",
     "text": [
      "Epoch [639/1800]: 100%|██████████████████████████████████████████████████████| 9/9 [00:00<00:00, 136.73it/s, loss=2.92]\n"
     ]
    },
    {
     "name": "stdout",
     "output_type": "stream",
     "text": [
      "Epoch [639/1800]: Train loss: 2.4402, Valid loss: 2.3733\n"
     ]
    },
    {
     "name": "stderr",
     "output_type": "stream",
     "text": [
      "Epoch [640/1800]: 100%|██████████████████████████████████████████████████████| 9/9 [00:00<00:00, 136.73it/s, loss=2.61]\n"
     ]
    },
    {
     "name": "stdout",
     "output_type": "stream",
     "text": [
      "Epoch [640/1800]: Train loss: 2.3637, Valid loss: 2.4407\n"
     ]
    },
    {
     "name": "stderr",
     "output_type": "stream",
     "text": [
      "Epoch [641/1800]: 100%|██████████████████████████████████████████████████████| 9/9 [00:00<00:00, 138.83it/s, loss=2.23]\n"
     ]
    },
    {
     "name": "stdout",
     "output_type": "stream",
     "text": [
      "Epoch [641/1800]: Train loss: 2.3130, Valid loss: 3.1306\n"
     ]
    },
    {
     "name": "stderr",
     "output_type": "stream",
     "text": [
      "Epoch [642/1800]: 100%|██████████████████████████████████████████████████████| 9/9 [00:00<00:00, 141.00it/s, loss=2.37]\n"
     ]
    },
    {
     "name": "stdout",
     "output_type": "stream",
     "text": [
      "Epoch [642/1800]: Train loss: 2.5381, Valid loss: 2.9469\n"
     ]
    },
    {
     "name": "stderr",
     "output_type": "stream",
     "text": [
      "Epoch [643/1800]: 100%|██████████████████████████████████████████████████████| 9/9 [00:00<00:00, 134.69it/s, loss=2.16]\n"
     ]
    },
    {
     "name": "stdout",
     "output_type": "stream",
     "text": [
      "Epoch [643/1800]: Train loss: 2.3084, Valid loss: 2.4275\n"
     ]
    },
    {
     "name": "stderr",
     "output_type": "stream",
     "text": [
      "Epoch [644/1800]: 100%|██████████████████████████████████████████████████████| 9/9 [00:00<00:00, 143.24it/s, loss=2.17]\n"
     ]
    },
    {
     "name": "stdout",
     "output_type": "stream",
     "text": [
      "Epoch [644/1800]: Train loss: 2.3166, Valid loss: 2.1690\n"
     ]
    },
    {
     "name": "stderr",
     "output_type": "stream",
     "text": [
      "Epoch [645/1800]: 100%|██████████████████████████████████████████████████████| 9/9 [00:00<00:00, 138.83it/s, loss=3.84]\n"
     ]
    },
    {
     "name": "stdout",
     "output_type": "stream",
     "text": [
      "Epoch [645/1800]: Train loss: 2.6960, Valid loss: 2.5076\n"
     ]
    },
    {
     "name": "stderr",
     "output_type": "stream",
     "text": [
      "Epoch [646/1800]: 100%|██████████████████████████████████████████████████████| 9/9 [00:00<00:00, 141.00it/s, loss=2.19]\n"
     ]
    },
    {
     "name": "stdout",
     "output_type": "stream",
     "text": [
      "Epoch [646/1800]: Train loss: 2.5230, Valid loss: 3.3484\n"
     ]
    },
    {
     "name": "stderr",
     "output_type": "stream",
     "text": [
      "Epoch [647/1800]: 100%|██████████████████████████████████████████████████████| 9/9 [00:00<00:00, 134.69it/s, loss=2.49]\n"
     ]
    },
    {
     "name": "stdout",
     "output_type": "stream",
     "text": [
      "Epoch [647/1800]: Train loss: 2.4633, Valid loss: 2.5631\n"
     ]
    },
    {
     "name": "stderr",
     "output_type": "stream",
     "text": [
      "Epoch [648/1800]: 100%|██████████████████████████████████████████████████████| 9/9 [00:00<00:00, 134.69it/s, loss=1.84]\n"
     ]
    },
    {
     "name": "stdout",
     "output_type": "stream",
     "text": [
      "Epoch [648/1800]: Train loss: 2.2620, Valid loss: 2.4523\n"
     ]
    },
    {
     "name": "stderr",
     "output_type": "stream",
     "text": [
      "Epoch [649/1800]: 100%|██████████████████████████████████████████████████████| 9/9 [00:00<00:00, 143.24it/s, loss=1.81]\n"
     ]
    },
    {
     "name": "stdout",
     "output_type": "stream",
     "text": [
      "Epoch [649/1800]: Train loss: 2.1146, Valid loss: 2.9640\n"
     ]
    },
    {
     "name": "stderr",
     "output_type": "stream",
     "text": [
      "Epoch [650/1800]: 100%|██████████████████████████████████████████████████████| 9/9 [00:00<00:00, 136.73it/s, loss=3.41]\n"
     ]
    },
    {
     "name": "stdout",
     "output_type": "stream",
     "text": [
      "Epoch [650/1800]: Train loss: 2.6140, Valid loss: 4.5185\n"
     ]
    },
    {
     "name": "stderr",
     "output_type": "stream",
     "text": [
      "Epoch [651/1800]: 100%|███████████████████████████████████████████████████████| 9/9 [00:00<00:00, 83.04it/s, loss=1.96]\n"
     ]
    },
    {
     "name": "stdout",
     "output_type": "stream",
     "text": [
      "Epoch [651/1800]: Train loss: 3.2053, Valid loss: 3.2613\n"
     ]
    },
    {
     "name": "stderr",
     "output_type": "stream",
     "text": [
      "Epoch [652/1800]: 100%|██████████████████████████████████████████████████████| 9/9 [00:00<00:00, 136.16it/s, loss=3.28]\n"
     ]
    },
    {
     "name": "stdout",
     "output_type": "stream",
     "text": [
      "Epoch [652/1800]: Train loss: 3.1536, Valid loss: 3.6732\n"
     ]
    },
    {
     "name": "stderr",
     "output_type": "stream",
     "text": [
      "Epoch [653/1800]: 100%|██████████████████████████████████████████████████████| 9/9 [00:00<00:00, 145.54it/s, loss=3.75]\n"
     ]
    },
    {
     "name": "stdout",
     "output_type": "stream",
     "text": [
      "Epoch [653/1800]: Train loss: 3.2378, Valid loss: 4.2712\n"
     ]
    },
    {
     "name": "stderr",
     "output_type": "stream",
     "text": [
      "Epoch [654/1800]: 100%|██████████████████████████████████████████████████████| 9/9 [00:00<00:00, 138.83it/s, loss=2.93]\n"
     ]
    },
    {
     "name": "stdout",
     "output_type": "stream",
     "text": [
      "Epoch [654/1800]: Train loss: 3.5036, Valid loss: 2.6051\n"
     ]
    },
    {
     "name": "stderr",
     "output_type": "stream",
     "text": [
      "Epoch [655/1800]: 100%|███████████████████████████████████████████████████████| 9/9 [00:00<00:00, 141.00it/s, loss=1.5]\n"
     ]
    },
    {
     "name": "stdout",
     "output_type": "stream",
     "text": [
      "Epoch [655/1800]: Train loss: 2.4240, Valid loss: 2.3710\n"
     ]
    },
    {
     "name": "stderr",
     "output_type": "stream",
     "text": [
      "Epoch [656/1800]: 100%|██████████████████████████████████████████████████████| 9/9 [00:00<00:00, 141.00it/s, loss=2.37]\n"
     ]
    },
    {
     "name": "stdout",
     "output_type": "stream",
     "text": [
      "Epoch [656/1800]: Train loss: 2.3192, Valid loss: 2.5172\n"
     ]
    },
    {
     "name": "stderr",
     "output_type": "stream",
     "text": [
      "Epoch [657/1800]: 100%|██████████████████████████████████████████████████████| 9/9 [00:00<00:00, 134.69it/s, loss=3.43]\n"
     ]
    },
    {
     "name": "stdout",
     "output_type": "stream",
     "text": [
      "Epoch [657/1800]: Train loss: 2.5873, Valid loss: 2.8310\n"
     ]
    },
    {
     "name": "stderr",
     "output_type": "stream",
     "text": [
      "Epoch [658/1800]: 100%|██████████████████████████████████████████████████████| 9/9 [00:00<00:00, 141.00it/s, loss=3.12]\n"
     ]
    },
    {
     "name": "stdout",
     "output_type": "stream",
     "text": [
      "Epoch [658/1800]: Train loss: 2.6458, Valid loss: 2.7182\n"
     ]
    },
    {
     "name": "stderr",
     "output_type": "stream",
     "text": [
      "Epoch [659/1800]: 100%|██████████████████████████████████████████████████████| 9/9 [00:00<00:00, 138.83it/s, loss=2.06]\n"
     ]
    },
    {
     "name": "stdout",
     "output_type": "stream",
     "text": [
      "Epoch [659/1800]: Train loss: 2.4650, Valid loss: 2.7009\n"
     ]
    },
    {
     "name": "stderr",
     "output_type": "stream",
     "text": [
      "Epoch [660/1800]: 100%|██████████████████████████████████████████████████████| 9/9 [00:00<00:00, 145.55it/s, loss=2.83]\n"
     ]
    },
    {
     "name": "stdout",
     "output_type": "stream",
     "text": [
      "Epoch [660/1800]: Train loss: 2.4403, Valid loss: 2.9832\n"
     ]
    },
    {
     "name": "stderr",
     "output_type": "stream",
     "text": [
      "Epoch [661/1800]: 100%|██████████████████████████████████████████████████████| 9/9 [00:00<00:00, 138.83it/s, loss=3.57]\n"
     ]
    },
    {
     "name": "stdout",
     "output_type": "stream",
     "text": [
      "Epoch [661/1800]: Train loss: 3.2198, Valid loss: 4.3557\n"
     ]
    },
    {
     "name": "stderr",
     "output_type": "stream",
     "text": [
      "Epoch [662/1800]: 100%|██████████████████████████████████████████████████████| 9/9 [00:00<00:00, 141.00it/s, loss=3.26]\n"
     ]
    },
    {
     "name": "stdout",
     "output_type": "stream",
     "text": [
      "Epoch [662/1800]: Train loss: 3.2704, Valid loss: 3.5149\n"
     ]
    },
    {
     "name": "stderr",
     "output_type": "stream",
     "text": [
      "Epoch [663/1800]: 100%|██████████████████████████████████████████████████████| 9/9 [00:00<00:00, 117.98it/s, loss=2.56]\n"
     ]
    },
    {
     "name": "stdout",
     "output_type": "stream",
     "text": [
      "Epoch [663/1800]: Train loss: 2.9633, Valid loss: 2.7629\n"
     ]
    },
    {
     "name": "stderr",
     "output_type": "stream",
     "text": [
      "Epoch [664/1800]: 100%|██████████████████████████████████████████████████████| 9/9 [00:00<00:00, 136.73it/s, loss=2.48]\n"
     ]
    },
    {
     "name": "stdout",
     "output_type": "stream",
     "text": [
      "Epoch [664/1800]: Train loss: 2.6364, Valid loss: 3.3931\n"
     ]
    },
    {
     "name": "stderr",
     "output_type": "stream",
     "text": [
      "Epoch [665/1800]: 100%|██████████████████████████████████████████████████████| 9/9 [00:00<00:00, 141.00it/s, loss=6.01]\n"
     ]
    },
    {
     "name": "stdout",
     "output_type": "stream",
     "text": [
      "Epoch [665/1800]: Train loss: 4.1741, Valid loss: 2.6599\n"
     ]
    },
    {
     "name": "stderr",
     "output_type": "stream",
     "text": [
      "Epoch [666/1800]: 100%|██████████████████████████████████████████████████████| 9/9 [00:00<00:00, 138.85it/s, loss=5.45]\n"
     ]
    },
    {
     "name": "stdout",
     "output_type": "stream",
     "text": [
      "Epoch [666/1800]: Train loss: 3.5962, Valid loss: 5.4615\n"
     ]
    },
    {
     "name": "stderr",
     "output_type": "stream",
     "text": [
      "Epoch [667/1800]: 100%|██████████████████████████████████████████████████████| 9/9 [00:00<00:00, 136.73it/s, loss=1.88]\n"
     ]
    },
    {
     "name": "stdout",
     "output_type": "stream",
     "text": [
      "Epoch [667/1800]: Train loss: 3.2468, Valid loss: 4.4776\n"
     ]
    },
    {
     "name": "stderr",
     "output_type": "stream",
     "text": [
      "Epoch [668/1800]: 100%|██████████████████████████████████████████████████████| 9/9 [00:00<00:00, 134.69it/s, loss=2.11]\n"
     ]
    },
    {
     "name": "stdout",
     "output_type": "stream",
     "text": [
      "Epoch [668/1800]: Train loss: 2.6073, Valid loss: 2.4808\n"
     ]
    },
    {
     "name": "stderr",
     "output_type": "stream",
     "text": [
      "Epoch [669/1800]: 100%|██████████████████████████████████████████████████████| 9/9 [00:00<00:00, 132.71it/s, loss=2.12]\n"
     ]
    },
    {
     "name": "stdout",
     "output_type": "stream",
     "text": [
      "Epoch [669/1800]: Train loss: 2.2494, Valid loss: 3.7111\n"
     ]
    },
    {
     "name": "stderr",
     "output_type": "stream",
     "text": [
      "Epoch [670/1800]: 100%|██████████████████████████████████████████████████████| 9/9 [00:00<00:00, 126.83it/s, loss=2.68]\n"
     ]
    },
    {
     "name": "stdout",
     "output_type": "stream",
     "text": [
      "Epoch [670/1800]: Train loss: 2.3916, Valid loss: 2.2282\n"
     ]
    },
    {
     "name": "stderr",
     "output_type": "stream",
     "text": [
      "Epoch [671/1800]: 100%|██████████████████████████████████████████████████████| 9/9 [00:00<00:00, 126.82it/s, loss=1.75]\n"
     ]
    },
    {
     "name": "stdout",
     "output_type": "stream",
     "text": [
      "Epoch [671/1800]: Train loss: 2.1337, Valid loss: 2.4983\n"
     ]
    },
    {
     "name": "stderr",
     "output_type": "stream",
     "text": [
      "Epoch [672/1800]: 100%|██████████████████████████████████████████████████████| 9/9 [00:00<00:00, 134.69it/s, loss=2.64]\n"
     ]
    },
    {
     "name": "stdout",
     "output_type": "stream",
     "text": [
      "Epoch [672/1800]: Train loss: 2.1621, Valid loss: 2.2909\n"
     ]
    },
    {
     "name": "stderr",
     "output_type": "stream",
     "text": [
      "Epoch [673/1800]: 100%|██████████████████████████████████████████████████████| 9/9 [00:00<00:00, 136.73it/s, loss=2.24]\n"
     ]
    },
    {
     "name": "stdout",
     "output_type": "stream",
     "text": [
      "Epoch [673/1800]: Train loss: 2.3334, Valid loss: 3.4710\n"
     ]
    },
    {
     "name": "stderr",
     "output_type": "stream",
     "text": [
      "Epoch [674/1800]: 100%|██████████████████████████████████████████████████████| 9/9 [00:00<00:00, 136.73it/s, loss=1.82]\n"
     ]
    },
    {
     "name": "stdout",
     "output_type": "stream",
     "text": [
      "Epoch [674/1800]: Train loss: 2.2359, Valid loss: 2.7171\n"
     ]
    },
    {
     "name": "stderr",
     "output_type": "stream",
     "text": [
      "Epoch [675/1800]: 100%|██████████████████████████████████████████████████████| 9/9 [00:00<00:00, 134.69it/s, loss=2.61]\n"
     ]
    },
    {
     "name": "stdout",
     "output_type": "stream",
     "text": [
      "Epoch [675/1800]: Train loss: 2.4754, Valid loss: 2.1022\n"
     ]
    },
    {
     "name": "stderr",
     "output_type": "stream",
     "text": [
      "Epoch [676/1800]: 100%|██████████████████████████████████████████████████████| 9/9 [00:00<00:00, 141.00it/s, loss=1.53]\n"
     ]
    },
    {
     "name": "stdout",
     "output_type": "stream",
     "text": [
      "Epoch [676/1800]: Train loss: 2.1284, Valid loss: 2.1068\n"
     ]
    },
    {
     "name": "stderr",
     "output_type": "stream",
     "text": [
      "Epoch [677/1800]: 100%|██████████████████████████████████████████████████████| 9/9 [00:00<00:00, 130.78it/s, loss=2.36]\n"
     ]
    },
    {
     "name": "stdout",
     "output_type": "stream",
     "text": [
      "Epoch [677/1800]: Train loss: 2.1400, Valid loss: 2.0360\n",
      "Saving model with loss 2.036...\n"
     ]
    },
    {
     "name": "stderr",
     "output_type": "stream",
     "text": [
      "Epoch [678/1800]: 100%|██████████████████████████████████████████████████████| 9/9 [00:00<00:00, 133.39it/s, loss=1.86]\n"
     ]
    },
    {
     "name": "stdout",
     "output_type": "stream",
     "text": [
      "Epoch [678/1800]: Train loss: 2.2103, Valid loss: 2.2975\n"
     ]
    },
    {
     "name": "stderr",
     "output_type": "stream",
     "text": [
      "Epoch [679/1800]: 100%|██████████████████████████████████████████████████████| 9/9 [00:00<00:00, 134.69it/s, loss=2.34]\n"
     ]
    },
    {
     "name": "stdout",
     "output_type": "stream",
     "text": [
      "Epoch [679/1800]: Train loss: 2.7918, Valid loss: 3.1098\n"
     ]
    },
    {
     "name": "stderr",
     "output_type": "stream",
     "text": [
      "Epoch [680/1800]: 100%|██████████████████████████████████████████████████████| 9/9 [00:00<00:00, 136.73it/s, loss=2.38]\n"
     ]
    },
    {
     "name": "stdout",
     "output_type": "stream",
     "text": [
      "Epoch [680/1800]: Train loss: 2.6035, Valid loss: 2.5744\n"
     ]
    },
    {
     "name": "stderr",
     "output_type": "stream",
     "text": [
      "Epoch [681/1800]: 100%|██████████████████████████████████████████████████████| 9/9 [00:00<00:00, 136.73it/s, loss=3.01]\n"
     ]
    },
    {
     "name": "stdout",
     "output_type": "stream",
     "text": [
      "Epoch [681/1800]: Train loss: 2.3046, Valid loss: 2.6697\n"
     ]
    },
    {
     "name": "stderr",
     "output_type": "stream",
     "text": [
      "Epoch [682/1800]: 100%|██████████████████████████████████████████████████████| 9/9 [00:00<00:00, 131.47it/s, loss=3.56]\n"
     ]
    },
    {
     "name": "stdout",
     "output_type": "stream",
     "text": [
      "Epoch [682/1800]: Train loss: 2.4239, Valid loss: 4.4047\n"
     ]
    },
    {
     "name": "stderr",
     "output_type": "stream",
     "text": [
      "Epoch [683/1800]: 100%|██████████████████████████████████████████████████████| 9/9 [00:00<00:00, 136.73it/s, loss=2.19]\n"
     ]
    },
    {
     "name": "stdout",
     "output_type": "stream",
     "text": [
      "Epoch [683/1800]: Train loss: 3.2175, Valid loss: 2.8342\n"
     ]
    },
    {
     "name": "stderr",
     "output_type": "stream",
     "text": [
      "Epoch [684/1800]: 100%|██████████████████████████████████████████████████████| 9/9 [00:00<00:00, 138.83it/s, loss=2.37]\n"
     ]
    },
    {
     "name": "stdout",
     "output_type": "stream",
     "text": [
      "Epoch [684/1800]: Train loss: 3.1939, Valid loss: 3.2756\n"
     ]
    },
    {
     "name": "stderr",
     "output_type": "stream",
     "text": [
      "Epoch [685/1800]: 100%|██████████████████████████████████████████████████████| 9/9 [00:00<00:00, 134.69it/s, loss=4.62]\n"
     ]
    },
    {
     "name": "stdout",
     "output_type": "stream",
     "text": [
      "Epoch [685/1800]: Train loss: 3.3769, Valid loss: 2.2799\n"
     ]
    },
    {
     "name": "stderr",
     "output_type": "stream",
     "text": [
      "Epoch [686/1800]: 100%|███████████████████████████████████████████████████████| 9/9 [00:00<00:00, 132.74it/s, loss=2.7]\n"
     ]
    },
    {
     "name": "stdout",
     "output_type": "stream",
     "text": [
      "Epoch [686/1800]: Train loss: 3.0536, Valid loss: 3.7932\n"
     ]
    },
    {
     "name": "stderr",
     "output_type": "stream",
     "text": [
      "Epoch [687/1800]: 100%|██████████████████████████████████████████████████████| 9/9 [00:00<00:00, 125.69it/s, loss=2.17]\n"
     ]
    },
    {
     "name": "stdout",
     "output_type": "stream",
     "text": [
      "Epoch [687/1800]: Train loss: 2.6605, Valid loss: 2.4135\n"
     ]
    },
    {
     "name": "stderr",
     "output_type": "stream",
     "text": [
      "Epoch [688/1800]: 100%|██████████████████████████████████████████████████████| 9/9 [00:00<00:00, 137.28it/s, loss=2.12]\n"
     ]
    },
    {
     "name": "stdout",
     "output_type": "stream",
     "text": [
      "Epoch [688/1800]: Train loss: 2.1472, Valid loss: 2.9079\n"
     ]
    },
    {
     "name": "stderr",
     "output_type": "stream",
     "text": [
      "Epoch [689/1800]: 100%|██████████████████████████████████████████████████████| 9/9 [00:00<00:00, 136.73it/s, loss=2.03]\n"
     ]
    },
    {
     "name": "stdout",
     "output_type": "stream",
     "text": [
      "Epoch [689/1800]: Train loss: 2.3030, Valid loss: 2.3533\n"
     ]
    },
    {
     "name": "stderr",
     "output_type": "stream",
     "text": [
      "Epoch [690/1800]: 100%|███████████████████████████████████████████████████████| 9/9 [00:00<00:00, 83.62it/s, loss=2.14]\n"
     ]
    },
    {
     "name": "stdout",
     "output_type": "stream",
     "text": [
      "Epoch [690/1800]: Train loss: 2.1254, Valid loss: 2.5660\n"
     ]
    },
    {
     "name": "stderr",
     "output_type": "stream",
     "text": [
      "Epoch [691/1800]: 100%|███████████████████████████████████████████████████████| 9/9 [00:00<00:00, 136.73it/s, loss=2.2]\n"
     ]
    },
    {
     "name": "stdout",
     "output_type": "stream",
     "text": [
      "Epoch [691/1800]: Train loss: 2.2096, Valid loss: 2.6375\n"
     ]
    },
    {
     "name": "stderr",
     "output_type": "stream",
     "text": [
      "Epoch [692/1800]: 100%|██████████████████████████████████████████████████████| 9/9 [00:00<00:00, 141.30it/s, loss=2.47]\n"
     ]
    },
    {
     "name": "stdout",
     "output_type": "stream",
     "text": [
      "Epoch [692/1800]: Train loss: 2.2364, Valid loss: 2.2572\n"
     ]
    },
    {
     "name": "stderr",
     "output_type": "stream",
     "text": [
      "Epoch [693/1800]: 100%|███████████████████████████████████████████████████████| 9/9 [00:00<00:00, 83.54it/s, loss=1.88]\n"
     ]
    },
    {
     "name": "stdout",
     "output_type": "stream",
     "text": [
      "Epoch [693/1800]: Train loss: 2.0782, Valid loss: 2.4776\n"
     ]
    },
    {
     "name": "stderr",
     "output_type": "stream",
     "text": [
      "Epoch [694/1800]: 100%|███████████████████████████████████████████████████████| 9/9 [00:00<00:00, 138.84it/s, loss=2.1]\n"
     ]
    },
    {
     "name": "stdout",
     "output_type": "stream",
     "text": [
      "Epoch [694/1800]: Train loss: 2.1010, Valid loss: 2.6552\n"
     ]
    },
    {
     "name": "stderr",
     "output_type": "stream",
     "text": [
      "Epoch [695/1800]: 100%|██████████████████████████████████████████████████████| 9/9 [00:00<00:00, 136.91it/s, loss=1.62]\n"
     ]
    },
    {
     "name": "stdout",
     "output_type": "stream",
     "text": [
      "Epoch [695/1800]: Train loss: 2.1479, Valid loss: 2.4469\n"
     ]
    },
    {
     "name": "stderr",
     "output_type": "stream",
     "text": [
      "Epoch [696/1800]: 100%|██████████████████████████████████████████████████████| 9/9 [00:00<00:00, 134.69it/s, loss=1.95]\n"
     ]
    },
    {
     "name": "stdout",
     "output_type": "stream",
     "text": [
      "Epoch [696/1800]: Train loss: 2.3304, Valid loss: 2.7474\n"
     ]
    },
    {
     "name": "stderr",
     "output_type": "stream",
     "text": [
      "Epoch [697/1800]: 100%|██████████████████████████████████████████████████████| 9/9 [00:00<00:00, 145.55it/s, loss=2.69]\n"
     ]
    },
    {
     "name": "stdout",
     "output_type": "stream",
     "text": [
      "Epoch [697/1800]: Train loss: 2.2080, Valid loss: 2.8334\n"
     ]
    },
    {
     "name": "stderr",
     "output_type": "stream",
     "text": [
      "Epoch [698/1800]: 100%|███████████████████████████████████████████████████████| 9/9 [00:00<00:00, 140.79it/s, loss=2.3]\n"
     ]
    },
    {
     "name": "stdout",
     "output_type": "stream",
     "text": [
      "Epoch [698/1800]: Train loss: 2.2331, Valid loss: 2.5008\n"
     ]
    },
    {
     "name": "stderr",
     "output_type": "stream",
     "text": [
      "Epoch [699/1800]: 100%|██████████████████████████████████████████████████████| 9/9 [00:00<00:00, 143.24it/s, loss=2.92]\n"
     ]
    },
    {
     "name": "stdout",
     "output_type": "stream",
     "text": [
      "Epoch [699/1800]: Train loss: 2.3503, Valid loss: 2.9028\n"
     ]
    },
    {
     "name": "stderr",
     "output_type": "stream",
     "text": [
      "Epoch [700/1800]: 100%|██████████████████████████████████████████████████████| 9/9 [00:00<00:00, 133.25it/s, loss=2.81]\n"
     ]
    },
    {
     "name": "stdout",
     "output_type": "stream",
     "text": [
      "Epoch [700/1800]: Train loss: 2.4744, Valid loss: 3.7653\n"
     ]
    },
    {
     "name": "stderr",
     "output_type": "stream",
     "text": [
      "Epoch [701/1800]: 100%|██████████████████████████████████████████████████████| 9/9 [00:00<00:00, 137.65it/s, loss=3.45]\n"
     ]
    },
    {
     "name": "stdout",
     "output_type": "stream",
     "text": [
      "Epoch [701/1800]: Train loss: 3.1023, Valid loss: 3.8406\n"
     ]
    },
    {
     "name": "stderr",
     "output_type": "stream",
     "text": [
      "Epoch [702/1800]: 100%|███████████████████████████████████████████████████████| 9/9 [00:00<00:00, 138.83it/s, loss=4.3]\n"
     ]
    },
    {
     "name": "stdout",
     "output_type": "stream",
     "text": [
      "Epoch [702/1800]: Train loss: 3.8828, Valid loss: 4.2079\n"
     ]
    },
    {
     "name": "stderr",
     "output_type": "stream",
     "text": [
      "Epoch [703/1800]: 100%|██████████████████████████████████████████████████████| 9/9 [00:00<00:00, 136.83it/s, loss=2.15]\n"
     ]
    },
    {
     "name": "stdout",
     "output_type": "stream",
     "text": [
      "Epoch [703/1800]: Train loss: 3.3504, Valid loss: 2.5106\n"
     ]
    },
    {
     "name": "stderr",
     "output_type": "stream",
     "text": [
      "Epoch [704/1800]: 100%|██████████████████████████████████████████████████████| 9/9 [00:00<00:00, 134.90it/s, loss=3.26]\n"
     ]
    },
    {
     "name": "stdout",
     "output_type": "stream",
     "text": [
      "Epoch [704/1800]: Train loss: 2.7545, Valid loss: 2.7987\n"
     ]
    },
    {
     "name": "stderr",
     "output_type": "stream",
     "text": [
      "Epoch [705/1800]: 100%|██████████████████████████████████████████████████████| 9/9 [00:00<00:00, 138.83it/s, loss=1.72]\n"
     ]
    },
    {
     "name": "stdout",
     "output_type": "stream",
     "text": [
      "Epoch [705/1800]: Train loss: 2.6273, Valid loss: 4.7162\n"
     ]
    },
    {
     "name": "stderr",
     "output_type": "stream",
     "text": [
      "Epoch [706/1800]: 100%|██████████████████████████████████████████████████████| 9/9 [00:00<00:00, 134.69it/s, loss=3.24]\n"
     ]
    },
    {
     "name": "stdout",
     "output_type": "stream",
     "text": [
      "Epoch [706/1800]: Train loss: 2.7207, Valid loss: 2.4387\n"
     ]
    },
    {
     "name": "stderr",
     "output_type": "stream",
     "text": [
      "Epoch [707/1800]: 100%|██████████████████████████████████████████████████████| 9/9 [00:00<00:00, 114.48it/s, loss=4.01]\n"
     ]
    },
    {
     "name": "stdout",
     "output_type": "stream",
     "text": [
      "Epoch [707/1800]: Train loss: 2.6658, Valid loss: 2.3886\n"
     ]
    },
    {
     "name": "stderr",
     "output_type": "stream",
     "text": [
      "Epoch [708/1800]: 100%|██████████████████████████████████████████████████████| 9/9 [00:00<00:00, 138.24it/s, loss=2.07]\n"
     ]
    },
    {
     "name": "stdout",
     "output_type": "stream",
     "text": [
      "Epoch [708/1800]: Train loss: 2.3670, Valid loss: 2.1172\n"
     ]
    },
    {
     "name": "stderr",
     "output_type": "stream",
     "text": [
      "Epoch [709/1800]: 100%|██████████████████████████████████████████████████████| 9/9 [00:00<00:00, 134.69it/s, loss=2.85]\n"
     ]
    },
    {
     "name": "stdout",
     "output_type": "stream",
     "text": [
      "Epoch [709/1800]: Train loss: 2.1721, Valid loss: 2.7937\n"
     ]
    },
    {
     "name": "stderr",
     "output_type": "stream",
     "text": [
      "Epoch [710/1800]: 100%|██████████████████████████████████████████████████████| 9/9 [00:00<00:00, 141.00it/s, loss=2.94]\n"
     ]
    },
    {
     "name": "stdout",
     "output_type": "stream",
     "text": [
      "Epoch [710/1800]: Train loss: 2.7596, Valid loss: 2.6927\n"
     ]
    },
    {
     "name": "stderr",
     "output_type": "stream",
     "text": [
      "Epoch [711/1800]: 100%|██████████████████████████████████████████████████████| 9/9 [00:00<00:00, 143.24it/s, loss=3.12]\n"
     ]
    },
    {
     "name": "stdout",
     "output_type": "stream",
     "text": [
      "Epoch [711/1800]: Train loss: 2.9932, Valid loss: 6.1402\n"
     ]
    },
    {
     "name": "stderr",
     "output_type": "stream",
     "text": [
      "Epoch [712/1800]: 100%|██████████████████████████████████████████████████████| 9/9 [00:00<00:00, 140.98it/s, loss=4.27]\n"
     ]
    },
    {
     "name": "stdout",
     "output_type": "stream",
     "text": [
      "Epoch [712/1800]: Train loss: 3.8079, Valid loss: 3.7900\n"
     ]
    },
    {
     "name": "stderr",
     "output_type": "stream",
     "text": [
      "Epoch [713/1800]: 100%|██████████████████████████████████████████████████████| 9/9 [00:00<00:00, 136.73it/s, loss=5.42]\n"
     ]
    },
    {
     "name": "stdout",
     "output_type": "stream",
     "text": [
      "Epoch [713/1800]: Train loss: 3.8408, Valid loss: 3.3796\n"
     ]
    },
    {
     "name": "stderr",
     "output_type": "stream",
     "text": [
      "Epoch [714/1800]: 100%|██████████████████████████████████████████████████████| 9/9 [00:00<00:00, 143.24it/s, loss=2.39]\n"
     ]
    },
    {
     "name": "stdout",
     "output_type": "stream",
     "text": [
      "Epoch [714/1800]: Train loss: 2.7495, Valid loss: 2.1339\n"
     ]
    },
    {
     "name": "stderr",
     "output_type": "stream",
     "text": [
      "Epoch [715/1800]: 100%|██████████████████████████████████████████████████████| 9/9 [00:00<00:00, 138.83it/s, loss=2.45]\n"
     ]
    },
    {
     "name": "stdout",
     "output_type": "stream",
     "text": [
      "Epoch [715/1800]: Train loss: 2.1971, Valid loss: 3.1690\n"
     ]
    },
    {
     "name": "stderr",
     "output_type": "stream",
     "text": [
      "Epoch [716/1800]: 100%|██████████████████████████████████████████████████████| 9/9 [00:00<00:00, 130.97it/s, loss=3.17]\n"
     ]
    },
    {
     "name": "stdout",
     "output_type": "stream",
     "text": [
      "Epoch [716/1800]: Train loss: 2.6812, Valid loss: 2.5761\n"
     ]
    },
    {
     "name": "stderr",
     "output_type": "stream",
     "text": [
      "Epoch [717/1800]: 100%|██████████████████████████████████████████████████████| 9/9 [00:00<00:00, 142.97it/s, loss=3.01]\n"
     ]
    },
    {
     "name": "stdout",
     "output_type": "stream",
     "text": [
      "Epoch [717/1800]: Train loss: 2.7181, Valid loss: 2.2896\n"
     ]
    },
    {
     "name": "stderr",
     "output_type": "stream",
     "text": [
      "Epoch [718/1800]: 100%|██████████████████████████████████████████████████████| 9/9 [00:00<00:00, 138.83it/s, loss=2.26]\n"
     ]
    },
    {
     "name": "stdout",
     "output_type": "stream",
     "text": [
      "Epoch [718/1800]: Train loss: 2.2270, Valid loss: 2.8098\n"
     ]
    },
    {
     "name": "stderr",
     "output_type": "stream",
     "text": [
      "Epoch [719/1800]: 100%|██████████████████████████████████████████████████████| 9/9 [00:00<00:00, 141.00it/s, loss=1.55]\n"
     ]
    },
    {
     "name": "stdout",
     "output_type": "stream",
     "text": [
      "Epoch [719/1800]: Train loss: 2.2781, Valid loss: 2.7625\n"
     ]
    },
    {
     "name": "stderr",
     "output_type": "stream",
     "text": [
      "Epoch [720/1800]: 100%|██████████████████████████████████████████████████████| 9/9 [00:00<00:00, 138.72it/s, loss=2.06]\n"
     ]
    },
    {
     "name": "stdout",
     "output_type": "stream",
     "text": [
      "Epoch [720/1800]: Train loss: 2.2221, Valid loss: 2.2266\n"
     ]
    },
    {
     "name": "stderr",
     "output_type": "stream",
     "text": [
      "Epoch [721/1800]: 100%|██████████████████████████████████████████████████████| 9/9 [00:00<00:00, 138.58it/s, loss=2.09]\n"
     ]
    },
    {
     "name": "stdout",
     "output_type": "stream",
     "text": [
      "Epoch [721/1800]: Train loss: 2.3761, Valid loss: 2.4767\n"
     ]
    },
    {
     "name": "stderr",
     "output_type": "stream",
     "text": [
      "Epoch [722/1800]: 100%|██████████████████████████████████████████████████████| 9/9 [00:00<00:00, 138.83it/s, loss=1.88]\n"
     ]
    },
    {
     "name": "stdout",
     "output_type": "stream",
     "text": [
      "Epoch [722/1800]: Train loss: 2.2404, Valid loss: 2.7378\n"
     ]
    },
    {
     "name": "stderr",
     "output_type": "stream",
     "text": [
      "Epoch [723/1800]: 100%|██████████████████████████████████████████████████████| 9/9 [00:00<00:00, 136.73it/s, loss=2.07]\n"
     ]
    },
    {
     "name": "stdout",
     "output_type": "stream",
     "text": [
      "Epoch [723/1800]: Train loss: 2.2221, Valid loss: 2.6804\n"
     ]
    },
    {
     "name": "stderr",
     "output_type": "stream",
     "text": [
      "Epoch [724/1800]: 100%|██████████████████████████████████████████████████████| 9/9 [00:00<00:00, 140.77it/s, loss=3.45]\n"
     ]
    },
    {
     "name": "stdout",
     "output_type": "stream",
     "text": [
      "Epoch [724/1800]: Train loss: 3.3000, Valid loss: 3.4723\n"
     ]
    },
    {
     "name": "stderr",
     "output_type": "stream",
     "text": [
      "Epoch [725/1800]: 100%|██████████████████████████████████████████████████████| 9/9 [00:00<00:00, 136.73it/s, loss=3.04]\n"
     ]
    },
    {
     "name": "stdout",
     "output_type": "stream",
     "text": [
      "Epoch [725/1800]: Train loss: 2.8647, Valid loss: 2.5944\n"
     ]
    },
    {
     "name": "stderr",
     "output_type": "stream",
     "text": [
      "Epoch [726/1800]: 100%|██████████████████████████████████████████████████████| 9/9 [00:00<00:00, 138.84it/s, loss=2.55]\n"
     ]
    },
    {
     "name": "stdout",
     "output_type": "stream",
     "text": [
      "Epoch [726/1800]: Train loss: 2.6312, Valid loss: 3.5193\n"
     ]
    },
    {
     "name": "stderr",
     "output_type": "stream",
     "text": [
      "Epoch [727/1800]: 100%|██████████████████████████████████████████████████████| 9/9 [00:00<00:00, 138.83it/s, loss=2.95]\n"
     ]
    },
    {
     "name": "stdout",
     "output_type": "stream",
     "text": [
      "Epoch [727/1800]: Train loss: 2.3410, Valid loss: 3.3321\n"
     ]
    },
    {
     "name": "stderr",
     "output_type": "stream",
     "text": [
      "Epoch [728/1800]: 100%|██████████████████████████████████████████████████████| 9/9 [00:00<00:00, 130.78it/s, loss=3.88]\n"
     ]
    },
    {
     "name": "stdout",
     "output_type": "stream",
     "text": [
      "Epoch [728/1800]: Train loss: 3.5665, Valid loss: 5.3122\n"
     ]
    },
    {
     "name": "stderr",
     "output_type": "stream",
     "text": [
      "Epoch [729/1800]: 100%|███████████████████████████████████████████████████████| 9/9 [00:00<00:00, 136.56it/s, loss=2.5]\n"
     ]
    },
    {
     "name": "stdout",
     "output_type": "stream",
     "text": [
      "Epoch [729/1800]: Train loss: 4.2243, Valid loss: 4.3952\n"
     ]
    },
    {
     "name": "stderr",
     "output_type": "stream",
     "text": [
      "Epoch [730/1800]: 100%|██████████████████████████████████████████████████████| 9/9 [00:00<00:00, 136.73it/s, loss=2.34]\n"
     ]
    },
    {
     "name": "stdout",
     "output_type": "stream",
     "text": [
      "Epoch [730/1800]: Train loss: 2.9203, Valid loss: 5.4065\n"
     ]
    },
    {
     "name": "stderr",
     "output_type": "stream",
     "text": [
      "Epoch [731/1800]: 100%|██████████████████████████████████████████████████████| 9/9 [00:00<00:00, 136.43it/s, loss=3.72]\n"
     ]
    },
    {
     "name": "stdout",
     "output_type": "stream",
     "text": [
      "Epoch [731/1800]: Train loss: 4.2339, Valid loss: 5.5712\n"
     ]
    },
    {
     "name": "stderr",
     "output_type": "stream",
     "text": [
      "Epoch [732/1800]: 100%|██████████████████████████████████████████████████████| 9/9 [00:00<00:00, 138.84it/s, loss=2.71]\n"
     ]
    },
    {
     "name": "stdout",
     "output_type": "stream",
     "text": [
      "Epoch [732/1800]: Train loss: 2.9584, Valid loss: 2.0936\n"
     ]
    },
    {
     "name": "stderr",
     "output_type": "stream",
     "text": [
      "Epoch [733/1800]: 100%|██████████████████████████████████████████████████████| 9/9 [00:00<00:00, 141.00it/s, loss=2.13]\n"
     ]
    },
    {
     "name": "stdout",
     "output_type": "stream",
     "text": [
      "Epoch [733/1800]: Train loss: 2.2603, Valid loss: 2.9555\n"
     ]
    },
    {
     "name": "stderr",
     "output_type": "stream",
     "text": [
      "Epoch [734/1800]: 100%|██████████████████████████████████████████████████████| 9/9 [00:00<00:00, 136.73it/s, loss=1.94]\n"
     ]
    },
    {
     "name": "stdout",
     "output_type": "stream",
     "text": [
      "Epoch [734/1800]: Train loss: 2.0844, Valid loss: 3.0782\n"
     ]
    },
    {
     "name": "stderr",
     "output_type": "stream",
     "text": [
      "Epoch [735/1800]: 100%|███████████████████████████████████████████████████████| 9/9 [00:00<00:00, 83.56it/s, loss=5.62]\n"
     ]
    },
    {
     "name": "stdout",
     "output_type": "stream",
     "text": [
      "Epoch [735/1800]: Train loss: 3.2626, Valid loss: 3.5063\n"
     ]
    },
    {
     "name": "stderr",
     "output_type": "stream",
     "text": [
      "Epoch [736/1800]: 100%|██████████████████████████████████████████████████████| 9/9 [00:00<00:00, 142.87it/s, loss=3.62]\n"
     ]
    },
    {
     "name": "stdout",
     "output_type": "stream",
     "text": [
      "Epoch [736/1800]: Train loss: 3.0313, Valid loss: 5.2226\n"
     ]
    },
    {
     "name": "stderr",
     "output_type": "stream",
     "text": [
      "Epoch [737/1800]: 100%|██████████████████████████████████████████████████████| 9/9 [00:00<00:00, 136.73it/s, loss=2.51]\n"
     ]
    },
    {
     "name": "stdout",
     "output_type": "stream",
     "text": [
      "Epoch [737/1800]: Train loss: 3.1483, Valid loss: 2.1528\n"
     ]
    },
    {
     "name": "stderr",
     "output_type": "stream",
     "text": [
      "Epoch [738/1800]: 100%|███████████████████████████████████████████████████████| 9/9 [00:00<00:00, 93.65it/s, loss=2.23]"
     ]
    },
    {
     "name": "stdout",
     "output_type": "stream",
     "text": [
      "Epoch [738/1800]: Train loss: 2.2953, Valid loss: 2.6336"
     ]
    },
    {
     "name": "stderr",
     "output_type": "stream",
     "text": [
      "\n"
     ]
    },
    {
     "name": "stdout",
     "output_type": "stream",
     "text": [
      "\n"
     ]
    },
    {
     "name": "stderr",
     "output_type": "stream",
     "text": [
      "Epoch [739/1800]: 100%|██████████████████████████████████████████████████████| 9/9 [00:00<00:00, 102.55it/s, loss=2.24]\n"
     ]
    },
    {
     "name": "stdout",
     "output_type": "stream",
     "text": [
      "Epoch [739/1800]: Train loss: 2.3319, Valid loss: 2.9360\n"
     ]
    },
    {
     "name": "stderr",
     "output_type": "stream",
     "text": [
      "Epoch [740/1800]: 100%|██████████████████████████████████████████████████████| 9/9 [00:00<00:00, 164.54it/s, loss=1.38]\n"
     ]
    },
    {
     "name": "stdout",
     "output_type": "stream",
     "text": [
      "Epoch [740/1800]: Train loss: 2.1860, Valid loss: 2.5583\n"
     ]
    },
    {
     "name": "stderr",
     "output_type": "stream",
     "text": [
      "Epoch [741/1800]: 100%|██████████████████████████████████████████████████████| 9/9 [00:00<00:00, 180.48it/s, loss=2.07]\n"
     ]
    },
    {
     "name": "stdout",
     "output_type": "stream",
     "text": [
      "Epoch [741/1800]: Train loss: 2.1455, Valid loss: 2.9050\n"
     ]
    },
    {
     "name": "stderr",
     "output_type": "stream",
     "text": [
      "Epoch [742/1800]: 100%|██████████████████████████████████████████████████████| 9/9 [00:00<00:00, 141.00it/s, loss=2.31]\n"
     ]
    },
    {
     "name": "stdout",
     "output_type": "stream",
     "text": [
      "Epoch [742/1800]: Train loss: 2.1459, Valid loss: 2.6561\n"
     ]
    },
    {
     "name": "stderr",
     "output_type": "stream",
     "text": [
      "Epoch [743/1800]: 100%|██████████████████████████████████████████████████████| 9/9 [00:00<00:00, 141.00it/s, loss=2.78]\n"
     ]
    },
    {
     "name": "stdout",
     "output_type": "stream",
     "text": [
      "Epoch [743/1800]: Train loss: 2.1579, Valid loss: 2.5138\n"
     ]
    },
    {
     "name": "stderr",
     "output_type": "stream",
     "text": [
      "Epoch [744/1800]: 100%|███████████████████████████████████████████████████████| 9/9 [00:00<00:00, 145.55it/s, loss=2.2]\n"
     ]
    },
    {
     "name": "stdout",
     "output_type": "stream",
     "text": [
      "Epoch [744/1800]: Train loss: 2.4982, Valid loss: 2.5474\n"
     ]
    },
    {
     "name": "stderr",
     "output_type": "stream",
     "text": [
      "Epoch [745/1800]: 100%|██████████████████████████████████████████████████████| 9/9 [00:00<00:00, 141.00it/s, loss=2.21]\n"
     ]
    },
    {
     "name": "stdout",
     "output_type": "stream",
     "text": [
      "Epoch [745/1800]: Train loss: 2.1566, Valid loss: 3.1688\n"
     ]
    },
    {
     "name": "stderr",
     "output_type": "stream",
     "text": [
      "Epoch [746/1800]: 100%|██████████████████████████████████████████████████████| 9/9 [00:00<00:00, 138.83it/s, loss=2.04]\n"
     ]
    },
    {
     "name": "stdout",
     "output_type": "stream",
     "text": [
      "Epoch [746/1800]: Train loss: 2.3892, Valid loss: 2.8255\n"
     ]
    },
    {
     "name": "stderr",
     "output_type": "stream",
     "text": [
      "Epoch [747/1800]: 100%|██████████████████████████████████████████████████████| 9/9 [00:00<00:00, 143.24it/s, loss=2.68]\n"
     ]
    },
    {
     "name": "stdout",
     "output_type": "stream",
     "text": [
      "Epoch [747/1800]: Train loss: 2.3361, Valid loss: 2.5441\n"
     ]
    },
    {
     "name": "stderr",
     "output_type": "stream",
     "text": [
      "Epoch [748/1800]: 100%|███████████████████████████████████████████████████████| 9/9 [00:00<00:00, 143.24it/s, loss=2.3]\n"
     ]
    },
    {
     "name": "stdout",
     "output_type": "stream",
     "text": [
      "Epoch [748/1800]: Train loss: 2.2150, Valid loss: 2.2226\n"
     ]
    },
    {
     "name": "stderr",
     "output_type": "stream",
     "text": [
      "Epoch [749/1800]: 100%|██████████████████████████████████████████████████████| 9/9 [00:00<00:00, 136.04it/s, loss=1.87]\n"
     ]
    },
    {
     "name": "stdout",
     "output_type": "stream",
     "text": [
      "Epoch [749/1800]: Train loss: 2.0659, Valid loss: 2.2048\n"
     ]
    },
    {
     "name": "stderr",
     "output_type": "stream",
     "text": [
      "Epoch [750/1800]: 100%|██████████████████████████████████████████████████████| 9/9 [00:00<00:00, 142.41it/s, loss=2.05]\n"
     ]
    },
    {
     "name": "stdout",
     "output_type": "stream",
     "text": [
      "Epoch [750/1800]: Train loss: 2.1803, Valid loss: 2.3319\n"
     ]
    },
    {
     "name": "stderr",
     "output_type": "stream",
     "text": [
      "Epoch [751/1800]: 100%|██████████████████████████████████████████████████████| 9/9 [00:00<00:00, 132.71it/s, loss=2.59]\n"
     ]
    },
    {
     "name": "stdout",
     "output_type": "stream",
     "text": [
      "Epoch [751/1800]: Train loss: 2.4451, Valid loss: 2.6844\n"
     ]
    },
    {
     "name": "stderr",
     "output_type": "stream",
     "text": [
      "Epoch [752/1800]: 100%|██████████████████████████████████████████████████████| 9/9 [00:00<00:00, 123.62it/s, loss=2.09]\n"
     ]
    },
    {
     "name": "stdout",
     "output_type": "stream",
     "text": [
      "Epoch [752/1800]: Train loss: 2.2503, Valid loss: 3.0120\n"
     ]
    },
    {
     "name": "stderr",
     "output_type": "stream",
     "text": [
      "Epoch [753/1800]: 100%|██████████████████████████████████████████████████████| 9/9 [00:00<00:00, 125.33it/s, loss=2.62]\n"
     ]
    },
    {
     "name": "stdout",
     "output_type": "stream",
     "text": [
      "Epoch [753/1800]: Train loss: 2.2140, Valid loss: 2.1807\n"
     ]
    },
    {
     "name": "stderr",
     "output_type": "stream",
     "text": [
      "Epoch [754/1800]: 100%|███████████████████████████████████████████████████████| 9/9 [00:00<00:00, 143.26it/s, loss=2.1]\n"
     ]
    },
    {
     "name": "stdout",
     "output_type": "stream",
     "text": [
      "Epoch [754/1800]: Train loss: 2.0467, Valid loss: 2.5647\n"
     ]
    },
    {
     "name": "stderr",
     "output_type": "stream",
     "text": [
      "Epoch [755/1800]: 100%|██████████████████████████████████████████████████████| 9/9 [00:00<00:00, 138.52it/s, loss=2.44]\n"
     ]
    },
    {
     "name": "stdout",
     "output_type": "stream",
     "text": [
      "Epoch [755/1800]: Train loss: 2.2385, Valid loss: 4.2135\n"
     ]
    },
    {
     "name": "stderr",
     "output_type": "stream",
     "text": [
      "Epoch [756/1800]: 100%|██████████████████████████████████████████████████████| 9/9 [00:00<00:00, 143.23it/s, loss=2.72]\n"
     ]
    },
    {
     "name": "stdout",
     "output_type": "stream",
     "text": [
      "Epoch [756/1800]: Train loss: 2.9453, Valid loss: 2.5291\n"
     ]
    },
    {
     "name": "stderr",
     "output_type": "stream",
     "text": [
      "Epoch [757/1800]: 100%|██████████████████████████████████████████████████████| 9/9 [00:00<00:00, 134.69it/s, loss=4.08]\n"
     ]
    },
    {
     "name": "stdout",
     "output_type": "stream",
     "text": [
      "Epoch [757/1800]: Train loss: 3.8762, Valid loss: 2.3633\n"
     ]
    },
    {
     "name": "stderr",
     "output_type": "stream",
     "text": [
      "Epoch [758/1800]: 100%|██████████████████████████████████████████████████████| 9/9 [00:00<00:00, 139.31it/s, loss=4.52]\n"
     ]
    },
    {
     "name": "stdout",
     "output_type": "stream",
     "text": [
      "Epoch [758/1800]: Train loss: 3.0721, Valid loss: 5.8115\n"
     ]
    },
    {
     "name": "stderr",
     "output_type": "stream",
     "text": [
      "Epoch [759/1800]: 100%|██████████████████████████████████████████████████████| 9/9 [00:00<00:00, 143.24it/s, loss=3.06]\n"
     ]
    },
    {
     "name": "stdout",
     "output_type": "stream",
     "text": [
      "Epoch [759/1800]: Train loss: 4.0978, Valid loss: 3.0291\n"
     ]
    },
    {
     "name": "stderr",
     "output_type": "stream",
     "text": [
      "Epoch [760/1800]: 100%|██████████████████████████████████████████████████████| 9/9 [00:00<00:00, 135.63it/s, loss=5.19]\n"
     ]
    },
    {
     "name": "stdout",
     "output_type": "stream",
     "text": [
      "Epoch [760/1800]: Train loss: 4.1622, Valid loss: 2.8598\n"
     ]
    },
    {
     "name": "stderr",
     "output_type": "stream",
     "text": [
      "Epoch [761/1800]: 100%|██████████████████████████████████████████████████████| 9/9 [00:00<00:00, 145.81it/s, loss=2.92]\n"
     ]
    },
    {
     "name": "stdout",
     "output_type": "stream",
     "text": [
      "Epoch [761/1800]: Train loss: 2.9417, Valid loss: 2.3484\n"
     ]
    },
    {
     "name": "stderr",
     "output_type": "stream",
     "text": [
      "Epoch [762/1800]: 100%|██████████████████████████████████████████████████████| 9/9 [00:00<00:00, 138.64it/s, loss=2.02]\n"
     ]
    },
    {
     "name": "stdout",
     "output_type": "stream",
     "text": [
      "Epoch [762/1800]: Train loss: 2.2618, Valid loss: 2.1210\n"
     ]
    },
    {
     "name": "stderr",
     "output_type": "stream",
     "text": [
      "Epoch [763/1800]: 100%|██████████████████████████████████████████████████████| 9/9 [00:00<00:00, 140.60it/s, loss=2.09]\n"
     ]
    },
    {
     "name": "stdout",
     "output_type": "stream",
     "text": [
      "Epoch [763/1800]: Train loss: 2.0636, Valid loss: 2.6666\n"
     ]
    },
    {
     "name": "stderr",
     "output_type": "stream",
     "text": [
      "Epoch [764/1800]: 100%|██████████████████████████████████████████████████████| 9/9 [00:00<00:00, 143.24it/s, loss=2.43]\n"
     ]
    },
    {
     "name": "stdout",
     "output_type": "stream",
     "text": [
      "Epoch [764/1800]: Train loss: 2.2630, Valid loss: 3.5180\n"
     ]
    },
    {
     "name": "stderr",
     "output_type": "stream",
     "text": [
      "Epoch [765/1800]: 100%|██████████████████████████████████████████████████████| 9/9 [00:00<00:00, 138.83it/s, loss=2.01]\n"
     ]
    },
    {
     "name": "stdout",
     "output_type": "stream",
     "text": [
      "Epoch [765/1800]: Train loss: 2.4856, Valid loss: 2.3975\n"
     ]
    },
    {
     "name": "stderr",
     "output_type": "stream",
     "text": [
      "Epoch [766/1800]: 100%|██████████████████████████████████████████████████████| 9/9 [00:00<00:00, 143.24it/s, loss=1.99]\n"
     ]
    },
    {
     "name": "stdout",
     "output_type": "stream",
     "text": [
      "Epoch [766/1800]: Train loss: 2.0802, Valid loss: 2.2376\n"
     ]
    },
    {
     "name": "stderr",
     "output_type": "stream",
     "text": [
      "Epoch [767/1800]: 100%|██████████████████████████████████████████████████████| 9/9 [00:00<00:00, 141.62it/s, loss=2.99]\n"
     ]
    },
    {
     "name": "stdout",
     "output_type": "stream",
     "text": [
      "Epoch [767/1800]: Train loss: 2.3540, Valid loss: 2.1630\n"
     ]
    },
    {
     "name": "stderr",
     "output_type": "stream",
     "text": [
      "Epoch [768/1800]: 100%|██████████████████████████████████████████████████████| 9/9 [00:00<00:00, 141.00it/s, loss=1.96]\n"
     ]
    },
    {
     "name": "stdout",
     "output_type": "stream",
     "text": [
      "Epoch [768/1800]: Train loss: 2.3089, Valid loss: 4.0365\n"
     ]
    },
    {
     "name": "stderr",
     "output_type": "stream",
     "text": [
      "Epoch [769/1800]: 100%|███████████████████████████████████████████████████████| 9/9 [00:00<00:00, 141.00it/s, loss=3.8]\n"
     ]
    },
    {
     "name": "stdout",
     "output_type": "stream",
     "text": [
      "Epoch [769/1800]: Train loss: 2.8845, Valid loss: 2.3847\n"
     ]
    },
    {
     "name": "stderr",
     "output_type": "stream",
     "text": [
      "Epoch [770/1800]: 100%|██████████████████████████████████████████████████████| 9/9 [00:00<00:00, 140.68it/s, loss=3.13]\n"
     ]
    },
    {
     "name": "stdout",
     "output_type": "stream",
     "text": [
      "Epoch [770/1800]: Train loss: 2.7901, Valid loss: 3.0304\n"
     ]
    },
    {
     "name": "stderr",
     "output_type": "stream",
     "text": [
      "Epoch [771/1800]: 100%|██████████████████████████████████████████████████████| 9/9 [00:00<00:00, 143.24it/s, loss=3.36]\n"
     ]
    },
    {
     "name": "stdout",
     "output_type": "stream",
     "text": [
      "Epoch [771/1800]: Train loss: 2.6866, Valid loss: 2.3067\n"
     ]
    },
    {
     "name": "stderr",
     "output_type": "stream",
     "text": [
      "Epoch [772/1800]: 100%|██████████████████████████████████████████████████████| 9/9 [00:00<00:00, 145.97it/s, loss=1.88]\n"
     ]
    },
    {
     "name": "stdout",
     "output_type": "stream",
     "text": [
      "Epoch [772/1800]: Train loss: 2.2344, Valid loss: 2.5734\n"
     ]
    },
    {
     "name": "stderr",
     "output_type": "stream",
     "text": [
      "Epoch [773/1800]: 100%|██████████████████████████████████████████████████████| 9/9 [00:00<00:00, 141.00it/s, loss=1.94]\n"
     ]
    },
    {
     "name": "stdout",
     "output_type": "stream",
     "text": [
      "Epoch [773/1800]: Train loss: 2.2904, Valid loss: 2.5267\n"
     ]
    },
    {
     "name": "stderr",
     "output_type": "stream",
     "text": [
      "Epoch [774/1800]: 100%|██████████████████████████████████████████████████████| 9/9 [00:00<00:00, 142.37it/s, loss=2.79]\n"
     ]
    },
    {
     "name": "stdout",
     "output_type": "stream",
     "text": [
      "Epoch [774/1800]: Train loss: 2.3287, Valid loss: 2.9155\n"
     ]
    },
    {
     "name": "stderr",
     "output_type": "stream",
     "text": [
      "Epoch [775/1800]: 100%|███████████████████████████████████████████████████████| 9/9 [00:00<00:00, 139.08it/s, loss=1.5]\n"
     ]
    },
    {
     "name": "stdout",
     "output_type": "stream",
     "text": [
      "Epoch [775/1800]: Train loss: 2.4448, Valid loss: 3.0128\n"
     ]
    },
    {
     "name": "stderr",
     "output_type": "stream",
     "text": [
      "Epoch [776/1800]: 100%|██████████████████████████████████████████████████████| 9/9 [00:00<00:00, 136.73it/s, loss=1.89]\n"
     ]
    },
    {
     "name": "stdout",
     "output_type": "stream",
     "text": [
      "Epoch [776/1800]: Train loss: 2.2370, Valid loss: 2.3475\n"
     ]
    },
    {
     "name": "stderr",
     "output_type": "stream",
     "text": [
      "Epoch [777/1800]: 100%|███████████████████████████████████████████████████████| 9/9 [00:00<00:00, 60.56it/s, loss=2.98]\n"
     ]
    },
    {
     "name": "stdout",
     "output_type": "stream",
     "text": [
      "Epoch [777/1800]: Train loss: 2.1485, Valid loss: 2.0444\n"
     ]
    },
    {
     "name": "stderr",
     "output_type": "stream",
     "text": [
      "Epoch [778/1800]: 100%|██████████████████████████████████████████████████████| 9/9 [00:00<00:00, 141.00it/s, loss=2.38]\n"
     ]
    },
    {
     "name": "stdout",
     "output_type": "stream",
     "text": [
      "Epoch [778/1800]: Train loss: 2.1483, Valid loss: 2.3559\n"
     ]
    },
    {
     "name": "stderr",
     "output_type": "stream",
     "text": [
      "Epoch [779/1800]: 100%|██████████████████████████████████████████████████████| 9/9 [00:00<00:00, 143.24it/s, loss=1.72]\n"
     ]
    },
    {
     "name": "stdout",
     "output_type": "stream",
     "text": [
      "Epoch [779/1800]: Train loss: 2.4256, Valid loss: 2.3617\n"
     ]
    },
    {
     "name": "stderr",
     "output_type": "stream",
     "text": [
      "Epoch [780/1800]: 100%|██████████████████████████████████████████████████████| 9/9 [00:00<00:00, 147.94it/s, loss=1.76]\n"
     ]
    },
    {
     "name": "stdout",
     "output_type": "stream",
     "text": [
      "Epoch [780/1800]: Train loss: 2.0982, Valid loss: 2.2116\n"
     ]
    },
    {
     "name": "stderr",
     "output_type": "stream",
     "text": [
      "Epoch [781/1800]: 100%|██████████████████████████████████████████████████████| 9/9 [00:00<00:00, 141.00it/s, loss=2.79]\n"
     ]
    },
    {
     "name": "stdout",
     "output_type": "stream",
     "text": [
      "Epoch [781/1800]: Train loss: 2.4743, Valid loss: 2.9245\n"
     ]
    },
    {
     "name": "stderr",
     "output_type": "stream",
     "text": [
      "Epoch [782/1800]: 100%|███████████████████████████████████████████████████████| 9/9 [00:00<00:00, 138.83it/s, loss=3.6]\n"
     ]
    },
    {
     "name": "stdout",
     "output_type": "stream",
     "text": [
      "Epoch [782/1800]: Train loss: 3.5757, Valid loss: 2.1411\n"
     ]
    },
    {
     "name": "stderr",
     "output_type": "stream",
     "text": [
      "Epoch [783/1800]: 100%|██████████████████████████████████████████████████████| 9/9 [00:00<00:00, 138.83it/s, loss=2.23]\n"
     ]
    },
    {
     "name": "stdout",
     "output_type": "stream",
     "text": [
      "Epoch [783/1800]: Train loss: 3.1047, Valid loss: 6.2117\n"
     ]
    },
    {
     "name": "stderr",
     "output_type": "stream",
     "text": [
      "Epoch [784/1800]: 100%|██████████████████████████████████████████████████████| 9/9 [00:00<00:00, 141.00it/s, loss=5.53]\n"
     ]
    },
    {
     "name": "stdout",
     "output_type": "stream",
     "text": [
      "Epoch [784/1800]: Train loss: 4.8717, Valid loss: 2.4080\n"
     ]
    },
    {
     "name": "stderr",
     "output_type": "stream",
     "text": [
      "Epoch [785/1800]: 100%|██████████████████████████████████████████████████████| 9/9 [00:00<00:00, 141.00it/s, loss=5.24]\n"
     ]
    },
    {
     "name": "stdout",
     "output_type": "stream",
     "text": [
      "Epoch [785/1800]: Train loss: 3.8818, Valid loss: 5.3661\n"
     ]
    },
    {
     "name": "stderr",
     "output_type": "stream",
     "text": [
      "Epoch [786/1800]: 100%|██████████████████████████████████████████████████████| 9/9 [00:00<00:00, 141.00it/s, loss=2.45]\n"
     ]
    },
    {
     "name": "stdout",
     "output_type": "stream",
     "text": [
      "Epoch [786/1800]: Train loss: 3.4804, Valid loss: 5.0125\n"
     ]
    },
    {
     "name": "stderr",
     "output_type": "stream",
     "text": [
      "Epoch [787/1800]: 100%|██████████████████████████████████████████████████████| 9/9 [00:00<00:00, 146.47it/s, loss=2.91]\n"
     ]
    },
    {
     "name": "stdout",
     "output_type": "stream",
     "text": [
      "Epoch [787/1800]: Train loss: 3.0797, Valid loss: 2.8246\n"
     ]
    },
    {
     "name": "stderr",
     "output_type": "stream",
     "text": [
      "Epoch [788/1800]: 100%|██████████████████████████████████████████████████████| 9/9 [00:00<00:00, 141.00it/s, loss=2.59]\n"
     ]
    },
    {
     "name": "stdout",
     "output_type": "stream",
     "text": [
      "Epoch [788/1800]: Train loss: 2.7713, Valid loss: 2.9064\n"
     ]
    },
    {
     "name": "stderr",
     "output_type": "stream",
     "text": [
      "Epoch [789/1800]: 100%|██████████████████████████████████████████████████████| 9/9 [00:00<00:00, 144.18it/s, loss=1.66]\n"
     ]
    },
    {
     "name": "stdout",
     "output_type": "stream",
     "text": [
      "Epoch [789/1800]: Train loss: 2.4677, Valid loss: 3.1236\n"
     ]
    },
    {
     "name": "stderr",
     "output_type": "stream",
     "text": [
      "Epoch [790/1800]: 100%|██████████████████████████████████████████████████████| 9/9 [00:00<00:00, 143.24it/s, loss=2.82]\n"
     ]
    },
    {
     "name": "stdout",
     "output_type": "stream",
     "text": [
      "Epoch [790/1800]: Train loss: 2.5222, Valid loss: 2.1730\n"
     ]
    },
    {
     "name": "stderr",
     "output_type": "stream",
     "text": [
      "Epoch [791/1800]: 100%|██████████████████████████████████████████████████████| 9/9 [00:00<00:00, 138.24it/s, loss=3.83]\n"
     ]
    },
    {
     "name": "stdout",
     "output_type": "stream",
     "text": [
      "Epoch [791/1800]: Train loss: 2.8416, Valid loss: 5.9821\n"
     ]
    },
    {
     "name": "stderr",
     "output_type": "stream",
     "text": [
      "Epoch [792/1800]: 100%|██████████████████████████████████████████████████████| 9/9 [00:00<00:00, 141.00it/s, loss=2.32]\n"
     ]
    },
    {
     "name": "stdout",
     "output_type": "stream",
     "text": [
      "Epoch [792/1800]: Train loss: 4.2407, Valid loss: 4.7018\n"
     ]
    },
    {
     "name": "stderr",
     "output_type": "stream",
     "text": [
      "Epoch [793/1800]: 100%|██████████████████████████████████████████████████████| 9/9 [00:00<00:00, 143.24it/s, loss=2.72]\n"
     ]
    },
    {
     "name": "stdout",
     "output_type": "stream",
     "text": [
      "Epoch [793/1800]: Train loss: 3.0614, Valid loss: 2.4330\n"
     ]
    },
    {
     "name": "stderr",
     "output_type": "stream",
     "text": [
      "Epoch [794/1800]: 100%|██████████████████████████████████████████████████████| 9/9 [00:00<00:00, 138.83it/s, loss=2.04]\n"
     ]
    },
    {
     "name": "stdout",
     "output_type": "stream",
     "text": [
      "Epoch [794/1800]: Train loss: 2.1861, Valid loss: 3.2330\n"
     ]
    },
    {
     "name": "stderr",
     "output_type": "stream",
     "text": [
      "Epoch [795/1800]: 100%|██████████████████████████████████████████████████████| 9/9 [00:00<00:00, 138.83it/s, loss=3.58]\n"
     ]
    },
    {
     "name": "stdout",
     "output_type": "stream",
     "text": [
      "Epoch [795/1800]: Train loss: 2.5403, Valid loss: 2.6095\n"
     ]
    },
    {
     "name": "stderr",
     "output_type": "stream",
     "text": [
      "Epoch [796/1800]: 100%|██████████████████████████████████████████████████████| 9/9 [00:00<00:00, 143.24it/s, loss=2.21]\n"
     ]
    },
    {
     "name": "stdout",
     "output_type": "stream",
     "text": [
      "Epoch [796/1800]: Train loss: 2.5113, Valid loss: 2.9745\n"
     ]
    },
    {
     "name": "stderr",
     "output_type": "stream",
     "text": [
      "Epoch [797/1800]: 100%|███████████████████████████████████████████████████████| 9/9 [00:00<00:00, 138.96it/s, loss=1.9]\n"
     ]
    },
    {
     "name": "stdout",
     "output_type": "stream",
     "text": [
      "Epoch [797/1800]: Train loss: 2.3165, Valid loss: 2.3180\n"
     ]
    },
    {
     "name": "stderr",
     "output_type": "stream",
     "text": [
      "Epoch [798/1800]: 100%|██████████████████████████████████████████████████████| 9/9 [00:00<00:00, 145.55it/s, loss=2.13]\n"
     ]
    },
    {
     "name": "stdout",
     "output_type": "stream",
     "text": [
      "Epoch [798/1800]: Train loss: 2.1934, Valid loss: 2.4808\n"
     ]
    },
    {
     "name": "stderr",
     "output_type": "stream",
     "text": [
      "Epoch [799/1800]: 100%|██████████████████████████████████████████████████████| 9/9 [00:00<00:00, 138.83it/s, loss=1.57]\n"
     ]
    },
    {
     "name": "stdout",
     "output_type": "stream",
     "text": [
      "Epoch [799/1800]: Train loss: 2.1338, Valid loss: 2.0868\n"
     ]
    },
    {
     "name": "stderr",
     "output_type": "stream",
     "text": [
      "Epoch [800/1800]: 100%|███████████████████████████████████████████████████████| 9/9 [00:00<00:00, 93.92it/s, loss=2.83]\n"
     ]
    },
    {
     "name": "stdout",
     "output_type": "stream",
     "text": [
      "Epoch [800/1800]: Train loss: 2.1380, Valid loss: 2.5481\n"
     ]
    },
    {
     "name": "stderr",
     "output_type": "stream",
     "text": [
      "Epoch [801/1800]: 100%|██████████████████████████████████████████████████████| 9/9 [00:00<00:00, 121.13it/s, loss=3.16]\n"
     ]
    },
    {
     "name": "stdout",
     "output_type": "stream",
     "text": [
      "Epoch [801/1800]: Train loss: 2.4486, Valid loss: 2.4445\n"
     ]
    },
    {
     "name": "stderr",
     "output_type": "stream",
     "text": [
      "Epoch [802/1800]: 100%|██████████████████████████████████████████████████████| 9/9 [00:00<00:00, 145.55it/s, loss=2.35]\n"
     ]
    },
    {
     "name": "stdout",
     "output_type": "stream",
     "text": [
      "Epoch [802/1800]: Train loss: 2.7309, Valid loss: 4.4566\n"
     ]
    },
    {
     "name": "stderr",
     "output_type": "stream",
     "text": [
      "Epoch [803/1800]: 100%|██████████████████████████████████████████████████████| 9/9 [00:00<00:00, 145.55it/s, loss=3.19]\n"
     ]
    },
    {
     "name": "stdout",
     "output_type": "stream",
     "text": [
      "Epoch [803/1800]: Train loss: 2.8056, Valid loss: 2.6554\n"
     ]
    },
    {
     "name": "stderr",
     "output_type": "stream",
     "text": [
      "Epoch [804/1800]: 100%|██████████████████████████████████████████████████████| 9/9 [00:00<00:00, 136.73it/s, loss=2.46]\n"
     ]
    },
    {
     "name": "stdout",
     "output_type": "stream",
     "text": [
      "Epoch [804/1800]: Train loss: 2.2422, Valid loss: 2.3198\n"
     ]
    },
    {
     "name": "stderr",
     "output_type": "stream",
     "text": [
      "Epoch [805/1800]: 100%|██████████████████████████████████████████████████████| 9/9 [00:00<00:00, 147.94it/s, loss=1.96]\n"
     ]
    },
    {
     "name": "stdout",
     "output_type": "stream",
     "text": [
      "Epoch [805/1800]: Train loss: 2.2514, Valid loss: 2.3743\n"
     ]
    },
    {
     "name": "stderr",
     "output_type": "stream",
     "text": [
      "Epoch [806/1800]: 100%|██████████████████████████████████████████████████████| 9/9 [00:00<00:00, 141.07it/s, loss=3.36]\n"
     ]
    },
    {
     "name": "stdout",
     "output_type": "stream",
     "text": [
      "Epoch [806/1800]: Train loss: 2.3990, Valid loss: 2.7082\n"
     ]
    },
    {
     "name": "stderr",
     "output_type": "stream",
     "text": [
      "Epoch [807/1800]: 100%|██████████████████████████████████████████████████████| 9/9 [00:00<00:00, 145.55it/s, loss=1.44]\n"
     ]
    },
    {
     "name": "stdout",
     "output_type": "stream",
     "text": [
      "Epoch [807/1800]: Train loss: 2.9450, Valid loss: 3.2405\n"
     ]
    },
    {
     "name": "stderr",
     "output_type": "stream",
     "text": [
      "Epoch [808/1800]: 100%|██████████████████████████████████████████████████████| 9/9 [00:00<00:00, 138.83it/s, loss=2.59]\n"
     ]
    },
    {
     "name": "stdout",
     "output_type": "stream",
     "text": [
      "Epoch [808/1800]: Train loss: 2.5777, Valid loss: 2.0742\n"
     ]
    },
    {
     "name": "stderr",
     "output_type": "stream",
     "text": [
      "Epoch [809/1800]: 100%|██████████████████████████████████████████████████████| 9/9 [00:00<00:00, 140.99it/s, loss=1.93]\n"
     ]
    },
    {
     "name": "stdout",
     "output_type": "stream",
     "text": [
      "Epoch [809/1800]: Train loss: 2.1143, Valid loss: 2.0658\n"
     ]
    },
    {
     "name": "stderr",
     "output_type": "stream",
     "text": [
      "Epoch [810/1800]: 100%|██████████████████████████████████████████████████████| 9/9 [00:00<00:00, 145.55it/s, loss=2.63]\n"
     ]
    },
    {
     "name": "stdout",
     "output_type": "stream",
     "text": [
      "Epoch [810/1800]: Train loss: 2.3573, Valid loss: 2.5787\n"
     ]
    },
    {
     "name": "stderr",
     "output_type": "stream",
     "text": [
      "Epoch [811/1800]: 100%|██████████████████████████████████████████████████████| 9/9 [00:00<00:00, 144.29it/s, loss=1.79]\n"
     ]
    },
    {
     "name": "stdout",
     "output_type": "stream",
     "text": [
      "Epoch [811/1800]: Train loss: 2.2673, Valid loss: 2.8105\n"
     ]
    },
    {
     "name": "stderr",
     "output_type": "stream",
     "text": [
      "Epoch [812/1800]: 100%|██████████████████████████████████████████████████████| 9/9 [00:00<00:00, 143.24it/s, loss=2.67]\n"
     ]
    },
    {
     "name": "stdout",
     "output_type": "stream",
     "text": [
      "Epoch [812/1800]: Train loss: 2.2788, Valid loss: 3.2405\n"
     ]
    },
    {
     "name": "stderr",
     "output_type": "stream",
     "text": [
      "Epoch [813/1800]: 100%|███████████████████████████████████████████████████████| 9/9 [00:00<00:00, 141.00it/s, loss=2.1]\n"
     ]
    },
    {
     "name": "stdout",
     "output_type": "stream",
     "text": [
      "Epoch [813/1800]: Train loss: 2.4867, Valid loss: 3.2723\n"
     ]
    },
    {
     "name": "stderr",
     "output_type": "stream",
     "text": [
      "Epoch [814/1800]: 100%|██████████████████████████████████████████████████████| 9/9 [00:00<00:00, 134.65it/s, loss=2.88]\n"
     ]
    },
    {
     "name": "stdout",
     "output_type": "stream",
     "text": [
      "Epoch [814/1800]: Train loss: 3.9076, Valid loss: 4.3998\n"
     ]
    },
    {
     "name": "stderr",
     "output_type": "stream",
     "text": [
      "Epoch [815/1800]: 100%|██████████████████████████████████████████████████████| 9/9 [00:00<00:00, 143.24it/s, loss=2.49]\n"
     ]
    },
    {
     "name": "stdout",
     "output_type": "stream",
     "text": [
      "Epoch [815/1800]: Train loss: 3.3278, Valid loss: 4.2573\n"
     ]
    },
    {
     "name": "stderr",
     "output_type": "stream",
     "text": [
      "Epoch [816/1800]: 100%|██████████████████████████████████████████████████████| 9/9 [00:00<00:00, 139.86it/s, loss=2.45]\n"
     ]
    },
    {
     "name": "stdout",
     "output_type": "stream",
     "text": [
      "Epoch [816/1800]: Train loss: 2.4476, Valid loss: 2.7216\n"
     ]
    },
    {
     "name": "stderr",
     "output_type": "stream",
     "text": [
      "Epoch [817/1800]: 100%|██████████████████████████████████████████████████████| 9/9 [00:00<00:00, 143.26it/s, loss=1.54]\n"
     ]
    },
    {
     "name": "stdout",
     "output_type": "stream",
     "text": [
      "Epoch [817/1800]: Train loss: 2.2262, Valid loss: 2.2301\n"
     ]
    },
    {
     "name": "stderr",
     "output_type": "stream",
     "text": [
      "Epoch [818/1800]: 100%|██████████████████████████████████████████████████████| 9/9 [00:00<00:00, 140.54it/s, loss=2.02]\n"
     ]
    },
    {
     "name": "stdout",
     "output_type": "stream",
     "text": [
      "Epoch [818/1800]: Train loss: 2.0196, Valid loss: 2.6139\n"
     ]
    },
    {
     "name": "stderr",
     "output_type": "stream",
     "text": [
      "Epoch [819/1800]: 100%|███████████████████████████████████████████████████████| 9/9 [00:00<00:00, 82.79it/s, loss=2.33]\n"
     ]
    },
    {
     "name": "stdout",
     "output_type": "stream",
     "text": [
      "Epoch [819/1800]: Train loss: 2.0639, Valid loss: 3.1874\n"
     ]
    },
    {
     "name": "stderr",
     "output_type": "stream",
     "text": [
      "Epoch [820/1800]: 100%|██████████████████████████████████████████████████████| 9/9 [00:00<00:00, 134.69it/s, loss=1.97]\n"
     ]
    },
    {
     "name": "stdout",
     "output_type": "stream",
     "text": [
      "Epoch [820/1800]: Train loss: 2.4422, Valid loss: 2.1458\n"
     ]
    },
    {
     "name": "stderr",
     "output_type": "stream",
     "text": [
      "Epoch [821/1800]: 100%|██████████████████████████████████████████████████████| 9/9 [00:00<00:00, 138.83it/s, loss=1.97]\n"
     ]
    },
    {
     "name": "stdout",
     "output_type": "stream",
     "text": [
      "Epoch [821/1800]: Train loss: 2.3017, Valid loss: 2.4170\n"
     ]
    },
    {
     "name": "stderr",
     "output_type": "stream",
     "text": [
      "Epoch [822/1800]: 100%|██████████████████████████████████████████████████████| 9/9 [00:00<00:00, 143.24it/s, loss=2.09]\n"
     ]
    },
    {
     "name": "stdout",
     "output_type": "stream",
     "text": [
      "Epoch [822/1800]: Train loss: 2.2568, Valid loss: 2.6476\n"
     ]
    },
    {
     "name": "stderr",
     "output_type": "stream",
     "text": [
      "Epoch [823/1800]: 100%|██████████████████████████████████████████████████████| 9/9 [00:00<00:00, 143.24it/s, loss=3.19]\n"
     ]
    },
    {
     "name": "stdout",
     "output_type": "stream",
     "text": [
      "Epoch [823/1800]: Train loss: 2.5572, Valid loss: 3.8731\n"
     ]
    },
    {
     "name": "stderr",
     "output_type": "stream",
     "text": [
      "Epoch [824/1800]: 100%|██████████████████████████████████████████████████████| 9/9 [00:00<00:00, 141.00it/s, loss=2.64]\n"
     ]
    },
    {
     "name": "stdout",
     "output_type": "stream",
     "text": [
      "Epoch [824/1800]: Train loss: 2.3996, Valid loss: 2.1179\n"
     ]
    },
    {
     "name": "stderr",
     "output_type": "stream",
     "text": [
      "Epoch [825/1800]: 100%|██████████████████████████████████████████████████████| 9/9 [00:00<00:00, 145.55it/s, loss=1.75]\n"
     ]
    },
    {
     "name": "stdout",
     "output_type": "stream",
     "text": [
      "Epoch [825/1800]: Train loss: 2.3193, Valid loss: 2.3507\n"
     ]
    },
    {
     "name": "stderr",
     "output_type": "stream",
     "text": [
      "Epoch [826/1800]: 100%|██████████████████████████████████████████████████████| 9/9 [00:00<00:00, 143.24it/s, loss=1.73]\n"
     ]
    },
    {
     "name": "stdout",
     "output_type": "stream",
     "text": [
      "Epoch [826/1800]: Train loss: 2.0316, Valid loss: 2.5786\n"
     ]
    },
    {
     "name": "stderr",
     "output_type": "stream",
     "text": [
      "Epoch [827/1800]: 100%|██████████████████████████████████████████████████████| 9/9 [00:00<00:00, 136.10it/s, loss=2.73]\n"
     ]
    },
    {
     "name": "stdout",
     "output_type": "stream",
     "text": [
      "Epoch [827/1800]: Train loss: 2.1143, Valid loss: 2.1926\n"
     ]
    },
    {
     "name": "stderr",
     "output_type": "stream",
     "text": [
      "Epoch [828/1800]: 100%|██████████████████████████████████████████████████████| 9/9 [00:00<00:00, 141.00it/s, loss=2.58]\n"
     ]
    },
    {
     "name": "stdout",
     "output_type": "stream",
     "text": [
      "Epoch [828/1800]: Train loss: 2.2448, Valid loss: 3.4588\n"
     ]
    },
    {
     "name": "stderr",
     "output_type": "stream",
     "text": [
      "Epoch [829/1800]: 100%|██████████████████████████████████████████████████████| 9/9 [00:00<00:00, 141.40it/s, loss=3.01]\n"
     ]
    },
    {
     "name": "stdout",
     "output_type": "stream",
     "text": [
      "Epoch [829/1800]: Train loss: 3.0654, Valid loss: 6.1279\n"
     ]
    },
    {
     "name": "stderr",
     "output_type": "stream",
     "text": [
      "Epoch [830/1800]: 100%|██████████████████████████████████████████████████████| 9/9 [00:00<00:00, 143.24it/s, loss=3.96]\n"
     ]
    },
    {
     "name": "stdout",
     "output_type": "stream",
     "text": [
      "Epoch [830/1800]: Train loss: 3.4606, Valid loss: 4.5908\n"
     ]
    },
    {
     "name": "stderr",
     "output_type": "stream",
     "text": [
      "Epoch [831/1800]: 100%|██████████████████████████████████████████████████████| 9/9 [00:00<00:00, 130.78it/s, loss=4.13]\n"
     ]
    },
    {
     "name": "stdout",
     "output_type": "stream",
     "text": [
      "Epoch [831/1800]: Train loss: 3.3273, Valid loss: 2.3290\n"
     ]
    },
    {
     "name": "stderr",
     "output_type": "stream",
     "text": [
      "Epoch [832/1800]: 100%|██████████████████████████████████████████████████████| 9/9 [00:00<00:00, 141.22it/s, loss=1.93]"
     ]
    },
    {
     "name": "stdout",
     "output_type": "stream",
     "text": [
      "Epoch [832/1800]: Train loss: 2.4261, Valid loss: 2.7593"
     ]
    },
    {
     "name": "stderr",
     "output_type": "stream",
     "text": [
      "\n"
     ]
    },
    {
     "name": "stdout",
     "output_type": "stream",
     "text": [
      "\n"
     ]
    },
    {
     "name": "stderr",
     "output_type": "stream",
     "text": [
      "Epoch [833/1800]: 100%|██████████████████████████████████████████████████████| 9/9 [00:00<00:00, 134.68it/s, loss=2.33]\n"
     ]
    },
    {
     "name": "stdout",
     "output_type": "stream",
     "text": [
      "Epoch [833/1800]: Train loss: 2.1916, Valid loss: 2.9451\n"
     ]
    },
    {
     "name": "stderr",
     "output_type": "stream",
     "text": [
      "Epoch [834/1800]: 100%|██████████████████████████████████████████████████████| 9/9 [00:00<00:00, 143.24it/s, loss=2.82]\n"
     ]
    },
    {
     "name": "stdout",
     "output_type": "stream",
     "text": [
      "Epoch [834/1800]: Train loss: 2.4636, Valid loss: 2.5402\n"
     ]
    },
    {
     "name": "stderr",
     "output_type": "stream",
     "text": [
      "Epoch [835/1800]: 100%|██████████████████████████████████████████████████████| 9/9 [00:00<00:00, 143.24it/s, loss=1.43]\n"
     ]
    },
    {
     "name": "stdout",
     "output_type": "stream",
     "text": [
      "Epoch [835/1800]: Train loss: 2.2409, Valid loss: 2.2898\n"
     ]
    },
    {
     "name": "stderr",
     "output_type": "stream",
     "text": [
      "Epoch [836/1800]: 100%|██████████████████████████████████████████████████████| 9/9 [00:00<00:00, 138.83it/s, loss=1.97]\n"
     ]
    },
    {
     "name": "stdout",
     "output_type": "stream",
     "text": [
      "Epoch [836/1800]: Train loss: 2.0583, Valid loss: 2.3477\n"
     ]
    },
    {
     "name": "stderr",
     "output_type": "stream",
     "text": [
      "Epoch [837/1800]: 100%|██████████████████████████████████████████████████████| 9/9 [00:00<00:00, 123.66it/s, loss=1.85]\n"
     ]
    },
    {
     "name": "stdout",
     "output_type": "stream",
     "text": [
      "Epoch [837/1800]: Train loss: 2.0941, Valid loss: 2.1061\n"
     ]
    },
    {
     "name": "stderr",
     "output_type": "stream",
     "text": [
      "Epoch [838/1800]: 100%|██████████████████████████████████████████████████████| 9/9 [00:00<00:00, 138.86it/s, loss=2.42]\n"
     ]
    },
    {
     "name": "stdout",
     "output_type": "stream",
     "text": [
      "Epoch [838/1800]: Train loss: 2.1123, Valid loss: 2.3722\n"
     ]
    },
    {
     "name": "stderr",
     "output_type": "stream",
     "text": [
      "Epoch [839/1800]: 100%|██████████████████████████████████████████████████████| 9/9 [00:00<00:00, 146.48it/s, loss=1.98]\n"
     ]
    },
    {
     "name": "stdout",
     "output_type": "stream",
     "text": [
      "Epoch [839/1800]: Train loss: 2.0175, Valid loss: 2.1703\n"
     ]
    },
    {
     "name": "stderr",
     "output_type": "stream",
     "text": [
      "Epoch [840/1800]: 100%|██████████████████████████████████████████████████████| 9/9 [00:00<00:00, 141.00it/s, loss=2.35]\n"
     ]
    },
    {
     "name": "stdout",
     "output_type": "stream",
     "text": [
      "Epoch [840/1800]: Train loss: 2.3747, Valid loss: 3.6588\n"
     ]
    },
    {
     "name": "stderr",
     "output_type": "stream",
     "text": [
      "Epoch [841/1800]: 100%|██████████████████████████████████████████████████████| 9/9 [00:00<00:00, 147.94it/s, loss=2.06]\n"
     ]
    },
    {
     "name": "stdout",
     "output_type": "stream",
     "text": [
      "Epoch [841/1800]: Train loss: 2.4514, Valid loss: 2.6549\n"
     ]
    },
    {
     "name": "stderr",
     "output_type": "stream",
     "text": [
      "Epoch [842/1800]: 100%|███████████████████████████████████████████████████████| 9/9 [00:00<00:00, 143.24it/s, loss=2.5]\n"
     ]
    },
    {
     "name": "stdout",
     "output_type": "stream",
     "text": [
      "Epoch [842/1800]: Train loss: 2.5487, Valid loss: 4.3064\n"
     ]
    },
    {
     "name": "stderr",
     "output_type": "stream",
     "text": [
      "Epoch [843/1800]: 100%|██████████████████████████████████████████████████████| 9/9 [00:00<00:00, 141.00it/s, loss=4.33]\n"
     ]
    },
    {
     "name": "stdout",
     "output_type": "stream",
     "text": [
      "Epoch [843/1800]: Train loss: 3.0238, Valid loss: 2.1115\n"
     ]
    },
    {
     "name": "stderr",
     "output_type": "stream",
     "text": [
      "Epoch [844/1800]: 100%|██████████████████████████████████████████████████████| 9/9 [00:00<00:00, 145.55it/s, loss=2.39]\n"
     ]
    },
    {
     "name": "stdout",
     "output_type": "stream",
     "text": [
      "Epoch [844/1800]: Train loss: 2.6972, Valid loss: 3.6122\n"
     ]
    },
    {
     "name": "stderr",
     "output_type": "stream",
     "text": [
      "Epoch [845/1800]: 100%|██████████████████████████████████████████████████████| 9/9 [00:00<00:00, 145.55it/s, loss=2.43]\n"
     ]
    },
    {
     "name": "stdout",
     "output_type": "stream",
     "text": [
      "Epoch [845/1800]: Train loss: 2.4688, Valid loss: 2.8119\n"
     ]
    },
    {
     "name": "stderr",
     "output_type": "stream",
     "text": [
      "Epoch [846/1800]: 100%|██████████████████████████████████████████████████████| 9/9 [00:00<00:00, 143.24it/s, loss=2.79]\n"
     ]
    },
    {
     "name": "stdout",
     "output_type": "stream",
     "text": [
      "Epoch [846/1800]: Train loss: 2.5063, Valid loss: 2.7989\n"
     ]
    },
    {
     "name": "stderr",
     "output_type": "stream",
     "text": [
      "Epoch [847/1800]: 100%|██████████████████████████████████████████████████████| 9/9 [00:00<00:00, 144.54it/s, loss=1.54]\n"
     ]
    },
    {
     "name": "stdout",
     "output_type": "stream",
     "text": [
      "Epoch [847/1800]: Train loss: 2.2941, Valid loss: 2.5758\n"
     ]
    },
    {
     "name": "stderr",
     "output_type": "stream",
     "text": [
      "Epoch [848/1800]: 100%|██████████████████████████████████████████████████████| 9/9 [00:00<00:00, 145.24it/s, loss=2.34]\n"
     ]
    },
    {
     "name": "stdout",
     "output_type": "stream",
     "text": [
      "Epoch [848/1800]: Train loss: 2.4070, Valid loss: 3.8929\n"
     ]
    },
    {
     "name": "stderr",
     "output_type": "stream",
     "text": [
      "Epoch [849/1800]: 100%|███████████████████████████████████████████████████████| 9/9 [00:00<00:00, 145.55it/s, loss=3.1]\n"
     ]
    },
    {
     "name": "stdout",
     "output_type": "stream",
     "text": [
      "Epoch [849/1800]: Train loss: 3.1171, Valid loss: 2.8116\n"
     ]
    },
    {
     "name": "stderr",
     "output_type": "stream",
     "text": [
      "Epoch [850/1800]: 100%|██████████████████████████████████████████████████████| 9/9 [00:00<00:00, 145.55it/s, loss=1.41]\n"
     ]
    },
    {
     "name": "stdout",
     "output_type": "stream",
     "text": [
      "Epoch [850/1800]: Train loss: 2.3615, Valid loss: 3.3174\n"
     ]
    },
    {
     "name": "stderr",
     "output_type": "stream",
     "text": [
      "Epoch [851/1800]: 100%|██████████████████████████████████████████████████████| 9/9 [00:00<00:00, 143.24it/s, loss=2.36]\n"
     ]
    },
    {
     "name": "stdout",
     "output_type": "stream",
     "text": [
      "Epoch [851/1800]: Train loss: 2.4204, Valid loss: 3.4978\n"
     ]
    },
    {
     "name": "stderr",
     "output_type": "stream",
     "text": [
      "Epoch [852/1800]: 100%|██████████████████████████████████████████████████████| 9/9 [00:00<00:00, 139.14it/s, loss=2.24]\n"
     ]
    },
    {
     "name": "stdout",
     "output_type": "stream",
     "text": [
      "Epoch [852/1800]: Train loss: 3.3078, Valid loss: 4.0497\n"
     ]
    },
    {
     "name": "stderr",
     "output_type": "stream",
     "text": [
      "Epoch [853/1800]: 100%|███████████████████████████████████████████████████████| 9/9 [00:00<00:00, 145.97it/s, loss=3.2]\n"
     ]
    },
    {
     "name": "stdout",
     "output_type": "stream",
     "text": [
      "Epoch [853/1800]: Train loss: 3.2842, Valid loss: 3.0321\n"
     ]
    },
    {
     "name": "stderr",
     "output_type": "stream",
     "text": [
      "Epoch [854/1800]: 100%|██████████████████████████████████████████████████████| 9/9 [00:00<00:00, 145.55it/s, loss=1.66]\n"
     ]
    },
    {
     "name": "stdout",
     "output_type": "stream",
     "text": [
      "Epoch [854/1800]: Train loss: 2.5931, Valid loss: 2.9055\n"
     ]
    },
    {
     "name": "stderr",
     "output_type": "stream",
     "text": [
      "Epoch [855/1800]: 100%|██████████████████████████████████████████████████████| 9/9 [00:00<00:00, 145.55it/s, loss=2.05]\n"
     ]
    },
    {
     "name": "stdout",
     "output_type": "stream",
     "text": [
      "Epoch [855/1800]: Train loss: 2.5215, Valid loss: 3.1582\n"
     ]
    },
    {
     "name": "stderr",
     "output_type": "stream",
     "text": [
      "Epoch [856/1800]: 100%|██████████████████████████████████████████████████████| 9/9 [00:00<00:00, 145.55it/s, loss=2.19]\n"
     ]
    },
    {
     "name": "stdout",
     "output_type": "stream",
     "text": [
      "Epoch [856/1800]: Train loss: 2.5332, Valid loss: 2.3512\n"
     ]
    },
    {
     "name": "stderr",
     "output_type": "stream",
     "text": [
      "Epoch [857/1800]: 100%|██████████████████████████████████████████████████████| 9/9 [00:00<00:00, 141.00it/s, loss=1.56]\n"
     ]
    },
    {
     "name": "stdout",
     "output_type": "stream",
     "text": [
      "Epoch [857/1800]: Train loss: 2.1211, Valid loss: 1.9988\n",
      "Saving model with loss 1.999...\n"
     ]
    },
    {
     "name": "stderr",
     "output_type": "stream",
     "text": [
      "Epoch [858/1800]: 100%|██████████████████████████████████████████████████████| 9/9 [00:00<00:00, 143.24it/s, loss=2.25]\n"
     ]
    },
    {
     "name": "stdout",
     "output_type": "stream",
     "text": [
      "Epoch [858/1800]: Train loss: 2.0723, Valid loss: 2.6839\n"
     ]
    },
    {
     "name": "stderr",
     "output_type": "stream",
     "text": [
      "Epoch [859/1800]: 100%|██████████████████████████████████████████████████████| 9/9 [00:00<00:00, 143.24it/s, loss=4.44]\n"
     ]
    },
    {
     "name": "stdout",
     "output_type": "stream",
     "text": [
      "Epoch [859/1800]: Train loss: 2.6185, Valid loss: 2.8881\n"
     ]
    },
    {
     "name": "stderr",
     "output_type": "stream",
     "text": [
      "Epoch [860/1800]: 100%|██████████████████████████████████████████████████████| 9/9 [00:00<00:00, 143.08it/s, loss=2.54]\n"
     ]
    },
    {
     "name": "stdout",
     "output_type": "stream",
     "text": [
      "Epoch [860/1800]: Train loss: 2.7365, Valid loss: 1.9241\n",
      "Saving model with loss 1.924...\n"
     ]
    },
    {
     "name": "stderr",
     "output_type": "stream",
     "text": [
      "Epoch [861/1800]: 100%|███████████████████████████████████████████████████████| 9/9 [00:00<00:00, 58.98it/s, loss=1.52]\n"
     ]
    },
    {
     "name": "stdout",
     "output_type": "stream",
     "text": [
      "Epoch [861/1800]: Train loss: 2.3165, Valid loss: 3.5472\n"
     ]
    },
    {
     "name": "stderr",
     "output_type": "stream",
     "text": [
      "Epoch [862/1800]: 100%|██████████████████████████████████████████████████████| 9/9 [00:00<00:00, 135.22it/s, loss=4.15]\n"
     ]
    },
    {
     "name": "stdout",
     "output_type": "stream",
     "text": [
      "Epoch [862/1800]: Train loss: 3.0403, Valid loss: 2.7702\n"
     ]
    },
    {
     "name": "stderr",
     "output_type": "stream",
     "text": [
      "Epoch [863/1800]: 100%|██████████████████████████████████████████████████████| 9/9 [00:00<00:00, 145.55it/s, loss=3.49]\n"
     ]
    },
    {
     "name": "stdout",
     "output_type": "stream",
     "text": [
      "Epoch [863/1800]: Train loss: 3.1352, Valid loss: 2.4015\n"
     ]
    },
    {
     "name": "stderr",
     "output_type": "stream",
     "text": [
      "Epoch [864/1800]: 100%|██████████████████████████████████████████████████████| 9/9 [00:00<00:00, 147.93it/s, loss=1.29]\n"
     ]
    },
    {
     "name": "stdout",
     "output_type": "stream",
     "text": [
      "Epoch [864/1800]: Train loss: 2.5101, Valid loss: 2.5858\n"
     ]
    },
    {
     "name": "stderr",
     "output_type": "stream",
     "text": [
      "Epoch [865/1800]: 100%|██████████████████████████████████████████████████████| 9/9 [00:00<00:00, 140.78it/s, loss=1.91]\n"
     ]
    },
    {
     "name": "stdout",
     "output_type": "stream",
     "text": [
      "Epoch [865/1800]: Train loss: 2.1584, Valid loss: 2.5738\n"
     ]
    },
    {
     "name": "stderr",
     "output_type": "stream",
     "text": [
      "Epoch [866/1800]: 100%|██████████████████████████████████████████████████████| 9/9 [00:00<00:00, 147.94it/s, loss=2.97]\n"
     ]
    },
    {
     "name": "stdout",
     "output_type": "stream",
     "text": [
      "Epoch [866/1800]: Train loss: 2.2646, Valid loss: 2.2691\n"
     ]
    },
    {
     "name": "stderr",
     "output_type": "stream",
     "text": [
      "Epoch [867/1800]: 100%|██████████████████████████████████████████████████████| 9/9 [00:00<00:00, 141.00it/s, loss=1.46]\n"
     ]
    },
    {
     "name": "stdout",
     "output_type": "stream",
     "text": [
      "Epoch [867/1800]: Train loss: 2.3110, Valid loss: 2.5138\n"
     ]
    },
    {
     "name": "stderr",
     "output_type": "stream",
     "text": [
      "Epoch [868/1800]: 100%|███████████████████████████████████████████████████████| 9/9 [00:00<00:00, 138.83it/s, loss=3.5]\n"
     ]
    },
    {
     "name": "stdout",
     "output_type": "stream",
     "text": [
      "Epoch [868/1800]: Train loss: 2.6062, Valid loss: 3.5310\n"
     ]
    },
    {
     "name": "stderr",
     "output_type": "stream",
     "text": [
      "Epoch [869/1800]: 100%|██████████████████████████████████████████████████████| 9/9 [00:00<00:00, 145.55it/s, loss=1.63]\n"
     ]
    },
    {
     "name": "stdout",
     "output_type": "stream",
     "text": [
      "Epoch [869/1800]: Train loss: 2.8114, Valid loss: 4.1610\n"
     ]
    },
    {
     "name": "stderr",
     "output_type": "stream",
     "text": [
      "Epoch [870/1800]: 100%|██████████████████████████████████████████████████████| 9/9 [00:00<00:00, 147.94it/s, loss=3.56]\n"
     ]
    },
    {
     "name": "stdout",
     "output_type": "stream",
     "text": [
      "Epoch [870/1800]: Train loss: 3.3779, Valid loss: 3.2793\n"
     ]
    },
    {
     "name": "stderr",
     "output_type": "stream",
     "text": [
      "Epoch [871/1800]: 100%|██████████████████████████████████████████████████████| 9/9 [00:00<00:00, 143.24it/s, loss=2.64]\n"
     ]
    },
    {
     "name": "stdout",
     "output_type": "stream",
     "text": [
      "Epoch [871/1800]: Train loss: 3.2441, Valid loss: 4.4312\n"
     ]
    },
    {
     "name": "stderr",
     "output_type": "stream",
     "text": [
      "Epoch [872/1800]: 100%|██████████████████████████████████████████████████████| 9/9 [00:00<00:00, 138.83it/s, loss=2.74]\n"
     ]
    },
    {
     "name": "stdout",
     "output_type": "stream",
     "text": [
      "Epoch [872/1800]: Train loss: 2.9939, Valid loss: 2.7657\n"
     ]
    },
    {
     "name": "stderr",
     "output_type": "stream",
     "text": [
      "Epoch [873/1800]: 100%|██████████████████████████████████████████████████████| 9/9 [00:00<00:00, 141.02it/s, loss=3.48]\n"
     ]
    },
    {
     "name": "stdout",
     "output_type": "stream",
     "text": [
      "Epoch [873/1800]: Train loss: 2.5106, Valid loss: 4.6690\n"
     ]
    },
    {
     "name": "stderr",
     "output_type": "stream",
     "text": [
      "Epoch [874/1800]: 100%|██████████████████████████████████████████████████████| 9/9 [00:00<00:00, 145.55it/s, loss=2.16]\n"
     ]
    },
    {
     "name": "stdout",
     "output_type": "stream",
     "text": [
      "Epoch [874/1800]: Train loss: 2.9275, Valid loss: 2.3921\n"
     ]
    },
    {
     "name": "stderr",
     "output_type": "stream",
     "text": [
      "Epoch [875/1800]: 100%|██████████████████████████████████████████████████████| 9/9 [00:00<00:00, 141.71it/s, loss=2.64]\n"
     ]
    },
    {
     "name": "stdout",
     "output_type": "stream",
     "text": [
      "Epoch [875/1800]: Train loss: 2.4001, Valid loss: 2.0779\n"
     ]
    },
    {
     "name": "stderr",
     "output_type": "stream",
     "text": [
      "Epoch [876/1800]: 100%|██████████████████████████████████████████████████████| 9/9 [00:00<00:00, 143.52it/s, loss=2.92]\n"
     ]
    },
    {
     "name": "stdout",
     "output_type": "stream",
     "text": [
      "Epoch [876/1800]: Train loss: 2.1436, Valid loss: 2.4902\n"
     ]
    },
    {
     "name": "stderr",
     "output_type": "stream",
     "text": [
      "Epoch [877/1800]: 100%|██████████████████████████████████████████████████████| 9/9 [00:00<00:00, 143.24it/s, loss=1.88]\n"
     ]
    },
    {
     "name": "stdout",
     "output_type": "stream",
     "text": [
      "Epoch [877/1800]: Train loss: 2.0282, Valid loss: 2.5384\n"
     ]
    },
    {
     "name": "stderr",
     "output_type": "stream",
     "text": [
      "Epoch [878/1800]: 100%|██████████████████████████████████████████████████████| 9/9 [00:00<00:00, 148.06it/s, loss=1.84]\n"
     ]
    },
    {
     "name": "stdout",
     "output_type": "stream",
     "text": [
      "Epoch [878/1800]: Train loss: 2.0122, Valid loss: 2.5007\n"
     ]
    },
    {
     "name": "stderr",
     "output_type": "stream",
     "text": [
      "Epoch [879/1800]: 100%|███████████████████████████████████████████████████████| 9/9 [00:00<00:00, 139.65it/s, loss=2.4]\n"
     ]
    },
    {
     "name": "stdout",
     "output_type": "stream",
     "text": [
      "Epoch [879/1800]: Train loss: 2.1701, Valid loss: 2.3556\n"
     ]
    },
    {
     "name": "stderr",
     "output_type": "stream",
     "text": [
      "Epoch [880/1800]: 100%|██████████████████████████████████████████████████████| 9/9 [00:00<00:00, 141.00it/s, loss=1.99]\n"
     ]
    },
    {
     "name": "stdout",
     "output_type": "stream",
     "text": [
      "Epoch [880/1800]: Train loss: 2.2968, Valid loss: 2.2381\n"
     ]
    },
    {
     "name": "stderr",
     "output_type": "stream",
     "text": [
      "Epoch [881/1800]: 100%|██████████████████████████████████████████████████████| 9/9 [00:00<00:00, 143.24it/s, loss=1.97]\n"
     ]
    },
    {
     "name": "stdout",
     "output_type": "stream",
     "text": [
      "Epoch [881/1800]: Train loss: 2.0367, Valid loss: 2.4795\n"
     ]
    },
    {
     "name": "stderr",
     "output_type": "stream",
     "text": [
      "Epoch [882/1800]: 100%|██████████████████████████████████████████████████████| 9/9 [00:00<00:00, 147.94it/s, loss=2.74]\n"
     ]
    },
    {
     "name": "stdout",
     "output_type": "stream",
     "text": [
      "Epoch [882/1800]: Train loss: 2.2543, Valid loss: 1.9977\n"
     ]
    },
    {
     "name": "stderr",
     "output_type": "stream",
     "text": [
      "Epoch [883/1800]: 100%|██████████████████████████████████████████████████████| 9/9 [00:00<00:00, 145.55it/s, loss=1.93]\n"
     ]
    },
    {
     "name": "stdout",
     "output_type": "stream",
     "text": [
      "Epoch [883/1800]: Train loss: 2.0615, Valid loss: 3.5298\n"
     ]
    },
    {
     "name": "stderr",
     "output_type": "stream",
     "text": [
      "Epoch [884/1800]: 100%|██████████████████████████████████████████████████████| 9/9 [00:00<00:00, 148.28it/s, loss=5.39]\n"
     ]
    },
    {
     "name": "stdout",
     "output_type": "stream",
     "text": [
      "Epoch [884/1800]: Train loss: 3.5437, Valid loss: 2.5362\n"
     ]
    },
    {
     "name": "stderr",
     "output_type": "stream",
     "text": [
      "Epoch [885/1800]: 100%|██████████████████████████████████████████████████████| 9/9 [00:00<00:00, 139.66it/s, loss=7.05]\n"
     ]
    },
    {
     "name": "stdout",
     "output_type": "stream",
     "text": [
      "Epoch [885/1800]: Train loss: 3.9532, Valid loss: 3.3982\n"
     ]
    },
    {
     "name": "stderr",
     "output_type": "stream",
     "text": [
      "Epoch [886/1800]: 100%|██████████████████████████████████████████████████████| 9/9 [00:00<00:00, 143.24it/s, loss=3.43]\n"
     ]
    },
    {
     "name": "stdout",
     "output_type": "stream",
     "text": [
      "Epoch [886/1800]: Train loss: 3.9103, Valid loss: 3.4483\n"
     ]
    },
    {
     "name": "stderr",
     "output_type": "stream",
     "text": [
      "Epoch [887/1800]: 100%|██████████████████████████████████████████████████████| 9/9 [00:00<00:00, 140.52it/s, loss=2.59]\n"
     ]
    },
    {
     "name": "stdout",
     "output_type": "stream",
     "text": [
      "Epoch [887/1800]: Train loss: 3.1727, Valid loss: 3.1700\n"
     ]
    },
    {
     "name": "stderr",
     "output_type": "stream",
     "text": [
      "Epoch [888/1800]: 100%|██████████████████████████████████████████████████████| 9/9 [00:00<00:00, 143.24it/s, loss=3.19]\n"
     ]
    },
    {
     "name": "stdout",
     "output_type": "stream",
     "text": [
      "Epoch [888/1800]: Train loss: 2.5522, Valid loss: 3.5970\n"
     ]
    },
    {
     "name": "stderr",
     "output_type": "stream",
     "text": [
      "Epoch [889/1800]: 100%|██████████████████████████████████████████████████████| 9/9 [00:00<00:00, 141.00it/s, loss=2.17]\n"
     ]
    },
    {
     "name": "stdout",
     "output_type": "stream",
     "text": [
      "Epoch [889/1800]: Train loss: 2.9421, Valid loss: 4.5495\n"
     ]
    },
    {
     "name": "stderr",
     "output_type": "stream",
     "text": [
      "Epoch [890/1800]: 100%|██████████████████████████████████████████████████████| 9/9 [00:00<00:00, 143.24it/s, loss=2.62]\n"
     ]
    },
    {
     "name": "stdout",
     "output_type": "stream",
     "text": [
      "Epoch [890/1800]: Train loss: 2.9891, Valid loss: 2.2221\n"
     ]
    },
    {
     "name": "stderr",
     "output_type": "stream",
     "text": [
      "Epoch [891/1800]: 100%|██████████████████████████████████████████████████████| 9/9 [00:00<00:00, 136.73it/s, loss=1.96]\n"
     ]
    },
    {
     "name": "stdout",
     "output_type": "stream",
     "text": [
      "Epoch [891/1800]: Train loss: 2.2060, Valid loss: 2.6609\n"
     ]
    },
    {
     "name": "stderr",
     "output_type": "stream",
     "text": [
      "Epoch [892/1800]: 100%|███████████████████████████████████████████████████████| 9/9 [00:00<00:00, 141.00it/s, loss=2.2]\n"
     ]
    },
    {
     "name": "stdout",
     "output_type": "stream",
     "text": [
      "Epoch [892/1800]: Train loss: 2.0731, Valid loss: 1.9083\n",
      "Saving model with loss 1.908...\n"
     ]
    },
    {
     "name": "stderr",
     "output_type": "stream",
     "text": [
      "Epoch [893/1800]: 100%|██████████████████████████████████████████████████████| 9/9 [00:00<00:00, 147.94it/s, loss=2.28]\n"
     ]
    },
    {
     "name": "stdout",
     "output_type": "stream",
     "text": [
      "Epoch [893/1800]: Train loss: 2.0961, Valid loss: 2.5533\n"
     ]
    },
    {
     "name": "stderr",
     "output_type": "stream",
     "text": [
      "Epoch [894/1800]: 100%|███████████████████████████████████████████████████████| 9/9 [00:00<00:00, 101.40it/s, loss=2.2]\n"
     ]
    },
    {
     "name": "stdout",
     "output_type": "stream",
     "text": [
      "Epoch [894/1800]: Train loss: 2.1998, Valid loss: 3.6312\n"
     ]
    },
    {
     "name": "stderr",
     "output_type": "stream",
     "text": [
      "Epoch [895/1800]: 100%|██████████████████████████████████████████████████████| 9/9 [00:00<00:00, 143.24it/s, loss=2.36]\n"
     ]
    },
    {
     "name": "stdout",
     "output_type": "stream",
     "text": [
      "Epoch [895/1800]: Train loss: 2.5107, Valid loss: 3.5898\n"
     ]
    },
    {
     "name": "stderr",
     "output_type": "stream",
     "text": [
      "Epoch [896/1800]: 100%|██████████████████████████████████████████████████████| 9/9 [00:00<00:00, 143.04it/s, loss=2.59]\n"
     ]
    },
    {
     "name": "stdout",
     "output_type": "stream",
     "text": [
      "Epoch [896/1800]: Train loss: 2.6051, Valid loss: 2.4258\n"
     ]
    },
    {
     "name": "stderr",
     "output_type": "stream",
     "text": [
      "Epoch [897/1800]: 100%|██████████████████████████████████████████████████████| 9/9 [00:00<00:00, 143.24it/s, loss=2.71]\n"
     ]
    },
    {
     "name": "stdout",
     "output_type": "stream",
     "text": [
      "Epoch [897/1800]: Train loss: 2.9867, Valid loss: 2.2677\n"
     ]
    },
    {
     "name": "stderr",
     "output_type": "stream",
     "text": [
      "Epoch [898/1800]: 100%|██████████████████████████████████████████████████████| 9/9 [00:00<00:00, 125.34it/s, loss=2.57]\n"
     ]
    },
    {
     "name": "stdout",
     "output_type": "stream",
     "text": [
      "Epoch [898/1800]: Train loss: 3.0958, Valid loss: 4.3901\n"
     ]
    },
    {
     "name": "stderr",
     "output_type": "stream",
     "text": [
      "Epoch [899/1800]: 100%|██████████████████████████████████████████████████████| 9/9 [00:00<00:00, 145.55it/s, loss=2.47]\n"
     ]
    },
    {
     "name": "stdout",
     "output_type": "stream",
     "text": [
      "Epoch [899/1800]: Train loss: 3.1827, Valid loss: 4.4503\n"
     ]
    },
    {
     "name": "stderr",
     "output_type": "stream",
     "text": [
      "Epoch [900/1800]: 100%|██████████████████████████████████████████████████████| 9/9 [00:00<00:00, 146.26it/s, loss=2.72]\n"
     ]
    },
    {
     "name": "stdout",
     "output_type": "stream",
     "text": [
      "Epoch [900/1800]: Train loss: 2.7450, Valid loss: 2.1290\n"
     ]
    },
    {
     "name": "stderr",
     "output_type": "stream",
     "text": [
      "Epoch [901/1800]: 100%|██████████████████████████████████████████████████████| 9/9 [00:00<00:00, 140.79it/s, loss=1.91]\n"
     ]
    },
    {
     "name": "stdout",
     "output_type": "stream",
     "text": [
      "Epoch [901/1800]: Train loss: 2.3326, Valid loss: 2.4431\n"
     ]
    },
    {
     "name": "stderr",
     "output_type": "stream",
     "text": [
      "Epoch [902/1800]: 100%|██████████████████████████████████████████████████████| 9/9 [00:00<00:00, 145.55it/s, loss=2.48]\n"
     ]
    },
    {
     "name": "stdout",
     "output_type": "stream",
     "text": [
      "Epoch [902/1800]: Train loss: 2.2088, Valid loss: 2.4315\n"
     ]
    },
    {
     "name": "stderr",
     "output_type": "stream",
     "text": [
      "Epoch [903/1800]: 100%|██████████████████████████████████████████████████████| 9/9 [00:00<00:00, 147.94it/s, loss=2.16]\n"
     ]
    },
    {
     "name": "stdout",
     "output_type": "stream",
     "text": [
      "Epoch [903/1800]: Train loss: 1.9970, Valid loss: 2.1054\n"
     ]
    },
    {
     "name": "stderr",
     "output_type": "stream",
     "text": [
      "Epoch [904/1800]: 100%|██████████████████████████████████████████████████████| 9/9 [00:00<00:00, 138.83it/s, loss=1.51]\n"
     ]
    },
    {
     "name": "stdout",
     "output_type": "stream",
     "text": [
      "Epoch [904/1800]: Train loss: 2.0364, Valid loss: 2.3123\n"
     ]
    },
    {
     "name": "stderr",
     "output_type": "stream",
     "text": [
      "Epoch [905/1800]: 100%|██████████████████████████████████████████████████████| 9/9 [00:00<00:00, 145.55it/s, loss=1.79]\n"
     ]
    },
    {
     "name": "stdout",
     "output_type": "stream",
     "text": [
      "Epoch [905/1800]: Train loss: 2.1119, Valid loss: 2.9350\n"
     ]
    },
    {
     "name": "stderr",
     "output_type": "stream",
     "text": [
      "Epoch [906/1800]: 100%|██████████████████████████████████████████████████████| 9/9 [00:00<00:00, 139.29it/s, loss=2.62]\n"
     ]
    },
    {
     "name": "stdout",
     "output_type": "stream",
     "text": [
      "Epoch [906/1800]: Train loss: 2.1006, Valid loss: 2.6504\n"
     ]
    },
    {
     "name": "stderr",
     "output_type": "stream",
     "text": [
      "Epoch [907/1800]: 100%|██████████████████████████████████████████████████████| 9/9 [00:00<00:00, 141.00it/s, loss=2.79]\n"
     ]
    },
    {
     "name": "stdout",
     "output_type": "stream",
     "text": [
      "Epoch [907/1800]: Train loss: 2.2697, Valid loss: 2.6878\n"
     ]
    },
    {
     "name": "stderr",
     "output_type": "stream",
     "text": [
      "Epoch [908/1800]: 100%|██████████████████████████████████████████████████████| 9/9 [00:00<00:00, 143.24it/s, loss=1.88]\n"
     ]
    },
    {
     "name": "stdout",
     "output_type": "stream",
     "text": [
      "Epoch [908/1800]: Train loss: 2.4343, Valid loss: 2.6225\n"
     ]
    },
    {
     "name": "stderr",
     "output_type": "stream",
     "text": [
      "Epoch [909/1800]: 100%|██████████████████████████████████████████████████████| 9/9 [00:00<00:00, 145.55it/s, loss=2.64]\n"
     ]
    },
    {
     "name": "stdout",
     "output_type": "stream",
     "text": [
      "Epoch [909/1800]: Train loss: 2.1475, Valid loss: 2.2890\n"
     ]
    },
    {
     "name": "stderr",
     "output_type": "stream",
     "text": [
      "Epoch [910/1800]: 100%|██████████████████████████████████████████████████████| 9/9 [00:00<00:00, 150.15it/s, loss=2.89]\n"
     ]
    },
    {
     "name": "stdout",
     "output_type": "stream",
     "text": [
      "Epoch [910/1800]: Train loss: 2.8352, Valid loss: 4.3257\n"
     ]
    },
    {
     "name": "stderr",
     "output_type": "stream",
     "text": [
      "Epoch [911/1800]: 100%|██████████████████████████████████████████████████████| 9/9 [00:00<00:00, 141.00it/s, loss=4.29]\n"
     ]
    },
    {
     "name": "stdout",
     "output_type": "stream",
     "text": [
      "Epoch [911/1800]: Train loss: 3.6030, Valid loss: 6.3911\n"
     ]
    },
    {
     "name": "stderr",
     "output_type": "stream",
     "text": [
      "Epoch [912/1800]: 100%|██████████████████████████████████████████████████████| 9/9 [00:00<00:00, 138.83it/s, loss=2.58]\n"
     ]
    },
    {
     "name": "stdout",
     "output_type": "stream",
     "text": [
      "Epoch [912/1800]: Train loss: 3.6579, Valid loss: 2.6045\n"
     ]
    },
    {
     "name": "stderr",
     "output_type": "stream",
     "text": [
      "Epoch [913/1800]: 100%|███████████████████████████████████████████████████████| 9/9 [00:00<00:00, 141.00it/s, loss=2.4]\n"
     ]
    },
    {
     "name": "stdout",
     "output_type": "stream",
     "text": [
      "Epoch [913/1800]: Train loss: 2.2730, Valid loss: 2.2650\n"
     ]
    },
    {
     "name": "stderr",
     "output_type": "stream",
     "text": [
      "Epoch [914/1800]: 100%|██████████████████████████████████████████████████████| 9/9 [00:00<00:00, 145.55it/s, loss=2.59]\n"
     ]
    },
    {
     "name": "stdout",
     "output_type": "stream",
     "text": [
      "Epoch [914/1800]: Train loss: 2.4120, Valid loss: 2.3878\n"
     ]
    },
    {
     "name": "stderr",
     "output_type": "stream",
     "text": [
      "Epoch [915/1800]: 100%|██████████████████████████████████████████████████████| 9/9 [00:00<00:00, 145.55it/s, loss=1.89]\n"
     ]
    },
    {
     "name": "stdout",
     "output_type": "stream",
     "text": [
      "Epoch [915/1800]: Train loss: 2.4090, Valid loss: 2.7782\n"
     ]
    },
    {
     "name": "stderr",
     "output_type": "stream",
     "text": [
      "Epoch [916/1800]: 100%|███████████████████████████████████████████████████████| 9/9 [00:00<00:00, 143.24it/s, loss=3.3]\n"
     ]
    },
    {
     "name": "stdout",
     "output_type": "stream",
     "text": [
      "Epoch [916/1800]: Train loss: 2.9639, Valid loss: 3.2065\n"
     ]
    },
    {
     "name": "stderr",
     "output_type": "stream",
     "text": [
      "Epoch [917/1800]: 100%|██████████████████████████████████████████████████████| 9/9 [00:00<00:00, 140.85it/s, loss=1.91]\n"
     ]
    },
    {
     "name": "stdout",
     "output_type": "stream",
     "text": [
      "Epoch [917/1800]: Train loss: 3.1316, Valid loss: 3.2675\n"
     ]
    },
    {
     "name": "stderr",
     "output_type": "stream",
     "text": [
      "Epoch [918/1800]: 100%|██████████████████████████████████████████████████████| 9/9 [00:00<00:00, 150.40it/s, loss=1.91]\n"
     ]
    },
    {
     "name": "stdout",
     "output_type": "stream",
     "text": [
      "Epoch [918/1800]: Train loss: 2.1291, Valid loss: 2.0605\n"
     ]
    },
    {
     "name": "stderr",
     "output_type": "stream",
     "text": [
      "Epoch [919/1800]: 100%|██████████████████████████████████████████████████████| 9/9 [00:00<00:00, 147.94it/s, loss=1.93]\n"
     ]
    },
    {
     "name": "stdout",
     "output_type": "stream",
     "text": [
      "Epoch [919/1800]: Train loss: 2.0512, Valid loss: 2.9256\n"
     ]
    },
    {
     "name": "stderr",
     "output_type": "stream",
     "text": [
      "Epoch [920/1800]: 100%|██████████████████████████████████████████████████████| 9/9 [00:00<00:00, 145.65it/s, loss=2.48]\n"
     ]
    },
    {
     "name": "stdout",
     "output_type": "stream",
     "text": [
      "Epoch [920/1800]: Train loss: 2.3853, Valid loss: 1.9687\n"
     ]
    },
    {
     "name": "stderr",
     "output_type": "stream",
     "text": [
      "Epoch [921/1800]: 100%|██████████████████████████████████████████████████████| 9/9 [00:00<00:00, 147.94it/s, loss=2.09]\n"
     ]
    },
    {
     "name": "stdout",
     "output_type": "stream",
     "text": [
      "Epoch [921/1800]: Train loss: 2.0166, Valid loss: 2.5624\n"
     ]
    },
    {
     "name": "stderr",
     "output_type": "stream",
     "text": [
      "Epoch [922/1800]: 100%|███████████████████████████████████████████████████████| 9/9 [00:00<00:00, 136.73it/s, loss=2.3]\n"
     ]
    },
    {
     "name": "stdout",
     "output_type": "stream",
     "text": [
      "Epoch [922/1800]: Train loss: 2.1517, Valid loss: 2.2167\n"
     ]
    },
    {
     "name": "stderr",
     "output_type": "stream",
     "text": [
      "Epoch [923/1800]: 100%|██████████████████████████████████████████████████████| 9/9 [00:00<00:00, 145.55it/s, loss=1.97]\n"
     ]
    },
    {
     "name": "stdout",
     "output_type": "stream",
     "text": [
      "Epoch [923/1800]: Train loss: 2.6982, Valid loss: 4.5985\n"
     ]
    },
    {
     "name": "stderr",
     "output_type": "stream",
     "text": [
      "Epoch [924/1800]: 100%|██████████████████████████████████████████████████████| 9/9 [00:00<00:00, 145.55it/s, loss=2.57]\n"
     ]
    },
    {
     "name": "stdout",
     "output_type": "stream",
     "text": [
      "Epoch [924/1800]: Train loss: 2.5185, Valid loss: 2.2067\n"
     ]
    },
    {
     "name": "stderr",
     "output_type": "stream",
     "text": [
      "Epoch [925/1800]: 100%|██████████████████████████████████████████████████████| 9/9 [00:00<00:00, 147.93it/s, loss=1.81]\n"
     ]
    },
    {
     "name": "stdout",
     "output_type": "stream",
     "text": [
      "Epoch [925/1800]: Train loss: 2.1880, Valid loss: 2.1989\n"
     ]
    },
    {
     "name": "stderr",
     "output_type": "stream",
     "text": [
      "Epoch [926/1800]: 100%|███████████████████████████████████████████████████████| 9/9 [00:00<00:00, 94.99it/s, loss=2.26]\n"
     ]
    },
    {
     "name": "stdout",
     "output_type": "stream",
     "text": [
      "Epoch [926/1800]: Train loss: 2.0742, Valid loss: 3.8728\n"
     ]
    },
    {
     "name": "stderr",
     "output_type": "stream",
     "text": [
      "Epoch [927/1800]: 100%|██████████████████████████████████████████████████████| 9/9 [00:00<00:00, 125.33it/s, loss=3.74]\n"
     ]
    },
    {
     "name": "stdout",
     "output_type": "stream",
     "text": [
      "Epoch [927/1800]: Train loss: 3.3491, Valid loss: 3.2846\n"
     ]
    },
    {
     "name": "stderr",
     "output_type": "stream",
     "text": [
      "Epoch [928/1800]: 100%|██████████████████████████████████████████████████████| 9/9 [00:00<00:00, 145.55it/s, loss=3.47]\n"
     ]
    },
    {
     "name": "stdout",
     "output_type": "stream",
     "text": [
      "Epoch [928/1800]: Train loss: 2.9080, Valid loss: 4.5991\n"
     ]
    },
    {
     "name": "stderr",
     "output_type": "stream",
     "text": [
      "Epoch [929/1800]: 100%|██████████████████████████████████████████████████████| 9/9 [00:00<00:00, 147.93it/s, loss=2.83]\n"
     ]
    },
    {
     "name": "stdout",
     "output_type": "stream",
     "text": [
      "Epoch [929/1800]: Train loss: 3.6334, Valid loss: 7.4971\n"
     ]
    },
    {
     "name": "stderr",
     "output_type": "stream",
     "text": [
      "Epoch [930/1800]: 100%|██████████████████████████████████████████████████████| 9/9 [00:00<00:00, 145.55it/s, loss=2.25]\n"
     ]
    },
    {
     "name": "stdout",
     "output_type": "stream",
     "text": [
      "Epoch [930/1800]: Train loss: 4.3442, Valid loss: 7.4933\n"
     ]
    },
    {
     "name": "stderr",
     "output_type": "stream",
     "text": [
      "Epoch [931/1800]: 100%|██████████████████████████████████████████████████████| 9/9 [00:00<00:00, 143.24it/s, loss=2.49]\n"
     ]
    },
    {
     "name": "stdout",
     "output_type": "stream",
     "text": [
      "Epoch [931/1800]: Train loss: 3.5926, Valid loss: 2.9518\n"
     ]
    },
    {
     "name": "stderr",
     "output_type": "stream",
     "text": [
      "Epoch [932/1800]: 100%|███████████████████████████████████████████████████████| 9/9 [00:00<00:00, 141.05it/s, loss=2.4]\n"
     ]
    },
    {
     "name": "stdout",
     "output_type": "stream",
     "text": [
      "Epoch [932/1800]: Train loss: 2.2926, Valid loss: 3.0548\n"
     ]
    },
    {
     "name": "stderr",
     "output_type": "stream",
     "text": [
      "Epoch [933/1800]: 100%|██████████████████████████████████████████████████████| 9/9 [00:00<00:00, 143.23it/s, loss=2.49]\n"
     ]
    },
    {
     "name": "stdout",
     "output_type": "stream",
     "text": [
      "Epoch [933/1800]: Train loss: 2.1318, Valid loss: 2.5177\n"
     ]
    },
    {
     "name": "stderr",
     "output_type": "stream",
     "text": [
      "Epoch [934/1800]: 100%|██████████████████████████████████████████████████████| 9/9 [00:00<00:00, 147.94it/s, loss=2.95]\n"
     ]
    },
    {
     "name": "stdout",
     "output_type": "stream",
     "text": [
      "Epoch [934/1800]: Train loss: 2.2664, Valid loss: 2.2052\n"
     ]
    },
    {
     "name": "stderr",
     "output_type": "stream",
     "text": [
      "Epoch [935/1800]: 100%|██████████████████████████████████████████████████████| 9/9 [00:00<00:00, 143.23it/s, loss=1.77]\n"
     ]
    },
    {
     "name": "stdout",
     "output_type": "stream",
     "text": [
      "Epoch [935/1800]: Train loss: 2.1369, Valid loss: 2.1547\n"
     ]
    },
    {
     "name": "stderr",
     "output_type": "stream",
     "text": [
      "Epoch [936/1800]: 100%|██████████████████████████████████████████████████████| 9/9 [00:00<00:00, 136.84it/s, loss=2.12]\n"
     ]
    },
    {
     "name": "stdout",
     "output_type": "stream",
     "text": [
      "Epoch [936/1800]: Train loss: 2.4237, Valid loss: 5.6154\n"
     ]
    },
    {
     "name": "stderr",
     "output_type": "stream",
     "text": [
      "Epoch [937/1800]: 100%|██████████████████████████████████████████████████████| 9/9 [00:00<00:00, 138.83it/s, loss=2.24]\n"
     ]
    },
    {
     "name": "stdout",
     "output_type": "stream",
     "text": [
      "Epoch [937/1800]: Train loss: 3.1289, Valid loss: 6.5383\n"
     ]
    },
    {
     "name": "stderr",
     "output_type": "stream",
     "text": [
      "Epoch [938/1800]: 100%|██████████████████████████████████████████████████████| 9/9 [00:00<00:00, 142.32it/s, loss=2.86]\n"
     ]
    },
    {
     "name": "stdout",
     "output_type": "stream",
     "text": [
      "Epoch [938/1800]: Train loss: 3.0686, Valid loss: 4.2481\n"
     ]
    },
    {
     "name": "stderr",
     "output_type": "stream",
     "text": [
      "Epoch [939/1800]: 100%|██████████████████████████████████████████████████████| 9/9 [00:00<00:00, 145.55it/s, loss=1.57]\n"
     ]
    },
    {
     "name": "stdout",
     "output_type": "stream",
     "text": [
      "Epoch [939/1800]: Train loss: 2.5852, Valid loss: 3.2405\n"
     ]
    },
    {
     "name": "stderr",
     "output_type": "stream",
     "text": [
      "Epoch [940/1800]: 100%|██████████████████████████████████████████████████████| 9/9 [00:00<00:00, 147.94it/s, loss=1.94]\n"
     ]
    },
    {
     "name": "stdout",
     "output_type": "stream",
     "text": [
      "Epoch [940/1800]: Train loss: 2.1640, Valid loss: 2.1643\n"
     ]
    },
    {
     "name": "stderr",
     "output_type": "stream",
     "text": [
      "Epoch [941/1800]: 100%|██████████████████████████████████████████████████████| 9/9 [00:00<00:00, 145.55it/s, loss=1.67]\n"
     ]
    },
    {
     "name": "stdout",
     "output_type": "stream",
     "text": [
      "Epoch [941/1800]: Train loss: 1.9379, Valid loss: 2.4312\n"
     ]
    },
    {
     "name": "stderr",
     "output_type": "stream",
     "text": [
      "Epoch [942/1800]: 100%|██████████████████████████████████████████████████████| 9/9 [00:00<00:00, 147.94it/s, loss=2.05]\n"
     ]
    },
    {
     "name": "stdout",
     "output_type": "stream",
     "text": [
      "Epoch [942/1800]: Train loss: 2.0388, Valid loss: 2.3633\n"
     ]
    },
    {
     "name": "stderr",
     "output_type": "stream",
     "text": [
      "Epoch [943/1800]: 100%|██████████████████████████████████████████████████████| 9/9 [00:00<00:00, 145.35it/s, loss=2.33]\n"
     ]
    },
    {
     "name": "stdout",
     "output_type": "stream",
     "text": [
      "Epoch [943/1800]: Train loss: 2.0030, Valid loss: 3.3696\n"
     ]
    },
    {
     "name": "stderr",
     "output_type": "stream",
     "text": [
      "Epoch [944/1800]: 100%|██████████████████████████████████████████████████████| 9/9 [00:00<00:00, 143.24it/s, loss=2.23]\n"
     ]
    },
    {
     "name": "stdout",
     "output_type": "stream",
     "text": [
      "Epoch [944/1800]: Train loss: 2.2139, Valid loss: 2.7084\n"
     ]
    },
    {
     "name": "stderr",
     "output_type": "stream",
     "text": [
      "Epoch [945/1800]: 100%|██████████████████████████████████████████████████████| 9/9 [00:00<00:00, 140.82it/s, loss=1.83]\n"
     ]
    },
    {
     "name": "stdout",
     "output_type": "stream",
     "text": [
      "Epoch [945/1800]: Train loss: 2.0927, Valid loss: 2.2280\n"
     ]
    },
    {
     "name": "stderr",
     "output_type": "stream",
     "text": [
      "Epoch [946/1800]: 100%|██████████████████████████████████████████████████████| 9/9 [00:00<00:00, 141.00it/s, loss=2.25]\n"
     ]
    },
    {
     "name": "stdout",
     "output_type": "stream",
     "text": [
      "Epoch [946/1800]: Train loss: 2.1499, Valid loss: 2.9650\n"
     ]
    },
    {
     "name": "stderr",
     "output_type": "stream",
     "text": [
      "Epoch [947/1800]: 100%|██████████████████████████████████████████████████████| 9/9 [00:00<00:00, 145.55it/s, loss=2.92]\n"
     ]
    },
    {
     "name": "stdout",
     "output_type": "stream",
     "text": [
      "Epoch [947/1800]: Train loss: 2.4781, Valid loss: 2.5464\n"
     ]
    },
    {
     "name": "stderr",
     "output_type": "stream",
     "text": [
      "Epoch [948/1800]: 100%|██████████████████████████████████████████████████████| 9/9 [00:00<00:00, 145.55it/s, loss=2.59]\n"
     ]
    },
    {
     "name": "stdout",
     "output_type": "stream",
     "text": [
      "Epoch [948/1800]: Train loss: 2.5202, Valid loss: 3.2757\n"
     ]
    },
    {
     "name": "stderr",
     "output_type": "stream",
     "text": [
      "Epoch [949/1800]: 100%|██████████████████████████████████████████████████████| 9/9 [00:00<00:00, 141.00it/s, loss=2.15]\n"
     ]
    },
    {
     "name": "stdout",
     "output_type": "stream",
     "text": [
      "Epoch [949/1800]: Train loss: 2.4335, Valid loss: 2.9919\n"
     ]
    },
    {
     "name": "stderr",
     "output_type": "stream",
     "text": [
      "Epoch [950/1800]: 100%|██████████████████████████████████████████████████████| 9/9 [00:00<00:00, 150.38it/s, loss=3.82]\n"
     ]
    },
    {
     "name": "stdout",
     "output_type": "stream",
     "text": [
      "Epoch [950/1800]: Train loss: 2.9888, Valid loss: 4.4535\n"
     ]
    },
    {
     "name": "stderr",
     "output_type": "stream",
     "text": [
      "Epoch [951/1800]: 100%|██████████████████████████████████████████████████████| 9/9 [00:00<00:00, 144.44it/s, loss=2.55]\n"
     ]
    },
    {
     "name": "stdout",
     "output_type": "stream",
     "text": [
      "Epoch [951/1800]: Train loss: 2.7085, Valid loss: 2.1065\n"
     ]
    },
    {
     "name": "stderr",
     "output_type": "stream",
     "text": [
      "Epoch [952/1800]: 100%|██████████████████████████████████████████████████████| 9/9 [00:00<00:00, 145.55it/s, loss=2.11]\n"
     ]
    },
    {
     "name": "stdout",
     "output_type": "stream",
     "text": [
      "Epoch [952/1800]: Train loss: 2.4949, Valid loss: 3.7586\n"
     ]
    },
    {
     "name": "stderr",
     "output_type": "stream",
     "text": [
      "Epoch [953/1800]: 100%|██████████████████████████████████████████████████████| 9/9 [00:00<00:00, 141.11it/s, loss=1.94]\n"
     ]
    },
    {
     "name": "stdout",
     "output_type": "stream",
     "text": [
      "Epoch [953/1800]: Train loss: 2.1726, Valid loss: 2.2781\n"
     ]
    },
    {
     "name": "stderr",
     "output_type": "stream",
     "text": [
      "Epoch [954/1800]: 100%|██████████████████████████████████████████████████████| 9/9 [00:00<00:00, 145.55it/s, loss=2.09]\n"
     ]
    },
    {
     "name": "stdout",
     "output_type": "stream",
     "text": [
      "Epoch [954/1800]: Train loss: 2.1025, Valid loss: 3.0528\n"
     ]
    },
    {
     "name": "stderr",
     "output_type": "stream",
     "text": [
      "Epoch [955/1800]: 100%|██████████████████████████████████████████████████████| 9/9 [00:00<00:00, 143.24it/s, loss=2.66]\n"
     ]
    },
    {
     "name": "stdout",
     "output_type": "stream",
     "text": [
      "Epoch [955/1800]: Train loss: 2.4078, Valid loss: 2.4140\n"
     ]
    },
    {
     "name": "stderr",
     "output_type": "stream",
     "text": [
      "Epoch [956/1800]: 100%|██████████████████████████████████████████████████████| 9/9 [00:00<00:00, 146.37it/s, loss=1.48]\n"
     ]
    },
    {
     "name": "stdout",
     "output_type": "stream",
     "text": [
      "Epoch [956/1800]: Train loss: 2.0198, Valid loss: 2.4043\n"
     ]
    },
    {
     "name": "stderr",
     "output_type": "stream",
     "text": [
      "Epoch [957/1800]: 100%|██████████████████████████████████████████████████████| 9/9 [00:00<00:00, 143.47it/s, loss=1.87]\n"
     ]
    },
    {
     "name": "stdout",
     "output_type": "stream",
     "text": [
      "Epoch [957/1800]: Train loss: 2.0356, Valid loss: 2.6320\n"
     ]
    },
    {
     "name": "stderr",
     "output_type": "stream",
     "text": [
      "Epoch [958/1800]: 100%|██████████████████████████████████████████████████████| 9/9 [00:00<00:00, 147.94it/s, loss=2.54]\n"
     ]
    },
    {
     "name": "stdout",
     "output_type": "stream",
     "text": [
      "Epoch [958/1800]: Train loss: 2.1883, Valid loss: 2.5135\n"
     ]
    },
    {
     "name": "stderr",
     "output_type": "stream",
     "text": [
      "Epoch [959/1800]: 100%|███████████████████████████████████████████████████████| 9/9 [00:00<00:00, 85.94it/s, loss=2.71]\n"
     ]
    },
    {
     "name": "stdout",
     "output_type": "stream",
     "text": [
      "Epoch [959/1800]: Train loss: 2.6193, Valid loss: 2.9735\n"
     ]
    },
    {
     "name": "stderr",
     "output_type": "stream",
     "text": [
      "Epoch [960/1800]: 100%|██████████████████████████████████████████████████████| 9/9 [00:00<00:00, 123.62it/s, loss=1.56]\n"
     ]
    },
    {
     "name": "stdout",
     "output_type": "stream",
     "text": [
      "Epoch [960/1800]: Train loss: 2.2330, Valid loss: 2.2265\n"
     ]
    },
    {
     "name": "stderr",
     "output_type": "stream",
     "text": [
      "Epoch [961/1800]: 100%|██████████████████████████████████████████████████████| 9/9 [00:00<00:00, 147.93it/s, loss=2.21]\n"
     ]
    },
    {
     "name": "stdout",
     "output_type": "stream",
     "text": [
      "Epoch [961/1800]: Train loss: 2.0046, Valid loss: 2.1891\n"
     ]
    },
    {
     "name": "stderr",
     "output_type": "stream",
     "text": [
      "Epoch [962/1800]: 100%|██████████████████████████████████████████████████████| 9/9 [00:00<00:00, 145.55it/s, loss=2.81]\n"
     ]
    },
    {
     "name": "stdout",
     "output_type": "stream",
     "text": [
      "Epoch [962/1800]: Train loss: 2.0902, Valid loss: 2.5396\n"
     ]
    },
    {
     "name": "stderr",
     "output_type": "stream",
     "text": [
      "Epoch [963/1800]: 100%|█████████████████████████████████████████████████████████| 9/9 [00:00<00:00, 152.95it/s, loss=3]\n"
     ]
    },
    {
     "name": "stdout",
     "output_type": "stream",
     "text": [
      "Epoch [963/1800]: Train loss: 2.4818, Valid loss: 2.8599\n"
     ]
    },
    {
     "name": "stderr",
     "output_type": "stream",
     "text": [
      "Epoch [964/1800]: 100%|██████████████████████████████████████████████████████| 9/9 [00:00<00:00, 145.53it/s, loss=1.85]\n"
     ]
    },
    {
     "name": "stdout",
     "output_type": "stream",
     "text": [
      "Epoch [964/1800]: Train loss: 2.4048, Valid loss: 4.4779\n"
     ]
    },
    {
     "name": "stderr",
     "output_type": "stream",
     "text": [
      "Epoch [965/1800]: 100%|██████████████████████████████████████████████████████| 9/9 [00:00<00:00, 145.55it/s, loss=2.53]\n"
     ]
    },
    {
     "name": "stdout",
     "output_type": "stream",
     "text": [
      "Epoch [965/1800]: Train loss: 3.7191, Valid loss: 2.8786\n"
     ]
    },
    {
     "name": "stderr",
     "output_type": "stream",
     "text": [
      "Epoch [966/1800]: 100%|██████████████████████████████████████████████████████| 9/9 [00:00<00:00, 141.00it/s, loss=1.85]\n"
     ]
    },
    {
     "name": "stdout",
     "output_type": "stream",
     "text": [
      "Epoch [966/1800]: Train loss: 2.2624, Valid loss: 1.9637\n"
     ]
    },
    {
     "name": "stderr",
     "output_type": "stream",
     "text": [
      "Epoch [967/1800]: 100%|██████████████████████████████████████████████████████| 9/9 [00:00<00:00, 141.00it/s, loss=2.17]\n"
     ]
    },
    {
     "name": "stdout",
     "output_type": "stream",
     "text": [
      "Epoch [967/1800]: Train loss: 2.4436, Valid loss: 2.3100\n"
     ]
    },
    {
     "name": "stderr",
     "output_type": "stream",
     "text": [
      "Epoch [968/1800]: 100%|██████████████████████████████████████████████████████| 9/9 [00:00<00:00, 140.52it/s, loss=2.38]\n"
     ]
    },
    {
     "name": "stdout",
     "output_type": "stream",
     "text": [
      "Epoch [968/1800]: Train loss: 2.1722, Valid loss: 2.9705\n"
     ]
    },
    {
     "name": "stderr",
     "output_type": "stream",
     "text": [
      "Epoch [969/1800]: 100%|██████████████████████████████████████████████████████| 9/9 [00:00<00:00, 143.24it/s, loss=3.06]\n"
     ]
    },
    {
     "name": "stdout",
     "output_type": "stream",
     "text": [
      "Epoch [969/1800]: Train loss: 2.5745, Valid loss: 4.4676\n"
     ]
    },
    {
     "name": "stderr",
     "output_type": "stream",
     "text": [
      "Epoch [970/1800]: 100%|██████████████████████████████████████████████████████| 9/9 [00:00<00:00, 145.55it/s, loss=3.71]\n"
     ]
    },
    {
     "name": "stdout",
     "output_type": "stream",
     "text": [
      "Epoch [970/1800]: Train loss: 3.6526, Valid loss: 6.4911\n"
     ]
    },
    {
     "name": "stderr",
     "output_type": "stream",
     "text": [
      "Epoch [971/1800]: 100%|██████████████████████████████████████████████████████| 9/9 [00:00<00:00, 152.95it/s, loss=3.68]\n"
     ]
    },
    {
     "name": "stdout",
     "output_type": "stream",
     "text": [
      "Epoch [971/1800]: Train loss: 3.9222, Valid loss: 2.7807\n"
     ]
    },
    {
     "name": "stderr",
     "output_type": "stream",
     "text": [
      "Epoch [972/1800]: 100%|██████████████████████████████████████████████████████| 9/9 [00:00<00:00, 145.55it/s, loss=3.72]\n"
     ]
    },
    {
     "name": "stdout",
     "output_type": "stream",
     "text": [
      "Epoch [972/1800]: Train loss: 2.7220, Valid loss: 3.1010\n"
     ]
    },
    {
     "name": "stderr",
     "output_type": "stream",
     "text": [
      "Epoch [973/1800]: 100%|███████████████████████████████████████████████████████| 9/9 [00:00<00:00, 143.32it/s, loss=1.7]\n"
     ]
    },
    {
     "name": "stdout",
     "output_type": "stream",
     "text": [
      "Epoch [973/1800]: Train loss: 2.3064, Valid loss: 2.8113\n"
     ]
    },
    {
     "name": "stderr",
     "output_type": "stream",
     "text": [
      "Epoch [974/1800]: 100%|██████████████████████████████████████████████████████| 9/9 [00:00<00:00, 143.24it/s, loss=2.34]\n"
     ]
    },
    {
     "name": "stdout",
     "output_type": "stream",
     "text": [
      "Epoch [974/1800]: Train loss: 2.3873, Valid loss: 2.1489\n"
     ]
    },
    {
     "name": "stderr",
     "output_type": "stream",
     "text": [
      "Epoch [975/1800]: 100%|██████████████████████████████████████████████████████| 9/9 [00:00<00:00, 143.24it/s, loss=2.09]\n"
     ]
    },
    {
     "name": "stdout",
     "output_type": "stream",
     "text": [
      "Epoch [975/1800]: Train loss: 2.1703, Valid loss: 2.5611\n"
     ]
    },
    {
     "name": "stderr",
     "output_type": "stream",
     "text": [
      "Epoch [976/1800]: 100%|██████████████████████████████████████████████████████| 9/9 [00:00<00:00, 145.55it/s, loss=2.05]\n"
     ]
    },
    {
     "name": "stdout",
     "output_type": "stream",
     "text": [
      "Epoch [976/1800]: Train loss: 2.3635, Valid loss: 2.0539\n"
     ]
    },
    {
     "name": "stderr",
     "output_type": "stream",
     "text": [
      "Epoch [977/1800]: 100%|██████████████████████████████████████████████████████| 9/9 [00:00<00:00, 143.23it/s, loss=1.74]\n"
     ]
    },
    {
     "name": "stdout",
     "output_type": "stream",
     "text": [
      "Epoch [977/1800]: Train loss: 2.0056, Valid loss: 2.4155\n"
     ]
    },
    {
     "name": "stderr",
     "output_type": "stream",
     "text": [
      "Epoch [978/1800]: 100%|██████████████████████████████████████████████████████| 9/9 [00:00<00:00, 143.24it/s, loss=2.58]\n"
     ]
    },
    {
     "name": "stdout",
     "output_type": "stream",
     "text": [
      "Epoch [978/1800]: Train loss: 2.1169, Valid loss: 2.1817\n"
     ]
    },
    {
     "name": "stderr",
     "output_type": "stream",
     "text": [
      "Epoch [979/1800]: 100%|██████████████████████████████████████████████████████| 9/9 [00:00<00:00, 147.72it/s, loss=1.76]\n"
     ]
    },
    {
     "name": "stdout",
     "output_type": "stream",
     "text": [
      "Epoch [979/1800]: Train loss: 1.9883, Valid loss: 1.9759\n"
     ]
    },
    {
     "name": "stderr",
     "output_type": "stream",
     "text": [
      "Epoch [980/1800]: 100%|██████████████████████████████████████████████████████| 9/9 [00:00<00:00, 145.53it/s, loss=2.14]\n"
     ]
    },
    {
     "name": "stdout",
     "output_type": "stream",
     "text": [
      "Epoch [980/1800]: Train loss: 2.0258, Valid loss: 2.5361\n"
     ]
    },
    {
     "name": "stderr",
     "output_type": "stream",
     "text": [
      "Epoch [981/1800]: 100%|██████████████████████████████████████████████████████| 9/9 [00:00<00:00, 147.93it/s, loss=2.13]\n"
     ]
    },
    {
     "name": "stdout",
     "output_type": "stream",
     "text": [
      "Epoch [981/1800]: Train loss: 2.0471, Valid loss: 4.3713\n"
     ]
    },
    {
     "name": "stderr",
     "output_type": "stream",
     "text": [
      "Epoch [982/1800]: 100%|██████████████████████████████████████████████████████| 9/9 [00:00<00:00, 152.35it/s, loss=1.81]\n"
     ]
    },
    {
     "name": "stdout",
     "output_type": "stream",
     "text": [
      "Epoch [982/1800]: Train loss: 2.4010, Valid loss: 2.2456\n"
     ]
    },
    {
     "name": "stderr",
     "output_type": "stream",
     "text": [
      "Epoch [983/1800]: 100%|██████████████████████████████████████████████████████| 9/9 [00:00<00:00, 147.94it/s, loss=2.38]\n"
     ]
    },
    {
     "name": "stdout",
     "output_type": "stream",
     "text": [
      "Epoch [983/1800]: Train loss: 2.3691, Valid loss: 2.1429\n"
     ]
    },
    {
     "name": "stderr",
     "output_type": "stream",
     "text": [
      "Epoch [984/1800]: 100%|██████████████████████████████████████████████████████| 9/9 [00:00<00:00, 143.24it/s, loss=2.82]\n"
     ]
    },
    {
     "name": "stdout",
     "output_type": "stream",
     "text": [
      "Epoch [984/1800]: Train loss: 2.6843, Valid loss: 3.1540\n"
     ]
    },
    {
     "name": "stderr",
     "output_type": "stream",
     "text": [
      "Epoch [985/1800]: 100%|██████████████████████████████████████████████████████| 9/9 [00:00<00:00, 145.55it/s, loss=1.77]\n"
     ]
    },
    {
     "name": "stdout",
     "output_type": "stream",
     "text": [
      "Epoch [985/1800]: Train loss: 2.0671, Valid loss: 2.4242\n"
     ]
    },
    {
     "name": "stderr",
     "output_type": "stream",
     "text": [
      "Epoch [986/1800]: 100%|██████████████████████████████████████████████████████| 9/9 [00:00<00:00, 147.94it/s, loss=2.46]\n"
     ]
    },
    {
     "name": "stdout",
     "output_type": "stream",
     "text": [
      "Epoch [986/1800]: Train loss: 2.3361, Valid loss: 2.5344\n"
     ]
    },
    {
     "name": "stderr",
     "output_type": "stream",
     "text": [
      "Epoch [987/1800]: 100%|██████████████████████████████████████████████████████| 9/9 [00:00<00:00, 145.55it/s, loss=2.55]\n"
     ]
    },
    {
     "name": "stdout",
     "output_type": "stream",
     "text": [
      "Epoch [987/1800]: Train loss: 2.3145, Valid loss: 2.2054\n"
     ]
    },
    {
     "name": "stderr",
     "output_type": "stream",
     "text": [
      "Epoch [988/1800]: 100%|███████████████████████████████████████████████████████| 9/9 [00:00<00:00, 83.04it/s, loss=1.49]\n"
     ]
    },
    {
     "name": "stdout",
     "output_type": "stream",
     "text": [
      "Epoch [988/1800]: Train loss: 1.9522, Valid loss: 2.3618\n"
     ]
    },
    {
     "name": "stderr",
     "output_type": "stream",
     "text": [
      "Epoch [989/1800]: 100%|██████████████████████████████████████████████████████| 9/9 [00:00<00:00, 143.23it/s, loss=2.11]\n"
     ]
    },
    {
     "name": "stdout",
     "output_type": "stream",
     "text": [
      "Epoch [989/1800]: Train loss: 2.0818, Valid loss: 2.4329\n"
     ]
    },
    {
     "name": "stderr",
     "output_type": "stream",
     "text": [
      "Epoch [990/1800]: 100%|██████████████████████████████████████████████████████| 9/9 [00:00<00:00, 150.40it/s, loss=2.27]\n"
     ]
    },
    {
     "name": "stdout",
     "output_type": "stream",
     "text": [
      "Epoch [990/1800]: Train loss: 2.2090, Valid loss: 2.2282\n"
     ]
    },
    {
     "name": "stderr",
     "output_type": "stream",
     "text": [
      "Epoch [991/1800]: 100%|██████████████████████████████████████████████████████| 9/9 [00:00<00:00, 142.92it/s, loss=2.06]\n"
     ]
    },
    {
     "name": "stdout",
     "output_type": "stream",
     "text": [
      "Epoch [991/1800]: Train loss: 1.9958, Valid loss: 1.9844\n"
     ]
    },
    {
     "name": "stderr",
     "output_type": "stream",
     "text": [
      "Epoch [992/1800]: 100%|██████████████████████████████████████████████████████| 9/9 [00:00<00:00, 143.26it/s, loss=1.58]\n"
     ]
    },
    {
     "name": "stdout",
     "output_type": "stream",
     "text": [
      "Epoch [992/1800]: Train loss: 1.9420, Valid loss: 2.3531\n"
     ]
    },
    {
     "name": "stderr",
     "output_type": "stream",
     "text": [
      "Epoch [993/1800]: 100%|███████████████████████████████████████████████████████| 9/9 [00:00<00:00, 71.06it/s, loss=1.75]\n"
     ]
    },
    {
     "name": "stdout",
     "output_type": "stream",
     "text": [
      "Epoch [993/1800]: Train loss: 2.1086, Valid loss: 2.4895\n"
     ]
    },
    {
     "name": "stderr",
     "output_type": "stream",
     "text": [
      "Epoch [994/1800]: 100%|██████████████████████████████████████████████████████| 9/9 [00:00<00:00, 146.54it/s, loss=1.75]\n"
     ]
    },
    {
     "name": "stdout",
     "output_type": "stream",
     "text": [
      "Epoch [994/1800]: Train loss: 2.1566, Valid loss: 2.3872\n"
     ]
    },
    {
     "name": "stderr",
     "output_type": "stream",
     "text": [
      "Epoch [995/1800]: 100%|██████████████████████████████████████████████████████| 9/9 [00:00<00:00, 145.51it/s, loss=2.14]\n"
     ]
    },
    {
     "name": "stdout",
     "output_type": "stream",
     "text": [
      "Epoch [995/1800]: Train loss: 2.0688, Valid loss: 2.2894\n"
     ]
    },
    {
     "name": "stderr",
     "output_type": "stream",
     "text": [
      "Epoch [996/1800]: 100%|██████████████████████████████████████████████████████| 9/9 [00:00<00:00, 145.59it/s, loss=2.32]\n"
     ]
    },
    {
     "name": "stdout",
     "output_type": "stream",
     "text": [
      "Epoch [996/1800]: Train loss: 2.0601, Valid loss: 3.7264\n"
     ]
    },
    {
     "name": "stderr",
     "output_type": "stream",
     "text": [
      "Epoch [997/1800]: 100%|██████████████████████████████████████████████████████| 9/9 [00:00<00:00, 145.78it/s, loss=2.78]\n"
     ]
    },
    {
     "name": "stdout",
     "output_type": "stream",
     "text": [
      "Epoch [997/1800]: Train loss: 2.3560, Valid loss: 2.2707\n"
     ]
    },
    {
     "name": "stderr",
     "output_type": "stream",
     "text": [
      "Epoch [998/1800]: 100%|██████████████████████████████████████████████████████| 9/9 [00:00<00:00, 141.45it/s, loss=2.34]\n"
     ]
    },
    {
     "name": "stdout",
     "output_type": "stream",
     "text": [
      "Epoch [998/1800]: Train loss: 2.3856, Valid loss: 2.3770\n"
     ]
    },
    {
     "name": "stderr",
     "output_type": "stream",
     "text": [
      "Epoch [999/1800]: 100%|██████████████████████████████████████████████████████| 9/9 [00:00<00:00, 143.30it/s, loss=2.34]\n"
     ]
    },
    {
     "name": "stdout",
     "output_type": "stream",
     "text": [
      "Epoch [999/1800]: Train loss: 2.4988, Valid loss: 3.5944\n"
     ]
    },
    {
     "name": "stderr",
     "output_type": "stream",
     "text": [
      "Epoch [1000/1800]: 100%|█████████████████████████████████████████████████████| 9/9 [00:00<00:00, 145.55it/s, loss=3.53]\n"
     ]
    },
    {
     "name": "stdout",
     "output_type": "stream",
     "text": [
      "Epoch [1000/1800]: Train loss: 2.7859, Valid loss: 9.1153\n"
     ]
    },
    {
     "name": "stderr",
     "output_type": "stream",
     "text": [
      "Epoch [1001/1800]: 100%|█████████████████████████████████████████████████████| 9/9 [00:00<00:00, 141.54it/s, loss=3.42]\n"
     ]
    },
    {
     "name": "stdout",
     "output_type": "stream",
     "text": [
      "Epoch [1001/1800]: Train loss: 4.3275, Valid loss: 5.6269\n"
     ]
    },
    {
     "name": "stderr",
     "output_type": "stream",
     "text": [
      "Epoch [1002/1800]: 100%|█████████████████████████████████████████████████████| 9/9 [00:00<00:00, 141.00it/s, loss=2.49]\n"
     ]
    },
    {
     "name": "stdout",
     "output_type": "stream",
     "text": [
      "Epoch [1002/1800]: Train loss: 3.0649, Valid loss: 4.2276\n"
     ]
    },
    {
     "name": "stderr",
     "output_type": "stream",
     "text": [
      "Epoch [1003/1800]: 100%|█████████████████████████████████████████████████████| 9/9 [00:00<00:00, 143.24it/s, loss=2.06]\n"
     ]
    },
    {
     "name": "stdout",
     "output_type": "stream",
     "text": [
      "Epoch [1003/1800]: Train loss: 2.7251, Valid loss: 2.7491\n"
     ]
    },
    {
     "name": "stderr",
     "output_type": "stream",
     "text": [
      "Epoch [1004/1800]: 100%|█████████████████████████████████████████████████████| 9/9 [00:00<00:00, 140.97it/s, loss=2.22]\n"
     ]
    },
    {
     "name": "stdout",
     "output_type": "stream",
     "text": [
      "Epoch [1004/1800]: Train loss: 2.0069, Valid loss: 2.0927\n"
     ]
    },
    {
     "name": "stderr",
     "output_type": "stream",
     "text": [
      "Epoch [1005/1800]: 100%|█████████████████████████████████████████████████████| 9/9 [00:00<00:00, 138.81it/s, loss=1.95]\n"
     ]
    },
    {
     "name": "stdout",
     "output_type": "stream",
     "text": [
      "Epoch [1005/1800]: Train loss: 2.1721, Valid loss: 2.4769\n"
     ]
    },
    {
     "name": "stderr",
     "output_type": "stream",
     "text": [
      "Epoch [1006/1800]: 100%|█████████████████████████████████████████████████████| 9/9 [00:00<00:00, 132.75it/s, loss=1.91]\n"
     ]
    },
    {
     "name": "stdout",
     "output_type": "stream",
     "text": [
      "Epoch [1006/1800]: Train loss: 1.9634, Valid loss: 2.5852\n"
     ]
    },
    {
     "name": "stderr",
     "output_type": "stream",
     "text": [
      "Epoch [1007/1800]: 100%|█████████████████████████████████████████████████████| 9/9 [00:00<00:00, 138.35it/s, loss=2.01]\n"
     ]
    },
    {
     "name": "stdout",
     "output_type": "stream",
     "text": [
      "Epoch [1007/1800]: Train loss: 2.1785, Valid loss: 2.7843\n"
     ]
    },
    {
     "name": "stderr",
     "output_type": "stream",
     "text": [
      "Epoch [1008/1800]: 100%|█████████████████████████████████████████████████████| 9/9 [00:00<00:00, 142.35it/s, loss=1.66]\n"
     ]
    },
    {
     "name": "stdout",
     "output_type": "stream",
     "text": [
      "Epoch [1008/1800]: Train loss: 2.1276, Valid loss: 2.3852\n"
     ]
    },
    {
     "name": "stderr",
     "output_type": "stream",
     "text": [
      "Epoch [1009/1800]: 100%|█████████████████████████████████████████████████████| 9/9 [00:00<00:00, 141.00it/s, loss=2.43]\n"
     ]
    },
    {
     "name": "stdout",
     "output_type": "stream",
     "text": [
      "Epoch [1009/1800]: Train loss: 2.0728, Valid loss: 2.2843\n"
     ]
    },
    {
     "name": "stderr",
     "output_type": "stream",
     "text": [
      "Epoch [1010/1800]: 100%|█████████████████████████████████████████████████████| 9/9 [00:00<00:00, 140.86it/s, loss=1.84]\n"
     ]
    },
    {
     "name": "stdout",
     "output_type": "stream",
     "text": [
      "Epoch [1010/1800]: Train loss: 2.0720, Valid loss: 2.4966\n"
     ]
    },
    {
     "name": "stderr",
     "output_type": "stream",
     "text": [
      "Epoch [1011/1800]: 100%|█████████████████████████████████████████████████████| 9/9 [00:00<00:00, 138.72it/s, loss=1.55]\n"
     ]
    },
    {
     "name": "stdout",
     "output_type": "stream",
     "text": [
      "Epoch [1011/1800]: Train loss: 2.0378, Valid loss: 2.3437\n"
     ]
    },
    {
     "name": "stderr",
     "output_type": "stream",
     "text": [
      "Epoch [1012/1800]: 100%|█████████████████████████████████████████████████████| 9/9 [00:00<00:00, 143.24it/s, loss=2.67]\n"
     ]
    },
    {
     "name": "stdout",
     "output_type": "stream",
     "text": [
      "Epoch [1012/1800]: Train loss: 2.2706, Valid loss: 2.4417\n"
     ]
    },
    {
     "name": "stderr",
     "output_type": "stream",
     "text": [
      "Epoch [1013/1800]: 100%|█████████████████████████████████████████████████████| 9/9 [00:00<00:00, 143.24it/s, loss=3.27]\n"
     ]
    },
    {
     "name": "stdout",
     "output_type": "stream",
     "text": [
      "Epoch [1013/1800]: Train loss: 2.4109, Valid loss: 2.1715\n"
     ]
    },
    {
     "name": "stderr",
     "output_type": "stream",
     "text": [
      "Epoch [1014/1800]: 100%|█████████████████████████████████████████████████████| 9/9 [00:00<00:00, 138.83it/s, loss=1.73]\n"
     ]
    },
    {
     "name": "stdout",
     "output_type": "stream",
     "text": [
      "Epoch [1014/1800]: Train loss: 2.1222, Valid loss: 1.9450\n"
     ]
    },
    {
     "name": "stderr",
     "output_type": "stream",
     "text": [
      "Epoch [1015/1800]: 100%|█████████████████████████████████████████████████████| 9/9 [00:00<00:00, 137.78it/s, loss=2.11]\n"
     ]
    },
    {
     "name": "stdout",
     "output_type": "stream",
     "text": [
      "Epoch [1015/1800]: Train loss: 1.9754, Valid loss: 3.9222\n"
     ]
    },
    {
     "name": "stderr",
     "output_type": "stream",
     "text": [
      "Epoch [1016/1800]: 100%|█████████████████████████████████████████████████████| 9/9 [00:00<00:00, 139.87it/s, loss=2.46]\n"
     ]
    },
    {
     "name": "stdout",
     "output_type": "stream",
     "text": [
      "Epoch [1016/1800]: Train loss: 2.5436, Valid loss: 2.0114\n"
     ]
    },
    {
     "name": "stderr",
     "output_type": "stream",
     "text": [
      "Epoch [1017/1800]: 100%|████████████████████████████████████████████████████████| 9/9 [00:00<00:00, 143.33it/s, loss=2]\n"
     ]
    },
    {
     "name": "stdout",
     "output_type": "stream",
     "text": [
      "Epoch [1017/1800]: Train loss: 2.1461, Valid loss: 2.0360\n"
     ]
    },
    {
     "name": "stderr",
     "output_type": "stream",
     "text": [
      "Epoch [1018/1800]: 100%|█████████████████████████████████████████████████████| 9/9 [00:00<00:00, 143.11it/s, loss=2.17]\n"
     ]
    },
    {
     "name": "stdout",
     "output_type": "stream",
     "text": [
      "Epoch [1018/1800]: Train loss: 2.2880, Valid loss: 2.1110\n"
     ]
    },
    {
     "name": "stderr",
     "output_type": "stream",
     "text": [
      "Epoch [1019/1800]: 100%|█████████████████████████████████████████████████████| 9/9 [00:00<00:00, 138.82it/s, loss=2.88]\n"
     ]
    },
    {
     "name": "stdout",
     "output_type": "stream",
     "text": [
      "Epoch [1019/1800]: Train loss: 2.1306, Valid loss: 3.6476\n"
     ]
    },
    {
     "name": "stderr",
     "output_type": "stream",
     "text": [
      "Epoch [1020/1800]: 100%|█████████████████████████████████████████████████████| 9/9 [00:00<00:00, 144.00it/s, loss=1.76]\n"
     ]
    },
    {
     "name": "stdout",
     "output_type": "stream",
     "text": [
      "Epoch [1020/1800]: Train loss: 2.3737, Valid loss: 2.3406\n"
     ]
    },
    {
     "name": "stderr",
     "output_type": "stream",
     "text": [
      "Epoch [1021/1800]: 100%|█████████████████████████████████████████████████████| 9/9 [00:00<00:00, 139.19it/s, loss=2.29]\n"
     ]
    },
    {
     "name": "stdout",
     "output_type": "stream",
     "text": [
      "Epoch [1021/1800]: Train loss: 2.0407, Valid loss: 2.3665\n"
     ]
    },
    {
     "name": "stderr",
     "output_type": "stream",
     "text": [
      "Epoch [1022/1800]: 100%|█████████████████████████████████████████████████████| 9/9 [00:00<00:00, 136.48it/s, loss=2.25]\n"
     ]
    },
    {
     "name": "stdout",
     "output_type": "stream",
     "text": [
      "Epoch [1022/1800]: Train loss: 2.2904, Valid loss: 2.2155\n"
     ]
    },
    {
     "name": "stderr",
     "output_type": "stream",
     "text": [
      "Epoch [1023/1800]: 100%|█████████████████████████████████████████████████████| 9/9 [00:00<00:00, 139.06it/s, loss=2.78]\n"
     ]
    },
    {
     "name": "stdout",
     "output_type": "stream",
     "text": [
      "Epoch [1023/1800]: Train loss: 2.0390, Valid loss: 2.3168\n"
     ]
    },
    {
     "name": "stderr",
     "output_type": "stream",
     "text": [
      "Epoch [1024/1800]: 100%|█████████████████████████████████████████████████████| 9/9 [00:00<00:00, 143.23it/s, loss=2.35]\n"
     ]
    },
    {
     "name": "stdout",
     "output_type": "stream",
     "text": [
      "Epoch [1024/1800]: Train loss: 2.1902, Valid loss: 2.5587\n"
     ]
    },
    {
     "name": "stderr",
     "output_type": "stream",
     "text": [
      "Epoch [1025/1800]: 100%|█████████████████████████████████████████████████████| 9/9 [00:00<00:00, 143.24it/s, loss=1.57]\n"
     ]
    },
    {
     "name": "stdout",
     "output_type": "stream",
     "text": [
      "Epoch [1025/1800]: Train loss: 2.0194, Valid loss: 2.3751\n"
     ]
    },
    {
     "name": "stderr",
     "output_type": "stream",
     "text": [
      "Epoch [1026/1800]: 100%|██████████████████████████████████████████████████████| 9/9 [00:00<00:00, 80.57it/s, loss=2.45]\n"
     ]
    },
    {
     "name": "stdout",
     "output_type": "stream",
     "text": [
      "Epoch [1026/1800]: Train loss: 2.0306, Valid loss: 2.4791\n"
     ]
    },
    {
     "name": "stderr",
     "output_type": "stream",
     "text": [
      "Epoch [1027/1800]: 100%|██████████████████████████████████████████████████████| 9/9 [00:00<00:00, 114.23it/s, loss=1.4]\n"
     ]
    },
    {
     "name": "stdout",
     "output_type": "stream",
     "text": [
      "Epoch [1027/1800]: Train loss: 1.8743, Valid loss: 2.6885\n"
     ]
    },
    {
     "name": "stderr",
     "output_type": "stream",
     "text": [
      "Epoch [1028/1800]: 100%|█████████████████████████████████████████████████████| 9/9 [00:00<00:00, 145.57it/s, loss=1.91]\n"
     ]
    },
    {
     "name": "stdout",
     "output_type": "stream",
     "text": [
      "Epoch [1028/1800]: Train loss: 2.0108, Valid loss: 1.8316\n",
      "Saving model with loss 1.832...\n"
     ]
    },
    {
     "name": "stderr",
     "output_type": "stream",
     "text": [
      "Epoch [1029/1800]: 100%|█████████████████████████████████████████████████████| 9/9 [00:00<00:00, 141.97it/s, loss=2.12]\n"
     ]
    },
    {
     "name": "stdout",
     "output_type": "stream",
     "text": [
      "Epoch [1029/1800]: Train loss: 2.0503, Valid loss: 3.0119\n"
     ]
    },
    {
     "name": "stderr",
     "output_type": "stream",
     "text": [
      "Epoch [1030/1800]: 100%|██████████████████████████████████████████████████████| 9/9 [00:00<00:00, 79.93it/s, loss=1.62]\n"
     ]
    },
    {
     "name": "stdout",
     "output_type": "stream",
     "text": [
      "Epoch [1030/1800]: Train loss: 2.0918, Valid loss: 1.8331\n"
     ]
    },
    {
     "name": "stderr",
     "output_type": "stream",
     "text": [
      "Epoch [1031/1800]: 100%|█████████████████████████████████████████████████████| 9/9 [00:00<00:00, 141.69it/s, loss=1.67]\n"
     ]
    },
    {
     "name": "stdout",
     "output_type": "stream",
     "text": [
      "Epoch [1031/1800]: Train loss: 1.9782, Valid loss: 2.2015\n"
     ]
    },
    {
     "name": "stderr",
     "output_type": "stream",
     "text": [
      "Epoch [1032/1800]: 100%|█████████████████████████████████████████████████████| 9/9 [00:00<00:00, 141.75it/s, loss=1.95]\n"
     ]
    },
    {
     "name": "stdout",
     "output_type": "stream",
     "text": [
      "Epoch [1032/1800]: Train loss: 2.0811, Valid loss: 1.9748\n"
     ]
    },
    {
     "name": "stderr",
     "output_type": "stream",
     "text": [
      "Epoch [1033/1800]: 100%|█████████████████████████████████████████████████████| 9/9 [00:00<00:00, 143.24it/s, loss=1.67]\n"
     ]
    },
    {
     "name": "stdout",
     "output_type": "stream",
     "text": [
      "Epoch [1033/1800]: Train loss: 2.1050, Valid loss: 2.1163\n"
     ]
    },
    {
     "name": "stderr",
     "output_type": "stream",
     "text": [
      "Epoch [1034/1800]: 100%|█████████████████████████████████████████████████████| 9/9 [00:00<00:00, 147.94it/s, loss=1.42]\n"
     ]
    },
    {
     "name": "stdout",
     "output_type": "stream",
     "text": [
      "Epoch [1034/1800]: Train loss: 2.0226, Valid loss: 2.3447\n"
     ]
    },
    {
     "name": "stderr",
     "output_type": "stream",
     "text": [
      "Epoch [1035/1800]: 100%|█████████████████████████████████████████████████████| 9/9 [00:00<00:00, 145.55it/s, loss=1.45]\n"
     ]
    },
    {
     "name": "stdout",
     "output_type": "stream",
     "text": [
      "Epoch [1035/1800]: Train loss: 2.1443, Valid loss: 1.9680\n"
     ]
    },
    {
     "name": "stderr",
     "output_type": "stream",
     "text": [
      "Epoch [1036/1800]: 100%|█████████████████████████████████████████████████████| 9/9 [00:00<00:00, 137.91it/s, loss=2.61]\n"
     ]
    },
    {
     "name": "stdout",
     "output_type": "stream",
     "text": [
      "Epoch [1036/1800]: Train loss: 2.0365, Valid loss: 2.5774\n"
     ]
    },
    {
     "name": "stderr",
     "output_type": "stream",
     "text": [
      "Epoch [1037/1800]: 100%|█████████████████████████████████████████████████████| 9/9 [00:00<00:00, 141.26it/s, loss=2.03]\n"
     ]
    },
    {
     "name": "stdout",
     "output_type": "stream",
     "text": [
      "Epoch [1037/1800]: Train loss: 1.9625, Valid loss: 2.7590\n"
     ]
    },
    {
     "name": "stderr",
     "output_type": "stream",
     "text": [
      "Epoch [1038/1800]: 100%|█████████████████████████████████████████████████████| 9/9 [00:00<00:00, 141.63it/s, loss=2.27]\n"
     ]
    },
    {
     "name": "stdout",
     "output_type": "stream",
     "text": [
      "Epoch [1038/1800]: Train loss: 2.0247, Valid loss: 2.1238\n"
     ]
    },
    {
     "name": "stderr",
     "output_type": "stream",
     "text": [
      "Epoch [1039/1800]: 100%|█████████████████████████████████████████████████████| 9/9 [00:00<00:00, 143.60it/s, loss=1.78]\n"
     ]
    },
    {
     "name": "stdout",
     "output_type": "stream",
     "text": [
      "Epoch [1039/1800]: Train loss: 2.1263, Valid loss: 2.5225\n"
     ]
    },
    {
     "name": "stderr",
     "output_type": "stream",
     "text": [
      "Epoch [1040/1800]: 100%|█████████████████████████████████████████████████████| 9/9 [00:00<00:00, 134.59it/s, loss=1.98]\n"
     ]
    },
    {
     "name": "stdout",
     "output_type": "stream",
     "text": [
      "Epoch [1040/1800]: Train loss: 2.1488, Valid loss: 1.8767\n"
     ]
    },
    {
     "name": "stderr",
     "output_type": "stream",
     "text": [
      "Epoch [1041/1800]: 100%|█████████████████████████████████████████████████████| 9/9 [00:00<00:00, 137.69it/s, loss=2.07]\n"
     ]
    },
    {
     "name": "stdout",
     "output_type": "stream",
     "text": [
      "Epoch [1041/1800]: Train loss: 2.0082, Valid loss: 2.6650\n"
     ]
    },
    {
     "name": "stderr",
     "output_type": "stream",
     "text": [
      "Epoch [1042/1800]: 100%|██████████████████████████████████████████████████████| 9/9 [00:00<00:00, 141.00it/s, loss=2.2]\n"
     ]
    },
    {
     "name": "stdout",
     "output_type": "stream",
     "text": [
      "Epoch [1042/1800]: Train loss: 1.9630, Valid loss: 2.6633\n"
     ]
    },
    {
     "name": "stderr",
     "output_type": "stream",
     "text": [
      "Epoch [1043/1800]: 100%|█████████████████████████████████████████████████████| 9/9 [00:00<00:00, 145.44it/s, loss=2.05]\n"
     ]
    },
    {
     "name": "stdout",
     "output_type": "stream",
     "text": [
      "Epoch [1043/1800]: Train loss: 1.9742, Valid loss: 2.1031\n"
     ]
    },
    {
     "name": "stderr",
     "output_type": "stream",
     "text": [
      "Epoch [1044/1800]: 100%|█████████████████████████████████████████████████████| 9/9 [00:00<00:00, 145.54it/s, loss=2.61]\n"
     ]
    },
    {
     "name": "stdout",
     "output_type": "stream",
     "text": [
      "Epoch [1044/1800]: Train loss: 2.0331, Valid loss: 3.7498\n"
     ]
    },
    {
     "name": "stderr",
     "output_type": "stream",
     "text": [
      "Epoch [1045/1800]: 100%|█████████████████████████████████████████████████████| 9/9 [00:00<00:00, 138.55it/s, loss=3.49]\n"
     ]
    },
    {
     "name": "stdout",
     "output_type": "stream",
     "text": [
      "Epoch [1045/1800]: Train loss: 2.7716, Valid loss: 2.0181\n"
     ]
    },
    {
     "name": "stderr",
     "output_type": "stream",
     "text": [
      "Epoch [1046/1800]: 100%|█████████████████████████████████████████████████████| 9/9 [00:00<00:00, 136.84it/s, loss=2.44]\n"
     ]
    },
    {
     "name": "stdout",
     "output_type": "stream",
     "text": [
      "Epoch [1046/1800]: Train loss: 2.3014, Valid loss: 3.1973\n"
     ]
    },
    {
     "name": "stderr",
     "output_type": "stream",
     "text": [
      "Epoch [1047/1800]: 100%|█████████████████████████████████████████████████████| 9/9 [00:00<00:00, 139.28it/s, loss=3.09]\n"
     ]
    },
    {
     "name": "stdout",
     "output_type": "stream",
     "text": [
      "Epoch [1047/1800]: Train loss: 2.4448, Valid loss: 2.6239\n"
     ]
    },
    {
     "name": "stderr",
     "output_type": "stream",
     "text": [
      "Epoch [1048/1800]: 100%|█████████████████████████████████████████████████████| 9/9 [00:00<00:00, 139.00it/s, loss=2.08]\n"
     ]
    },
    {
     "name": "stdout",
     "output_type": "stream",
     "text": [
      "Epoch [1048/1800]: Train loss: 2.7070, Valid loss: 4.0242\n"
     ]
    },
    {
     "name": "stderr",
     "output_type": "stream",
     "text": [
      "Epoch [1049/1800]: 100%|█████████████████████████████████████████████████████| 9/9 [00:00<00:00, 138.49it/s, loss=3.03]\n"
     ]
    },
    {
     "name": "stdout",
     "output_type": "stream",
     "text": [
      "Epoch [1049/1800]: Train loss: 3.1025, Valid loss: 2.4342\n"
     ]
    },
    {
     "name": "stderr",
     "output_type": "stream",
     "text": [
      "Epoch [1050/1800]: 100%|█████████████████████████████████████████████████████| 9/9 [00:00<00:00, 143.71it/s, loss=2.31]\n"
     ]
    },
    {
     "name": "stdout",
     "output_type": "stream",
     "text": [
      "Epoch [1050/1800]: Train loss: 2.2802, Valid loss: 2.2681\n"
     ]
    },
    {
     "name": "stderr",
     "output_type": "stream",
     "text": [
      "Epoch [1051/1800]: 100%|█████████████████████████████████████████████████████| 9/9 [00:00<00:00, 134.64it/s, loss=2.13]\n"
     ]
    },
    {
     "name": "stdout",
     "output_type": "stream",
     "text": [
      "Epoch [1051/1800]: Train loss: 2.0490, Valid loss: 2.1204\n"
     ]
    },
    {
     "name": "stderr",
     "output_type": "stream",
     "text": [
      "Epoch [1052/1800]: 100%|█████████████████████████████████████████████████████| 9/9 [00:00<00:00, 140.16it/s, loss=1.95]\n"
     ]
    },
    {
     "name": "stdout",
     "output_type": "stream",
     "text": [
      "Epoch [1052/1800]: Train loss: 2.0372, Valid loss: 2.8659\n"
     ]
    },
    {
     "name": "stderr",
     "output_type": "stream",
     "text": [
      "Epoch [1053/1800]: 100%|█████████████████████████████████████████████████████| 9/9 [00:00<00:00, 136.73it/s, loss=2.55]\n"
     ]
    },
    {
     "name": "stdout",
     "output_type": "stream",
     "text": [
      "Epoch [1053/1800]: Train loss: 2.4149, Valid loss: 2.1643\n"
     ]
    },
    {
     "name": "stderr",
     "output_type": "stream",
     "text": [
      "Epoch [1054/1800]: 100%|█████████████████████████████████████████████████████| 9/9 [00:00<00:00, 141.00it/s, loss=2.38]\n"
     ]
    },
    {
     "name": "stdout",
     "output_type": "stream",
     "text": [
      "Epoch [1054/1800]: Train loss: 2.1276, Valid loss: 3.1413\n"
     ]
    },
    {
     "name": "stderr",
     "output_type": "stream",
     "text": [
      "Epoch [1055/1800]: 100%|██████████████████████████████████████████████████████| 9/9 [00:00<00:00, 141.00it/s, loss=1.9]\n"
     ]
    },
    {
     "name": "stdout",
     "output_type": "stream",
     "text": [
      "Epoch [1055/1800]: Train loss: 2.5733, Valid loss: 3.1664\n"
     ]
    },
    {
     "name": "stderr",
     "output_type": "stream",
     "text": [
      "Epoch [1056/1800]: 100%|█████████████████████████████████████████████████████| 9/9 [00:00<00:00, 108.79it/s, loss=2.53]\n"
     ]
    },
    {
     "name": "stdout",
     "output_type": "stream",
     "text": [
      "Epoch [1056/1800]: Train loss: 2.4381, Valid loss: 2.5554\n"
     ]
    },
    {
     "name": "stderr",
     "output_type": "stream",
     "text": [
      "Epoch [1057/1800]: 100%|█████████████████████████████████████████████████████| 9/9 [00:00<00:00, 141.31it/s, loss=2.04]\n"
     ]
    },
    {
     "name": "stdout",
     "output_type": "stream",
     "text": [
      "Epoch [1057/1800]: Train loss: 2.1259, Valid loss: 1.9856\n"
     ]
    },
    {
     "name": "stderr",
     "output_type": "stream",
     "text": [
      "Epoch [1058/1800]: 100%|█████████████████████████████████████████████████████| 9/9 [00:00<00:00, 140.89it/s, loss=2.73]\n"
     ]
    },
    {
     "name": "stdout",
     "output_type": "stream",
     "text": [
      "Epoch [1058/1800]: Train loss: 2.3509, Valid loss: 4.5612\n"
     ]
    },
    {
     "name": "stderr",
     "output_type": "stream",
     "text": [
      "Epoch [1059/1800]: 100%|█████████████████████████████████████████████████████| 9/9 [00:00<00:00, 137.32it/s, loss=3.68]\n"
     ]
    },
    {
     "name": "stdout",
     "output_type": "stream",
     "text": [
      "Epoch [1059/1800]: Train loss: 3.2349, Valid loss: 3.4819\n"
     ]
    },
    {
     "name": "stderr",
     "output_type": "stream",
     "text": [
      "Epoch [1060/1800]: 100%|█████████████████████████████████████████████████████| 9/9 [00:00<00:00, 137.95it/s, loss=2.57]\n"
     ]
    },
    {
     "name": "stdout",
     "output_type": "stream",
     "text": [
      "Epoch [1060/1800]: Train loss: 3.6580, Valid loss: 7.5259\n"
     ]
    },
    {
     "name": "stderr",
     "output_type": "stream",
     "text": [
      "Epoch [1061/1800]: 100%|█████████████████████████████████████████████████████| 9/9 [00:00<00:00, 138.91it/s, loss=2.78]\n"
     ]
    },
    {
     "name": "stdout",
     "output_type": "stream",
     "text": [
      "Epoch [1061/1800]: Train loss: 3.4995, Valid loss: 3.4805\n"
     ]
    },
    {
     "name": "stderr",
     "output_type": "stream",
     "text": [
      "Epoch [1062/1800]: 100%|█████████████████████████████████████████████████████| 9/9 [00:00<00:00, 138.96it/s, loss=1.74]\n"
     ]
    },
    {
     "name": "stdout",
     "output_type": "stream",
     "text": [
      "Epoch [1062/1800]: Train loss: 2.5834, Valid loss: 2.5357\n"
     ]
    },
    {
     "name": "stderr",
     "output_type": "stream",
     "text": [
      "Epoch [1063/1800]: 100%|█████████████████████████████████████████████████████| 9/9 [00:00<00:00, 137.89it/s, loss=1.33]\n"
     ]
    },
    {
     "name": "stdout",
     "output_type": "stream",
     "text": [
      "Epoch [1063/1800]: Train loss: 2.1274, Valid loss: 2.0846\n"
     ]
    },
    {
     "name": "stderr",
     "output_type": "stream",
     "text": [
      "Epoch [1064/1800]: 100%|█████████████████████████████████████████████████████| 9/9 [00:00<00:00, 142.68it/s, loss=2.48]\n"
     ]
    },
    {
     "name": "stdout",
     "output_type": "stream",
     "text": [
      "Epoch [1064/1800]: Train loss: 1.9566, Valid loss: 2.6876\n"
     ]
    },
    {
     "name": "stderr",
     "output_type": "stream",
     "text": [
      "Epoch [1065/1800]: 100%|█████████████████████████████████████████████████████| 9/9 [00:00<00:00, 141.00it/s, loss=1.39]\n"
     ]
    },
    {
     "name": "stdout",
     "output_type": "stream",
     "text": [
      "Epoch [1065/1800]: Train loss: 2.0888, Valid loss: 2.2144\n"
     ]
    },
    {
     "name": "stderr",
     "output_type": "stream",
     "text": [
      "Epoch [1066/1800]: 100%|█████████████████████████████████████████████████████| 9/9 [00:00<00:00, 140.96it/s, loss=2.09]\n"
     ]
    },
    {
     "name": "stdout",
     "output_type": "stream",
     "text": [
      "Epoch [1066/1800]: Train loss: 2.2520, Valid loss: 3.4147\n"
     ]
    },
    {
     "name": "stderr",
     "output_type": "stream",
     "text": [
      "Epoch [1067/1800]: 100%|█████████████████████████████████████████████████████| 9/9 [00:00<00:00, 138.87it/s, loss=2.44]\n"
     ]
    },
    {
     "name": "stdout",
     "output_type": "stream",
     "text": [
      "Epoch [1067/1800]: Train loss: 2.6757, Valid loss: 3.8619\n"
     ]
    },
    {
     "name": "stderr",
     "output_type": "stream",
     "text": [
      "Epoch [1068/1800]: 100%|█████████████████████████████████████████████████████| 9/9 [00:00<00:00, 141.32it/s, loss=1.79]\n"
     ]
    },
    {
     "name": "stdout",
     "output_type": "stream",
     "text": [
      "Epoch [1068/1800]: Train loss: 2.5380, Valid loss: 2.1327\n"
     ]
    },
    {
     "name": "stderr",
     "output_type": "stream",
     "text": [
      "Epoch [1069/1800]: 100%|██████████████████████████████████████████████████████| 9/9 [00:00<00:00, 134.38it/s, loss=2.9]\n"
     ]
    },
    {
     "name": "stdout",
     "output_type": "stream",
     "text": [
      "Epoch [1069/1800]: Train loss: 2.1146, Valid loss: 2.1780\n"
     ]
    },
    {
     "name": "stderr",
     "output_type": "stream",
     "text": [
      "Epoch [1070/1800]: 100%|█████████████████████████████████████████████████████| 9/9 [00:00<00:00, 139.96it/s, loss=2.36]\n"
     ]
    },
    {
     "name": "stdout",
     "output_type": "stream",
     "text": [
      "Epoch [1070/1800]: Train loss: 2.3236, Valid loss: 3.3412\n"
     ]
    },
    {
     "name": "stderr",
     "output_type": "stream",
     "text": [
      "Epoch [1071/1800]: 100%|█████████████████████████████████████████████████████| 9/9 [00:00<00:00, 138.83it/s, loss=1.85]\n"
     ]
    },
    {
     "name": "stdout",
     "output_type": "stream",
     "text": [
      "Epoch [1071/1800]: Train loss: 2.2989, Valid loss: 2.1556\n"
     ]
    },
    {
     "name": "stderr",
     "output_type": "stream",
     "text": [
      "Epoch [1072/1800]: 100%|███████████████████████████████████████████████████████| 9/9 [00:00<00:00, 84.31it/s, loss=2.6]\n"
     ]
    },
    {
     "name": "stdout",
     "output_type": "stream",
     "text": [
      "Epoch [1072/1800]: Train loss: 2.2096, Valid loss: 2.9070\n"
     ]
    },
    {
     "name": "stderr",
     "output_type": "stream",
     "text": [
      "Epoch [1073/1800]: 100%|██████████████████████████████████████████████████████| 9/9 [00:00<00:00, 138.83it/s, loss=1.9]\n"
     ]
    },
    {
     "name": "stdout",
     "output_type": "stream",
     "text": [
      "Epoch [1073/1800]: Train loss: 2.0341, Valid loss: 2.2352\n"
     ]
    },
    {
     "name": "stderr",
     "output_type": "stream",
     "text": [
      "Epoch [1074/1800]: 100%|█████████████████████████████████████████████████████| 9/9 [00:00<00:00, 147.94it/s, loss=2.67]\n"
     ]
    },
    {
     "name": "stdout",
     "output_type": "stream",
     "text": [
      "Epoch [1074/1800]: Train loss: 2.2878, Valid loss: 2.6494\n"
     ]
    },
    {
     "name": "stderr",
     "output_type": "stream",
     "text": [
      "Epoch [1075/1800]: 100%|█████████████████████████████████████████████████████| 9/9 [00:00<00:00, 147.93it/s, loss=2.91]\n"
     ]
    },
    {
     "name": "stdout",
     "output_type": "stream",
     "text": [
      "Epoch [1075/1800]: Train loss: 2.6516, Valid loss: 2.6026\n"
     ]
    },
    {
     "name": "stderr",
     "output_type": "stream",
     "text": [
      "Epoch [1076/1800]: 100%|█████████████████████████████████████████████████████| 9/9 [00:00<00:00, 143.24it/s, loss=1.74]\n"
     ]
    },
    {
     "name": "stdout",
     "output_type": "stream",
     "text": [
      "Epoch [1076/1800]: Train loss: 2.0857, Valid loss: 3.1753\n"
     ]
    },
    {
     "name": "stderr",
     "output_type": "stream",
     "text": [
      "Epoch [1077/1800]: 100%|█████████████████████████████████████████████████████| 9/9 [00:00<00:00, 141.00it/s, loss=1.98]\n"
     ]
    },
    {
     "name": "stdout",
     "output_type": "stream",
     "text": [
      "Epoch [1077/1800]: Train loss: 1.9462, Valid loss: 2.6104\n"
     ]
    },
    {
     "name": "stderr",
     "output_type": "stream",
     "text": [
      "Epoch [1078/1800]: 100%|█████████████████████████████████████████████████████| 9/9 [00:00<00:00, 143.68it/s, loss=2.35]\n"
     ]
    },
    {
     "name": "stdout",
     "output_type": "stream",
     "text": [
      "Epoch [1078/1800]: Train loss: 2.0465, Valid loss: 3.1404\n"
     ]
    },
    {
     "name": "stderr",
     "output_type": "stream",
     "text": [
      "Epoch [1079/1800]: 100%|██████████████████████████████████████████████████████| 9/9 [00:00<00:00, 142.57it/s, loss=1.6]\n"
     ]
    },
    {
     "name": "stdout",
     "output_type": "stream",
     "text": [
      "Epoch [1079/1800]: Train loss: 2.0983, Valid loss: 2.3931\n"
     ]
    },
    {
     "name": "stderr",
     "output_type": "stream",
     "text": [
      "Epoch [1080/1800]: 100%|█████████████████████████████████████████████████████| 9/9 [00:00<00:00, 142.53it/s, loss=2.55]\n"
     ]
    },
    {
     "name": "stdout",
     "output_type": "stream",
     "text": [
      "Epoch [1080/1800]: Train loss: 2.1001, Valid loss: 2.0066\n"
     ]
    },
    {
     "name": "stderr",
     "output_type": "stream",
     "text": [
      "Epoch [1081/1800]: 100%|██████████████████████████████████████████████████████| 9/9 [00:00<00:00, 143.85it/s, loss=2.2]\n"
     ]
    },
    {
     "name": "stdout",
     "output_type": "stream",
     "text": [
      "Epoch [1081/1800]: Train loss: 2.4974, Valid loss: 2.2371\n"
     ]
    },
    {
     "name": "stderr",
     "output_type": "stream",
     "text": [
      "Epoch [1082/1800]: 100%|█████████████████████████████████████████████████████| 9/9 [00:00<00:00, 147.94it/s, loss=2.49]\n"
     ]
    },
    {
     "name": "stdout",
     "output_type": "stream",
     "text": [
      "Epoch [1082/1800]: Train loss: 2.1888, Valid loss: 2.5707\n"
     ]
    },
    {
     "name": "stderr",
     "output_type": "stream",
     "text": [
      "Epoch [1083/1800]: 100%|█████████████████████████████████████████████████████| 9/9 [00:00<00:00, 144.00it/s, loss=1.79]\n"
     ]
    },
    {
     "name": "stdout",
     "output_type": "stream",
     "text": [
      "Epoch [1083/1800]: Train loss: 2.0216, Valid loss: 2.4855\n"
     ]
    },
    {
     "name": "stderr",
     "output_type": "stream",
     "text": [
      "Epoch [1084/1800]: 100%|█████████████████████████████████████████████████████| 9/9 [00:00<00:00, 147.95it/s, loss=2.92]\n"
     ]
    },
    {
     "name": "stdout",
     "output_type": "stream",
     "text": [
      "Epoch [1084/1800]: Train loss: 2.3033, Valid loss: 2.2892\n"
     ]
    },
    {
     "name": "stderr",
     "output_type": "stream",
     "text": [
      "Epoch [1085/1800]: 100%|██████████████████████████████████████████████████████| 9/9 [00:00<00:00, 84.28it/s, loss=2.66]\n"
     ]
    },
    {
     "name": "stdout",
     "output_type": "stream",
     "text": [
      "Epoch [1085/1800]: Train loss: 2.1799, Valid loss: 2.3660\n"
     ]
    },
    {
     "name": "stderr",
     "output_type": "stream",
     "text": [
      "Epoch [1086/1800]: 100%|█████████████████████████████████████████████████████| 9/9 [00:00<00:00, 127.22it/s, loss=2.26]\n"
     ]
    },
    {
     "name": "stdout",
     "output_type": "stream",
     "text": [
      "Epoch [1086/1800]: Train loss: 2.4193, Valid loss: 2.4859\n"
     ]
    },
    {
     "name": "stderr",
     "output_type": "stream",
     "text": [
      "Epoch [1087/1800]: 100%|█████████████████████████████████████████████████████| 9/9 [00:00<00:00, 147.94it/s, loss=1.88]\n"
     ]
    },
    {
     "name": "stdout",
     "output_type": "stream",
     "text": [
      "Epoch [1087/1800]: Train loss: 2.2301, Valid loss: 2.4704\n"
     ]
    },
    {
     "name": "stderr",
     "output_type": "stream",
     "text": [
      "Epoch [1088/1800]: 100%|█████████████████████████████████████████████████████| 9/9 [00:00<00:00, 147.93it/s, loss=2.24]\n"
     ]
    },
    {
     "name": "stdout",
     "output_type": "stream",
     "text": [
      "Epoch [1088/1800]: Train loss: 2.1228, Valid loss: 2.4913\n"
     ]
    },
    {
     "name": "stderr",
     "output_type": "stream",
     "text": [
      "Epoch [1089/1800]: 100%|█████████████████████████████████████████████████████| 9/9 [00:00<00:00, 145.56it/s, loss=2.37]\n"
     ]
    },
    {
     "name": "stdout",
     "output_type": "stream",
     "text": [
      "Epoch [1089/1800]: Train loss: 2.0805, Valid loss: 2.1276\n"
     ]
    },
    {
     "name": "stderr",
     "output_type": "stream",
     "text": [
      "Epoch [1090/1800]: 100%|█████████████████████████████████████████████████████| 9/9 [00:00<00:00, 143.24it/s, loss=2.14]\n"
     ]
    },
    {
     "name": "stdout",
     "output_type": "stream",
     "text": [
      "Epoch [1090/1800]: Train loss: 1.9154, Valid loss: 2.1954\n"
     ]
    },
    {
     "name": "stderr",
     "output_type": "stream",
     "text": [
      "Epoch [1091/1800]: 100%|█████████████████████████████████████████████████████| 9/9 [00:00<00:00, 142.84it/s, loss=1.68]\n"
     ]
    },
    {
     "name": "stdout",
     "output_type": "stream",
     "text": [
      "Epoch [1091/1800]: Train loss: 2.2427, Valid loss: 3.0891\n"
     ]
    },
    {
     "name": "stderr",
     "output_type": "stream",
     "text": [
      "Epoch [1092/1800]: 100%|█████████████████████████████████████████████████████| 9/9 [00:00<00:00, 143.28it/s, loss=2.02]\n"
     ]
    },
    {
     "name": "stdout",
     "output_type": "stream",
     "text": [
      "Epoch [1092/1800]: Train loss: 2.2285, Valid loss: 2.4934\n"
     ]
    },
    {
     "name": "stderr",
     "output_type": "stream",
     "text": [
      "Epoch [1093/1800]: 100%|█████████████████████████████████████████████████████| 9/9 [00:00<00:00, 145.43it/s, loss=1.59]\n"
     ]
    },
    {
     "name": "stdout",
     "output_type": "stream",
     "text": [
      "Epoch [1093/1800]: Train loss: 2.0345, Valid loss: 2.1203\n"
     ]
    },
    {
     "name": "stderr",
     "output_type": "stream",
     "text": [
      "Epoch [1094/1800]: 100%|██████████████████████████████████████████████████████| 9/9 [00:00<00:00, 147.94it/s, loss=2.1]\n"
     ]
    },
    {
     "name": "stdout",
     "output_type": "stream",
     "text": [
      "Epoch [1094/1800]: Train loss: 1.9304, Valid loss: 2.4776\n"
     ]
    },
    {
     "name": "stderr",
     "output_type": "stream",
     "text": [
      "Epoch [1095/1800]: 100%|█████████████████████████████████████████████████████| 9/9 [00:00<00:00, 147.94it/s, loss=1.54]\n"
     ]
    },
    {
     "name": "stdout",
     "output_type": "stream",
     "text": [
      "Epoch [1095/1800]: Train loss: 1.9966, Valid loss: 2.0868\n"
     ]
    },
    {
     "name": "stderr",
     "output_type": "stream",
     "text": [
      "Epoch [1096/1800]: 100%|█████████████████████████████████████████████████████| 9/9 [00:00<00:00, 150.43it/s, loss=2.06]\n"
     ]
    },
    {
     "name": "stdout",
     "output_type": "stream",
     "text": [
      "Epoch [1096/1800]: Train loss: 2.0425, Valid loss: 2.6787\n"
     ]
    },
    {
     "name": "stderr",
     "output_type": "stream",
     "text": [
      "Epoch [1097/1800]: 100%|█████████████████████████████████████████████████████| 9/9 [00:00<00:00, 147.94it/s, loss=2.09]\n"
     ]
    },
    {
     "name": "stdout",
     "output_type": "stream",
     "text": [
      "Epoch [1097/1800]: Train loss: 1.9783, Valid loss: 1.8594\n"
     ]
    },
    {
     "name": "stderr",
     "output_type": "stream",
     "text": [
      "Epoch [1098/1800]: 100%|█████████████████████████████████████████████████████| 9/9 [00:00<00:00, 147.94it/s, loss=1.82]\n"
     ]
    },
    {
     "name": "stdout",
     "output_type": "stream",
     "text": [
      "Epoch [1098/1800]: Train loss: 2.0667, Valid loss: 2.2119\n"
     ]
    },
    {
     "name": "stderr",
     "output_type": "stream",
     "text": [
      "Epoch [1099/1800]: 100%|█████████████████████████████████████████████████████| 9/9 [00:00<00:00, 146.53it/s, loss=2.69]\n"
     ]
    },
    {
     "name": "stdout",
     "output_type": "stream",
     "text": [
      "Epoch [1099/1800]: Train loss: 1.9523, Valid loss: 2.9163\n"
     ]
    },
    {
     "name": "stderr",
     "output_type": "stream",
     "text": [
      "Epoch [1100/1800]: 100%|█████████████████████████████████████████████████████| 9/9 [00:00<00:00, 150.40it/s, loss=1.94]\n"
     ]
    },
    {
     "name": "stdout",
     "output_type": "stream",
     "text": [
      "Epoch [1100/1800]: Train loss: 1.9489, Valid loss: 2.5212\n"
     ]
    },
    {
     "name": "stderr",
     "output_type": "stream",
     "text": [
      "Epoch [1101/1800]: 100%|█████████████████████████████████████████████████████| 9/9 [00:00<00:00, 143.24it/s, loss=2.26]\n"
     ]
    },
    {
     "name": "stdout",
     "output_type": "stream",
     "text": [
      "Epoch [1101/1800]: Train loss: 2.0429, Valid loss: 2.2121\n"
     ]
    },
    {
     "name": "stderr",
     "output_type": "stream",
     "text": [
      "Epoch [1102/1800]: 100%|█████████████████████████████████████████████████████| 9/9 [00:00<00:00, 145.55it/s, loss=3.12]\n"
     ]
    },
    {
     "name": "stdout",
     "output_type": "stream",
     "text": [
      "Epoch [1102/1800]: Train loss: 2.8796, Valid loss: 2.1544\n"
     ]
    },
    {
     "name": "stderr",
     "output_type": "stream",
     "text": [
      "Epoch [1103/1800]: 100%|█████████████████████████████████████████████████████| 9/9 [00:00<00:00, 152.91it/s, loss=1.57]\n"
     ]
    },
    {
     "name": "stdout",
     "output_type": "stream",
     "text": [
      "Epoch [1103/1800]: Train loss: 2.2171, Valid loss: 2.4431\n"
     ]
    },
    {
     "name": "stderr",
     "output_type": "stream",
     "text": [
      "Epoch [1104/1800]: 100%|█████████████████████████████████████████████████████| 9/9 [00:00<00:00, 128.92it/s, loss=1.82]\n"
     ]
    },
    {
     "name": "stdout",
     "output_type": "stream",
     "text": [
      "Epoch [1104/1800]: Train loss: 2.0291, Valid loss: 2.1821\n"
     ]
    },
    {
     "name": "stderr",
     "output_type": "stream",
     "text": [
      "Epoch [1105/1800]: 100%|█████████████████████████████████████████████████████| 9/9 [00:00<00:00, 145.55it/s, loss=3.14]\n"
     ]
    },
    {
     "name": "stdout",
     "output_type": "stream",
     "text": [
      "Epoch [1105/1800]: Train loss: 2.2770, Valid loss: 3.7745\n"
     ]
    },
    {
     "name": "stderr",
     "output_type": "stream",
     "text": [
      "Epoch [1106/1800]: 100%|█████████████████████████████████████████████████████| 9/9 [00:00<00:00, 147.05it/s, loss=1.68]\n"
     ]
    },
    {
     "name": "stdout",
     "output_type": "stream",
     "text": [
      "Epoch [1106/1800]: Train loss: 2.2337, Valid loss: 2.5170\n"
     ]
    },
    {
     "name": "stderr",
     "output_type": "stream",
     "text": [
      "Epoch [1107/1800]: 100%|██████████████████████████████████████████████████████| 9/9 [00:00<00:00, 147.94it/s, loss=2.8]\n"
     ]
    },
    {
     "name": "stdout",
     "output_type": "stream",
     "text": [
      "Epoch [1107/1800]: Train loss: 2.4783, Valid loss: 2.1118\n"
     ]
    },
    {
     "name": "stderr",
     "output_type": "stream",
     "text": [
      "Epoch [1108/1800]: 100%|█████████████████████████████████████████████████████| 9/9 [00:00<00:00, 147.94it/s, loss=2.41]\n"
     ]
    },
    {
     "name": "stdout",
     "output_type": "stream",
     "text": [
      "Epoch [1108/1800]: Train loss: 3.1372, Valid loss: 3.0001\n"
     ]
    },
    {
     "name": "stderr",
     "output_type": "stream",
     "text": [
      "Epoch [1109/1800]: 100%|█████████████████████████████████████████████████████| 9/9 [00:00<00:00, 141.85it/s, loss=1.69]\n"
     ]
    },
    {
     "name": "stdout",
     "output_type": "stream",
     "text": [
      "Epoch [1109/1800]: Train loss: 2.5049, Valid loss: 2.1437\n"
     ]
    },
    {
     "name": "stderr",
     "output_type": "stream",
     "text": [
      "Epoch [1110/1800]: 100%|█████████████████████████████████████████████████████| 9/9 [00:00<00:00, 147.93it/s, loss=1.96]\n"
     ]
    },
    {
     "name": "stdout",
     "output_type": "stream",
     "text": [
      "Epoch [1110/1800]: Train loss: 2.1298, Valid loss: 2.8496\n"
     ]
    },
    {
     "name": "stderr",
     "output_type": "stream",
     "text": [
      "Epoch [1111/1800]: 100%|█████████████████████████████████████████████████████| 9/9 [00:00<00:00, 145.55it/s, loss=1.44]\n"
     ]
    },
    {
     "name": "stdout",
     "output_type": "stream",
     "text": [
      "Epoch [1111/1800]: Train loss: 1.9972, Valid loss: 2.5810\n"
     ]
    },
    {
     "name": "stderr",
     "output_type": "stream",
     "text": [
      "Epoch [1112/1800]: 100%|█████████████████████████████████████████████████████| 9/9 [00:00<00:00, 147.93it/s, loss=1.43]\n"
     ]
    },
    {
     "name": "stdout",
     "output_type": "stream",
     "text": [
      "Epoch [1112/1800]: Train loss: 1.8749, Valid loss: 2.0435\n"
     ]
    },
    {
     "name": "stderr",
     "output_type": "stream",
     "text": [
      "Epoch [1113/1800]: 100%|█████████████████████████████████████████████████████| 9/9 [00:00<00:00, 150.20it/s, loss=2.14]\n"
     ]
    },
    {
     "name": "stdout",
     "output_type": "stream",
     "text": [
      "Epoch [1113/1800]: Train loss: 2.2020, Valid loss: 2.2731\n"
     ]
    },
    {
     "name": "stderr",
     "output_type": "stream",
     "text": [
      "Epoch [1114/1800]: 100%|██████████████████████████████████████████████████████| 9/9 [00:00<00:00, 82.79it/s, loss=1.57]\n"
     ]
    },
    {
     "name": "stdout",
     "output_type": "stream",
     "text": [
      "Epoch [1114/1800]: Train loss: 1.8606, Valid loss: 2.1787\n"
     ]
    },
    {
     "name": "stderr",
     "output_type": "stream",
     "text": [
      "Epoch [1115/1800]: 100%|█████████████████████████████████████████████████████| 9/9 [00:00<00:00, 147.93it/s, loss=2.36]"
     ]
    },
    {
     "name": "stdout",
     "output_type": "stream",
     "text": [
      "Epoch [1115/1800]: Train loss: 1.9569, Valid loss: 2.4783"
     ]
    },
    {
     "name": "stderr",
     "output_type": "stream",
     "text": [
      "\n"
     ]
    },
    {
     "name": "stdout",
     "output_type": "stream",
     "text": [
      "\n"
     ]
    },
    {
     "name": "stderr",
     "output_type": "stream",
     "text": [
      "Epoch [1116/1800]: 100%|█████████████████████████████████████████████████████| 9/9 [00:00<00:00, 152.95it/s, loss=2.22]\n"
     ]
    },
    {
     "name": "stdout",
     "output_type": "stream",
     "text": [
      "Epoch [1116/1800]: Train loss: 2.3583, Valid loss: 2.2511\n"
     ]
    },
    {
     "name": "stderr",
     "output_type": "stream",
     "text": [
      "Epoch [1117/1800]: 100%|██████████████████████████████████████████████████████| 9/9 [00:00<00:00, 81.98it/s, loss=2.35]\n"
     ]
    },
    {
     "name": "stdout",
     "output_type": "stream",
     "text": [
      "Epoch [1117/1800]: Train loss: 2.3145, Valid loss: 2.8765\n"
     ]
    },
    {
     "name": "stderr",
     "output_type": "stream",
     "text": [
      "Epoch [1118/1800]: 100%|██████████████████████████████████████████████████████| 9/9 [00:00<00:00, 123.61it/s, loss=2.3]\n"
     ]
    },
    {
     "name": "stdout",
     "output_type": "stream",
     "text": [
      "Epoch [1118/1800]: Train loss: 2.2182, Valid loss: 1.8917\n"
     ]
    },
    {
     "name": "stderr",
     "output_type": "stream",
     "text": [
      "Epoch [1119/1800]: 100%|█████████████████████████████████████████████████████| 9/9 [00:00<00:00, 145.55it/s, loss=2.83]\n"
     ]
    },
    {
     "name": "stdout",
     "output_type": "stream",
     "text": [
      "Epoch [1119/1800]: Train loss: 1.9603, Valid loss: 2.4299\n"
     ]
    },
    {
     "name": "stderr",
     "output_type": "stream",
     "text": [
      "Epoch [1120/1800]: 100%|█████████████████████████████████████████████████████| 9/9 [00:00<00:00, 150.39it/s, loss=1.39]\n"
     ]
    },
    {
     "name": "stdout",
     "output_type": "stream",
     "text": [
      "Epoch [1120/1800]: Train loss: 1.8558, Valid loss: 2.0375\n"
     ]
    },
    {
     "name": "stderr",
     "output_type": "stream",
     "text": [
      "Epoch [1121/1800]: 100%|█████████████████████████████████████████████████████| 9/9 [00:00<00:00, 141.77it/s, loss=2.55]\n"
     ]
    },
    {
     "name": "stdout",
     "output_type": "stream",
     "text": [
      "Epoch [1121/1800]: Train loss: 2.6430, Valid loss: 3.2498\n"
     ]
    },
    {
     "name": "stderr",
     "output_type": "stream",
     "text": [
      "Epoch [1122/1800]: 100%|█████████████████████████████████████████████████████| 9/9 [00:00<00:00, 141.43it/s, loss=1.67]\n"
     ]
    },
    {
     "name": "stdout",
     "output_type": "stream",
     "text": [
      "Epoch [1122/1800]: Train loss: 2.5053, Valid loss: 1.9840\n"
     ]
    },
    {
     "name": "stderr",
     "output_type": "stream",
     "text": [
      "Epoch [1123/1800]: 100%|████████████████████████████████████████████████████████| 9/9 [00:00<00:00, 145.55it/s, loss=3]\n"
     ]
    },
    {
     "name": "stdout",
     "output_type": "stream",
     "text": [
      "Epoch [1123/1800]: Train loss: 2.2615, Valid loss: 2.0916\n"
     ]
    },
    {
     "name": "stderr",
     "output_type": "stream",
     "text": [
      "Epoch [1124/1800]: 100%|██████████████████████████████████████████████████████| 9/9 [00:00<00:00, 143.24it/s, loss=1.4]\n"
     ]
    },
    {
     "name": "stdout",
     "output_type": "stream",
     "text": [
      "Epoch [1124/1800]: Train loss: 1.9981, Valid loss: 2.0309\n"
     ]
    },
    {
     "name": "stderr",
     "output_type": "stream",
     "text": [
      "Epoch [1125/1800]: 100%|█████████████████████████████████████████████████████| 9/9 [00:00<00:00, 145.55it/s, loss=2.39]\n"
     ]
    },
    {
     "name": "stdout",
     "output_type": "stream",
     "text": [
      "Epoch [1125/1800]: Train loss: 2.0169, Valid loss: 3.1852\n"
     ]
    },
    {
     "name": "stderr",
     "output_type": "stream",
     "text": [
      "Epoch [1126/1800]: 100%|█████████████████████████████████████████████████████| 9/9 [00:00<00:00, 140.87it/s, loss=2.76]\n"
     ]
    },
    {
     "name": "stdout",
     "output_type": "stream",
     "text": [
      "Epoch [1126/1800]: Train loss: 2.8009, Valid loss: 2.3226\n"
     ]
    },
    {
     "name": "stderr",
     "output_type": "stream",
     "text": [
      "Epoch [1127/1800]: 100%|█████████████████████████████████████████████████████| 9/9 [00:00<00:00, 145.55it/s, loss=5.37]\n"
     ]
    },
    {
     "name": "stdout",
     "output_type": "stream",
     "text": [
      "Epoch [1127/1800]: Train loss: 2.7778, Valid loss: 2.4758\n"
     ]
    },
    {
     "name": "stderr",
     "output_type": "stream",
     "text": [
      "Epoch [1128/1800]: 100%|█████████████████████████████████████████████████████| 9/9 [00:00<00:00, 147.33it/s, loss=3.65]\n"
     ]
    },
    {
     "name": "stdout",
     "output_type": "stream",
     "text": [
      "Epoch [1128/1800]: Train loss: 3.2056, Valid loss: 2.3217\n"
     ]
    },
    {
     "name": "stderr",
     "output_type": "stream",
     "text": [
      "Epoch [1129/1800]: 100%|█████████████████████████████████████████████████████| 9/9 [00:00<00:00, 147.94it/s, loss=2.97]\n"
     ]
    },
    {
     "name": "stdout",
     "output_type": "stream",
     "text": [
      "Epoch [1129/1800]: Train loss: 2.5626, Valid loss: 3.1516\n"
     ]
    },
    {
     "name": "stderr",
     "output_type": "stream",
     "text": [
      "Epoch [1130/1800]: 100%|█████████████████████████████████████████████████████| 9/9 [00:00<00:00, 147.94it/s, loss=1.89]\n"
     ]
    },
    {
     "name": "stdout",
     "output_type": "stream",
     "text": [
      "Epoch [1130/1800]: Train loss: 2.6050, Valid loss: 2.3489\n"
     ]
    },
    {
     "name": "stderr",
     "output_type": "stream",
     "text": [
      "Epoch [1131/1800]: 100%|█████████████████████████████████████████████████████| 9/9 [00:00<00:00, 147.94it/s, loss=1.98]\n"
     ]
    },
    {
     "name": "stdout",
     "output_type": "stream",
     "text": [
      "Epoch [1131/1800]: Train loss: 2.0778, Valid loss: 2.3463\n"
     ]
    },
    {
     "name": "stderr",
     "output_type": "stream",
     "text": [
      "Epoch [1132/1800]: 100%|█████████████████████████████████████████████████████| 9/9 [00:00<00:00, 145.79it/s, loss=2.84]\n"
     ]
    },
    {
     "name": "stdout",
     "output_type": "stream",
     "text": [
      "Epoch [1132/1800]: Train loss: 2.1207, Valid loss: 2.2697\n"
     ]
    },
    {
     "name": "stderr",
     "output_type": "stream",
     "text": [
      "Epoch [1133/1800]: 100%|██████████████████████████████████████████████████████| 9/9 [00:00<00:00, 143.44it/s, loss=2.4]\n"
     ]
    },
    {
     "name": "stdout",
     "output_type": "stream",
     "text": [
      "Epoch [1133/1800]: Train loss: 2.0196, Valid loss: 2.7378\n"
     ]
    },
    {
     "name": "stderr",
     "output_type": "stream",
     "text": [
      "Epoch [1134/1800]: 100%|█████████████████████████████████████████████████████| 9/9 [00:00<00:00, 150.40it/s, loss=1.82]\n"
     ]
    },
    {
     "name": "stdout",
     "output_type": "stream",
     "text": [
      "Epoch [1134/1800]: Train loss: 1.9422, Valid loss: 2.4326\n"
     ]
    },
    {
     "name": "stderr",
     "output_type": "stream",
     "text": [
      "Epoch [1135/1800]: 100%|█████████████████████████████████████████████████████| 9/9 [00:00<00:00, 140.31it/s, loss=1.48]\n"
     ]
    },
    {
     "name": "stdout",
     "output_type": "stream",
     "text": [
      "Epoch [1135/1800]: Train loss: 1.9971, Valid loss: 2.1643\n"
     ]
    },
    {
     "name": "stderr",
     "output_type": "stream",
     "text": [
      "Epoch [1136/1800]: 100%|█████████████████████████████████████████████████████| 9/9 [00:00<00:00, 143.24it/s, loss=1.93]\n"
     ]
    },
    {
     "name": "stdout",
     "output_type": "stream",
     "text": [
      "Epoch [1136/1800]: Train loss: 2.0247, Valid loss: 2.8717\n"
     ]
    },
    {
     "name": "stderr",
     "output_type": "stream",
     "text": [
      "Epoch [1137/1800]: 100%|█████████████████████████████████████████████████████| 9/9 [00:00<00:00, 147.93it/s, loss=2.07]\n"
     ]
    },
    {
     "name": "stdout",
     "output_type": "stream",
     "text": [
      "Epoch [1137/1800]: Train loss: 2.5198, Valid loss: 3.3605\n"
     ]
    },
    {
     "name": "stderr",
     "output_type": "stream",
     "text": [
      "Epoch [1138/1800]: 100%|█████████████████████████████████████████████████████| 9/9 [00:00<00:00, 143.24it/s, loss=2.11]\n"
     ]
    },
    {
     "name": "stdout",
     "output_type": "stream",
     "text": [
      "Epoch [1138/1800]: Train loss: 3.3736, Valid loss: 3.8834\n"
     ]
    },
    {
     "name": "stderr",
     "output_type": "stream",
     "text": [
      "Epoch [1139/1800]: 100%|█████████████████████████████████████████████████████| 9/9 [00:00<00:00, 147.93it/s, loss=2.41]\n"
     ]
    },
    {
     "name": "stdout",
     "output_type": "stream",
     "text": [
      "Epoch [1139/1800]: Train loss: 2.6507, Valid loss: 1.8607\n"
     ]
    },
    {
     "name": "stderr",
     "output_type": "stream",
     "text": [
      "Epoch [1140/1800]: 100%|█████████████████████████████████████████████████████| 9/9 [00:00<00:00, 139.64it/s, loss=2.57]\n"
     ]
    },
    {
     "name": "stdout",
     "output_type": "stream",
     "text": [
      "Epoch [1140/1800]: Train loss: 2.1682, Valid loss: 2.2876\n"
     ]
    },
    {
     "name": "stderr",
     "output_type": "stream",
     "text": [
      "Epoch [1141/1800]: 100%|█████████████████████████████████████████████████████| 9/9 [00:00<00:00, 148.25it/s, loss=2.12]\n"
     ]
    },
    {
     "name": "stdout",
     "output_type": "stream",
     "text": [
      "Epoch [1141/1800]: Train loss: 2.0567, Valid loss: 2.0520\n"
     ]
    },
    {
     "name": "stderr",
     "output_type": "stream",
     "text": [
      "Epoch [1142/1800]: 100%|█████████████████████████████████████████████████████| 9/9 [00:00<00:00, 143.49it/s, loss=1.88]\n"
     ]
    },
    {
     "name": "stdout",
     "output_type": "stream",
     "text": [
      "Epoch [1142/1800]: Train loss: 2.0097, Valid loss: 2.1432\n"
     ]
    },
    {
     "name": "stderr",
     "output_type": "stream",
     "text": [
      "Epoch [1143/1800]: 100%|█████████████████████████████████████████████████████| 9/9 [00:00<00:00, 110.06it/s, loss=2.08]\n"
     ]
    },
    {
     "name": "stdout",
     "output_type": "stream",
     "text": [
      "Epoch [1143/1800]: Train loss: 2.2892, Valid loss: 2.6898\n"
     ]
    },
    {
     "name": "stderr",
     "output_type": "stream",
     "text": [
      "Epoch [1144/1800]: 100%|█████████████████████████████████████████████████████| 9/9 [00:00<00:00, 145.55it/s, loss=3.33]"
     ]
    },
    {
     "name": "stdout",
     "output_type": "stream",
     "text": [
      "Epoch [1144/1800]: Train loss: 2.7237, Valid loss: 2.7837"
     ]
    },
    {
     "name": "stderr",
     "output_type": "stream",
     "text": [
      "\n"
     ]
    },
    {
     "name": "stdout",
     "output_type": "stream",
     "text": [
      "\n"
     ]
    },
    {
     "name": "stderr",
     "output_type": "stream",
     "text": [
      "Epoch [1145/1800]: 100%|█████████████████████████████████████████████████████| 9/9 [00:00<00:00, 150.13it/s, loss=1.83]\n"
     ]
    },
    {
     "name": "stdout",
     "output_type": "stream",
     "text": [
      "Epoch [1145/1800]: Train loss: 2.5266, Valid loss: 2.2880\n"
     ]
    },
    {
     "name": "stderr",
     "output_type": "stream",
     "text": [
      "Epoch [1146/1800]: 100%|█████████████████████████████████████████████████████| 9/9 [00:00<00:00, 143.24it/s, loss=2.71]\n"
     ]
    },
    {
     "name": "stdout",
     "output_type": "stream",
     "text": [
      "Epoch [1146/1800]: Train loss: 2.3837, Valid loss: 2.8139\n"
     ]
    },
    {
     "name": "stderr",
     "output_type": "stream",
     "text": [
      "Epoch [1147/1800]: 100%|█████████████████████████████████████████████████████| 9/9 [00:00<00:00, 150.40it/s, loss=1.83]\n"
     ]
    },
    {
     "name": "stdout",
     "output_type": "stream",
     "text": [
      "Epoch [1147/1800]: Train loss: 2.0260, Valid loss: 2.1771\n"
     ]
    },
    {
     "name": "stderr",
     "output_type": "stream",
     "text": [
      "Epoch [1148/1800]: 100%|█████████████████████████████████████████████████████| 9/9 [00:00<00:00, 145.65it/s, loss=1.68]\n"
     ]
    },
    {
     "name": "stdout",
     "output_type": "stream",
     "text": [
      "Epoch [1148/1800]: Train loss: 1.8934, Valid loss: 1.9709\n"
     ]
    },
    {
     "name": "stderr",
     "output_type": "stream",
     "text": [
      "Epoch [1149/1800]: 100%|█████████████████████████████████████████████████████| 9/9 [00:00<00:00, 150.40it/s, loss=3.54]\n"
     ]
    },
    {
     "name": "stdout",
     "output_type": "stream",
     "text": [
      "Epoch [1149/1800]: Train loss: 2.4933, Valid loss: 2.7708\n"
     ]
    },
    {
     "name": "stderr",
     "output_type": "stream",
     "text": [
      "Epoch [1150/1800]: 100%|█████████████████████████████████████████████████████| 9/9 [00:00<00:00, 147.94it/s, loss=2.57]\n"
     ]
    },
    {
     "name": "stdout",
     "output_type": "stream",
     "text": [
      "Epoch [1150/1800]: Train loss: 2.5934, Valid loss: 2.1963\n"
     ]
    },
    {
     "name": "stderr",
     "output_type": "stream",
     "text": [
      "Epoch [1151/1800]: 100%|█████████████████████████████████████████████████████| 9/9 [00:00<00:00, 136.75it/s, loss=2.18]\n"
     ]
    },
    {
     "name": "stdout",
     "output_type": "stream",
     "text": [
      "Epoch [1151/1800]: Train loss: 1.9471, Valid loss: 2.1619\n"
     ]
    },
    {
     "name": "stderr",
     "output_type": "stream",
     "text": [
      "Epoch [1152/1800]: 100%|█████████████████████████████████████████████████████| 9/9 [00:00<00:00, 148.03it/s, loss=1.82]\n"
     ]
    },
    {
     "name": "stdout",
     "output_type": "stream",
     "text": [
      "Epoch [1152/1800]: Train loss: 2.0326, Valid loss: 2.5857\n"
     ]
    },
    {
     "name": "stderr",
     "output_type": "stream",
     "text": [
      "Epoch [1153/1800]: 100%|█████████████████████████████████████████████████████| 9/9 [00:00<00:00, 145.55it/s, loss=2.35]\n"
     ]
    },
    {
     "name": "stdout",
     "output_type": "stream",
     "text": [
      "Epoch [1153/1800]: Train loss: 2.0576, Valid loss: 2.3247\n"
     ]
    },
    {
     "name": "stderr",
     "output_type": "stream",
     "text": [
      "Epoch [1154/1800]: 100%|█████████████████████████████████████████████████████| 9/9 [00:00<00:00, 147.94it/s, loss=1.73]\n"
     ]
    },
    {
     "name": "stdout",
     "output_type": "stream",
     "text": [
      "Epoch [1154/1800]: Train loss: 1.8918, Valid loss: 2.1629\n"
     ]
    },
    {
     "name": "stderr",
     "output_type": "stream",
     "text": [
      "Epoch [1155/1800]: 100%|█████████████████████████████████████████████████████| 9/9 [00:00<00:00, 145.55it/s, loss=2.48]\n"
     ]
    },
    {
     "name": "stdout",
     "output_type": "stream",
     "text": [
      "Epoch [1155/1800]: Train loss: 1.9505, Valid loss: 2.3057\n"
     ]
    },
    {
     "name": "stderr",
     "output_type": "stream",
     "text": [
      "Epoch [1156/1800]: 100%|██████████████████████████████████████████████████████| 9/9 [00:00<00:00, 85.13it/s, loss=2.26]\n"
     ]
    },
    {
     "name": "stdout",
     "output_type": "stream",
     "text": [
      "Epoch [1156/1800]: Train loss: 2.1546, Valid loss: 2.1595\n"
     ]
    },
    {
     "name": "stderr",
     "output_type": "stream",
     "text": [
      "Epoch [1157/1800]: 100%|█████████████████████████████████████████████████████| 9/9 [00:00<00:00, 147.93it/s, loss=2.49]"
     ]
    },
    {
     "name": "stdout",
     "output_type": "stream",
     "text": [
      "Epoch [1157/1800]: Train loss: 1.9372, Valid loss: 2.1278"
     ]
    },
    {
     "name": "stderr",
     "output_type": "stream",
     "text": [
      "\n"
     ]
    },
    {
     "name": "stdout",
     "output_type": "stream",
     "text": [
      "\n"
     ]
    },
    {
     "name": "stderr",
     "output_type": "stream",
     "text": [
      "Epoch [1158/1800]: 100%|█████████████████████████████████████████████████████| 9/9 [00:00<00:00, 143.24it/s, loss=1.91]\n"
     ]
    },
    {
     "name": "stdout",
     "output_type": "stream",
     "text": [
      "Epoch [1158/1800]: Train loss: 1.9273, Valid loss: 2.2165\n"
     ]
    },
    {
     "name": "stderr",
     "output_type": "stream",
     "text": [
      "Epoch [1159/1800]: 100%|█████████████████████████████████████████████████████| 9/9 [00:00<00:00, 145.55it/s, loss=2.18]\n"
     ]
    },
    {
     "name": "stdout",
     "output_type": "stream",
     "text": [
      "Epoch [1159/1800]: Train loss: 2.0376, Valid loss: 2.3480\n"
     ]
    },
    {
     "name": "stderr",
     "output_type": "stream",
     "text": [
      "Epoch [1160/1800]: 100%|█████████████████████████████████████████████████████| 9/9 [00:00<00:00, 148.10it/s, loss=2.08]\n"
     ]
    },
    {
     "name": "stdout",
     "output_type": "stream",
     "text": [
      "Epoch [1160/1800]: Train loss: 1.9595, Valid loss: 2.5921\n"
     ]
    },
    {
     "name": "stderr",
     "output_type": "stream",
     "text": [
      "Epoch [1161/1800]: 100%|█████████████████████████████████████████████████████| 9/9 [00:00<00:00, 145.55it/s, loss=2.82]\n"
     ]
    },
    {
     "name": "stdout",
     "output_type": "stream",
     "text": [
      "Epoch [1161/1800]: Train loss: 2.2772, Valid loss: 2.2477\n"
     ]
    },
    {
     "name": "stderr",
     "output_type": "stream",
     "text": [
      "Epoch [1162/1800]: 100%|█████████████████████████████████████████████████████| 9/9 [00:00<00:00, 147.94it/s, loss=2.24]\n"
     ]
    },
    {
     "name": "stdout",
     "output_type": "stream",
     "text": [
      "Epoch [1162/1800]: Train loss: 1.9926, Valid loss: 2.0454\n"
     ]
    },
    {
     "name": "stderr",
     "output_type": "stream",
     "text": [
      "Epoch [1163/1800]: 100%|██████████████████████████████████████████████████████| 9/9 [00:00<00:00, 147.93it/s, loss=2.5]\n"
     ]
    },
    {
     "name": "stdout",
     "output_type": "stream",
     "text": [
      "Epoch [1163/1800]: Train loss: 2.0504, Valid loss: 2.2377\n"
     ]
    },
    {
     "name": "stderr",
     "output_type": "stream",
     "text": [
      "Epoch [1164/1800]: 100%|█████████████████████████████████████████████████████| 9/9 [00:00<00:00, 145.55it/s, loss=2.38]\n"
     ]
    },
    {
     "name": "stdout",
     "output_type": "stream",
     "text": [
      "Epoch [1164/1800]: Train loss: 2.1403, Valid loss: 2.2975\n"
     ]
    },
    {
     "name": "stderr",
     "output_type": "stream",
     "text": [
      "Epoch [1165/1800]: 100%|█████████████████████████████████████████████████████| 9/9 [00:00<00:00, 151.16it/s, loss=2.43]\n"
     ]
    },
    {
     "name": "stdout",
     "output_type": "stream",
     "text": [
      "Epoch [1165/1800]: Train loss: 2.1177, Valid loss: 2.3648\n"
     ]
    },
    {
     "name": "stderr",
     "output_type": "stream",
     "text": [
      "Epoch [1166/1800]: 100%|█████████████████████████████████████████████████████| 9/9 [00:00<00:00, 145.55it/s, loss=1.83]\n"
     ]
    },
    {
     "name": "stdout",
     "output_type": "stream",
     "text": [
      "Epoch [1166/1800]: Train loss: 2.2704, Valid loss: 2.4215\n"
     ]
    },
    {
     "name": "stderr",
     "output_type": "stream",
     "text": [
      "Epoch [1167/1800]: 100%|█████████████████████████████████████████████████████| 9/9 [00:00<00:00, 145.55it/s, loss=1.33]\n"
     ]
    },
    {
     "name": "stdout",
     "output_type": "stream",
     "text": [
      "Epoch [1167/1800]: Train loss: 1.9737, Valid loss: 2.5366\n"
     ]
    },
    {
     "name": "stderr",
     "output_type": "stream",
     "text": [
      "Epoch [1168/1800]: 100%|█████████████████████████████████████████████████████| 9/9 [00:00<00:00, 147.93it/s, loss=2.01]\n"
     ]
    },
    {
     "name": "stdout",
     "output_type": "stream",
     "text": [
      "Epoch [1168/1800]: Train loss: 2.0273, Valid loss: 2.1684\n"
     ]
    },
    {
     "name": "stderr",
     "output_type": "stream",
     "text": [
      "Epoch [1169/1800]: 100%|█████████████████████████████████████████████████████| 9/9 [00:00<00:00, 150.40it/s, loss=3.14]\n"
     ]
    },
    {
     "name": "stdout",
     "output_type": "stream",
     "text": [
      "Epoch [1169/1800]: Train loss: 2.4133, Valid loss: 2.4181\n"
     ]
    },
    {
     "name": "stderr",
     "output_type": "stream",
     "text": [
      "Epoch [1170/1800]: 100%|█████████████████████████████████████████████████████| 9/9 [00:00<00:00, 145.55it/s, loss=4.09]\n"
     ]
    },
    {
     "name": "stdout",
     "output_type": "stream",
     "text": [
      "Epoch [1170/1800]: Train loss: 2.4861, Valid loss: 4.4112\n"
     ]
    },
    {
     "name": "stderr",
     "output_type": "stream",
     "text": [
      "Epoch [1171/1800]: 100%|████████████████████████████████████████████████████████| 9/9 [00:00<00:00, 150.40it/s, loss=2]\n"
     ]
    },
    {
     "name": "stdout",
     "output_type": "stream",
     "text": [
      "Epoch [1171/1800]: Train loss: 2.5916, Valid loss: 4.4286\n"
     ]
    },
    {
     "name": "stderr",
     "output_type": "stream",
     "text": [
      "Epoch [1172/1800]: 100%|█████████████████████████████████████████████████████| 9/9 [00:00<00:00, 145.55it/s, loss=2.07]\n"
     ]
    },
    {
     "name": "stdout",
     "output_type": "stream",
     "text": [
      "Epoch [1172/1800]: Train loss: 2.8862, Valid loss: 3.0153\n"
     ]
    },
    {
     "name": "stderr",
     "output_type": "stream",
     "text": [
      "Epoch [1173/1800]: 100%|██████████████████████████████████████████████████████| 9/9 [00:00<00:00, 149.53it/s, loss=2.2]\n"
     ]
    },
    {
     "name": "stdout",
     "output_type": "stream",
     "text": [
      "Epoch [1173/1800]: Train loss: 2.6207, Valid loss: 2.7023\n"
     ]
    },
    {
     "name": "stderr",
     "output_type": "stream",
     "text": [
      "Epoch [1174/1800]: 100%|█████████████████████████████████████████████████████| 9/9 [00:00<00:00, 143.77it/s, loss=2.15]\n"
     ]
    },
    {
     "name": "stdout",
     "output_type": "stream",
     "text": [
      "Epoch [1174/1800]: Train loss: 2.1787, Valid loss: 2.2511\n"
     ]
    },
    {
     "name": "stderr",
     "output_type": "stream",
     "text": [
      "Epoch [1175/1800]: 100%|██████████████████████████████████████████████████████| 9/9 [00:00<00:00, 83.56it/s, loss=1.96]"
     ]
    },
    {
     "name": "stdout",
     "output_type": "stream",
     "text": [
      "Epoch [1175/1800]: Train loss: 2.0404, Valid loss: 2.3101"
     ]
    },
    {
     "name": "stderr",
     "output_type": "stream",
     "text": [
      "\n"
     ]
    },
    {
     "name": "stdout",
     "output_type": "stream",
     "text": [
      "\n"
     ]
    },
    {
     "name": "stderr",
     "output_type": "stream",
     "text": [
      "Epoch [1176/1800]: 100%|█████████████████████████████████████████████████████| 9/9 [00:00<00:00, 145.55it/s, loss=2.55]\n"
     ]
    },
    {
     "name": "stdout",
     "output_type": "stream",
     "text": [
      "Epoch [1176/1800]: Train loss: 2.2048, Valid loss: 3.2303\n"
     ]
    },
    {
     "name": "stderr",
     "output_type": "stream",
     "text": [
      "Epoch [1177/1800]: 100%|██████████████████████████████████████████████████████| 9/9 [00:00<00:00, 148.14it/s, loss=2.8]\n"
     ]
    },
    {
     "name": "stdout",
     "output_type": "stream",
     "text": [
      "Epoch [1177/1800]: Train loss: 2.1338, Valid loss: 2.7404\n"
     ]
    },
    {
     "name": "stderr",
     "output_type": "stream",
     "text": [
      "Epoch [1178/1800]: 100%|█████████████████████████████████████████████████████| 9/9 [00:00<00:00, 152.95it/s, loss=1.87]\n"
     ]
    },
    {
     "name": "stdout",
     "output_type": "stream",
     "text": [
      "Epoch [1178/1800]: Train loss: 1.9380, Valid loss: 2.2915\n"
     ]
    },
    {
     "name": "stderr",
     "output_type": "stream",
     "text": [
      "Epoch [1179/1800]: 100%|█████████████████████████████████████████████████████| 9/9 [00:00<00:00, 145.55it/s, loss=1.28]\n"
     ]
    },
    {
     "name": "stdout",
     "output_type": "stream",
     "text": [
      "Epoch [1179/1800]: Train loss: 1.9468, Valid loss: 3.2955\n"
     ]
    },
    {
     "name": "stderr",
     "output_type": "stream",
     "text": [
      "Epoch [1180/1800]: 100%|██████████████████████████████████████████████████████| 9/9 [00:00<00:00, 145.55it/s, loss=1.5]\n"
     ]
    },
    {
     "name": "stdout",
     "output_type": "stream",
     "text": [
      "Epoch [1180/1800]: Train loss: 2.0764, Valid loss: 2.2752\n"
     ]
    },
    {
     "name": "stderr",
     "output_type": "stream",
     "text": [
      "Epoch [1181/1800]: 100%|█████████████████████████████████████████████████████| 9/9 [00:00<00:00, 145.55it/s, loss=1.96]\n"
     ]
    },
    {
     "name": "stdout",
     "output_type": "stream",
     "text": [
      "Epoch [1181/1800]: Train loss: 1.9849, Valid loss: 2.0891\n"
     ]
    },
    {
     "name": "stderr",
     "output_type": "stream",
     "text": [
      "Epoch [1182/1800]: 100%|█████████████████████████████████████████████████████| 9/9 [00:00<00:00, 145.55it/s, loss=2.65]\n"
     ]
    },
    {
     "name": "stdout",
     "output_type": "stream",
     "text": [
      "Epoch [1182/1800]: Train loss: 1.8885, Valid loss: 2.6025\n"
     ]
    },
    {
     "name": "stderr",
     "output_type": "stream",
     "text": [
      "Epoch [1183/1800]: 100%|█████████████████████████████████████████████████████| 9/9 [00:00<00:00, 150.40it/s, loss=2.33]\n"
     ]
    },
    {
     "name": "stdout",
     "output_type": "stream",
     "text": [
      "Epoch [1183/1800]: Train loss: 2.0135, Valid loss: 2.1623\n"
     ]
    },
    {
     "name": "stderr",
     "output_type": "stream",
     "text": [
      "Epoch [1184/1800]: 100%|█████████████████████████████████████████████████████| 9/9 [00:00<00:00, 147.94it/s, loss=1.85]\n"
     ]
    },
    {
     "name": "stdout",
     "output_type": "stream",
     "text": [
      "Epoch [1184/1800]: Train loss: 1.8963, Valid loss: 2.1434\n"
     ]
    },
    {
     "name": "stderr",
     "output_type": "stream",
     "text": [
      "Epoch [1185/1800]: 100%|█████████████████████████████████████████████████████| 9/9 [00:00<00:00, 147.94it/s, loss=2.63]\n"
     ]
    },
    {
     "name": "stdout",
     "output_type": "stream",
     "text": [
      "Epoch [1185/1800]: Train loss: 1.9274, Valid loss: 2.4593\n"
     ]
    },
    {
     "name": "stderr",
     "output_type": "stream",
     "text": [
      "Epoch [1186/1800]: 100%|█████████████████████████████████████████████████████| 9/9 [00:00<00:00, 150.40it/s, loss=2.66]\n"
     ]
    },
    {
     "name": "stdout",
     "output_type": "stream",
     "text": [
      "Epoch [1186/1800]: Train loss: 1.9585, Valid loss: 2.4094\n"
     ]
    },
    {
     "name": "stderr",
     "output_type": "stream",
     "text": [
      "Epoch [1187/1800]: 100%|█████████████████████████████████████████████████████| 9/9 [00:00<00:00, 147.75it/s, loss=2.37]\n"
     ]
    },
    {
     "name": "stdout",
     "output_type": "stream",
     "text": [
      "Epoch [1187/1800]: Train loss: 1.9604, Valid loss: 2.2460\n"
     ]
    },
    {
     "name": "stderr",
     "output_type": "stream",
     "text": [
      "Epoch [1188/1800]: 100%|█████████████████████████████████████████████████████| 9/9 [00:00<00:00, 147.94it/s, loss=3.99]\n"
     ]
    },
    {
     "name": "stdout",
     "output_type": "stream",
     "text": [
      "Epoch [1188/1800]: Train loss: 2.4057, Valid loss: 4.3987\n"
     ]
    },
    {
     "name": "stderr",
     "output_type": "stream",
     "text": [
      "Epoch [1189/1800]: 100%|█████████████████████████████████████████████████████| 9/9 [00:00<00:00, 144.90it/s, loss=1.75]\n"
     ]
    },
    {
     "name": "stdout",
     "output_type": "stream",
     "text": [
      "Epoch [1189/1800]: Train loss: 2.9364, Valid loss: 2.2168\n"
     ]
    },
    {
     "name": "stderr",
     "output_type": "stream",
     "text": [
      "Epoch [1190/1800]: 100%|██████████████████████████████████████████████████████| 9/9 [00:00<00:00, 143.24it/s, loss=2.1]\n"
     ]
    },
    {
     "name": "stdout",
     "output_type": "stream",
     "text": [
      "Epoch [1190/1800]: Train loss: 2.0525, Valid loss: 2.3957\n"
     ]
    },
    {
     "name": "stderr",
     "output_type": "stream",
     "text": [
      "Epoch [1191/1800]: 100%|█████████████████████████████████████████████████████| 9/9 [00:00<00:00, 150.40it/s, loss=2.31]\n"
     ]
    },
    {
     "name": "stdout",
     "output_type": "stream",
     "text": [
      "Epoch [1191/1800]: Train loss: 2.0212, Valid loss: 2.1062\n"
     ]
    },
    {
     "name": "stderr",
     "output_type": "stream",
     "text": [
      "Epoch [1192/1800]: 100%|█████████████████████████████████████████████████████| 9/9 [00:00<00:00, 147.94it/s, loss=1.87]\n"
     ]
    },
    {
     "name": "stdout",
     "output_type": "stream",
     "text": [
      "Epoch [1192/1800]: Train loss: 1.9487, Valid loss: 2.0800\n"
     ]
    },
    {
     "name": "stderr",
     "output_type": "stream",
     "text": [
      "Epoch [1193/1800]: 100%|█████████████████████████████████████████████████████| 9/9 [00:00<00:00, 146.13it/s, loss=1.39]\n"
     ]
    },
    {
     "name": "stdout",
     "output_type": "stream",
     "text": [
      "Epoch [1193/1800]: Train loss: 1.8207, Valid loss: 1.9030\n"
     ]
    },
    {
     "name": "stderr",
     "output_type": "stream",
     "text": [
      "Epoch [1194/1800]: 100%|█████████████████████████████████████████████████████| 9/9 [00:00<00:00, 143.24it/s, loss=1.87]\n"
     ]
    },
    {
     "name": "stdout",
     "output_type": "stream",
     "text": [
      "Epoch [1194/1800]: Train loss: 1.9098, Valid loss: 2.5472\n"
     ]
    },
    {
     "name": "stderr",
     "output_type": "stream",
     "text": [
      "Epoch [1195/1800]: 100%|█████████████████████████████████████████████████████| 9/9 [00:00<00:00, 145.55it/s, loss=1.79]\n"
     ]
    },
    {
     "name": "stdout",
     "output_type": "stream",
     "text": [
      "Epoch [1195/1800]: Train loss: 1.9575, Valid loss: 2.4587\n"
     ]
    },
    {
     "name": "stderr",
     "output_type": "stream",
     "text": [
      "Epoch [1196/1800]: 100%|█████████████████████████████████████████████████████| 9/9 [00:00<00:00, 152.95it/s, loss=2.29]\n"
     ]
    },
    {
     "name": "stdout",
     "output_type": "stream",
     "text": [
      "Epoch [1196/1800]: Train loss: 2.1455, Valid loss: 3.0621\n"
     ]
    },
    {
     "name": "stderr",
     "output_type": "stream",
     "text": [
      "Epoch [1197/1800]: 100%|█████████████████████████████████████████████████████| 9/9 [00:00<00:00, 145.76it/s, loss=2.08]\n"
     ]
    },
    {
     "name": "stdout",
     "output_type": "stream",
     "text": [
      "Epoch [1197/1800]: Train loss: 2.0658, Valid loss: 2.3148\n"
     ]
    },
    {
     "name": "stderr",
     "output_type": "stream",
     "text": [
      "Epoch [1198/1800]: 100%|██████████████████████████████████████████████████████| 9/9 [00:00<00:00, 84.34it/s, loss=2.69]\n"
     ]
    },
    {
     "name": "stdout",
     "output_type": "stream",
     "text": [
      "Epoch [1198/1800]: Train loss: 2.0210, Valid loss: 2.3675\n"
     ]
    },
    {
     "name": "stderr",
     "output_type": "stream",
     "text": [
      "Epoch [1199/1800]: 100%|██████████████████████████████████████████████████████| 9/9 [00:00<00:00, 148.22it/s, loss=2.1]\n"
     ]
    },
    {
     "name": "stdout",
     "output_type": "stream",
     "text": [
      "Epoch [1199/1800]: Train loss: 2.2776, Valid loss: 2.2535\n"
     ]
    },
    {
     "name": "stderr",
     "output_type": "stream",
     "text": [
      "Epoch [1200/1800]: 100%|█████████████████████████████████████████████████████| 9/9 [00:00<00:00, 148.54it/s, loss=2.53]\n"
     ]
    },
    {
     "name": "stdout",
     "output_type": "stream",
     "text": [
      "Epoch [1200/1800]: Train loss: 2.1603, Valid loss: 2.8506\n"
     ]
    },
    {
     "name": "stderr",
     "output_type": "stream",
     "text": [
      "Epoch [1201/1800]: 100%|█████████████████████████████████████████████████████| 9/9 [00:00<00:00, 150.40it/s, loss=1.88]\n"
     ]
    },
    {
     "name": "stdout",
     "output_type": "stream",
     "text": [
      "Epoch [1201/1800]: Train loss: 2.1568, Valid loss: 2.3674\n"
     ]
    },
    {
     "name": "stderr",
     "output_type": "stream",
     "text": [
      "Epoch [1202/1800]: 100%|██████████████████████████████████████████████████████| 9/9 [00:00<00:00, 150.40it/s, loss=1.6]\n"
     ]
    },
    {
     "name": "stdout",
     "output_type": "stream",
     "text": [
      "Epoch [1202/1800]: Train loss: 2.0382, Valid loss: 2.0106\n"
     ]
    },
    {
     "name": "stderr",
     "output_type": "stream",
     "text": [
      "Epoch [1203/1800]: 100%|██████████████████████████████████████████████████████| 9/9 [00:00<00:00, 150.40it/s, loss=1.7]\n"
     ]
    },
    {
     "name": "stdout",
     "output_type": "stream",
     "text": [
      "Epoch [1203/1800]: Train loss: 1.8703, Valid loss: 2.4450\n"
     ]
    },
    {
     "name": "stderr",
     "output_type": "stream",
     "text": [
      "Epoch [1204/1800]: 100%|█████████████████████████████████████████████████████| 9/9 [00:00<00:00, 145.55it/s, loss=2.32]\n"
     ]
    },
    {
     "name": "stdout",
     "output_type": "stream",
     "text": [
      "Epoch [1204/1800]: Train loss: 2.1236, Valid loss: 2.6326\n"
     ]
    },
    {
     "name": "stderr",
     "output_type": "stream",
     "text": [
      "Epoch [1205/1800]: 100%|█████████████████████████████████████████████████████| 9/9 [00:00<00:00, 147.93it/s, loss=4.96]\n"
     ]
    },
    {
     "name": "stdout",
     "output_type": "stream",
     "text": [
      "Epoch [1205/1800]: Train loss: 3.7218, Valid loss: 3.5889\n"
     ]
    },
    {
     "name": "stderr",
     "output_type": "stream",
     "text": [
      "Epoch [1206/1800]: 100%|█████████████████████████████████████████████████████| 9/9 [00:00<00:00, 152.95it/s, loss=3.08]\n"
     ]
    },
    {
     "name": "stdout",
     "output_type": "stream",
     "text": [
      "Epoch [1206/1800]: Train loss: 3.0202, Valid loss: 2.2288\n"
     ]
    },
    {
     "name": "stderr",
     "output_type": "stream",
     "text": [
      "Epoch [1207/1800]: 100%|██████████████████████████████████████████████████████| 9/9 [00:00<00:00, 94.99it/s, loss=2.14]\n"
     ]
    },
    {
     "name": "stdout",
     "output_type": "stream",
     "text": [
      "Epoch [1207/1800]: Train loss: 2.2061, Valid loss: 2.1994\n"
     ]
    },
    {
     "name": "stderr",
     "output_type": "stream",
     "text": [
      "Epoch [1208/1800]: 100%|█████████████████████████████████████████████████████| 9/9 [00:00<00:00, 123.47it/s, loss=2.03]\n"
     ]
    },
    {
     "name": "stdout",
     "output_type": "stream",
     "text": [
      "Epoch [1208/1800]: Train loss: 2.2236, Valid loss: 2.7696\n"
     ]
    },
    {
     "name": "stderr",
     "output_type": "stream",
     "text": [
      "Epoch [1209/1800]: 100%|█████████████████████████████████████████████████████| 9/9 [00:00<00:00, 150.40it/s, loss=2.87]\n"
     ]
    },
    {
     "name": "stdout",
     "output_type": "stream",
     "text": [
      "Epoch [1209/1800]: Train loss: 2.4629, Valid loss: 2.1295\n"
     ]
    },
    {
     "name": "stderr",
     "output_type": "stream",
     "text": [
      "Epoch [1210/1800]: 100%|█████████████████████████████████████████████████████| 9/9 [00:00<00:00, 150.40it/s, loss=2.71]\n"
     ]
    },
    {
     "name": "stdout",
     "output_type": "stream",
     "text": [
      "Epoch [1210/1800]: Train loss: 2.2814, Valid loss: 2.6772\n"
     ]
    },
    {
     "name": "stderr",
     "output_type": "stream",
     "text": [
      "Epoch [1211/1800]: 100%|█████████████████████████████████████████████████████| 9/9 [00:00<00:00, 152.90it/s, loss=1.94]\n"
     ]
    },
    {
     "name": "stdout",
     "output_type": "stream",
     "text": [
      "Epoch [1211/1800]: Train loss: 2.4576, Valid loss: 2.4700\n"
     ]
    },
    {
     "name": "stderr",
     "output_type": "stream",
     "text": [
      "Epoch [1212/1800]: 100%|█████████████████████████████████████████████████████| 9/9 [00:00<00:00, 138.83it/s, loss=2.68]\n"
     ]
    },
    {
     "name": "stdout",
     "output_type": "stream",
     "text": [
      "Epoch [1212/1800]: Train loss: 1.9584, Valid loss: 2.6644\n"
     ]
    },
    {
     "name": "stderr",
     "output_type": "stream",
     "text": [
      "Epoch [1213/1800]: 100%|█████████████████████████████████████████████████████| 9/9 [00:00<00:00, 146.34it/s, loss=2.14]\n"
     ]
    },
    {
     "name": "stdout",
     "output_type": "stream",
     "text": [
      "Epoch [1213/1800]: Train loss: 2.1678, Valid loss: 1.7870\n",
      "Saving model with loss 1.787...\n"
     ]
    },
    {
     "name": "stderr",
     "output_type": "stream",
     "text": [
      "Epoch [1214/1800]: 100%|█████████████████████████████████████████████████████| 9/9 [00:00<00:00, 147.94it/s, loss=1.62]\n"
     ]
    },
    {
     "name": "stdout",
     "output_type": "stream",
     "text": [
      "Epoch [1214/1800]: Train loss: 1.8590, Valid loss: 2.2810\n"
     ]
    },
    {
     "name": "stderr",
     "output_type": "stream",
     "text": [
      "Epoch [1215/1800]: 100%|█████████████████████████████████████████████████████| 9/9 [00:00<00:00, 147.94it/s, loss=2.59]\n"
     ]
    },
    {
     "name": "stdout",
     "output_type": "stream",
     "text": [
      "Epoch [1215/1800]: Train loss: 2.0433, Valid loss: 2.3312\n"
     ]
    },
    {
     "name": "stderr",
     "output_type": "stream",
     "text": [
      "Epoch [1216/1800]: 100%|█████████████████████████████████████████████████████| 9/9 [00:00<00:00, 147.93it/s, loss=1.83]\n"
     ]
    },
    {
     "name": "stdout",
     "output_type": "stream",
     "text": [
      "Epoch [1216/1800]: Train loss: 2.1294, Valid loss: 2.2785\n"
     ]
    },
    {
     "name": "stderr",
     "output_type": "stream",
     "text": [
      "Epoch [1217/1800]: 100%|█████████████████████████████████████████████████████| 9/9 [00:00<00:00, 143.24it/s, loss=1.53]\n"
     ]
    },
    {
     "name": "stdout",
     "output_type": "stream",
     "text": [
      "Epoch [1217/1800]: Train loss: 2.0870, Valid loss: 3.4618\n"
     ]
    },
    {
     "name": "stderr",
     "output_type": "stream",
     "text": [
      "Epoch [1218/1800]: 100%|█████████████████████████████████████████████████████| 9/9 [00:00<00:00, 147.94it/s, loss=2.33]\n"
     ]
    },
    {
     "name": "stdout",
     "output_type": "stream",
     "text": [
      "Epoch [1218/1800]: Train loss: 2.2537, Valid loss: 2.4993\n"
     ]
    },
    {
     "name": "stderr",
     "output_type": "stream",
     "text": [
      "Epoch [1219/1800]: 100%|█████████████████████████████████████████████████████| 9/9 [00:00<00:00, 150.42it/s, loss=2.03]\n"
     ]
    },
    {
     "name": "stdout",
     "output_type": "stream",
     "text": [
      "Epoch [1219/1800]: Train loss: 1.9500, Valid loss: 2.5577\n"
     ]
    },
    {
     "name": "stderr",
     "output_type": "stream",
     "text": [
      "Epoch [1220/1800]: 100%|█████████████████████████████████████████████████████| 9/9 [00:00<00:00, 147.95it/s, loss=2.47]\n"
     ]
    },
    {
     "name": "stdout",
     "output_type": "stream",
     "text": [
      "Epoch [1220/1800]: Train loss: 2.0471, Valid loss: 2.7687\n"
     ]
    },
    {
     "name": "stderr",
     "output_type": "stream",
     "text": [
      "Epoch [1221/1800]: 100%|█████████████████████████████████████████████████████| 9/9 [00:00<00:00, 147.92it/s, loss=1.53]\n"
     ]
    },
    {
     "name": "stdout",
     "output_type": "stream",
     "text": [
      "Epoch [1221/1800]: Train loss: 2.3621, Valid loss: 2.0027\n"
     ]
    },
    {
     "name": "stderr",
     "output_type": "stream",
     "text": [
      "Epoch [1222/1800]: 100%|█████████████████████████████████████████████████████| 9/9 [00:00<00:00, 150.40it/s, loss=1.71]\n"
     ]
    },
    {
     "name": "stdout",
     "output_type": "stream",
     "text": [
      "Epoch [1222/1800]: Train loss: 2.1851, Valid loss: 2.8473\n"
     ]
    },
    {
     "name": "stderr",
     "output_type": "stream",
     "text": [
      "Epoch [1223/1800]: 100%|█████████████████████████████████████████████████████| 9/9 [00:00<00:00, 143.24it/s, loss=1.82]\n"
     ]
    },
    {
     "name": "stdout",
     "output_type": "stream",
     "text": [
      "Epoch [1223/1800]: Train loss: 2.0700, Valid loss: 2.2987\n"
     ]
    },
    {
     "name": "stderr",
     "output_type": "stream",
     "text": [
      "Epoch [1224/1800]: 100%|█████████████████████████████████████████████████████| 9/9 [00:00<00:00, 147.94it/s, loss=1.56]\n"
     ]
    },
    {
     "name": "stdout",
     "output_type": "stream",
     "text": [
      "Epoch [1224/1800]: Train loss: 1.9910, Valid loss: 2.7419\n"
     ]
    },
    {
     "name": "stderr",
     "output_type": "stream",
     "text": [
      "Epoch [1225/1800]: 100%|█████████████████████████████████████████████████████| 9/9 [00:00<00:00, 145.55it/s, loss=1.77]\n"
     ]
    },
    {
     "name": "stdout",
     "output_type": "stream",
     "text": [
      "Epoch [1225/1800]: Train loss: 2.1778, Valid loss: 2.3080\n"
     ]
    },
    {
     "name": "stderr",
     "output_type": "stream",
     "text": [
      "Epoch [1226/1800]: 100%|█████████████████████████████████████████████████████| 9/9 [00:00<00:00, 145.55it/s, loss=1.65]\n"
     ]
    },
    {
     "name": "stdout",
     "output_type": "stream",
     "text": [
      "Epoch [1226/1800]: Train loss: 1.8387, Valid loss: 2.2718\n"
     ]
    },
    {
     "name": "stderr",
     "output_type": "stream",
     "text": [
      "Epoch [1227/1800]: 100%|█████████████████████████████████████████████████████| 9/9 [00:00<00:00, 145.81it/s, loss=1.83]\n"
     ]
    },
    {
     "name": "stdout",
     "output_type": "stream",
     "text": [
      "Epoch [1227/1800]: Train loss: 1.8780, Valid loss: 2.2048\n"
     ]
    },
    {
     "name": "stderr",
     "output_type": "stream",
     "text": [
      "Epoch [1228/1800]: 100%|█████████████████████████████████████████████████████| 9/9 [00:00<00:00, 145.55it/s, loss=1.48]\n"
     ]
    },
    {
     "name": "stdout",
     "output_type": "stream",
     "text": [
      "Epoch [1228/1800]: Train loss: 1.8196, Valid loss: 2.4429\n"
     ]
    },
    {
     "name": "stderr",
     "output_type": "stream",
     "text": [
      "Epoch [1229/1800]: 100%|██████████████████████████████████████████████████████| 9/9 [00:00<00:00, 150.40it/s, loss=1.7]\n"
     ]
    },
    {
     "name": "stdout",
     "output_type": "stream",
     "text": [
      "Epoch [1229/1800]: Train loss: 1.8342, Valid loss: 2.1629\n"
     ]
    },
    {
     "name": "stderr",
     "output_type": "stream",
     "text": [
      "Epoch [1230/1800]: 100%|█████████████████████████████████████████████████████| 9/9 [00:00<00:00, 145.47it/s, loss=1.82]\n"
     ]
    },
    {
     "name": "stdout",
     "output_type": "stream",
     "text": [
      "Epoch [1230/1800]: Train loss: 2.0090, Valid loss: 2.5254\n"
     ]
    },
    {
     "name": "stderr",
     "output_type": "stream",
     "text": [
      "Epoch [1231/1800]: 100%|██████████████████████████████████████████████████████| 9/9 [00:00<00:00, 147.94it/s, loss=1.9]\n"
     ]
    },
    {
     "name": "stdout",
     "output_type": "stream",
     "text": [
      "Epoch [1231/1800]: Train loss: 2.0808, Valid loss: 2.6635\n"
     ]
    },
    {
     "name": "stderr",
     "output_type": "stream",
     "text": [
      "Epoch [1232/1800]: 100%|█████████████████████████████████████████████████████| 9/9 [00:00<00:00, 152.95it/s, loss=2.21]\n"
     ]
    },
    {
     "name": "stdout",
     "output_type": "stream",
     "text": [
      "Epoch [1232/1800]: Train loss: 2.3490, Valid loss: 3.4910\n"
     ]
    },
    {
     "name": "stderr",
     "output_type": "stream",
     "text": [
      "Epoch [1233/1800]: 100%|█████████████████████████████████████████████████████| 9/9 [00:00<00:00, 147.94it/s, loss=2.19]\n"
     ]
    },
    {
     "name": "stdout",
     "output_type": "stream",
     "text": [
      "Epoch [1233/1800]: Train loss: 3.1865, Valid loss: 4.6883\n"
     ]
    },
    {
     "name": "stderr",
     "output_type": "stream",
     "text": [
      "Epoch [1234/1800]: 100%|█████████████████████████████████████████████████████| 9/9 [00:00<00:00, 145.55it/s, loss=1.97]\n"
     ]
    },
    {
     "name": "stdout",
     "output_type": "stream",
     "text": [
      "Epoch [1234/1800]: Train loss: 2.8756, Valid loss: 1.8733\n"
     ]
    },
    {
     "name": "stderr",
     "output_type": "stream",
     "text": [
      "Epoch [1235/1800]: 100%|█████████████████████████████████████████████████████| 9/9 [00:00<00:00, 147.93it/s, loss=2.47]\n"
     ]
    },
    {
     "name": "stdout",
     "output_type": "stream",
     "text": [
      "Epoch [1235/1800]: Train loss: 2.1646, Valid loss: 4.0057\n"
     ]
    },
    {
     "name": "stderr",
     "output_type": "stream",
     "text": [
      "Epoch [1236/1800]: 100%|██████████████████████████████████████████████████████| 9/9 [00:00<00:00, 143.24it/s, loss=2.1]\n"
     ]
    },
    {
     "name": "stdout",
     "output_type": "stream",
     "text": [
      "Epoch [1236/1800]: Train loss: 2.7981, Valid loss: 3.1488\n"
     ]
    },
    {
     "name": "stderr",
     "output_type": "stream",
     "text": [
      "Epoch [1237/1800]: 100%|█████████████████████████████████████████████████████| 9/9 [00:00<00:00, 145.55it/s, loss=5.34]\n"
     ]
    },
    {
     "name": "stdout",
     "output_type": "stream",
     "text": [
      "Epoch [1237/1800]: Train loss: 3.1139, Valid loss: 4.3634\n"
     ]
    },
    {
     "name": "stderr",
     "output_type": "stream",
     "text": [
      "Epoch [1238/1800]: 100%|██████████████████████████████████████████████████████| 9/9 [00:00<00:00, 145.55it/s, loss=3.3]\n"
     ]
    },
    {
     "name": "stdout",
     "output_type": "stream",
     "text": [
      "Epoch [1238/1800]: Train loss: 3.4887, Valid loss: 2.9972\n"
     ]
    },
    {
     "name": "stderr",
     "output_type": "stream",
     "text": [
      "Epoch [1239/1800]: 100%|█████████████████████████████████████████████████████| 9/9 [00:00<00:00, 145.55it/s, loss=1.49]\n"
     ]
    },
    {
     "name": "stdout",
     "output_type": "stream",
     "text": [
      "Epoch [1239/1800]: Train loss: 2.1289, Valid loss: 2.0784\n"
     ]
    },
    {
     "name": "stderr",
     "output_type": "stream",
     "text": [
      "Epoch [1240/1800]: 100%|██████████████████████████████████████████████████████| 9/9 [00:00<00:00, 58.69it/s, loss=2.08]\n"
     ]
    },
    {
     "name": "stdout",
     "output_type": "stream",
     "text": [
      "Epoch [1240/1800]: Train loss: 1.9265, Valid loss: 1.8981\n"
     ]
    },
    {
     "name": "stderr",
     "output_type": "stream",
     "text": [
      "Epoch [1241/1800]: 100%|██████████████████████████████████████████████████████| 9/9 [00:00<00:00, 150.41it/s, loss=2.6]\n"
     ]
    },
    {
     "name": "stdout",
     "output_type": "stream",
     "text": [
      "Epoch [1241/1800]: Train loss: 2.1636, Valid loss: 3.6772\n"
     ]
    },
    {
     "name": "stderr",
     "output_type": "stream",
     "text": [
      "Epoch [1242/1800]: 100%|█████████████████████████████████████████████████████| 9/9 [00:00<00:00, 147.93it/s, loss=2.12]\n"
     ]
    },
    {
     "name": "stdout",
     "output_type": "stream",
     "text": [
      "Epoch [1242/1800]: Train loss: 2.1352, Valid loss: 2.0454\n"
     ]
    },
    {
     "name": "stderr",
     "output_type": "stream",
     "text": [
      "Epoch [1243/1800]: 100%|█████████████████████████████████████████████████████| 9/9 [00:00<00:00, 150.40it/s, loss=2.71]\n"
     ]
    },
    {
     "name": "stdout",
     "output_type": "stream",
     "text": [
      "Epoch [1243/1800]: Train loss: 2.2543, Valid loss: 2.5158\n"
     ]
    },
    {
     "name": "stderr",
     "output_type": "stream",
     "text": [
      "Epoch [1244/1800]: 100%|█████████████████████████████████████████████████████| 9/9 [00:00<00:00, 155.30it/s, loss=2.67]\n"
     ]
    },
    {
     "name": "stdout",
     "output_type": "stream",
     "text": [
      "Epoch [1244/1800]: Train loss: 2.3468, Valid loss: 3.0706\n"
     ]
    },
    {
     "name": "stderr",
     "output_type": "stream",
     "text": [
      "Epoch [1245/1800]: 100%|█████████████████████████████████████████████████████| 9/9 [00:00<00:00, 155.58it/s, loss=2.32]\n"
     ]
    },
    {
     "name": "stdout",
     "output_type": "stream",
     "text": [
      "Epoch [1245/1800]: Train loss: 2.3389, Valid loss: 4.5191\n"
     ]
    },
    {
     "name": "stderr",
     "output_type": "stream",
     "text": [
      "Epoch [1246/1800]: 100%|█████████████████████████████████████████████████████| 9/9 [00:00<00:00, 150.20it/s, loss=1.88]\n"
     ]
    },
    {
     "name": "stdout",
     "output_type": "stream",
     "text": [
      "Epoch [1246/1800]: Train loss: 2.7369, Valid loss: 3.3855\n"
     ]
    },
    {
     "name": "stderr",
     "output_type": "stream",
     "text": [
      "Epoch [1247/1800]: 100%|██████████████████████████████████████████████████████| 9/9 [00:00<00:00, 139.24it/s, loss=2.2]\n"
     ]
    },
    {
     "name": "stdout",
     "output_type": "stream",
     "text": [
      "Epoch [1247/1800]: Train loss: 1.9881, Valid loss: 2.0578\n"
     ]
    },
    {
     "name": "stderr",
     "output_type": "stream",
     "text": [
      "Epoch [1248/1800]: 100%|████████████████████████████████████████████████████████| 9/9 [00:00<00:00, 145.55it/s, loss=2]\n"
     ]
    },
    {
     "name": "stdout",
     "output_type": "stream",
     "text": [
      "Epoch [1248/1800]: Train loss: 1.9059, Valid loss: 2.1242\n"
     ]
    },
    {
     "name": "stderr",
     "output_type": "stream",
     "text": [
      "Epoch [1249/1800]: 100%|█████████████████████████████████████████████████████| 9/9 [00:00<00:00, 147.94it/s, loss=2.55]\n"
     ]
    },
    {
     "name": "stdout",
     "output_type": "stream",
     "text": [
      "Epoch [1249/1800]: Train loss: 1.9216, Valid loss: 2.2890\n"
     ]
    },
    {
     "name": "stderr",
     "output_type": "stream",
     "text": [
      "Epoch [1250/1800]: 100%|█████████████████████████████████████████████████████| 9/9 [00:00<00:00, 145.55it/s, loss=1.83]\n"
     ]
    },
    {
     "name": "stdout",
     "output_type": "stream",
     "text": [
      "Epoch [1250/1800]: Train loss: 1.8917, Valid loss: 2.0472\n"
     ]
    },
    {
     "name": "stderr",
     "output_type": "stream",
     "text": [
      "Epoch [1251/1800]: 100%|█████████████████████████████████████████████████████| 9/9 [00:00<00:00, 145.55it/s, loss=1.51]\n"
     ]
    },
    {
     "name": "stdout",
     "output_type": "stream",
     "text": [
      "Epoch [1251/1800]: Train loss: 2.4370, Valid loss: 2.8262\n"
     ]
    },
    {
     "name": "stderr",
     "output_type": "stream",
     "text": [
      "Epoch [1252/1800]: 100%|█████████████████████████████████████████████████████| 9/9 [00:00<00:00, 150.40it/s, loss=3.07]\n"
     ]
    },
    {
     "name": "stdout",
     "output_type": "stream",
     "text": [
      "Epoch [1252/1800]: Train loss: 2.5511, Valid loss: 2.1332\n"
     ]
    },
    {
     "name": "stderr",
     "output_type": "stream",
     "text": [
      "Epoch [1253/1800]: 100%|█████████████████████████████████████████████████████| 9/9 [00:00<00:00, 143.86it/s, loss=2.93]\n"
     ]
    },
    {
     "name": "stdout",
     "output_type": "stream",
     "text": [
      "Epoch [1253/1800]: Train loss: 2.1902, Valid loss: 2.4067\n"
     ]
    },
    {
     "name": "stderr",
     "output_type": "stream",
     "text": [
      "Epoch [1254/1800]: 100%|█████████████████████████████████████████████████████| 9/9 [00:00<00:00, 145.55it/s, loss=1.94]\n"
     ]
    },
    {
     "name": "stdout",
     "output_type": "stream",
     "text": [
      "Epoch [1254/1800]: Train loss: 1.9044, Valid loss: 2.5922\n"
     ]
    },
    {
     "name": "stderr",
     "output_type": "stream",
     "text": [
      "Epoch [1255/1800]: 100%|█████████████████████████████████████████████████████| 9/9 [00:00<00:00, 145.55it/s, loss=1.87]\n"
     ]
    },
    {
     "name": "stdout",
     "output_type": "stream",
     "text": [
      "Epoch [1255/1800]: Train loss: 1.9787, Valid loss: 2.3027\n"
     ]
    },
    {
     "name": "stderr",
     "output_type": "stream",
     "text": [
      "Epoch [1256/1800]: 100%|█████████████████████████████████████████████████████| 9/9 [00:00<00:00, 145.26it/s, loss=1.92]\n"
     ]
    },
    {
     "name": "stdout",
     "output_type": "stream",
     "text": [
      "Epoch [1256/1800]: Train loss: 2.1287, Valid loss: 2.0907\n"
     ]
    },
    {
     "name": "stderr",
     "output_type": "stream",
     "text": [
      "Epoch [1257/1800]: 100%|█████████████████████████████████████████████████████| 9/9 [00:00<00:00, 145.55it/s, loss=2.16]\n"
     ]
    },
    {
     "name": "stdout",
     "output_type": "stream",
     "text": [
      "Epoch [1257/1800]: Train loss: 2.1031, Valid loss: 3.9322\n"
     ]
    },
    {
     "name": "stderr",
     "output_type": "stream",
     "text": [
      "Epoch [1258/1800]: 100%|█████████████████████████████████████████████████████| 9/9 [00:00<00:00, 147.95it/s, loss=2.66]\n"
     ]
    },
    {
     "name": "stdout",
     "output_type": "stream",
     "text": [
      "Epoch [1258/1800]: Train loss: 2.1422, Valid loss: 2.8223\n"
     ]
    },
    {
     "name": "stderr",
     "output_type": "stream",
     "text": [
      "Epoch [1259/1800]: 100%|█████████████████████████████████████████████████████| 9/9 [00:00<00:00, 147.94it/s, loss=2.11]\n"
     ]
    },
    {
     "name": "stdout",
     "output_type": "stream",
     "text": [
      "Epoch [1259/1800]: Train loss: 2.1683, Valid loss: 2.1053\n"
     ]
    },
    {
     "name": "stderr",
     "output_type": "stream",
     "text": [
      "Epoch [1260/1800]: 100%|█████████████████████████████████████████████████████| 9/9 [00:00<00:00, 145.55it/s, loss=1.31]\n"
     ]
    },
    {
     "name": "stdout",
     "output_type": "stream",
     "text": [
      "Epoch [1260/1800]: Train loss: 1.8085, Valid loss: 1.7136\n",
      "Saving model with loss 1.714...\n"
     ]
    },
    {
     "name": "stderr",
     "output_type": "stream",
     "text": [
      "Epoch [1261/1800]: 100%|█████████████████████████████████████████████████████| 9/9 [00:00<00:00, 147.93it/s, loss=1.69]\n"
     ]
    },
    {
     "name": "stdout",
     "output_type": "stream",
     "text": [
      "Epoch [1261/1800]: Train loss: 1.9356, Valid loss: 2.2752\n"
     ]
    },
    {
     "name": "stderr",
     "output_type": "stream",
     "text": [
      "Epoch [1262/1800]: 100%|█████████████████████████████████████████████████████| 9/9 [00:00<00:00, 148.10it/s, loss=1.72]\n"
     ]
    },
    {
     "name": "stdout",
     "output_type": "stream",
     "text": [
      "Epoch [1262/1800]: Train loss: 1.9708, Valid loss: 5.2061\n"
     ]
    },
    {
     "name": "stderr",
     "output_type": "stream",
     "text": [
      "Epoch [1263/1800]: 100%|█████████████████████████████████████████████████████| 9/9 [00:00<00:00, 150.40it/s, loss=2.38]\n"
     ]
    },
    {
     "name": "stdout",
     "output_type": "stream",
     "text": [
      "Epoch [1263/1800]: Train loss: 3.6498, Valid loss: 5.7297\n"
     ]
    },
    {
     "name": "stderr",
     "output_type": "stream",
     "text": [
      "Epoch [1264/1800]: 100%|█████████████████████████████████████████████████████| 9/9 [00:00<00:00, 141.00it/s, loss=5.83]\n"
     ]
    },
    {
     "name": "stdout",
     "output_type": "stream",
     "text": [
      "Epoch [1264/1800]: Train loss: 4.5598, Valid loss: 3.6780\n"
     ]
    },
    {
     "name": "stderr",
     "output_type": "stream",
     "text": [
      "Epoch [1265/1800]: 100%|█████████████████████████████████████████████████████| 9/9 [00:00<00:00, 149.93it/s, loss=2.19]\n"
     ]
    },
    {
     "name": "stdout",
     "output_type": "stream",
     "text": [
      "Epoch [1265/1800]: Train loss: 3.7632, Valid loss: 6.0569\n"
     ]
    },
    {
     "name": "stderr",
     "output_type": "stream",
     "text": [
      "Epoch [1266/1800]: 100%|██████████████████████████████████████████████████████| 9/9 [00:00<00:00, 94.99it/s, loss=1.73]\n"
     ]
    },
    {
     "name": "stdout",
     "output_type": "stream",
     "text": [
      "Epoch [1266/1800]: Train loss: 2.7110, Valid loss: 2.5171\n"
     ]
    },
    {
     "name": "stderr",
     "output_type": "stream",
     "text": [
      "Epoch [1267/1800]: 100%|█████████████████████████████████████████████████████| 9/9 [00:00<00:00, 127.10it/s, loss=1.96]\n"
     ]
    },
    {
     "name": "stdout",
     "output_type": "stream",
     "text": [
      "Epoch [1267/1800]: Train loss: 2.1010, Valid loss: 1.9689\n"
     ]
    },
    {
     "name": "stderr",
     "output_type": "stream",
     "text": [
      "Epoch [1268/1800]: 100%|█████████████████████████████████████████████████████| 9/9 [00:00<00:00, 147.94it/s, loss=1.46]\n"
     ]
    },
    {
     "name": "stdout",
     "output_type": "stream",
     "text": [
      "Epoch [1268/1800]: Train loss: 1.8737, Valid loss: 1.9511\n"
     ]
    },
    {
     "name": "stderr",
     "output_type": "stream",
     "text": [
      "Epoch [1269/1800]: 100%|█████████████████████████████████████████████████████| 9/9 [00:00<00:00, 147.93it/s, loss=1.86]\n"
     ]
    },
    {
     "name": "stdout",
     "output_type": "stream",
     "text": [
      "Epoch [1269/1800]: Train loss: 1.8460, Valid loss: 2.0743\n"
     ]
    },
    {
     "name": "stderr",
     "output_type": "stream",
     "text": [
      "Epoch [1270/1800]: 100%|█████████████████████████████████████████████████████| 9/9 [00:00<00:00, 145.55it/s, loss=2.61]\n"
     ]
    },
    {
     "name": "stdout",
     "output_type": "stream",
     "text": [
      "Epoch [1270/1800]: Train loss: 1.9914, Valid loss: 4.7237\n"
     ]
    },
    {
     "name": "stderr",
     "output_type": "stream",
     "text": [
      "Epoch [1271/1800]: 100%|█████████████████████████████████████████████████████| 9/9 [00:00<00:00, 145.55it/s, loss=1.73]\n"
     ]
    },
    {
     "name": "stdout",
     "output_type": "stream",
     "text": [
      "Epoch [1271/1800]: Train loss: 3.1877, Valid loss: 2.2850\n"
     ]
    },
    {
     "name": "stderr",
     "output_type": "stream",
     "text": [
      "Epoch [1272/1800]: 100%|█████████████████████████████████████████████████████| 9/9 [00:00<00:00, 127.10it/s, loss=1.82]\n"
     ]
    },
    {
     "name": "stdout",
     "output_type": "stream",
     "text": [
      "Epoch [1272/1800]: Train loss: 1.8763, Valid loss: 2.0344\n"
     ]
    },
    {
     "name": "stderr",
     "output_type": "stream",
     "text": [
      "Epoch [1273/1800]: 100%|█████████████████████████████████████████████████████| 9/9 [00:00<00:00, 150.40it/s, loss=2.34]\n"
     ]
    },
    {
     "name": "stdout",
     "output_type": "stream",
     "text": [
      "Epoch [1273/1800]: Train loss: 1.9645, Valid loss: 2.9725\n"
     ]
    },
    {
     "name": "stderr",
     "output_type": "stream",
     "text": [
      "Epoch [1274/1800]: 100%|█████████████████████████████████████████████████████| 9/9 [00:00<00:00, 152.95it/s, loss=1.93]\n"
     ]
    },
    {
     "name": "stdout",
     "output_type": "stream",
     "text": [
      "Epoch [1274/1800]: Train loss: 1.9938, Valid loss: 1.9938\n"
     ]
    },
    {
     "name": "stderr",
     "output_type": "stream",
     "text": [
      "Epoch [1275/1800]: 100%|█████████████████████████████████████████████████████| 9/9 [00:00<00:00, 147.94it/s, loss=2.46]\n"
     ]
    },
    {
     "name": "stdout",
     "output_type": "stream",
     "text": [
      "Epoch [1275/1800]: Train loss: 2.1156, Valid loss: 2.6250\n"
     ]
    },
    {
     "name": "stderr",
     "output_type": "stream",
     "text": [
      "Epoch [1276/1800]: 100%|█████████████████████████████████████████████████████| 9/9 [00:00<00:00, 145.55it/s, loss=1.64]\n"
     ]
    },
    {
     "name": "stdout",
     "output_type": "stream",
     "text": [
      "Epoch [1276/1800]: Train loss: 1.9503, Valid loss: 3.1255\n"
     ]
    },
    {
     "name": "stderr",
     "output_type": "stream",
     "text": [
      "Epoch [1277/1800]: 100%|██████████████████████████████████████████████████████| 9/9 [00:00<00:00, 148.59it/s, loss=1.8]\n"
     ]
    },
    {
     "name": "stdout",
     "output_type": "stream",
     "text": [
      "Epoch [1277/1800]: Train loss: 2.3410, Valid loss: 2.2891\n"
     ]
    },
    {
     "name": "stderr",
     "output_type": "stream",
     "text": [
      "Epoch [1278/1800]: 100%|█████████████████████████████████████████████████████| 9/9 [00:00<00:00, 145.75it/s, loss=3.92]\n"
     ]
    },
    {
     "name": "stdout",
     "output_type": "stream",
     "text": [
      "Epoch [1278/1800]: Train loss: 2.5209, Valid loss: 2.0413\n"
     ]
    },
    {
     "name": "stderr",
     "output_type": "stream",
     "text": [
      "Epoch [1279/1800]: 100%|█████████████████████████████████████████████████████| 9/9 [00:00<00:00, 147.93it/s, loss=2.04]\n"
     ]
    },
    {
     "name": "stdout",
     "output_type": "stream",
     "text": [
      "Epoch [1279/1800]: Train loss: 2.3631, Valid loss: 2.4675\n"
     ]
    },
    {
     "name": "stderr",
     "output_type": "stream",
     "text": [
      "Epoch [1280/1800]: 100%|█████████████████████████████████████████████████████| 9/9 [00:00<00:00, 152.54it/s, loss=1.87]\n"
     ]
    },
    {
     "name": "stdout",
     "output_type": "stream",
     "text": [
      "Epoch [1280/1800]: Train loss: 1.9335, Valid loss: 2.8394\n"
     ]
    },
    {
     "name": "stderr",
     "output_type": "stream",
     "text": [
      "Epoch [1281/1800]: 100%|█████████████████████████████████████████████████████| 9/9 [00:00<00:00, 150.40it/s, loss=2.34]\n"
     ]
    },
    {
     "name": "stdout",
     "output_type": "stream",
     "text": [
      "Epoch [1281/1800]: Train loss: 2.1594, Valid loss: 2.8099\n"
     ]
    },
    {
     "name": "stderr",
     "output_type": "stream",
     "text": [
      "Epoch [1282/1800]: 100%|██████████████████████████████████████████████████████| 9/9 [00:00<00:00, 86.77it/s, loss=2.07]\n"
     ]
    },
    {
     "name": "stdout",
     "output_type": "stream",
     "text": [
      "Epoch [1282/1800]: Train loss: 2.0303, Valid loss: 1.9275\n"
     ]
    },
    {
     "name": "stderr",
     "output_type": "stream",
     "text": [
      "Epoch [1283/1800]: 100%|█████████████████████████████████████████████████████| 9/9 [00:00<00:00, 147.92it/s, loss=1.81]\n"
     ]
    },
    {
     "name": "stdout",
     "output_type": "stream",
     "text": [
      "Epoch [1283/1800]: Train loss: 1.8431, Valid loss: 1.8444\n"
     ]
    },
    {
     "name": "stderr",
     "output_type": "stream",
     "text": [
      "Epoch [1284/1800]: 100%|█████████████████████████████████████████████████████| 9/9 [00:00<00:00, 147.94it/s, loss=1.88]\n"
     ]
    },
    {
     "name": "stdout",
     "output_type": "stream",
     "text": [
      "Epoch [1284/1800]: Train loss: 1.8388, Valid loss: 2.0598\n"
     ]
    },
    {
     "name": "stderr",
     "output_type": "stream",
     "text": [
      "Epoch [1285/1800]: 100%|█████████████████████████████████████████████████████| 9/9 [00:00<00:00, 143.24it/s, loss=2.48]\n"
     ]
    },
    {
     "name": "stdout",
     "output_type": "stream",
     "text": [
      "Epoch [1285/1800]: Train loss: 1.9441, Valid loss: 2.1894\n"
     ]
    },
    {
     "name": "stderr",
     "output_type": "stream",
     "text": [
      "Epoch [1286/1800]: 100%|█████████████████████████████████████████████████████| 9/9 [00:00<00:00, 147.94it/s, loss=1.82]\n"
     ]
    },
    {
     "name": "stdout",
     "output_type": "stream",
     "text": [
      "Epoch [1286/1800]: Train loss: 1.9894, Valid loss: 2.1030\n"
     ]
    },
    {
     "name": "stderr",
     "output_type": "stream",
     "text": [
      "Epoch [1287/1800]: 100%|█████████████████████████████████████████████████████| 9/9 [00:00<00:00, 147.94it/s, loss=1.57]\n"
     ]
    },
    {
     "name": "stdout",
     "output_type": "stream",
     "text": [
      "Epoch [1287/1800]: Train loss: 1.8002, Valid loss: 2.0837\n"
     ]
    },
    {
     "name": "stderr",
     "output_type": "stream",
     "text": [
      "Epoch [1288/1800]: 100%|█████████████████████████████████████████████████████| 9/9 [00:00<00:00, 145.55it/s, loss=2.23]\n"
     ]
    },
    {
     "name": "stdout",
     "output_type": "stream",
     "text": [
      "Epoch [1288/1800]: Train loss: 1.9466, Valid loss: 2.0414\n"
     ]
    },
    {
     "name": "stderr",
     "output_type": "stream",
     "text": [
      "Epoch [1289/1800]: 100%|██████████████████████████████████████████████████████| 9/9 [00:00<00:00, 145.55it/s, loss=1.7]\n"
     ]
    },
    {
     "name": "stdout",
     "output_type": "stream",
     "text": [
      "Epoch [1289/1800]: Train loss: 1.8741, Valid loss: 2.0636\n"
     ]
    },
    {
     "name": "stderr",
     "output_type": "stream",
     "text": [
      "Epoch [1290/1800]: 100%|█████████████████████████████████████████████████████| 9/9 [00:00<00:00, 150.40it/s, loss=1.68]\n"
     ]
    },
    {
     "name": "stdout",
     "output_type": "stream",
     "text": [
      "Epoch [1290/1800]: Train loss: 1.8207, Valid loss: 2.7123\n"
     ]
    },
    {
     "name": "stderr",
     "output_type": "stream",
     "text": [
      "Epoch [1291/1800]: 100%|█████████████████████████████████████████████████████| 9/9 [00:00<00:00, 141.14it/s, loss=2.38]\n"
     ]
    },
    {
     "name": "stdout",
     "output_type": "stream",
     "text": [
      "Epoch [1291/1800]: Train loss: 2.0951, Valid loss: 3.7030\n"
     ]
    },
    {
     "name": "stderr",
     "output_type": "stream",
     "text": [
      "Epoch [1292/1800]: 100%|██████████████████████████████████████████████████████| 9/9 [00:00<00:00, 142.88it/s, loss=2.3]\n"
     ]
    },
    {
     "name": "stdout",
     "output_type": "stream",
     "text": [
      "Epoch [1292/1800]: Train loss: 2.3592, Valid loss: 3.3193\n"
     ]
    },
    {
     "name": "stderr",
     "output_type": "stream",
     "text": [
      "Epoch [1293/1800]: 100%|█████████████████████████████████████████████████████| 9/9 [00:00<00:00, 139.32it/s, loss=1.72]\n"
     ]
    },
    {
     "name": "stdout",
     "output_type": "stream",
     "text": [
      "Epoch [1293/1800]: Train loss: 2.1252, Valid loss: 2.2462\n"
     ]
    },
    {
     "name": "stderr",
     "output_type": "stream",
     "text": [
      "Epoch [1294/1800]: 100%|█████████████████████████████████████████████████████| 9/9 [00:00<00:00, 143.24it/s, loss=2.28]\n"
     ]
    },
    {
     "name": "stdout",
     "output_type": "stream",
     "text": [
      "Epoch [1294/1800]: Train loss: 2.2600, Valid loss: 3.3077\n"
     ]
    },
    {
     "name": "stderr",
     "output_type": "stream",
     "text": [
      "Epoch [1295/1800]: 100%|██████████████████████████████████████████████████████| 9/9 [00:00<00:00, 147.94it/s, loss=2.7]\n"
     ]
    },
    {
     "name": "stdout",
     "output_type": "stream",
     "text": [
      "Epoch [1295/1800]: Train loss: 2.4886, Valid loss: 2.4585\n"
     ]
    },
    {
     "name": "stderr",
     "output_type": "stream",
     "text": [
      "Epoch [1296/1800]: 100%|█████████████████████████████████████████████████████| 9/9 [00:00<00:00, 147.94it/s, loss=2.49]\n"
     ]
    },
    {
     "name": "stdout",
     "output_type": "stream",
     "text": [
      "Epoch [1296/1800]: Train loss: 2.5590, Valid loss: 2.4202\n"
     ]
    },
    {
     "name": "stderr",
     "output_type": "stream",
     "text": [
      "Epoch [1297/1800]: 100%|█████████████████████████████████████████████████████| 9/9 [00:00<00:00, 147.94it/s, loss=1.79]\n"
     ]
    },
    {
     "name": "stdout",
     "output_type": "stream",
     "text": [
      "Epoch [1297/1800]: Train loss: 2.0026, Valid loss: 2.4730\n"
     ]
    },
    {
     "name": "stderr",
     "output_type": "stream",
     "text": [
      "Epoch [1298/1800]: 100%|█████████████████████████████████████████████████████| 9/9 [00:00<00:00, 147.93it/s, loss=2.01]\n"
     ]
    },
    {
     "name": "stdout",
     "output_type": "stream",
     "text": [
      "Epoch [1298/1800]: Train loss: 1.8595, Valid loss: 2.2664\n"
     ]
    },
    {
     "name": "stderr",
     "output_type": "stream",
     "text": [
      "Epoch [1299/1800]: 100%|█████████████████████████████████████████████████████| 9/9 [00:00<00:00, 150.41it/s, loss=1.83]\n"
     ]
    },
    {
     "name": "stdout",
     "output_type": "stream",
     "text": [
      "Epoch [1299/1800]: Train loss: 1.8762, Valid loss: 2.5411\n"
     ]
    },
    {
     "name": "stderr",
     "output_type": "stream",
     "text": [
      "Epoch [1300/1800]: 100%|██████████████████████████████████████████████████████| 9/9 [00:00<00:00, 94.99it/s, loss=2.79]\n"
     ]
    },
    {
     "name": "stdout",
     "output_type": "stream",
     "text": [
      "Epoch [1300/1800]: Train loss: 2.3554, Valid loss: 2.1280\n"
     ]
    },
    {
     "name": "stderr",
     "output_type": "stream",
     "text": [
      "Epoch [1301/1800]: 100%|█████████████████████████████████████████████████████| 9/9 [00:00<00:00, 128.92it/s, loss=1.74]\n"
     ]
    },
    {
     "name": "stdout",
     "output_type": "stream",
     "text": [
      "Epoch [1301/1800]: Train loss: 2.0455, Valid loss: 2.4091\n"
     ]
    },
    {
     "name": "stderr",
     "output_type": "stream",
     "text": [
      "Epoch [1302/1800]: 100%|█████████████████████████████████████████████████████| 9/9 [00:00<00:00, 148.87it/s, loss=1.98]\n"
     ]
    },
    {
     "name": "stdout",
     "output_type": "stream",
     "text": [
      "Epoch [1302/1800]: Train loss: 1.8939, Valid loss: 2.0421\n"
     ]
    },
    {
     "name": "stderr",
     "output_type": "stream",
     "text": [
      "Epoch [1303/1800]: 100%|█████████████████████████████████████████████████████| 9/9 [00:00<00:00, 147.93it/s, loss=1.62]\n"
     ]
    },
    {
     "name": "stdout",
     "output_type": "stream",
     "text": [
      "Epoch [1303/1800]: Train loss: 1.8133, Valid loss: 1.7844\n"
     ]
    },
    {
     "name": "stderr",
     "output_type": "stream",
     "text": [
      "Epoch [1304/1800]: 100%|█████████████████████████████████████████████████████| 9/9 [00:00<00:00, 152.95it/s, loss=1.75]\n"
     ]
    },
    {
     "name": "stdout",
     "output_type": "stream",
     "text": [
      "Epoch [1304/1800]: Train loss: 1.8625, Valid loss: 3.7103\n"
     ]
    },
    {
     "name": "stderr",
     "output_type": "stream",
     "text": [
      "Epoch [1305/1800]: 100%|█████████████████████████████████████████████████████| 9/9 [00:00<00:00, 150.40it/s, loss=2.12]\n"
     ]
    },
    {
     "name": "stdout",
     "output_type": "stream",
     "text": [
      "Epoch [1305/1800]: Train loss: 2.5027, Valid loss: 2.3196\n"
     ]
    },
    {
     "name": "stderr",
     "output_type": "stream",
     "text": [
      "Epoch [1306/1800]: 100%|█████████████████████████████████████████████████████| 9/9 [00:00<00:00, 146.49it/s, loss=2.25]\n"
     ]
    },
    {
     "name": "stdout",
     "output_type": "stream",
     "text": [
      "Epoch [1306/1800]: Train loss: 1.8660, Valid loss: 2.5396\n"
     ]
    },
    {
     "name": "stderr",
     "output_type": "stream",
     "text": [
      "Epoch [1307/1800]: 100%|█████████████████████████████████████████████████████| 9/9 [00:00<00:00, 147.93it/s, loss=1.44]\n"
     ]
    },
    {
     "name": "stdout",
     "output_type": "stream",
     "text": [
      "Epoch [1307/1800]: Train loss: 1.8402, Valid loss: 1.9127\n"
     ]
    },
    {
     "name": "stderr",
     "output_type": "stream",
     "text": [
      "Epoch [1308/1800]: 100%|█████████████████████████████████████████████████████| 9/9 [00:00<00:00, 145.55it/s, loss=1.79]\n"
     ]
    },
    {
     "name": "stdout",
     "output_type": "stream",
     "text": [
      "Epoch [1308/1800]: Train loss: 1.9837, Valid loss: 3.0935\n"
     ]
    },
    {
     "name": "stderr",
     "output_type": "stream",
     "text": [
      "Epoch [1309/1800]: 100%|██████████████████████████████████████████████████████| 9/9 [00:00<00:00, 147.92it/s, loss=1.9]\n"
     ]
    },
    {
     "name": "stdout",
     "output_type": "stream",
     "text": [
      "Epoch [1309/1800]: Train loss: 2.0789, Valid loss: 2.8934\n"
     ]
    },
    {
     "name": "stderr",
     "output_type": "stream",
     "text": [
      "Epoch [1310/1800]: 100%|█████████████████████████████████████████████████████| 9/9 [00:00<00:00, 147.93it/s, loss=2.15]\n"
     ]
    },
    {
     "name": "stdout",
     "output_type": "stream",
     "text": [
      "Epoch [1310/1800]: Train loss: 2.0304, Valid loss: 2.0744\n"
     ]
    },
    {
     "name": "stderr",
     "output_type": "stream",
     "text": [
      "Epoch [1311/1800]: 100%|██████████████████████████████████████████████████████| 9/9 [00:00<00:00, 150.40it/s, loss=1.4]\n"
     ]
    },
    {
     "name": "stdout",
     "output_type": "stream",
     "text": [
      "Epoch [1311/1800]: Train loss: 1.9060, Valid loss: 2.4984\n"
     ]
    },
    {
     "name": "stderr",
     "output_type": "stream",
     "text": [
      "Epoch [1312/1800]: 100%|█████████████████████████████████████████████████████| 9/9 [00:00<00:00, 152.95it/s, loss=1.49]\n"
     ]
    },
    {
     "name": "stdout",
     "output_type": "stream",
     "text": [
      "Epoch [1312/1800]: Train loss: 1.7956, Valid loss: 2.2253\n"
     ]
    },
    {
     "name": "stderr",
     "output_type": "stream",
     "text": [
      "Epoch [1313/1800]: 100%|█████████████████████████████████████████████████████| 9/9 [00:00<00:00, 147.94it/s, loss=1.24]\n"
     ]
    },
    {
     "name": "stdout",
     "output_type": "stream",
     "text": [
      "Epoch [1313/1800]: Train loss: 1.7782, Valid loss: 2.3667\n"
     ]
    },
    {
     "name": "stderr",
     "output_type": "stream",
     "text": [
      "Epoch [1314/1800]: 100%|█████████████████████████████████████████████████████| 9/9 [00:00<00:00, 152.95it/s, loss=1.83]\n"
     ]
    },
    {
     "name": "stdout",
     "output_type": "stream",
     "text": [
      "Epoch [1314/1800]: Train loss: 2.0154, Valid loss: 2.3378\n"
     ]
    },
    {
     "name": "stderr",
     "output_type": "stream",
     "text": [
      "Epoch [1315/1800]: 100%|█████████████████████████████████████████████████████| 9/9 [00:00<00:00, 152.95it/s, loss=2.81]\n"
     ]
    },
    {
     "name": "stdout",
     "output_type": "stream",
     "text": [
      "Epoch [1315/1800]: Train loss: 2.1180, Valid loss: 2.1074\n"
     ]
    },
    {
     "name": "stderr",
     "output_type": "stream",
     "text": [
      "Epoch [1316/1800]: 100%|█████████████████████████████████████████████████████| 9/9 [00:00<00:00, 150.40it/s, loss=2.37]\n"
     ]
    },
    {
     "name": "stdout",
     "output_type": "stream",
     "text": [
      "Epoch [1316/1800]: Train loss: 2.6359, Valid loss: 3.2041\n"
     ]
    },
    {
     "name": "stderr",
     "output_type": "stream",
     "text": [
      "Epoch [1317/1800]: 100%|█████████████████████████████████████████████████████| 9/9 [00:00<00:00, 152.95it/s, loss=1.83]\n"
     ]
    },
    {
     "name": "stdout",
     "output_type": "stream",
     "text": [
      "Epoch [1317/1800]: Train loss: 2.0021, Valid loss: 2.4000\n"
     ]
    },
    {
     "name": "stderr",
     "output_type": "stream",
     "text": [
      "Epoch [1318/1800]: 100%|█████████████████████████████████████████████████████| 9/9 [00:00<00:00, 149.21it/s, loss=2.58]\n"
     ]
    },
    {
     "name": "stdout",
     "output_type": "stream",
     "text": [
      "Epoch [1318/1800]: Train loss: 1.9114, Valid loss: 3.4741\n"
     ]
    },
    {
     "name": "stderr",
     "output_type": "stream",
     "text": [
      "Epoch [1319/1800]: 100%|█████████████████████████████████████████████████████| 9/9 [00:00<00:00, 144.06it/s, loss=1.76]\n"
     ]
    },
    {
     "name": "stdout",
     "output_type": "stream",
     "text": [
      "Epoch [1319/1800]: Train loss: 2.5519, Valid loss: 2.3976\n"
     ]
    },
    {
     "name": "stderr",
     "output_type": "stream",
     "text": [
      "Epoch [1320/1800]: 100%|█████████████████████████████████████████████████████| 9/9 [00:00<00:00, 144.67it/s, loss=1.98]\n"
     ]
    },
    {
     "name": "stdout",
     "output_type": "stream",
     "text": [
      "Epoch [1320/1800]: Train loss: 1.9941, Valid loss: 2.3332\n"
     ]
    },
    {
     "name": "stderr",
     "output_type": "stream",
     "text": [
      "Epoch [1321/1800]: 100%|█████████████████████████████████████████████████████| 9/9 [00:00<00:00, 145.55it/s, loss=4.88]\n"
     ]
    },
    {
     "name": "stdout",
     "output_type": "stream",
     "text": [
      "Epoch [1321/1800]: Train loss: 3.4952, Valid loss: 2.1988\n"
     ]
    },
    {
     "name": "stderr",
     "output_type": "stream",
     "text": [
      "Epoch [1322/1800]: 100%|█████████████████████████████████████████████████████| 9/9 [00:00<00:00, 143.24it/s, loss=2.95]\n"
     ]
    },
    {
     "name": "stdout",
     "output_type": "stream",
     "text": [
      "Epoch [1322/1800]: Train loss: 2.7156, Valid loss: 2.3903\n"
     ]
    },
    {
     "name": "stderr",
     "output_type": "stream",
     "text": [
      "Epoch [1323/1800]: 100%|█████████████████████████████████████████████████████| 9/9 [00:00<00:00, 150.64it/s, loss=1.99]\n"
     ]
    },
    {
     "name": "stdout",
     "output_type": "stream",
     "text": [
      "Epoch [1323/1800]: Train loss: 1.9590, Valid loss: 2.1397\n"
     ]
    },
    {
     "name": "stderr",
     "output_type": "stream",
     "text": [
      "Epoch [1324/1800]: 100%|█████████████████████████████████████████████████████| 9/9 [00:00<00:00, 152.95it/s, loss=1.58]\n"
     ]
    },
    {
     "name": "stdout",
     "output_type": "stream",
     "text": [
      "Epoch [1324/1800]: Train loss: 2.3400, Valid loss: 3.1725\n"
     ]
    },
    {
     "name": "stderr",
     "output_type": "stream",
     "text": [
      "Epoch [1325/1800]: 100%|█████████████████████████████████████████████████████| 9/9 [00:00<00:00, 150.40it/s, loss=1.64]\n"
     ]
    },
    {
     "name": "stdout",
     "output_type": "stream",
     "text": [
      "Epoch [1325/1800]: Train loss: 2.8160, Valid loss: 3.1787\n"
     ]
    },
    {
     "name": "stderr",
     "output_type": "stream",
     "text": [
      "Epoch [1326/1800]: 100%|█████████████████████████████████████████████████████| 9/9 [00:00<00:00, 147.94it/s, loss=2.16]\n"
     ]
    },
    {
     "name": "stdout",
     "output_type": "stream",
     "text": [
      "Epoch [1326/1800]: Train loss: 1.9702, Valid loss: 2.4900\n"
     ]
    },
    {
     "name": "stderr",
     "output_type": "stream",
     "text": [
      "Epoch [1327/1800]: 100%|█████████████████████████████████████████████████████| 9/9 [00:00<00:00, 147.94it/s, loss=1.86]\n"
     ]
    },
    {
     "name": "stdout",
     "output_type": "stream",
     "text": [
      "Epoch [1327/1800]: Train loss: 1.9614, Valid loss: 2.6983\n"
     ]
    },
    {
     "name": "stderr",
     "output_type": "stream",
     "text": [
      "Epoch [1328/1800]: 100%|█████████████████████████████████████████████████████| 9/9 [00:00<00:00, 143.24it/s, loss=3.13]\n"
     ]
    },
    {
     "name": "stdout",
     "output_type": "stream",
     "text": [
      "Epoch [1328/1800]: Train loss: 2.3051, Valid loss: 2.2919\n"
     ]
    },
    {
     "name": "stderr",
     "output_type": "stream",
     "text": [
      "Epoch [1329/1800]: 100%|█████████████████████████████████████████████████████| 9/9 [00:00<00:00, 152.45it/s, loss=2.11]\n"
     ]
    },
    {
     "name": "stdout",
     "output_type": "stream",
     "text": [
      "Epoch [1329/1800]: Train loss: 2.2387, Valid loss: 3.3493\n"
     ]
    },
    {
     "name": "stderr",
     "output_type": "stream",
     "text": [
      "Epoch [1330/1800]: 100%|█████████████████████████████████████████████████████| 9/9 [00:00<00:00, 150.40it/s, loss=1.85]\n"
     ]
    },
    {
     "name": "stdout",
     "output_type": "stream",
     "text": [
      "Epoch [1330/1800]: Train loss: 2.3613, Valid loss: 2.9954\n"
     ]
    },
    {
     "name": "stderr",
     "output_type": "stream",
     "text": [
      "Epoch [1331/1800]: 100%|█████████████████████████████████████████████████████| 9/9 [00:00<00:00, 145.55it/s, loss=2.11]\n"
     ]
    },
    {
     "name": "stdout",
     "output_type": "stream",
     "text": [
      "Epoch [1331/1800]: Train loss: 2.0420, Valid loss: 1.9265\n"
     ]
    },
    {
     "name": "stderr",
     "output_type": "stream",
     "text": [
      "Epoch [1332/1800]: 100%|█████████████████████████████████████████████████████| 9/9 [00:00<00:00, 148.31it/s, loss=2.12]\n"
     ]
    },
    {
     "name": "stdout",
     "output_type": "stream",
     "text": [
      "Epoch [1332/1800]: Train loss: 1.8720, Valid loss: 2.7193\n"
     ]
    },
    {
     "name": "stderr",
     "output_type": "stream",
     "text": [
      "Epoch [1333/1800]: 100%|█████████████████████████████████████████████████████| 9/9 [00:00<00:00, 148.84it/s, loss=1.58]\n"
     ]
    },
    {
     "name": "stdout",
     "output_type": "stream",
     "text": [
      "Epoch [1333/1800]: Train loss: 1.8475, Valid loss: 2.5868\n"
     ]
    },
    {
     "name": "stderr",
     "output_type": "stream",
     "text": [
      "Epoch [1334/1800]: 100%|██████████████████████████████████████████████████████| 9/9 [00:00<00:00, 99.17it/s, loss=1.83]"
     ]
    },
    {
     "name": "stdout",
     "output_type": "stream",
     "text": [
      "Epoch [1334/1800]: Train loss: 1.9718, Valid loss: 1.7944"
     ]
    },
    {
     "name": "stderr",
     "output_type": "stream",
     "text": [
      "\n"
     ]
    },
    {
     "name": "stdout",
     "output_type": "stream",
     "text": [
      "\n"
     ]
    },
    {
     "name": "stderr",
     "output_type": "stream",
     "text": [
      "Epoch [1335/1800]: 100%|█████████████████████████████████████████████████████| 9/9 [00:00<00:00, 128.91it/s, loss=1.98]\n"
     ]
    },
    {
     "name": "stdout",
     "output_type": "stream",
     "text": [
      "Epoch [1335/1800]: Train loss: 1.9441, Valid loss: 2.4683\n"
     ]
    },
    {
     "name": "stderr",
     "output_type": "stream",
     "text": [
      "Epoch [1336/1800]: 100%|█████████████████████████████████████████████████████| 9/9 [00:00<00:00, 152.95it/s, loss=2.33]\n"
     ]
    },
    {
     "name": "stdout",
     "output_type": "stream",
     "text": [
      "Epoch [1336/1800]: Train loss: 2.0810, Valid loss: 2.1216\n"
     ]
    },
    {
     "name": "stderr",
     "output_type": "stream",
     "text": [
      "Epoch [1337/1800]: 100%|█████████████████████████████████████████████████████| 9/9 [00:00<00:00, 150.40it/s, loss=1.89]\n"
     ]
    },
    {
     "name": "stdout",
     "output_type": "stream",
     "text": [
      "Epoch [1337/1800]: Train loss: 1.9401, Valid loss: 2.4361\n"
     ]
    },
    {
     "name": "stderr",
     "output_type": "stream",
     "text": [
      "Epoch [1338/1800]: 100%|█████████████████████████████████████████████████████| 9/9 [00:00<00:00, 145.55it/s, loss=1.77]\n"
     ]
    },
    {
     "name": "stdout",
     "output_type": "stream",
     "text": [
      "Epoch [1338/1800]: Train loss: 1.8700, Valid loss: 2.7030\n"
     ]
    },
    {
     "name": "stderr",
     "output_type": "stream",
     "text": [
      "Epoch [1339/1800]: 100%|█████████████████████████████████████████████████████| 9/9 [00:00<00:00, 145.55it/s, loss=2.81]\n"
     ]
    },
    {
     "name": "stdout",
     "output_type": "stream",
     "text": [
      "Epoch [1339/1800]: Train loss: 1.9499, Valid loss: 1.8280\n"
     ]
    },
    {
     "name": "stderr",
     "output_type": "stream",
     "text": [
      "Epoch [1340/1800]: 100%|█████████████████████████████████████████████████████| 9/9 [00:00<00:00, 143.71it/s, loss=2.91]\n"
     ]
    },
    {
     "name": "stdout",
     "output_type": "stream",
     "text": [
      "Epoch [1340/1800]: Train loss: 2.0784, Valid loss: 1.9237\n"
     ]
    },
    {
     "name": "stderr",
     "output_type": "stream",
     "text": [
      "Epoch [1341/1800]: 100%|█████████████████████████████████████████████████████| 9/9 [00:00<00:00, 155.59it/s, loss=1.69]\n"
     ]
    },
    {
     "name": "stdout",
     "output_type": "stream",
     "text": [
      "Epoch [1341/1800]: Train loss: 2.1565, Valid loss: 2.5424\n"
     ]
    },
    {
     "name": "stderr",
     "output_type": "stream",
     "text": [
      "Epoch [1342/1800]: 100%|█████████████████████████████████████████████████████| 9/9 [00:00<00:00, 152.95it/s, loss=3.48]\n"
     ]
    },
    {
     "name": "stdout",
     "output_type": "stream",
     "text": [
      "Epoch [1342/1800]: Train loss: 2.0249, Valid loss: 2.4934\n"
     ]
    },
    {
     "name": "stderr",
     "output_type": "stream",
     "text": [
      "Epoch [1343/1800]: 100%|█████████████████████████████████████████████████████| 9/9 [00:00<00:00, 147.94it/s, loss=2.58]\n"
     ]
    },
    {
     "name": "stdout",
     "output_type": "stream",
     "text": [
      "Epoch [1343/1800]: Train loss: 1.9561, Valid loss: 2.3693\n"
     ]
    },
    {
     "name": "stderr",
     "output_type": "stream",
     "text": [
      "Epoch [1344/1800]: 100%|█████████████████████████████████████████████████████| 9/9 [00:00<00:00, 145.55it/s, loss=2.43]\n"
     ]
    },
    {
     "name": "stdout",
     "output_type": "stream",
     "text": [
      "Epoch [1344/1800]: Train loss: 2.4581, Valid loss: 4.3088\n"
     ]
    },
    {
     "name": "stderr",
     "output_type": "stream",
     "text": [
      "Epoch [1345/1800]: 100%|█████████████████████████████████████████████████████| 9/9 [00:00<00:00, 145.55it/s, loss=3.02]\n"
     ]
    },
    {
     "name": "stdout",
     "output_type": "stream",
     "text": [
      "Epoch [1345/1800]: Train loss: 2.9492, Valid loss: 5.2965\n"
     ]
    },
    {
     "name": "stderr",
     "output_type": "stream",
     "text": [
      "Epoch [1346/1800]: 100%|█████████████████████████████████████████████████████| 9/9 [00:00<00:00, 146.33it/s, loss=1.83]\n"
     ]
    },
    {
     "name": "stdout",
     "output_type": "stream",
     "text": [
      "Epoch [1346/1800]: Train loss: 3.6886, Valid loss: 5.1485\n"
     ]
    },
    {
     "name": "stderr",
     "output_type": "stream",
     "text": [
      "Epoch [1347/1800]: 100%|█████████████████████████████████████████████████████| 9/9 [00:00<00:00, 147.94it/s, loss=2.51]\n"
     ]
    },
    {
     "name": "stdout",
     "output_type": "stream",
     "text": [
      "Epoch [1347/1800]: Train loss: 3.0191, Valid loss: 2.4250\n"
     ]
    },
    {
     "name": "stderr",
     "output_type": "stream",
     "text": [
      "Epoch [1348/1800]: 100%|██████████████████████████████████████████████████████| 9/9 [00:00<00:00, 152.95it/s, loss=1.6]\n"
     ]
    },
    {
     "name": "stdout",
     "output_type": "stream",
     "text": [
      "Epoch [1348/1800]: Train loss: 2.1328, Valid loss: 2.6857\n"
     ]
    },
    {
     "name": "stderr",
     "output_type": "stream",
     "text": [
      "Epoch [1349/1800]: 100%|█████████████████████████████████████████████████████| 9/9 [00:00<00:00, 148.17it/s, loss=1.21]\n"
     ]
    },
    {
     "name": "stdout",
     "output_type": "stream",
     "text": [
      "Epoch [1349/1800]: Train loss: 2.0582, Valid loss: 2.1737\n"
     ]
    },
    {
     "name": "stderr",
     "output_type": "stream",
     "text": [
      "Epoch [1350/1800]: 100%|█████████████████████████████████████████████████████| 9/9 [00:00<00:00, 150.40it/s, loss=2.76]\n"
     ]
    },
    {
     "name": "stdout",
     "output_type": "stream",
     "text": [
      "Epoch [1350/1800]: Train loss: 2.1456, Valid loss: 2.4946\n"
     ]
    },
    {
     "name": "stderr",
     "output_type": "stream",
     "text": [
      "Epoch [1351/1800]: 100%|█████████████████████████████████████████████████████| 9/9 [00:00<00:00, 150.39it/s, loss=3.58]\n"
     ]
    },
    {
     "name": "stdout",
     "output_type": "stream",
     "text": [
      "Epoch [1351/1800]: Train loss: 3.0414, Valid loss: 3.0475\n"
     ]
    },
    {
     "name": "stderr",
     "output_type": "stream",
     "text": [
      "Epoch [1352/1800]: 100%|█████████████████████████████████████████████████████| 9/9 [00:00<00:00, 145.98it/s, loss=2.11]\n"
     ]
    },
    {
     "name": "stdout",
     "output_type": "stream",
     "text": [
      "Epoch [1352/1800]: Train loss: 2.6459, Valid loss: 2.4839\n"
     ]
    },
    {
     "name": "stderr",
     "output_type": "stream",
     "text": [
      "Epoch [1353/1800]: 100%|█████████████████████████████████████████████████████| 9/9 [00:00<00:00, 145.55it/s, loss=1.54]\n"
     ]
    },
    {
     "name": "stdout",
     "output_type": "stream",
     "text": [
      "Epoch [1353/1800]: Train loss: 1.9635, Valid loss: 1.9864\n"
     ]
    },
    {
     "name": "stderr",
     "output_type": "stream",
     "text": [
      "Epoch [1354/1800]: 100%|██████████████████████████████████████████████████████| 9/9 [00:00<00:00, 143.65it/s, loss=1.9]\n"
     ]
    },
    {
     "name": "stdout",
     "output_type": "stream",
     "text": [
      "Epoch [1354/1800]: Train loss: 1.8157, Valid loss: 2.4442\n"
     ]
    },
    {
     "name": "stderr",
     "output_type": "stream",
     "text": [
      "Epoch [1355/1800]: 100%|█████████████████████████████████████████████████████| 9/9 [00:00<00:00, 150.40it/s, loss=2.28]\n"
     ]
    },
    {
     "name": "stdout",
     "output_type": "stream",
     "text": [
      "Epoch [1355/1800]: Train loss: 1.9342, Valid loss: 2.6464\n"
     ]
    },
    {
     "name": "stderr",
     "output_type": "stream",
     "text": [
      "Epoch [1356/1800]: 100%|██████████████████████████████████████████████████████| 9/9 [00:00<00:00, 150.40it/s, loss=2.1]\n"
     ]
    },
    {
     "name": "stdout",
     "output_type": "stream",
     "text": [
      "Epoch [1356/1800]: Train loss: 2.0692, Valid loss: 1.9453\n"
     ]
    },
    {
     "name": "stderr",
     "output_type": "stream",
     "text": [
      "Epoch [1357/1800]: 100%|█████████████████████████████████████████████████████| 9/9 [00:00<00:00, 145.55it/s, loss=2.26]\n"
     ]
    },
    {
     "name": "stdout",
     "output_type": "stream",
     "text": [
      "Epoch [1357/1800]: Train loss: 1.8602, Valid loss: 2.2305\n"
     ]
    },
    {
     "name": "stderr",
     "output_type": "stream",
     "text": [
      "Epoch [1358/1800]: 100%|█████████████████████████████████████████████████████| 9/9 [00:00<00:00, 147.93it/s, loss=2.08]\n"
     ]
    },
    {
     "name": "stdout",
     "output_type": "stream",
     "text": [
      "Epoch [1358/1800]: Train loss: 1.8492, Valid loss: 2.2554\n"
     ]
    },
    {
     "name": "stderr",
     "output_type": "stream",
     "text": [
      "Epoch [1359/1800]: 100%|██████████████████████████████████████████████████████| 9/9 [00:00<00:00, 145.55it/s, loss=1.9]\n"
     ]
    },
    {
     "name": "stdout",
     "output_type": "stream",
     "text": [
      "Epoch [1359/1800]: Train loss: 1.9698, Valid loss: 2.0553\n"
     ]
    },
    {
     "name": "stderr",
     "output_type": "stream",
     "text": [
      "Epoch [1360/1800]: 100%|█████████████████████████████████████████████████████| 9/9 [00:00<00:00, 151.24it/s, loss=1.51]\n"
     ]
    },
    {
     "name": "stdout",
     "output_type": "stream",
     "text": [
      "Epoch [1360/1800]: Train loss: 1.8078, Valid loss: 2.2017\n"
     ]
    },
    {
     "name": "stderr",
     "output_type": "stream",
     "text": [
      "Epoch [1361/1800]: 100%|█████████████████████████████████████████████████████| 9/9 [00:00<00:00, 150.31it/s, loss=1.27]\n"
     ]
    },
    {
     "name": "stdout",
     "output_type": "stream",
     "text": [
      "Epoch [1361/1800]: Train loss: 1.8220, Valid loss: 2.3134\n"
     ]
    },
    {
     "name": "stderr",
     "output_type": "stream",
     "text": [
      "Epoch [1362/1800]: 100%|█████████████████████████████████████████████████████| 9/9 [00:00<00:00, 138.83it/s, loss=2.18]\n"
     ]
    },
    {
     "name": "stdout",
     "output_type": "stream",
     "text": [
      "Epoch [1362/1800]: Train loss: 1.8676, Valid loss: 3.3445\n"
     ]
    },
    {
     "name": "stderr",
     "output_type": "stream",
     "text": [
      "Epoch [1363/1800]: 100%|█████████████████████████████████████████████████████| 9/9 [00:00<00:00, 143.24it/s, loss=1.55]\n"
     ]
    },
    {
     "name": "stdout",
     "output_type": "stream",
     "text": [
      "Epoch [1363/1800]: Train loss: 2.1547, Valid loss: 2.8587\n"
     ]
    },
    {
     "name": "stderr",
     "output_type": "stream",
     "text": [
      "Epoch [1364/1800]: 100%|█████████████████████████████████████████████████████| 9/9 [00:00<00:00, 150.40it/s, loss=3.98]\n"
     ]
    },
    {
     "name": "stdout",
     "output_type": "stream",
     "text": [
      "Epoch [1364/1800]: Train loss: 2.7118, Valid loss: 1.9709\n"
     ]
    },
    {
     "name": "stderr",
     "output_type": "stream",
     "text": [
      "Epoch [1365/1800]: 100%|█████████████████████████████████████████████████████| 9/9 [00:00<00:00, 147.94it/s, loss=3.59]\n"
     ]
    },
    {
     "name": "stdout",
     "output_type": "stream",
     "text": [
      "Epoch [1365/1800]: Train loss: 2.3936, Valid loss: 1.8342\n"
     ]
    },
    {
     "name": "stderr",
     "output_type": "stream",
     "text": [
      "Epoch [1366/1800]: 100%|█████████████████████████████████████████████████████| 9/9 [00:00<00:00, 150.40it/s, loss=2.27]\n"
     ]
    },
    {
     "name": "stdout",
     "output_type": "stream",
     "text": [
      "Epoch [1366/1800]: Train loss: 2.4499, Valid loss: 2.0626\n"
     ]
    },
    {
     "name": "stderr",
     "output_type": "stream",
     "text": [
      "Epoch [1367/1800]: 100%|█████████████████████████████████████████████████████| 9/9 [00:00<00:00, 147.87it/s, loss=2.66]\n"
     ]
    },
    {
     "name": "stdout",
     "output_type": "stream",
     "text": [
      "Epoch [1367/1800]: Train loss: 2.5697, Valid loss: 3.0264\n"
     ]
    },
    {
     "name": "stderr",
     "output_type": "stream",
     "text": [
      "Epoch [1368/1800]: 100%|██████████████████████████████████████████████████████| 9/9 [00:00<00:00, 150.40it/s, loss=1.8]\n"
     ]
    },
    {
     "name": "stdout",
     "output_type": "stream",
     "text": [
      "Epoch [1368/1800]: Train loss: 2.5130, Valid loss: 2.4210\n"
     ]
    },
    {
     "name": "stderr",
     "output_type": "stream",
     "text": [
      "Epoch [1369/1800]: 100%|█████████████████████████████████████████████████████| 9/9 [00:00<00:00, 147.93it/s, loss=2.69]\n"
     ]
    },
    {
     "name": "stdout",
     "output_type": "stream",
     "text": [
      "Epoch [1369/1800]: Train loss: 2.2006, Valid loss: 1.8376\n"
     ]
    },
    {
     "name": "stderr",
     "output_type": "stream",
     "text": [
      "Epoch [1370/1800]: 100%|███████████████████████████████████████████████████████| 9/9 [00:00<00:00, 94.00it/s, loss=1.2]"
     ]
    },
    {
     "name": "stdout",
     "output_type": "stream",
     "text": [
      "Epoch [1370/1800]: Train loss: 1.8257, Valid loss: 1.9847"
     ]
    },
    {
     "name": "stderr",
     "output_type": "stream",
     "text": [
      "\n"
     ]
    },
    {
     "name": "stdout",
     "output_type": "stream",
     "text": [
      "\n"
     ]
    },
    {
     "name": "stderr",
     "output_type": "stream",
     "text": [
      "Epoch [1371/1800]: 100%|█████████████████████████████████████████████████████| 9/9 [00:00<00:00, 130.79it/s, loss=1.75]\n"
     ]
    },
    {
     "name": "stdout",
     "output_type": "stream",
     "text": [
      "Epoch [1371/1800]: Train loss: 1.8009, Valid loss: 1.8388\n"
     ]
    },
    {
     "name": "stderr",
     "output_type": "stream",
     "text": [
      "Epoch [1372/1800]: 100%|█████████████████████████████████████████████████████| 9/9 [00:00<00:00, 151.19it/s, loss=2.86]\n"
     ]
    },
    {
     "name": "stdout",
     "output_type": "stream",
     "text": [
      "Epoch [1372/1800]: Train loss: 2.0064, Valid loss: 3.3318\n"
     ]
    },
    {
     "name": "stderr",
     "output_type": "stream",
     "text": [
      "Epoch [1373/1800]: 100%|██████████████████████████████████████████████████████| 9/9 [00:00<00:00, 147.93it/s, loss=2.3]\n"
     ]
    },
    {
     "name": "stdout",
     "output_type": "stream",
     "text": [
      "Epoch [1373/1800]: Train loss: 2.1211, Valid loss: 1.8686\n"
     ]
    },
    {
     "name": "stderr",
     "output_type": "stream",
     "text": [
      "Epoch [1374/1800]: 100%|█████████████████████████████████████████████████████| 9/9 [00:00<00:00, 147.93it/s, loss=2.61]\n"
     ]
    },
    {
     "name": "stdout",
     "output_type": "stream",
     "text": [
      "Epoch [1374/1800]: Train loss: 2.1459, Valid loss: 2.1116\n"
     ]
    },
    {
     "name": "stderr",
     "output_type": "stream",
     "text": [
      "Epoch [1375/1800]: 100%|█████████████████████████████████████████████████████| 9/9 [00:00<00:00, 141.00it/s, loss=1.99]\n"
     ]
    },
    {
     "name": "stdout",
     "output_type": "stream",
     "text": [
      "Epoch [1375/1800]: Train loss: 2.1004, Valid loss: 2.1595\n"
     ]
    },
    {
     "name": "stderr",
     "output_type": "stream",
     "text": [
      "Epoch [1376/1800]: 100%|█████████████████████████████████████████████████████| 9/9 [00:00<00:00, 150.40it/s, loss=1.96]\n"
     ]
    },
    {
     "name": "stdout",
     "output_type": "stream",
     "text": [
      "Epoch [1376/1800]: Train loss: 1.9888, Valid loss: 2.5970\n"
     ]
    },
    {
     "name": "stderr",
     "output_type": "stream",
     "text": [
      "Epoch [1377/1800]: 100%|██████████████████████████████████████████████████████| 9/9 [00:00<00:00, 150.47it/s, loss=2.5]\n"
     ]
    },
    {
     "name": "stdout",
     "output_type": "stream",
     "text": [
      "Epoch [1377/1800]: Train loss: 2.0833, Valid loss: 2.5396\n"
     ]
    },
    {
     "name": "stderr",
     "output_type": "stream",
     "text": [
      "Epoch [1378/1800]: 100%|█████████████████████████████████████████████████████| 9/9 [00:00<00:00, 148.91it/s, loss=2.43]\n"
     ]
    },
    {
     "name": "stdout",
     "output_type": "stream",
     "text": [
      "Epoch [1378/1800]: Train loss: 2.0042, Valid loss: 3.4681\n"
     ]
    },
    {
     "name": "stderr",
     "output_type": "stream",
     "text": [
      "Epoch [1379/1800]: 100%|█████████████████████████████████████████████████████| 9/9 [00:00<00:00, 147.94it/s, loss=3.25]\n"
     ]
    },
    {
     "name": "stdout",
     "output_type": "stream",
     "text": [
      "Epoch [1379/1800]: Train loss: 2.6668, Valid loss: 2.1968\n"
     ]
    },
    {
     "name": "stderr",
     "output_type": "stream",
     "text": [
      "Epoch [1380/1800]: 100%|█████████████████████████████████████████████████████| 9/9 [00:00<00:00, 140.74it/s, loss=3.55]\n"
     ]
    },
    {
     "name": "stdout",
     "output_type": "stream",
     "text": [
      "Epoch [1380/1800]: Train loss: 2.7774, Valid loss: 2.0143\n"
     ]
    },
    {
     "name": "stderr",
     "output_type": "stream",
     "text": [
      "Epoch [1381/1800]: 100%|█████████████████████████████████████████████████████| 9/9 [00:00<00:00, 150.40it/s, loss=3.97]\n"
     ]
    },
    {
     "name": "stdout",
     "output_type": "stream",
     "text": [
      "Epoch [1381/1800]: Train loss: 2.8733, Valid loss: 2.5006\n"
     ]
    },
    {
     "name": "stderr",
     "output_type": "stream",
     "text": [
      "Epoch [1382/1800]: 100%|█████████████████████████████████████████████████████| 9/9 [00:00<00:00, 155.59it/s, loss=2.67]\n"
     ]
    },
    {
     "name": "stdout",
     "output_type": "stream",
     "text": [
      "Epoch [1382/1800]: Train loss: 2.7924, Valid loss: 2.1004\n"
     ]
    },
    {
     "name": "stderr",
     "output_type": "stream",
     "text": [
      "Epoch [1383/1800]: 100%|█████████████████████████████████████████████████████| 9/9 [00:00<00:00, 150.40it/s, loss=2.78]\n"
     ]
    },
    {
     "name": "stdout",
     "output_type": "stream",
     "text": [
      "Epoch [1383/1800]: Train loss: 2.1456, Valid loss: 1.9151\n"
     ]
    },
    {
     "name": "stderr",
     "output_type": "stream",
     "text": [
      "Epoch [1384/1800]: 100%|█████████████████████████████████████████████████████| 9/9 [00:00<00:00, 145.55it/s, loss=1.95]\n"
     ]
    },
    {
     "name": "stdout",
     "output_type": "stream",
     "text": [
      "Epoch [1384/1800]: Train loss: 2.0153, Valid loss: 2.2715\n"
     ]
    },
    {
     "name": "stderr",
     "output_type": "stream",
     "text": [
      "Epoch [1385/1800]: 100%|█████████████████████████████████████████████████████| 9/9 [00:00<00:00, 145.55it/s, loss=2.22]\n"
     ]
    },
    {
     "name": "stdout",
     "output_type": "stream",
     "text": [
      "Epoch [1385/1800]: Train loss: 2.1147, Valid loss: 2.1102\n"
     ]
    },
    {
     "name": "stderr",
     "output_type": "stream",
     "text": [
      "Epoch [1386/1800]: 100%|█████████████████████████████████████████████████████| 9/9 [00:00<00:00, 147.94it/s, loss=1.95]\n"
     ]
    },
    {
     "name": "stdout",
     "output_type": "stream",
     "text": [
      "Epoch [1386/1800]: Train loss: 1.8720, Valid loss: 2.4736\n"
     ]
    },
    {
     "name": "stderr",
     "output_type": "stream",
     "text": [
      "Epoch [1387/1800]: 100%|█████████████████████████████████████████████████████| 9/9 [00:00<00:00, 152.95it/s, loss=1.78]\n"
     ]
    },
    {
     "name": "stdout",
     "output_type": "stream",
     "text": [
      "Epoch [1387/1800]: Train loss: 1.9824, Valid loss: 2.6205\n"
     ]
    },
    {
     "name": "stderr",
     "output_type": "stream",
     "text": [
      "Epoch [1388/1800]: 100%|█████████████████████████████████████████████████████| 9/9 [00:00<00:00, 152.58it/s, loss=2.07]\n"
     ]
    },
    {
     "name": "stdout",
     "output_type": "stream",
     "text": [
      "Epoch [1388/1800]: Train loss: 2.1965, Valid loss: 2.2175\n"
     ]
    },
    {
     "name": "stderr",
     "output_type": "stream",
     "text": [
      "Epoch [1389/1800]: 100%|█████████████████████████████████████████████████████| 9/9 [00:00<00:00, 145.55it/s, loss=1.66]\n"
     ]
    },
    {
     "name": "stdout",
     "output_type": "stream",
     "text": [
      "Epoch [1389/1800]: Train loss: 1.8788, Valid loss: 2.3596\n"
     ]
    },
    {
     "name": "stderr",
     "output_type": "stream",
     "text": [
      "Epoch [1390/1800]: 100%|█████████████████████████████████████████████████████| 9/9 [00:00<00:00, 143.24it/s, loss=2.27]\n"
     ]
    },
    {
     "name": "stdout",
     "output_type": "stream",
     "text": [
      "Epoch [1390/1800]: Train loss: 1.8725, Valid loss: 2.5800\n"
     ]
    },
    {
     "name": "stderr",
     "output_type": "stream",
     "text": [
      "Epoch [1391/1800]: 100%|█████████████████████████████████████████████████████| 9/9 [00:00<00:00, 150.40it/s, loss=1.74]\n"
     ]
    },
    {
     "name": "stdout",
     "output_type": "stream",
     "text": [
      "Epoch [1391/1800]: Train loss: 1.9617, Valid loss: 2.0065\n"
     ]
    },
    {
     "name": "stderr",
     "output_type": "stream",
     "text": [
      "Epoch [1392/1800]: 100%|█████████████████████████████████████████████████████| 9/9 [00:00<00:00, 150.38it/s, loss=2.05]\n"
     ]
    },
    {
     "name": "stdout",
     "output_type": "stream",
     "text": [
      "Epoch [1392/1800]: Train loss: 1.9732, Valid loss: 2.1060\n"
     ]
    },
    {
     "name": "stderr",
     "output_type": "stream",
     "text": [
      "Epoch [1393/1800]: 100%|██████████████████████████████████████████████████████| 9/9 [00:00<00:00, 150.38it/s, loss=2.1]\n"
     ]
    },
    {
     "name": "stdout",
     "output_type": "stream",
     "text": [
      "Epoch [1393/1800]: Train loss: 1.8829, Valid loss: 2.0348\n"
     ]
    },
    {
     "name": "stderr",
     "output_type": "stream",
     "text": [
      "Epoch [1394/1800]: 100%|█████████████████████████████████████████████████████| 9/9 [00:00<00:00, 144.89it/s, loss=1.67]\n"
     ]
    },
    {
     "name": "stdout",
     "output_type": "stream",
     "text": [
      "Epoch [1394/1800]: Train loss: 1.8298, Valid loss: 2.5372\n"
     ]
    },
    {
     "name": "stderr",
     "output_type": "stream",
     "text": [
      "Epoch [1395/1800]: 100%|█████████████████████████████████████████████████████| 9/9 [00:00<00:00, 152.95it/s, loss=2.76]\n"
     ]
    },
    {
     "name": "stdout",
     "output_type": "stream",
     "text": [
      "Epoch [1395/1800]: Train loss: 2.2273, Valid loss: 3.1321\n"
     ]
    },
    {
     "name": "stderr",
     "output_type": "stream",
     "text": [
      "Epoch [1396/1800]: 100%|█████████████████████████████████████████████████████| 9/9 [00:00<00:00, 150.40it/s, loss=2.15]\n"
     ]
    },
    {
     "name": "stdout",
     "output_type": "stream",
     "text": [
      "Epoch [1396/1800]: Train loss: 2.3146, Valid loss: 2.2808\n"
     ]
    },
    {
     "name": "stderr",
     "output_type": "stream",
     "text": [
      "Epoch [1397/1800]: 100%|█████████████████████████████████████████████████████| 9/9 [00:00<00:00, 155.59it/s, loss=1.62]\n"
     ]
    },
    {
     "name": "stdout",
     "output_type": "stream",
     "text": [
      "Epoch [1397/1800]: Train loss: 1.8934, Valid loss: 2.1500\n"
     ]
    },
    {
     "name": "stderr",
     "output_type": "stream",
     "text": [
      "Epoch [1398/1800]: 100%|█████████████████████████████████████████████████████| 9/9 [00:00<00:00, 147.93it/s, loss=1.81]\n"
     ]
    },
    {
     "name": "stdout",
     "output_type": "stream",
     "text": [
      "Epoch [1398/1800]: Train loss: 1.8282, Valid loss: 1.7475\n"
     ]
    },
    {
     "name": "stderr",
     "output_type": "stream",
     "text": [
      "Epoch [1399/1800]: 100%|█████████████████████████████████████████████████████| 9/9 [00:00<00:00, 152.95it/s, loss=1.94]\n"
     ]
    },
    {
     "name": "stdout",
     "output_type": "stream",
     "text": [
      "Epoch [1399/1800]: Train loss: 1.8075, Valid loss: 2.1369\n"
     ]
    },
    {
     "name": "stderr",
     "output_type": "stream",
     "text": [
      "Epoch [1400/1800]: 100%|█████████████████████████████████████████████████████| 9/9 [00:00<00:00, 153.88it/s, loss=2.11]\n"
     ]
    },
    {
     "name": "stdout",
     "output_type": "stream",
     "text": [
      "Epoch [1400/1800]: Train loss: 1.9715, Valid loss: 2.4033\n"
     ]
    },
    {
     "name": "stderr",
     "output_type": "stream",
     "text": [
      "Epoch [1401/1800]: 100%|█████████████████████████████████████████████████████| 9/9 [00:00<00:00, 152.95it/s, loss=1.53]\n"
     ]
    },
    {
     "name": "stdout",
     "output_type": "stream",
     "text": [
      "Epoch [1401/1800]: Train loss: 1.9411, Valid loss: 3.4435\n"
     ]
    },
    {
     "name": "stderr",
     "output_type": "stream",
     "text": [
      "Epoch [1402/1800]: 100%|█████████████████████████████████████████████████████| 9/9 [00:00<00:00, 150.40it/s, loss=2.21]\n"
     ]
    },
    {
     "name": "stdout",
     "output_type": "stream",
     "text": [
      "Epoch [1402/1800]: Train loss: 2.3155, Valid loss: 1.9784\n"
     ]
    },
    {
     "name": "stderr",
     "output_type": "stream",
     "text": [
      "Epoch [1403/1800]: 100%|█████████████████████████████████████████████████████| 9/9 [00:00<00:00, 152.95it/s, loss=1.56]\n"
     ]
    },
    {
     "name": "stdout",
     "output_type": "stream",
     "text": [
      "Epoch [1403/1800]: Train loss: 1.9371, Valid loss: 2.4600\n"
     ]
    },
    {
     "name": "stderr",
     "output_type": "stream",
     "text": [
      "Epoch [1404/1800]: 100%|█████████████████████████████████████████████████████| 9/9 [00:00<00:00, 150.39it/s, loss=2.18]\n"
     ]
    },
    {
     "name": "stdout",
     "output_type": "stream",
     "text": [
      "Epoch [1404/1800]: Train loss: 1.9015, Valid loss: 2.4304\n"
     ]
    },
    {
     "name": "stderr",
     "output_type": "stream",
     "text": [
      "Epoch [1405/1800]: 100%|█████████████████████████████████████████████████████| 9/9 [00:00<00:00, 147.94it/s, loss=2.26]\n"
     ]
    },
    {
     "name": "stdout",
     "output_type": "stream",
     "text": [
      "Epoch [1405/1800]: Train loss: 2.0824, Valid loss: 2.9986\n"
     ]
    },
    {
     "name": "stderr",
     "output_type": "stream",
     "text": [
      "Epoch [1406/1800]: 100%|█████████████████████████████████████████████████████| 9/9 [00:00<00:00, 152.67it/s, loss=2.37]\n"
     ]
    },
    {
     "name": "stdout",
     "output_type": "stream",
     "text": [
      "Epoch [1406/1800]: Train loss: 2.4893, Valid loss: 2.2767\n"
     ]
    },
    {
     "name": "stderr",
     "output_type": "stream",
     "text": [
      "Epoch [1407/1800]: 100%|██████████████████████████████████████████████████████| 9/9 [00:00<00:00, 75.20it/s, loss=3.72]\n"
     ]
    },
    {
     "name": "stdout",
     "output_type": "stream",
     "text": [
      "Epoch [1407/1800]: Train loss: 2.1378, Valid loss: 2.3705\n"
     ]
    },
    {
     "name": "stderr",
     "output_type": "stream",
     "text": [
      "Epoch [1408/1800]: 100%|█████████████████████████████████████████████████████| 9/9 [00:00<00:00, 152.81it/s, loss=1.82]\n"
     ]
    },
    {
     "name": "stdout",
     "output_type": "stream",
     "text": [
      "Epoch [1408/1800]: Train loss: 2.4300, Valid loss: 3.3565\n"
     ]
    },
    {
     "name": "stderr",
     "output_type": "stream",
     "text": [
      "Epoch [1409/1800]: 100%|██████████████████████████████████████████████████████| 9/9 [00:00<00:00, 86.44it/s, loss=1.71]\n"
     ]
    },
    {
     "name": "stdout",
     "output_type": "stream",
     "text": [
      "Epoch [1409/1800]: Train loss: 2.1245, Valid loss: 2.0611\n"
     ]
    },
    {
     "name": "stderr",
     "output_type": "stream",
     "text": [
      "Epoch [1410/1800]: 100%|█████████████████████████████████████████████████████| 9/9 [00:00<00:00, 152.79it/s, loss=1.61]\n"
     ]
    },
    {
     "name": "stdout",
     "output_type": "stream",
     "text": [
      "Epoch [1410/1800]: Train loss: 1.8842, Valid loss: 2.4420\n"
     ]
    },
    {
     "name": "stderr",
     "output_type": "stream",
     "text": [
      "Epoch [1411/1800]: 100%|██████████████████████████████████████████████████████| 9/9 [00:00<00:00, 152.99it/s, loss=1.5]\n"
     ]
    },
    {
     "name": "stdout",
     "output_type": "stream",
     "text": [
      "Epoch [1411/1800]: Train loss: 1.8185, Valid loss: 2.7098\n"
     ]
    },
    {
     "name": "stderr",
     "output_type": "stream",
     "text": [
      "Epoch [1412/1800]: 100%|█████████████████████████████████████████████████████| 9/9 [00:00<00:00, 146.54it/s, loss=1.48]\n"
     ]
    },
    {
     "name": "stdout",
     "output_type": "stream",
     "text": [
      "Epoch [1412/1800]: Train loss: 1.8389, Valid loss: 2.7163\n"
     ]
    },
    {
     "name": "stderr",
     "output_type": "stream",
     "text": [
      "Epoch [1413/1800]: 100%|█████████████████████████████████████████████████████| 9/9 [00:00<00:00, 145.26it/s, loss=2.61]\n"
     ]
    },
    {
     "name": "stdout",
     "output_type": "stream",
     "text": [
      "Epoch [1413/1800]: Train loss: 2.0195, Valid loss: 2.5367\n"
     ]
    },
    {
     "name": "stderr",
     "output_type": "stream",
     "text": [
      "Epoch [1414/1800]: 100%|█████████████████████████████████████████████████████| 9/9 [00:00<00:00, 147.93it/s, loss=1.42]\n"
     ]
    },
    {
     "name": "stdout",
     "output_type": "stream",
     "text": [
      "Epoch [1414/1800]: Train loss: 2.0956, Valid loss: 2.9004\n"
     ]
    },
    {
     "name": "stderr",
     "output_type": "stream",
     "text": [
      "Epoch [1415/1800]: 100%|█████████████████████████████████████████████████████| 9/9 [00:00<00:00, 150.37it/s, loss=1.95]\n"
     ]
    },
    {
     "name": "stdout",
     "output_type": "stream",
     "text": [
      "Epoch [1415/1800]: Train loss: 2.2513, Valid loss: 1.8931\n"
     ]
    },
    {
     "name": "stderr",
     "output_type": "stream",
     "text": [
      "Epoch [1416/1800]: 100%|█████████████████████████████████████████████████████| 9/9 [00:00<00:00, 147.94it/s, loss=2.21]\n"
     ]
    },
    {
     "name": "stdout",
     "output_type": "stream",
     "text": [
      "Epoch [1416/1800]: Train loss: 2.0289, Valid loss: 2.3229\n"
     ]
    },
    {
     "name": "stderr",
     "output_type": "stream",
     "text": [
      "Epoch [1417/1800]: 100%|██████████████████████████████████████████████████████| 9/9 [00:00<00:00, 145.55it/s, loss=2.5]\n"
     ]
    },
    {
     "name": "stdout",
     "output_type": "stream",
     "text": [
      "Epoch [1417/1800]: Train loss: 2.1834, Valid loss: 2.4049\n"
     ]
    },
    {
     "name": "stderr",
     "output_type": "stream",
     "text": [
      "Epoch [1418/1800]: 100%|██████████████████████████████████████████████████████| 9/9 [00:00<00:00, 147.94it/s, loss=2.2]\n"
     ]
    },
    {
     "name": "stdout",
     "output_type": "stream",
     "text": [
      "Epoch [1418/1800]: Train loss: 1.9631, Valid loss: 2.4975\n"
     ]
    },
    {
     "name": "stderr",
     "output_type": "stream",
     "text": [
      "Epoch [1419/1800]: 100%|█████████████████████████████████████████████████████| 9/9 [00:00<00:00, 150.40it/s, loss=1.66]\n"
     ]
    },
    {
     "name": "stdout",
     "output_type": "stream",
     "text": [
      "Epoch [1419/1800]: Train loss: 1.8799, Valid loss: 2.6342\n"
     ]
    },
    {
     "name": "stderr",
     "output_type": "stream",
     "text": [
      "Epoch [1420/1800]: 100%|██████████████████████████████████████████████████████| 9/9 [00:00<00:00, 150.40it/s, loss=2.3]\n"
     ]
    },
    {
     "name": "stdout",
     "output_type": "stream",
     "text": [
      "Epoch [1420/1800]: Train loss: 2.1232, Valid loss: 2.4509\n"
     ]
    },
    {
     "name": "stderr",
     "output_type": "stream",
     "text": [
      "Epoch [1421/1800]: 100%|█████████████████████████████████████████████████████| 9/9 [00:00<00:00, 143.24it/s, loss=1.48]\n"
     ]
    },
    {
     "name": "stdout",
     "output_type": "stream",
     "text": [
      "Epoch [1421/1800]: Train loss: 1.8831, Valid loss: 2.0804\n"
     ]
    },
    {
     "name": "stderr",
     "output_type": "stream",
     "text": [
      "Epoch [1422/1800]: 100%|█████████████████████████████████████████████████████| 9/9 [00:00<00:00, 150.41it/s, loss=2.08]\n"
     ]
    },
    {
     "name": "stdout",
     "output_type": "stream",
     "text": [
      "Epoch [1422/1800]: Train loss: 1.8781, Valid loss: 2.5716\n"
     ]
    },
    {
     "name": "stderr",
     "output_type": "stream",
     "text": [
      "Epoch [1423/1800]: 100%|█████████████████████████████████████████████████████| 9/9 [00:00<00:00, 149.88it/s, loss=2.98]\n"
     ]
    },
    {
     "name": "stdout",
     "output_type": "stream",
     "text": [
      "Epoch [1423/1800]: Train loss: 2.1288, Valid loss: 1.8362\n"
     ]
    },
    {
     "name": "stderr",
     "output_type": "stream",
     "text": [
      "Epoch [1424/1800]: 100%|█████████████████████████████████████████████████████| 9/9 [00:00<00:00, 147.94it/s, loss=2.59]\n"
     ]
    },
    {
     "name": "stdout",
     "output_type": "stream",
     "text": [
      "Epoch [1424/1800]: Train loss: 3.2879, Valid loss: 2.8105\n"
     ]
    },
    {
     "name": "stderr",
     "output_type": "stream",
     "text": [
      "Epoch [1425/1800]: 100%|█████████████████████████████████████████████████████| 9/9 [00:00<00:00, 145.55it/s, loss=2.54]\n"
     ]
    },
    {
     "name": "stdout",
     "output_type": "stream",
     "text": [
      "Epoch [1425/1800]: Train loss: 2.2637, Valid loss: 3.2703\n"
     ]
    },
    {
     "name": "stderr",
     "output_type": "stream",
     "text": [
      "Epoch [1426/1800]: 100%|█████████████████████████████████████████████████████| 9/9 [00:00<00:00, 152.91it/s, loss=2.03]\n"
     ]
    },
    {
     "name": "stdout",
     "output_type": "stream",
     "text": [
      "Epoch [1426/1800]: Train loss: 2.4931, Valid loss: 2.0813\n"
     ]
    },
    {
     "name": "stderr",
     "output_type": "stream",
     "text": [
      "Epoch [1427/1800]: 100%|█████████████████████████████████████████████████████| 9/9 [00:00<00:00, 147.93it/s, loss=2.27]\n"
     ]
    },
    {
     "name": "stdout",
     "output_type": "stream",
     "text": [
      "Epoch [1427/1800]: Train loss: 2.1519, Valid loss: 2.3788\n"
     ]
    },
    {
     "name": "stderr",
     "output_type": "stream",
     "text": [
      "Epoch [1428/1800]: 100%|█████████████████████████████████████████████████████| 9/9 [00:00<00:00, 145.55it/s, loss=1.77]\n"
     ]
    },
    {
     "name": "stdout",
     "output_type": "stream",
     "text": [
      "Epoch [1428/1800]: Train loss: 1.8607, Valid loss: 2.0738\n"
     ]
    },
    {
     "name": "stderr",
     "output_type": "stream",
     "text": [
      "Epoch [1429/1800]: 100%|█████████████████████████████████████████████████████| 9/9 [00:00<00:00, 155.71it/s, loss=1.63]\n"
     ]
    },
    {
     "name": "stdout",
     "output_type": "stream",
     "text": [
      "Epoch [1429/1800]: Train loss: 1.8682, Valid loss: 2.0279\n"
     ]
    },
    {
     "name": "stderr",
     "output_type": "stream",
     "text": [
      "Epoch [1430/1800]: 100%|█████████████████████████████████████████████████████| 9/9 [00:00<00:00, 150.40it/s, loss=1.59]\n"
     ]
    },
    {
     "name": "stdout",
     "output_type": "stream",
     "text": [
      "Epoch [1430/1800]: Train loss: 1.7691, Valid loss: 1.9399\n"
     ]
    },
    {
     "name": "stderr",
     "output_type": "stream",
     "text": [
      "Epoch [1431/1800]: 100%|█████████████████████████████████████████████████████| 9/9 [00:00<00:00, 145.55it/s, loss=1.79]\n"
     ]
    },
    {
     "name": "stdout",
     "output_type": "stream",
     "text": [
      "Epoch [1431/1800]: Train loss: 2.0730, Valid loss: 2.1821\n"
     ]
    },
    {
     "name": "stderr",
     "output_type": "stream",
     "text": [
      "Epoch [1432/1800]: 100%|█████████████████████████████████████████████████████| 9/9 [00:00<00:00, 151.71it/s, loss=1.55]\n"
     ]
    },
    {
     "name": "stdout",
     "output_type": "stream",
     "text": [
      "Epoch [1432/1800]: Train loss: 1.7593, Valid loss: 1.9893\n"
     ]
    },
    {
     "name": "stderr",
     "output_type": "stream",
     "text": [
      "Epoch [1433/1800]: 100%|██████████████████████████████████████████████████████| 9/9 [00:00<00:00, 147.08it/s, loss=2.1]\n"
     ]
    },
    {
     "name": "stdout",
     "output_type": "stream",
     "text": [
      "Epoch [1433/1800]: Train loss: 1.9521, Valid loss: 2.1594\n"
     ]
    },
    {
     "name": "stderr",
     "output_type": "stream",
     "text": [
      "Epoch [1434/1800]: 100%|█████████████████████████████████████████████████████| 9/9 [00:00<00:00, 145.55it/s, loss=1.98]\n"
     ]
    },
    {
     "name": "stdout",
     "output_type": "stream",
     "text": [
      "Epoch [1434/1800]: Train loss: 1.8808, Valid loss: 2.2912\n"
     ]
    },
    {
     "name": "stderr",
     "output_type": "stream",
     "text": [
      "Epoch [1435/1800]: 100%|█████████████████████████████████████████████████████| 9/9 [00:00<00:00, 152.95it/s, loss=2.08]\n"
     ]
    },
    {
     "name": "stdout",
     "output_type": "stream",
     "text": [
      "Epoch [1435/1800]: Train loss: 2.2191, Valid loss: 2.4154\n"
     ]
    },
    {
     "name": "stderr",
     "output_type": "stream",
     "text": [
      "Epoch [1436/1800]: 100%|████████████████████████████████████████████████████████| 9/9 [00:00<00:00, 150.14it/s, loss=2]\n"
     ]
    },
    {
     "name": "stdout",
     "output_type": "stream",
     "text": [
      "Epoch [1436/1800]: Train loss: 2.1292, Valid loss: 2.6928\n"
     ]
    },
    {
     "name": "stderr",
     "output_type": "stream",
     "text": [
      "Epoch [1437/1800]: 100%|█████████████████████████████████████████████████████| 9/9 [00:00<00:00, 147.93it/s, loss=2.27]\n"
     ]
    },
    {
     "name": "stdout",
     "output_type": "stream",
     "text": [
      "Epoch [1437/1800]: Train loss: 2.1337, Valid loss: 3.2002\n"
     ]
    },
    {
     "name": "stderr",
     "output_type": "stream",
     "text": [
      "Epoch [1438/1800]: 100%|█████████████████████████████████████████████████████| 9/9 [00:00<00:00, 155.51it/s, loss=2.57]\n"
     ]
    },
    {
     "name": "stdout",
     "output_type": "stream",
     "text": [
      "Epoch [1438/1800]: Train loss: 2.4596, Valid loss: 2.2307\n"
     ]
    },
    {
     "name": "stderr",
     "output_type": "stream",
     "text": [
      "Epoch [1439/1800]: 100%|█████████████████████████████████████████████████████| 9/9 [00:00<00:00, 152.95it/s, loss=1.34]\n"
     ]
    },
    {
     "name": "stdout",
     "output_type": "stream",
     "text": [
      "Epoch [1439/1800]: Train loss: 2.0911, Valid loss: 1.9639\n"
     ]
    },
    {
     "name": "stderr",
     "output_type": "stream",
     "text": [
      "Epoch [1440/1800]: 100%|█████████████████████████████████████████████████████| 9/9 [00:00<00:00, 146.07it/s, loss=1.61]\n"
     ]
    },
    {
     "name": "stdout",
     "output_type": "stream",
     "text": [
      "Epoch [1440/1800]: Train loss: 1.8195, Valid loss: 3.0660\n"
     ]
    },
    {
     "name": "stderr",
     "output_type": "stream",
     "text": [
      "Epoch [1441/1800]: 100%|███████████████████████████████████████████████████████| 9/9 [00:00<00:00, 94.99it/s, loss=1.7]"
     ]
    },
    {
     "name": "stdout",
     "output_type": "stream",
     "text": [
      "Epoch [1441/1800]: Train loss: 2.0846, Valid loss: 2.3034"
     ]
    },
    {
     "name": "stderr",
     "output_type": "stream",
     "text": [
      "\n"
     ]
    },
    {
     "name": "stdout",
     "output_type": "stream",
     "text": [
      "\n"
     ]
    },
    {
     "name": "stderr",
     "output_type": "stream",
     "text": [
      "Epoch [1442/1800]: 100%|█████████████████████████████████████████████████████| 9/9 [00:00<00:00, 125.33it/s, loss=1.65]\n"
     ]
    },
    {
     "name": "stdout",
     "output_type": "stream",
     "text": [
      "Epoch [1442/1800]: Train loss: 1.8744, Valid loss: 2.1404\n"
     ]
    },
    {
     "name": "stderr",
     "output_type": "stream",
     "text": [
      "Epoch [1443/1800]: 100%|█████████████████████████████████████████████████████| 9/9 [00:00<00:00, 147.93it/s, loss=1.59]\n"
     ]
    },
    {
     "name": "stdout",
     "output_type": "stream",
     "text": [
      "Epoch [1443/1800]: Train loss: 1.7688, Valid loss: 1.9707\n"
     ]
    },
    {
     "name": "stderr",
     "output_type": "stream",
     "text": [
      "Epoch [1444/1800]: 100%|█████████████████████████████████████████████████████| 9/9 [00:00<00:00, 152.95it/s, loss=1.81]\n"
     ]
    },
    {
     "name": "stdout",
     "output_type": "stream",
     "text": [
      "Epoch [1444/1800]: Train loss: 1.9041, Valid loss: 2.2684\n"
     ]
    },
    {
     "name": "stderr",
     "output_type": "stream",
     "text": [
      "Epoch [1445/1800]: 100%|█████████████████████████████████████████████████████| 9/9 [00:00<00:00, 148.02it/s, loss=2.36]\n"
     ]
    },
    {
     "name": "stdout",
     "output_type": "stream",
     "text": [
      "Epoch [1445/1800]: Train loss: 1.9993, Valid loss: 2.1119\n"
     ]
    },
    {
     "name": "stderr",
     "output_type": "stream",
     "text": [
      "Epoch [1446/1800]: 100%|█████████████████████████████████████████████████████| 9/9 [00:00<00:00, 152.94it/s, loss=1.55]\n"
     ]
    },
    {
     "name": "stdout",
     "output_type": "stream",
     "text": [
      "Epoch [1446/1800]: Train loss: 2.0868, Valid loss: 2.1018\n"
     ]
    },
    {
     "name": "stderr",
     "output_type": "stream",
     "text": [
      "Epoch [1447/1800]: 100%|█████████████████████████████████████████████████████| 9/9 [00:00<00:00, 147.94it/s, loss=2.19]\n"
     ]
    },
    {
     "name": "stdout",
     "output_type": "stream",
     "text": [
      "Epoch [1447/1800]: Train loss: 2.0237, Valid loss: 2.4616\n"
     ]
    },
    {
     "name": "stderr",
     "output_type": "stream",
     "text": [
      "Epoch [1448/1800]: 100%|█████████████████████████████████████████████████████| 9/9 [00:00<00:00, 143.24it/s, loss=1.86]\n"
     ]
    },
    {
     "name": "stdout",
     "output_type": "stream",
     "text": [
      "Epoch [1448/1800]: Train loss: 1.8857, Valid loss: 2.7110\n"
     ]
    },
    {
     "name": "stderr",
     "output_type": "stream",
     "text": [
      "Epoch [1449/1800]: 100%|█████████████████████████████████████████████████████| 9/9 [00:00<00:00, 152.95it/s, loss=2.42]\n"
     ]
    },
    {
     "name": "stdout",
     "output_type": "stream",
     "text": [
      "Epoch [1449/1800]: Train loss: 2.0184, Valid loss: 2.2252\n"
     ]
    },
    {
     "name": "stderr",
     "output_type": "stream",
     "text": [
      "Epoch [1450/1800]: 100%|█████████████████████████████████████████████████████| 9/9 [00:00<00:00, 141.40it/s, loss=1.74]\n"
     ]
    },
    {
     "name": "stdout",
     "output_type": "stream",
     "text": [
      "Epoch [1450/1800]: Train loss: 1.8480, Valid loss: 1.9264\n"
     ]
    },
    {
     "name": "stderr",
     "output_type": "stream",
     "text": [
      "Epoch [1451/1800]: 100%|██████████████████████████████████████████████████████| 9/9 [00:00<00:00, 84.34it/s, loss=2.03]\n"
     ]
    },
    {
     "name": "stdout",
     "output_type": "stream",
     "text": [
      "Epoch [1451/1800]: Train loss: 1.7823, Valid loss: 2.0657\n"
     ]
    },
    {
     "name": "stderr",
     "output_type": "stream",
     "text": [
      "Epoch [1452/1800]: 100%|█████████████████████████████████████████████████████| 9/9 [00:00<00:00, 150.40it/s, loss=2.27]\n"
     ]
    },
    {
     "name": "stdout",
     "output_type": "stream",
     "text": [
      "Epoch [1452/1800]: Train loss: 1.9968, Valid loss: 2.0074\n"
     ]
    },
    {
     "name": "stderr",
     "output_type": "stream",
     "text": [
      "Epoch [1453/1800]: 100%|█████████████████████████████████████████████████████| 9/9 [00:00<00:00, 147.97it/s, loss=2.71]\n"
     ]
    },
    {
     "name": "stdout",
     "output_type": "stream",
     "text": [
      "Epoch [1453/1800]: Train loss: 2.1247, Valid loss: 2.1834\n"
     ]
    },
    {
     "name": "stderr",
     "output_type": "stream",
     "text": [
      "Epoch [1454/1800]: 100%|█████████████████████████████████████████████████████| 9/9 [00:00<00:00, 147.93it/s, loss=2.09]\n"
     ]
    },
    {
     "name": "stdout",
     "output_type": "stream",
     "text": [
      "Epoch [1454/1800]: Train loss: 2.0676, Valid loss: 2.4764\n"
     ]
    },
    {
     "name": "stderr",
     "output_type": "stream",
     "text": [
      "Epoch [1455/1800]: 100%|█████████████████████████████████████████████████████| 9/9 [00:00<00:00, 145.10it/s, loss=1.86]\n"
     ]
    },
    {
     "name": "stdout",
     "output_type": "stream",
     "text": [
      "Epoch [1455/1800]: Train loss: 1.8251, Valid loss: 2.1694\n"
     ]
    },
    {
     "name": "stderr",
     "output_type": "stream",
     "text": [
      "Epoch [1456/1800]: 100%|█████████████████████████████████████████████████████| 9/9 [00:00<00:00, 150.40it/s, loss=1.67]\n"
     ]
    },
    {
     "name": "stdout",
     "output_type": "stream",
     "text": [
      "Epoch [1456/1800]: Train loss: 1.7959, Valid loss: 2.4900\n"
     ]
    },
    {
     "name": "stderr",
     "output_type": "stream",
     "text": [
      "Epoch [1457/1800]: 100%|█████████████████████████████████████████████████████| 9/9 [00:00<00:00, 150.40it/s, loss=1.83]\n"
     ]
    },
    {
     "name": "stdout",
     "output_type": "stream",
     "text": [
      "Epoch [1457/1800]: Train loss: 1.9608, Valid loss: 3.1446\n"
     ]
    },
    {
     "name": "stderr",
     "output_type": "stream",
     "text": [
      "Epoch [1458/1800]: 100%|█████████████████████████████████████████████████████| 9/9 [00:00<00:00, 144.93it/s, loss=3.06]\n"
     ]
    },
    {
     "name": "stdout",
     "output_type": "stream",
     "text": [
      "Epoch [1458/1800]: Train loss: 2.5493, Valid loss: 2.2580\n"
     ]
    },
    {
     "name": "stderr",
     "output_type": "stream",
     "text": [
      "Epoch [1459/1800]: 100%|█████████████████████████████████████████████████████| 9/9 [00:00<00:00, 150.71it/s, loss=2.07]\n"
     ]
    },
    {
     "name": "stdout",
     "output_type": "stream",
     "text": [
      "Epoch [1459/1800]: Train loss: 2.1859, Valid loss: 1.8798\n"
     ]
    },
    {
     "name": "stderr",
     "output_type": "stream",
     "text": [
      "Epoch [1460/1800]: 100%|█████████████████████████████████████████████████████| 9/9 [00:00<00:00, 150.40it/s, loss=1.86]\n"
     ]
    },
    {
     "name": "stdout",
     "output_type": "stream",
     "text": [
      "Epoch [1460/1800]: Train loss: 2.0030, Valid loss: 2.5813\n"
     ]
    },
    {
     "name": "stderr",
     "output_type": "stream",
     "text": [
      "Epoch [1461/1800]: 100%|█████████████████████████████████████████████████████| 9/9 [00:00<00:00, 143.25it/s, loss=1.78]\n"
     ]
    },
    {
     "name": "stdout",
     "output_type": "stream",
     "text": [
      "Epoch [1461/1800]: Train loss: 1.8713, Valid loss: 2.4938\n"
     ]
    },
    {
     "name": "stderr",
     "output_type": "stream",
     "text": [
      "Epoch [1462/1800]: 100%|█████████████████████████████████████████████████████| 9/9 [00:00<00:00, 150.59it/s, loss=1.48]\n"
     ]
    },
    {
     "name": "stdout",
     "output_type": "stream",
     "text": [
      "Epoch [1462/1800]: Train loss: 1.9061, Valid loss: 1.9750\n"
     ]
    },
    {
     "name": "stderr",
     "output_type": "stream",
     "text": [
      "Epoch [1463/1800]: 100%|█████████████████████████████████████████████████████| 9/9 [00:00<00:00, 147.94it/s, loss=2.59]\n"
     ]
    },
    {
     "name": "stdout",
     "output_type": "stream",
     "text": [
      "Epoch [1463/1800]: Train loss: 1.9043, Valid loss: 2.0783\n"
     ]
    },
    {
     "name": "stderr",
     "output_type": "stream",
     "text": [
      "Epoch [1464/1800]: 100%|█████████████████████████████████████████████████████| 9/9 [00:00<00:00, 147.93it/s, loss=1.69]\n"
     ]
    },
    {
     "name": "stdout",
     "output_type": "stream",
     "text": [
      "Epoch [1464/1800]: Train loss: 1.8159, Valid loss: 2.2029\n"
     ]
    },
    {
     "name": "stderr",
     "output_type": "stream",
     "text": [
      "Epoch [1465/1800]: 100%|█████████████████████████████████████████████████████| 9/9 [00:00<00:00, 150.40it/s, loss=2.06]\n"
     ]
    },
    {
     "name": "stdout",
     "output_type": "stream",
     "text": [
      "Epoch [1465/1800]: Train loss: 2.1731, Valid loss: 1.8966\n"
     ]
    },
    {
     "name": "stderr",
     "output_type": "stream",
     "text": [
      "Epoch [1466/1800]: 100%|█████████████████████████████████████████████████████| 9/9 [00:00<00:00, 151.72it/s, loss=1.71]\n"
     ]
    },
    {
     "name": "stdout",
     "output_type": "stream",
     "text": [
      "Epoch [1466/1800]: Train loss: 2.3795, Valid loss: 2.9561\n"
     ]
    },
    {
     "name": "stderr",
     "output_type": "stream",
     "text": [
      "Epoch [1467/1800]: 100%|█████████████████████████████████████████████████████| 9/9 [00:00<00:00, 150.40it/s, loss=1.63]\n"
     ]
    },
    {
     "name": "stdout",
     "output_type": "stream",
     "text": [
      "Epoch [1467/1800]: Train loss: 2.0207, Valid loss: 2.6877\n"
     ]
    },
    {
     "name": "stderr",
     "output_type": "stream",
     "text": [
      "Epoch [1468/1800]: 100%|█████████████████████████████████████████████████████| 9/9 [00:00<00:00, 147.94it/s, loss=2.68]\n"
     ]
    },
    {
     "name": "stdout",
     "output_type": "stream",
     "text": [
      "Epoch [1468/1800]: Train loss: 2.2386, Valid loss: 3.1167\n"
     ]
    },
    {
     "name": "stderr",
     "output_type": "stream",
     "text": [
      "Epoch [1469/1800]: 100%|██████████████████████████████████████████████████████| 9/9 [00:00<00:00, 152.95it/s, loss=2.1]\n"
     ]
    },
    {
     "name": "stdout",
     "output_type": "stream",
     "text": [
      "Epoch [1469/1800]: Train loss: 2.1672, Valid loss: 2.1516\n"
     ]
    },
    {
     "name": "stderr",
     "output_type": "stream",
     "text": [
      "Epoch [1470/1800]: 100%|█████████████████████████████████████████████████████| 9/9 [00:00<00:00, 150.40it/s, loss=1.51]\n"
     ]
    },
    {
     "name": "stdout",
     "output_type": "stream",
     "text": [
      "Epoch [1470/1800]: Train loss: 1.9087, Valid loss: 2.1131\n"
     ]
    },
    {
     "name": "stderr",
     "output_type": "stream",
     "text": [
      "Epoch [1471/1800]: 100%|█████████████████████████████████████████████████████| 9/9 [00:00<00:00, 148.04it/s, loss=1.81]\n"
     ]
    },
    {
     "name": "stdout",
     "output_type": "stream",
     "text": [
      "Epoch [1471/1800]: Train loss: 2.0692, Valid loss: 1.9634\n"
     ]
    },
    {
     "name": "stderr",
     "output_type": "stream",
     "text": [
      "Epoch [1472/1800]: 100%|██████████████████████████████████████████████████████| 9/9 [00:00<00:00, 143.24it/s, loss=1.9]\n"
     ]
    },
    {
     "name": "stdout",
     "output_type": "stream",
     "text": [
      "Epoch [1472/1800]: Train loss: 1.9437, Valid loss: 2.2498\n"
     ]
    },
    {
     "name": "stderr",
     "output_type": "stream",
     "text": [
      "Epoch [1473/1800]: 100%|█████████████████████████████████████████████████████| 9/9 [00:00<00:00, 145.55it/s, loss=1.88]\n"
     ]
    },
    {
     "name": "stdout",
     "output_type": "stream",
     "text": [
      "Epoch [1473/1800]: Train loss: 1.7704, Valid loss: 2.1634\n"
     ]
    },
    {
     "name": "stderr",
     "output_type": "stream",
     "text": [
      "Epoch [1474/1800]: 100%|█████████████████████████████████████████████████████| 9/9 [00:00<00:00, 150.40it/s, loss=1.75]\n"
     ]
    },
    {
     "name": "stdout",
     "output_type": "stream",
     "text": [
      "Epoch [1474/1800]: Train loss: 1.8385, Valid loss: 2.9135\n"
     ]
    },
    {
     "name": "stderr",
     "output_type": "stream",
     "text": [
      "Epoch [1475/1800]: 100%|█████████████████████████████████████████████████████| 9/9 [00:00<00:00, 145.55it/s, loss=1.49]\n"
     ]
    },
    {
     "name": "stdout",
     "output_type": "stream",
     "text": [
      "Epoch [1475/1800]: Train loss: 2.1701, Valid loss: 1.8007\n"
     ]
    },
    {
     "name": "stderr",
     "output_type": "stream",
     "text": [
      "Epoch [1476/1800]: 100%|██████████████████████████████████████████████████████| 9/9 [00:00<00:00, 147.57it/s, loss=1.6]\n"
     ]
    },
    {
     "name": "stdout",
     "output_type": "stream",
     "text": [
      "Epoch [1476/1800]: Train loss: 2.1931, Valid loss: 2.5305\n"
     ]
    },
    {
     "name": "stderr",
     "output_type": "stream",
     "text": [
      "Epoch [1477/1800]: 100%|██████████████████████████████████████████████████████| 9/9 [00:00<00:00, 143.44it/s, loss=1.8]\n"
     ]
    },
    {
     "name": "stdout",
     "output_type": "stream",
     "text": [
      "Epoch [1477/1800]: Train loss: 2.0025, Valid loss: 1.9232\n"
     ]
    },
    {
     "name": "stderr",
     "output_type": "stream",
     "text": [
      "Epoch [1478/1800]: 100%|█████████████████████████████████████████████████████| 9/9 [00:00<00:00, 150.40it/s, loss=2.01]\n"
     ]
    },
    {
     "name": "stdout",
     "output_type": "stream",
     "text": [
      "Epoch [1478/1800]: Train loss: 1.8266, Valid loss: 2.3669\n"
     ]
    },
    {
     "name": "stderr",
     "output_type": "stream",
     "text": [
      "Epoch [1479/1800]: 100%|██████████████████████████████████████████████████████| 9/9 [00:00<00:00, 94.99it/s, loss=1.43]"
     ]
    },
    {
     "name": "stdout",
     "output_type": "stream",
     "text": [
      "Epoch [1479/1800]: Train loss: 1.9409, Valid loss: 1.9163"
     ]
    },
    {
     "name": "stderr",
     "output_type": "stream",
     "text": [
      "\n"
     ]
    },
    {
     "name": "stdout",
     "output_type": "stream",
     "text": [
      "\n"
     ]
    },
    {
     "name": "stderr",
     "output_type": "stream",
     "text": [
      "Epoch [1480/1800]: 100%|██████████████████████████████████████████████████████| 9/9 [00:00<00:00, 122.26it/s, loss=1.4]\n"
     ]
    },
    {
     "name": "stdout",
     "output_type": "stream",
     "text": [
      "Epoch [1480/1800]: Train loss: 1.9172, Valid loss: 2.3690\n"
     ]
    },
    {
     "name": "stderr",
     "output_type": "stream",
     "text": [
      "Epoch [1481/1800]: 100%|█████████████████████████████████████████████████████| 9/9 [00:00<00:00, 155.59it/s, loss=1.76]\n"
     ]
    },
    {
     "name": "stdout",
     "output_type": "stream",
     "text": [
      "Epoch [1481/1800]: Train loss: 1.8412, Valid loss: 1.9010\n"
     ]
    },
    {
     "name": "stderr",
     "output_type": "stream",
     "text": [
      "Epoch [1482/1800]: 100%|██████████████████████████████████████████████████████| 9/9 [00:00<00:00, 147.93it/s, loss=1.5]\n"
     ]
    },
    {
     "name": "stdout",
     "output_type": "stream",
     "text": [
      "Epoch [1482/1800]: Train loss: 1.7768, Valid loss: 2.4974\n"
     ]
    },
    {
     "name": "stderr",
     "output_type": "stream",
     "text": [
      "Epoch [1483/1800]: 100%|██████████████████████████████████████████████████████| 9/9 [00:00<00:00, 150.40it/s, loss=1.7]\n"
     ]
    },
    {
     "name": "stdout",
     "output_type": "stream",
     "text": [
      "Epoch [1483/1800]: Train loss: 1.7951, Valid loss: 1.6529\n",
      "Saving model with loss 1.653...\n"
     ]
    },
    {
     "name": "stderr",
     "output_type": "stream",
     "text": [
      "Epoch [1484/1800]: 100%|█████████████████████████████████████████████████████| 9/9 [00:00<00:00, 150.40it/s, loss=1.37]\n"
     ]
    },
    {
     "name": "stdout",
     "output_type": "stream",
     "text": [
      "Epoch [1484/1800]: Train loss: 1.7480, Valid loss: 2.0455\n"
     ]
    },
    {
     "name": "stderr",
     "output_type": "stream",
     "text": [
      "Epoch [1485/1800]: 100%|█████████████████████████████████████████████████████| 9/9 [00:00<00:00, 147.79it/s, loss=2.51]\n"
     ]
    },
    {
     "name": "stdout",
     "output_type": "stream",
     "text": [
      "Epoch [1485/1800]: Train loss: 1.9148, Valid loss: 4.1435\n"
     ]
    },
    {
     "name": "stderr",
     "output_type": "stream",
     "text": [
      "Epoch [1486/1800]: 100%|█████████████████████████████████████████████████████| 9/9 [00:00<00:00, 152.95it/s, loss=2.27]\n"
     ]
    },
    {
     "name": "stdout",
     "output_type": "stream",
     "text": [
      "Epoch [1486/1800]: Train loss: 2.5531, Valid loss: 3.4727\n"
     ]
    },
    {
     "name": "stderr",
     "output_type": "stream",
     "text": [
      "Epoch [1487/1800]: 100%|█████████████████████████████████████████████████████| 9/9 [00:00<00:00, 142.77it/s, loss=2.13]\n"
     ]
    },
    {
     "name": "stdout",
     "output_type": "stream",
     "text": [
      "Epoch [1487/1800]: Train loss: 2.5491, Valid loss: 2.2680\n"
     ]
    },
    {
     "name": "stderr",
     "output_type": "stream",
     "text": [
      "Epoch [1488/1800]: 100%|█████████████████████████████████████████████████████| 9/9 [00:00<00:00, 150.21it/s, loss=1.79]\n"
     ]
    },
    {
     "name": "stdout",
     "output_type": "stream",
     "text": [
      "Epoch [1488/1800]: Train loss: 1.8114, Valid loss: 2.5360\n"
     ]
    },
    {
     "name": "stderr",
     "output_type": "stream",
     "text": [
      "Epoch [1489/1800]: 100%|█████████████████████████████████████████████████████| 9/9 [00:00<00:00, 150.40it/s, loss=2.04]\n"
     ]
    },
    {
     "name": "stdout",
     "output_type": "stream",
     "text": [
      "Epoch [1489/1800]: Train loss: 1.9949, Valid loss: 2.1858\n"
     ]
    },
    {
     "name": "stderr",
     "output_type": "stream",
     "text": [
      "Epoch [1490/1800]: 100%|█████████████████████████████████████████████████████| 9/9 [00:00<00:00, 150.40it/s, loss=1.88]\n"
     ]
    },
    {
     "name": "stdout",
     "output_type": "stream",
     "text": [
      "Epoch [1490/1800]: Train loss: 1.8438, Valid loss: 2.1175\n"
     ]
    },
    {
     "name": "stderr",
     "output_type": "stream",
     "text": [
      "Epoch [1491/1800]: 100%|█████████████████████████████████████████████████████| 9/9 [00:00<00:00, 150.61it/s, loss=1.83]\n"
     ]
    },
    {
     "name": "stdout",
     "output_type": "stream",
     "text": [
      "Epoch [1491/1800]: Train loss: 1.8092, Valid loss: 2.0640\n"
     ]
    },
    {
     "name": "stderr",
     "output_type": "stream",
     "text": [
      "Epoch [1492/1800]: 100%|█████████████████████████████████████████████████████| 9/9 [00:00<00:00, 147.93it/s, loss=1.68]\n"
     ]
    },
    {
     "name": "stdout",
     "output_type": "stream",
     "text": [
      "Epoch [1492/1800]: Train loss: 1.9253, Valid loss: 2.1143\n"
     ]
    },
    {
     "name": "stderr",
     "output_type": "stream",
     "text": [
      "Epoch [1493/1800]: 100%|██████████████████████████████████████████████████████| 9/9 [00:00<00:00, 85.45it/s, loss=3.13]\n"
     ]
    },
    {
     "name": "stdout",
     "output_type": "stream",
     "text": [
      "Epoch [1493/1800]: Train loss: 1.9551, Valid loss: 2.5968\n"
     ]
    },
    {
     "name": "stderr",
     "output_type": "stream",
     "text": [
      "Epoch [1494/1800]: 100%|█████████████████████████████████████████████████████| 9/9 [00:00<00:00, 150.39it/s, loss=2.35]\n"
     ]
    },
    {
     "name": "stdout",
     "output_type": "stream",
     "text": [
      "Epoch [1494/1800]: Train loss: 2.0219, Valid loss: 2.2906\n"
     ]
    },
    {
     "name": "stderr",
     "output_type": "stream",
     "text": [
      "Epoch [1495/1800]: 100%|█████████████████████████████████████████████████████| 9/9 [00:00<00:00, 145.55it/s, loss=2.14]\n"
     ]
    },
    {
     "name": "stdout",
     "output_type": "stream",
     "text": [
      "Epoch [1495/1800]: Train loss: 1.9012, Valid loss: 2.8200\n"
     ]
    },
    {
     "name": "stderr",
     "output_type": "stream",
     "text": [
      "Epoch [1496/1800]: 100%|█████████████████████████████████████████████████████| 9/9 [00:00<00:00, 152.95it/s, loss=2.19]\n"
     ]
    },
    {
     "name": "stdout",
     "output_type": "stream",
     "text": [
      "Epoch [1496/1800]: Train loss: 2.1664, Valid loss: 1.8810\n"
     ]
    },
    {
     "name": "stderr",
     "output_type": "stream",
     "text": [
      "Epoch [1497/1800]: 100%|█████████████████████████████████████████████████████| 9/9 [00:00<00:00, 147.94it/s, loss=1.56]\n"
     ]
    },
    {
     "name": "stdout",
     "output_type": "stream",
     "text": [
      "Epoch [1497/1800]: Train loss: 1.8961, Valid loss: 1.9465\n"
     ]
    },
    {
     "name": "stderr",
     "output_type": "stream",
     "text": [
      "Epoch [1498/1800]: 100%|█████████████████████████████████████████████████████| 9/9 [00:00<00:00, 147.93it/s, loss=2.36]\n"
     ]
    },
    {
     "name": "stdout",
     "output_type": "stream",
     "text": [
      "Epoch [1498/1800]: Train loss: 2.3845, Valid loss: 3.4797\n"
     ]
    },
    {
     "name": "stderr",
     "output_type": "stream",
     "text": [
      "Epoch [1499/1800]: 100%|█████████████████████████████████████████████████████| 9/9 [00:00<00:00, 150.48it/s, loss=2.92]\n"
     ]
    },
    {
     "name": "stdout",
     "output_type": "stream",
     "text": [
      "Epoch [1499/1800]: Train loss: 2.5506, Valid loss: 3.1288\n"
     ]
    },
    {
     "name": "stderr",
     "output_type": "stream",
     "text": [
      "Epoch [1500/1800]: 100%|█████████████████████████████████████████████████████| 9/9 [00:00<00:00, 150.40it/s, loss=1.85]\n"
     ]
    },
    {
     "name": "stdout",
     "output_type": "stream",
     "text": [
      "Epoch [1500/1800]: Train loss: 2.1787, Valid loss: 1.9248\n"
     ]
    },
    {
     "name": "stderr",
     "output_type": "stream",
     "text": [
      "Epoch [1501/1800]: 100%|█████████████████████████████████████████████████████| 9/9 [00:00<00:00, 145.55it/s, loss=1.72]\n"
     ]
    },
    {
     "name": "stdout",
     "output_type": "stream",
     "text": [
      "Epoch [1501/1800]: Train loss: 1.8975, Valid loss: 1.7490\n"
     ]
    },
    {
     "name": "stderr",
     "output_type": "stream",
     "text": [
      "Epoch [1502/1800]: 100%|█████████████████████████████████████████████████████| 9/9 [00:00<00:00, 150.40it/s, loss=1.66]\n"
     ]
    },
    {
     "name": "stdout",
     "output_type": "stream",
     "text": [
      "Epoch [1502/1800]: Train loss: 2.0645, Valid loss: 2.5298\n"
     ]
    },
    {
     "name": "stderr",
     "output_type": "stream",
     "text": [
      "Epoch [1503/1800]: 100%|█████████████████████████████████████████████████████| 9/9 [00:00<00:00, 150.40it/s, loss=1.72]\n"
     ]
    },
    {
     "name": "stdout",
     "output_type": "stream",
     "text": [
      "Epoch [1503/1800]: Train loss: 1.8723, Valid loss: 2.4500\n"
     ]
    },
    {
     "name": "stderr",
     "output_type": "stream",
     "text": [
      "Epoch [1504/1800]: 100%|█████████████████████████████████████████████████████| 9/9 [00:00<00:00, 147.94it/s, loss=1.77]\n"
     ]
    },
    {
     "name": "stdout",
     "output_type": "stream",
     "text": [
      "Epoch [1504/1800]: Train loss: 1.8769, Valid loss: 2.4383\n"
     ]
    },
    {
     "name": "stderr",
     "output_type": "stream",
     "text": [
      "Epoch [1505/1800]: 100%|█████████████████████████████████████████████████████| 9/9 [00:00<00:00, 152.95it/s, loss=2.53]\n"
     ]
    },
    {
     "name": "stdout",
     "output_type": "stream",
     "text": [
      "Epoch [1505/1800]: Train loss: 2.3987, Valid loss: 1.9241\n"
     ]
    },
    {
     "name": "stderr",
     "output_type": "stream",
     "text": [
      "Epoch [1506/1800]: 100%|█████████████████████████████████████████████████████| 9/9 [00:00<00:00, 148.03it/s, loss=1.78]\n"
     ]
    },
    {
     "name": "stdout",
     "output_type": "stream",
     "text": [
      "Epoch [1506/1800]: Train loss: 2.2162, Valid loss: 2.0775\n"
     ]
    },
    {
     "name": "stderr",
     "output_type": "stream",
     "text": [
      "Epoch [1507/1800]: 100%|█████████████████████████████████████████████████████| 9/9 [00:00<00:00, 151.64it/s, loss=1.96]\n"
     ]
    },
    {
     "name": "stdout",
     "output_type": "stream",
     "text": [
      "Epoch [1507/1800]: Train loss: 2.1918, Valid loss: 2.1351\n"
     ]
    },
    {
     "name": "stderr",
     "output_type": "stream",
     "text": [
      "Epoch [1508/1800]: 100%|█████████████████████████████████████████████████████| 9/9 [00:00<00:00, 152.95it/s, loss=2.15]\n"
     ]
    },
    {
     "name": "stdout",
     "output_type": "stream",
     "text": [
      "Epoch [1508/1800]: Train loss: 1.9206, Valid loss: 2.1726\n"
     ]
    },
    {
     "name": "stderr",
     "output_type": "stream",
     "text": [
      "Epoch [1509/1800]: 100%|█████████████████████████████████████████████████████| 9/9 [00:00<00:00, 150.17it/s, loss=2.82]\n"
     ]
    },
    {
     "name": "stdout",
     "output_type": "stream",
     "text": [
      "Epoch [1509/1800]: Train loss: 2.2287, Valid loss: 2.7019\n"
     ]
    },
    {
     "name": "stderr",
     "output_type": "stream",
     "text": [
      "Epoch [1510/1800]: 100%|█████████████████████████████████████████████████████| 9/9 [00:00<00:00, 147.93it/s, loss=2.06]\n"
     ]
    },
    {
     "name": "stdout",
     "output_type": "stream",
     "text": [
      "Epoch [1510/1800]: Train loss: 2.2514, Valid loss: 3.3142\n"
     ]
    },
    {
     "name": "stderr",
     "output_type": "stream",
     "text": [
      "Epoch [1511/1800]: 100%|█████████████████████████████████████████████████████| 9/9 [00:00<00:00, 150.40it/s, loss=2.04]\n"
     ]
    },
    {
     "name": "stdout",
     "output_type": "stream",
     "text": [
      "Epoch [1511/1800]: Train loss: 2.3841, Valid loss: 1.9907\n"
     ]
    },
    {
     "name": "stderr",
     "output_type": "stream",
     "text": [
      "Epoch [1512/1800]: 100%|█████████████████████████████████████████████████████| 9/9 [00:00<00:00, 145.55it/s, loss=2.08]\n"
     ]
    },
    {
     "name": "stdout",
     "output_type": "stream",
     "text": [
      "Epoch [1512/1800]: Train loss: 1.8206, Valid loss: 2.0175\n"
     ]
    },
    {
     "name": "stderr",
     "output_type": "stream",
     "text": [
      "Epoch [1513/1800]: 100%|█████████████████████████████████████████████████████| 9/9 [00:00<00:00, 147.94it/s, loss=2.98]\n"
     ]
    },
    {
     "name": "stdout",
     "output_type": "stream",
     "text": [
      "Epoch [1513/1800]: Train loss: 1.9793, Valid loss: 3.1260\n"
     ]
    },
    {
     "name": "stderr",
     "output_type": "stream",
     "text": [
      "Epoch [1514/1800]: 100%|█████████████████████████████████████████████████████| 9/9 [00:00<00:00, 146.01it/s, loss=1.62]\n"
     ]
    },
    {
     "name": "stdout",
     "output_type": "stream",
     "text": [
      "Epoch [1514/1800]: Train loss: 2.0311, Valid loss: 2.1557\n"
     ]
    },
    {
     "name": "stderr",
     "output_type": "stream",
     "text": [
      "Epoch [1515/1800]: 100%|█████████████████████████████████████████████████████| 9/9 [00:00<00:00, 145.65it/s, loss=2.62]\n"
     ]
    },
    {
     "name": "stdout",
     "output_type": "stream",
     "text": [
      "Epoch [1515/1800]: Train loss: 2.0720, Valid loss: 1.8398\n"
     ]
    },
    {
     "name": "stderr",
     "output_type": "stream",
     "text": [
      "Epoch [1516/1800]: 100%|██████████████████████████████████████████████████████| 9/9 [00:00<00:00, 143.24it/s, loss=1.8]\n"
     ]
    },
    {
     "name": "stdout",
     "output_type": "stream",
     "text": [
      "Epoch [1516/1800]: Train loss: 1.8087, Valid loss: 2.8555\n"
     ]
    },
    {
     "name": "stderr",
     "output_type": "stream",
     "text": [
      "Epoch [1517/1800]: 100%|█████████████████████████████████████████████████████| 9/9 [00:00<00:00, 121.95it/s, loss=1.69]\n"
     ]
    },
    {
     "name": "stdout",
     "output_type": "stream",
     "text": [
      "Epoch [1517/1800]: Train loss: 1.8631, Valid loss: 2.4298\n"
     ]
    },
    {
     "name": "stderr",
     "output_type": "stream",
     "text": [
      "Epoch [1518/1800]: 100%|█████████████████████████████████████████████████████| 9/9 [00:00<00:00, 130.97it/s, loss=1.52]\n"
     ]
    },
    {
     "name": "stdout",
     "output_type": "stream",
     "text": [
      "Epoch [1518/1800]: Train loss: 1.7591, Valid loss: 2.1109\n"
     ]
    },
    {
     "name": "stderr",
     "output_type": "stream",
     "text": [
      "Epoch [1519/1800]: 100%|█████████████████████████████████████████████████████| 9/9 [00:00<00:00, 145.55it/s, loss=2.26]\n"
     ]
    },
    {
     "name": "stdout",
     "output_type": "stream",
     "text": [
      "Epoch [1519/1800]: Train loss: 1.7872, Valid loss: 1.9303\n"
     ]
    },
    {
     "name": "stderr",
     "output_type": "stream",
     "text": [
      "Epoch [1520/1800]: 100%|█████████████████████████████████████████████████████| 9/9 [00:00<00:00, 148.18it/s, loss=1.98]\n"
     ]
    },
    {
     "name": "stdout",
     "output_type": "stream",
     "text": [
      "Epoch [1520/1800]: Train loss: 1.9413, Valid loss: 2.6055\n"
     ]
    },
    {
     "name": "stderr",
     "output_type": "stream",
     "text": [
      "Epoch [1521/1800]: 100%|█████████████████████████████████████████████████████| 9/9 [00:00<00:00, 150.47it/s, loss=2.31]\n"
     ]
    },
    {
     "name": "stdout",
     "output_type": "stream",
     "text": [
      "Epoch [1521/1800]: Train loss: 2.0067, Valid loss: 1.8959\n"
     ]
    },
    {
     "name": "stderr",
     "output_type": "stream",
     "text": [
      "Epoch [1522/1800]: 100%|████████████████████████████████████████████████████████| 9/9 [00:00<00:00, 150.40it/s, loss=2]\n"
     ]
    },
    {
     "name": "stdout",
     "output_type": "stream",
     "text": [
      "Epoch [1522/1800]: Train loss: 1.8043, Valid loss: 2.0435\n"
     ]
    },
    {
     "name": "stderr",
     "output_type": "stream",
     "text": [
      "Epoch [1523/1800]: 100%|█████████████████████████████████████████████████████| 9/9 [00:00<00:00, 150.40it/s, loss=2.14]\n"
     ]
    },
    {
     "name": "stdout",
     "output_type": "stream",
     "text": [
      "Epoch [1523/1800]: Train loss: 1.9308, Valid loss: 3.9809\n"
     ]
    },
    {
     "name": "stderr",
     "output_type": "stream",
     "text": [
      "Epoch [1524/1800]: 100%|█████████████████████████████████████████████████████| 9/9 [00:00<00:00, 145.55it/s, loss=1.71]\n"
     ]
    },
    {
     "name": "stdout",
     "output_type": "stream",
     "text": [
      "Epoch [1524/1800]: Train loss: 2.1322, Valid loss: 3.3751\n"
     ]
    },
    {
     "name": "stderr",
     "output_type": "stream",
     "text": [
      "Epoch [1525/1800]: 100%|█████████████████████████████████████████████████████| 9/9 [00:00<00:00, 152.95it/s, loss=2.71]\n"
     ]
    },
    {
     "name": "stdout",
     "output_type": "stream",
     "text": [
      "Epoch [1525/1800]: Train loss: 2.4101, Valid loss: 1.7653\n"
     ]
    },
    {
     "name": "stderr",
     "output_type": "stream",
     "text": [
      "Epoch [1526/1800]: 100%|█████████████████████████████████████████████████████| 9/9 [00:00<00:00, 143.24it/s, loss=1.93]\n"
     ]
    },
    {
     "name": "stdout",
     "output_type": "stream",
     "text": [
      "Epoch [1526/1800]: Train loss: 2.2093, Valid loss: 2.2592\n"
     ]
    },
    {
     "name": "stderr",
     "output_type": "stream",
     "text": [
      "Epoch [1527/1800]: 100%|█████████████████████████████████████████████████████| 9/9 [00:00<00:00, 150.40it/s, loss=1.59]\n"
     ]
    },
    {
     "name": "stdout",
     "output_type": "stream",
     "text": [
      "Epoch [1527/1800]: Train loss: 1.7765, Valid loss: 1.9830\n"
     ]
    },
    {
     "name": "stderr",
     "output_type": "stream",
     "text": [
      "Epoch [1528/1800]: 100%|█████████████████████████████████████████████████████| 9/9 [00:00<00:00, 146.38it/s, loss=2.07]\n"
     ]
    },
    {
     "name": "stdout",
     "output_type": "stream",
     "text": [
      "Epoch [1528/1800]: Train loss: 1.9247, Valid loss: 2.1812\n"
     ]
    },
    {
     "name": "stderr",
     "output_type": "stream",
     "text": [
      "Epoch [1529/1800]: 100%|█████████████████████████████████████████████████████| 9/9 [00:00<00:00, 150.42it/s, loss=1.23]\n"
     ]
    },
    {
     "name": "stdout",
     "output_type": "stream",
     "text": [
      "Epoch [1529/1800]: Train loss: 1.8143, Valid loss: 1.8595\n"
     ]
    },
    {
     "name": "stderr",
     "output_type": "stream",
     "text": [
      "Epoch [1530/1800]: 100%|█████████████████████████████████████████████████████| 9/9 [00:00<00:00, 145.55it/s, loss=1.56]\n"
     ]
    },
    {
     "name": "stdout",
     "output_type": "stream",
     "text": [
      "Epoch [1530/1800]: Train loss: 1.7615, Valid loss: 2.5564\n"
     ]
    },
    {
     "name": "stderr",
     "output_type": "stream",
     "text": [
      "Epoch [1531/1800]: 100%|█████████████████████████████████████████████████████| 9/9 [00:00<00:00, 152.39it/s, loss=2.06]\n"
     ]
    },
    {
     "name": "stdout",
     "output_type": "stream",
     "text": [
      "Epoch [1531/1800]: Train loss: 1.9751, Valid loss: 2.7788\n"
     ]
    },
    {
     "name": "stderr",
     "output_type": "stream",
     "text": [
      "Epoch [1532/1800]: 100%|█████████████████████████████████████████████████████| 9/9 [00:00<00:00, 152.95it/s, loss=1.58]\n"
     ]
    },
    {
     "name": "stdout",
     "output_type": "stream",
     "text": [
      "Epoch [1532/1800]: Train loss: 1.9376, Valid loss: 2.2033\n"
     ]
    },
    {
     "name": "stderr",
     "output_type": "stream",
     "text": [
      "Epoch [1533/1800]: 100%|█████████████████████████████████████████████████████| 9/9 [00:00<00:00, 150.36it/s, loss=2.54]\n"
     ]
    },
    {
     "name": "stdout",
     "output_type": "stream",
     "text": [
      "Epoch [1533/1800]: Train loss: 2.1543, Valid loss: 1.8689\n"
     ]
    },
    {
     "name": "stderr",
     "output_type": "stream",
     "text": [
      "Epoch [1534/1800]: 100%|█████████████████████████████████████████████████████| 9/9 [00:00<00:00, 154.24it/s, loss=2.74]\n"
     ]
    },
    {
     "name": "stdout",
     "output_type": "stream",
     "text": [
      "Epoch [1534/1800]: Train loss: 1.8588, Valid loss: 2.6330\n"
     ]
    },
    {
     "name": "stderr",
     "output_type": "stream",
     "text": [
      "Epoch [1535/1800]: 100%|██████████████████████████████████████████████████████| 9/9 [00:00<00:00, 86.77it/s, loss=1.51]\n"
     ]
    },
    {
     "name": "stdout",
     "output_type": "stream",
     "text": [
      "Epoch [1535/1800]: Train loss: 1.9552, Valid loss: 1.9097\n"
     ]
    },
    {
     "name": "stderr",
     "output_type": "stream",
     "text": [
      "Epoch [1536/1800]: 100%|█████████████████████████████████████████████████████| 9/9 [00:00<00:00, 152.95it/s, loss=1.33]\n"
     ]
    },
    {
     "name": "stdout",
     "output_type": "stream",
     "text": [
      "Epoch [1536/1800]: Train loss: 1.8940, Valid loss: 2.2810\n"
     ]
    },
    {
     "name": "stderr",
     "output_type": "stream",
     "text": [
      "Epoch [1537/1800]: 100%|█████████████████████████████████████████████████████| 9/9 [00:00<00:00, 147.92it/s, loss=1.72]\n"
     ]
    },
    {
     "name": "stdout",
     "output_type": "stream",
     "text": [
      "Epoch [1537/1800]: Train loss: 1.9877, Valid loss: 1.8742\n"
     ]
    },
    {
     "name": "stderr",
     "output_type": "stream",
     "text": [
      "Epoch [1538/1800]: 100%|█████████████████████████████████████████████████████| 9/9 [00:00<00:00, 150.40it/s, loss=1.92]\n"
     ]
    },
    {
     "name": "stdout",
     "output_type": "stream",
     "text": [
      "Epoch [1538/1800]: Train loss: 1.8984, Valid loss: 2.0606\n"
     ]
    },
    {
     "name": "stderr",
     "output_type": "stream",
     "text": [
      "Epoch [1539/1800]: 100%|█████████████████████████████████████████████████████| 9/9 [00:00<00:00, 148.76it/s, loss=1.57]\n"
     ]
    },
    {
     "name": "stdout",
     "output_type": "stream",
     "text": [
      "Epoch [1539/1800]: Train loss: 2.2759, Valid loss: 2.5025\n"
     ]
    },
    {
     "name": "stderr",
     "output_type": "stream",
     "text": [
      "Epoch [1540/1800]: 100%|█████████████████████████████████████████████████████| 9/9 [00:00<00:00, 150.40it/s, loss=2.51]\n"
     ]
    },
    {
     "name": "stdout",
     "output_type": "stream",
     "text": [
      "Epoch [1540/1800]: Train loss: 2.2298, Valid loss: 1.8204\n"
     ]
    },
    {
     "name": "stderr",
     "output_type": "stream",
     "text": [
      "Epoch [1541/1800]: 100%|█████████████████████████████████████████████████████| 9/9 [00:00<00:00, 148.35it/s, loss=1.67]\n"
     ]
    },
    {
     "name": "stdout",
     "output_type": "stream",
     "text": [
      "Epoch [1541/1800]: Train loss: 2.3927, Valid loss: 2.9054\n"
     ]
    },
    {
     "name": "stderr",
     "output_type": "stream",
     "text": [
      "Epoch [1542/1800]: 100%|█████████████████████████████████████████████████████| 9/9 [00:00<00:00, 150.40it/s, loss=2.33]\n"
     ]
    },
    {
     "name": "stdout",
     "output_type": "stream",
     "text": [
      "Epoch [1542/1800]: Train loss: 2.0736, Valid loss: 2.1222\n"
     ]
    },
    {
     "name": "stderr",
     "output_type": "stream",
     "text": [
      "Epoch [1543/1800]: 100%|█████████████████████████████████████████████████████| 9/9 [00:00<00:00, 152.40it/s, loss=1.82]\n"
     ]
    },
    {
     "name": "stdout",
     "output_type": "stream",
     "text": [
      "Epoch [1543/1800]: Train loss: 1.7526, Valid loss: 2.2174\n"
     ]
    },
    {
     "name": "stderr",
     "output_type": "stream",
     "text": [
      "Epoch [1544/1800]: 100%|█████████████████████████████████████████████████████| 9/9 [00:00<00:00, 143.24it/s, loss=2.09]\n"
     ]
    },
    {
     "name": "stdout",
     "output_type": "stream",
     "text": [
      "Epoch [1544/1800]: Train loss: 1.9451, Valid loss: 1.8862\n"
     ]
    },
    {
     "name": "stderr",
     "output_type": "stream",
     "text": [
      "Epoch [1545/1800]: 100%|█████████████████████████████████████████████████████| 9/9 [00:00<00:00, 152.95it/s, loss=1.54]\n"
     ]
    },
    {
     "name": "stdout",
     "output_type": "stream",
     "text": [
      "Epoch [1545/1800]: Train loss: 2.1492, Valid loss: 2.5848\n"
     ]
    },
    {
     "name": "stderr",
     "output_type": "stream",
     "text": [
      "Epoch [1546/1800]: 100%|█████████████████████████████████████████████████████| 9/9 [00:00<00:00, 147.76it/s, loss=1.59]\n"
     ]
    },
    {
     "name": "stdout",
     "output_type": "stream",
     "text": [
      "Epoch [1546/1800]: Train loss: 1.9583, Valid loss: 2.2515\n"
     ]
    },
    {
     "name": "stderr",
     "output_type": "stream",
     "text": [
      "Epoch [1547/1800]: 100%|█████████████████████████████████████████████████████| 9/9 [00:00<00:00, 150.04it/s, loss=2.41]\n"
     ]
    },
    {
     "name": "stdout",
     "output_type": "stream",
     "text": [
      "Epoch [1547/1800]: Train loss: 1.9966, Valid loss: 2.0420\n"
     ]
    },
    {
     "name": "stderr",
     "output_type": "stream",
     "text": [
      "Epoch [1548/1800]: 100%|█████████████████████████████████████████████████████| 9/9 [00:00<00:00, 152.95it/s, loss=2.02]\n"
     ]
    },
    {
     "name": "stdout",
     "output_type": "stream",
     "text": [
      "Epoch [1548/1800]: Train loss: 1.8435, Valid loss: 2.2473\n"
     ]
    },
    {
     "name": "stderr",
     "output_type": "stream",
     "text": [
      "Epoch [1549/1800]: 100%|█████████████████████████████████████████████████████| 9/9 [00:00<00:00, 155.60it/s, loss=1.46]\n"
     ]
    },
    {
     "name": "stdout",
     "output_type": "stream",
     "text": [
      "Epoch [1549/1800]: Train loss: 1.8336, Valid loss: 2.1108\n"
     ]
    },
    {
     "name": "stderr",
     "output_type": "stream",
     "text": [
      "Epoch [1550/1800]: 100%|██████████████████████████████████████████████████████| 9/9 [00:00<00:00, 141.00it/s, loss=2.2]\n"
     ]
    },
    {
     "name": "stdout",
     "output_type": "stream",
     "text": [
      "Epoch [1550/1800]: Train loss: 1.8685, Valid loss: 1.7803\n"
     ]
    },
    {
     "name": "stderr",
     "output_type": "stream",
     "text": [
      "Epoch [1551/1800]: 100%|█████████████████████████████████████████████████████| 9/9 [00:00<00:00, 150.40it/s, loss=2.38]\n"
     ]
    },
    {
     "name": "stdout",
     "output_type": "stream",
     "text": [
      "Epoch [1551/1800]: Train loss: 1.9844, Valid loss: 2.7769\n"
     ]
    },
    {
     "name": "stderr",
     "output_type": "stream",
     "text": [
      "Epoch [1552/1800]: 100%|█████████████████████████████████████████████████████| 9/9 [00:00<00:00, 155.59it/s, loss=2.03]\n"
     ]
    },
    {
     "name": "stdout",
     "output_type": "stream",
     "text": [
      "Epoch [1552/1800]: Train loss: 1.9606, Valid loss: 1.9485\n"
     ]
    },
    {
     "name": "stderr",
     "output_type": "stream",
     "text": [
      "Epoch [1553/1800]: 100%|█████████████████████████████████████████████████████| 9/9 [00:00<00:00, 147.94it/s, loss=3.17]\n"
     ]
    },
    {
     "name": "stdout",
     "output_type": "stream",
     "text": [
      "Epoch [1553/1800]: Train loss: 2.5520, Valid loss: 2.2235\n"
     ]
    },
    {
     "name": "stderr",
     "output_type": "stream",
     "text": [
      "Epoch [1554/1800]: 100%|██████████████████████████████████████████████████████| 9/9 [00:00<00:00, 150.40it/s, loss=2.4]\n"
     ]
    },
    {
     "name": "stdout",
     "output_type": "stream",
     "text": [
      "Epoch [1554/1800]: Train loss: 2.4116, Valid loss: 3.7010\n"
     ]
    },
    {
     "name": "stderr",
     "output_type": "stream",
     "text": [
      "Epoch [1555/1800]: 100%|█████████████████████████████████████████████████████| 9/9 [00:00<00:00, 152.95it/s, loss=2.32]\n"
     ]
    },
    {
     "name": "stdout",
     "output_type": "stream",
     "text": [
      "Epoch [1555/1800]: Train loss: 2.0885, Valid loss: 2.2091\n"
     ]
    },
    {
     "name": "stderr",
     "output_type": "stream",
     "text": [
      "Epoch [1556/1800]: 100%|█████████████████████████████████████████████████████| 9/9 [00:00<00:00, 150.94it/s, loss=2.48]\n"
     ]
    },
    {
     "name": "stdout",
     "output_type": "stream",
     "text": [
      "Epoch [1556/1800]: Train loss: 1.9342, Valid loss: 2.1978\n"
     ]
    },
    {
     "name": "stderr",
     "output_type": "stream",
     "text": [
      "Epoch [1557/1800]: 100%|██████████████████████████████████████████████████████| 9/9 [00:00<00:00, 78.47it/s, loss=1.81]\n"
     ]
    },
    {
     "name": "stdout",
     "output_type": "stream",
     "text": [
      "Epoch [1557/1800]: Train loss: 1.8753, Valid loss: 2.3721\n"
     ]
    },
    {
     "name": "stderr",
     "output_type": "stream",
     "text": [
      "Epoch [1558/1800]: 100%|██████████████████████████████████████████████████████| 9/9 [00:00<00:00, 141.00it/s, loss=1.8]\n"
     ]
    },
    {
     "name": "stdout",
     "output_type": "stream",
     "text": [
      "Epoch [1558/1800]: Train loss: 1.9986, Valid loss: 2.0864\n"
     ]
    },
    {
     "name": "stderr",
     "output_type": "stream",
     "text": [
      "Epoch [1559/1800]: 100%|█████████████████████████████████████████████████████| 9/9 [00:00<00:00, 153.62it/s, loss=1.89]\n"
     ]
    },
    {
     "name": "stdout",
     "output_type": "stream",
     "text": [
      "Epoch [1559/1800]: Train loss: 1.8700, Valid loss: 1.8339\n"
     ]
    },
    {
     "name": "stderr",
     "output_type": "stream",
     "text": [
      "Epoch [1560/1800]: 100%|█████████████████████████████████████████████████████| 9/9 [00:00<00:00, 147.69it/s, loss=2.11]\n"
     ]
    },
    {
     "name": "stdout",
     "output_type": "stream",
     "text": [
      "Epoch [1560/1800]: Train loss: 1.8974, Valid loss: 1.9249\n"
     ]
    },
    {
     "name": "stderr",
     "output_type": "stream",
     "text": [
      "Epoch [1561/1800]: 100%|█████████████████████████████████████████████████████| 9/9 [00:00<00:00, 152.95it/s, loss=2.44]\n"
     ]
    },
    {
     "name": "stdout",
     "output_type": "stream",
     "text": [
      "Epoch [1561/1800]: Train loss: 2.0305, Valid loss: 2.3016\n"
     ]
    },
    {
     "name": "stderr",
     "output_type": "stream",
     "text": [
      "Epoch [1562/1800]: 100%|█████████████████████████████████████████████████████| 9/9 [00:00<00:00, 150.41it/s, loss=1.89]\n"
     ]
    },
    {
     "name": "stdout",
     "output_type": "stream",
     "text": [
      "Epoch [1562/1800]: Train loss: 1.9005, Valid loss: 2.1872\n"
     ]
    },
    {
     "name": "stderr",
     "output_type": "stream",
     "text": [
      "Epoch [1563/1800]: 100%|█████████████████████████████████████████████████████| 9/9 [00:00<00:00, 150.40it/s, loss=1.42]\n"
     ]
    },
    {
     "name": "stdout",
     "output_type": "stream",
     "text": [
      "Epoch [1563/1800]: Train loss: 1.8751, Valid loss: 2.4651\n"
     ]
    },
    {
     "name": "stderr",
     "output_type": "stream",
     "text": [
      "Epoch [1564/1800]: 100%|█████████████████████████████████████████████████████| 9/9 [00:00<00:00, 155.59it/s, loss=1.89]\n"
     ]
    },
    {
     "name": "stdout",
     "output_type": "stream",
     "text": [
      "Epoch [1564/1800]: Train loss: 1.8300, Valid loss: 1.9799\n"
     ]
    },
    {
     "name": "stderr",
     "output_type": "stream",
     "text": [
      "Epoch [1565/1800]: 100%|█████████████████████████████████████████████████████| 9/9 [00:00<00:00, 142.79it/s, loss=2.42]\n"
     ]
    },
    {
     "name": "stdout",
     "output_type": "stream",
     "text": [
      "Epoch [1565/1800]: Train loss: 1.8737, Valid loss: 2.1127\n"
     ]
    },
    {
     "name": "stderr",
     "output_type": "stream",
     "text": [
      "Epoch [1566/1800]: 100%|█████████████████████████████████████████████████████| 9/9 [00:00<00:00, 153.43it/s, loss=2.13]\n"
     ]
    },
    {
     "name": "stdout",
     "output_type": "stream",
     "text": [
      "Epoch [1566/1800]: Train loss: 1.9311, Valid loss: 2.3330\n"
     ]
    },
    {
     "name": "stderr",
     "output_type": "stream",
     "text": [
      "Epoch [1567/1800]: 100%|█████████████████████████████████████████████████████| 9/9 [00:00<00:00, 147.94it/s, loss=1.59]\n"
     ]
    },
    {
     "name": "stdout",
     "output_type": "stream",
     "text": [
      "Epoch [1567/1800]: Train loss: 1.9815, Valid loss: 1.9749\n"
     ]
    },
    {
     "name": "stderr",
     "output_type": "stream",
     "text": [
      "Epoch [1568/1800]: 100%|█████████████████████████████████████████████████████| 9/9 [00:00<00:00, 141.00it/s, loss=1.58]\n"
     ]
    },
    {
     "name": "stdout",
     "output_type": "stream",
     "text": [
      "Epoch [1568/1800]: Train loss: 1.8502, Valid loss: 1.9727\n"
     ]
    },
    {
     "name": "stderr",
     "output_type": "stream",
     "text": [
      "Epoch [1569/1800]: 100%|█████████████████████████████████████████████████████| 9/9 [00:00<00:00, 152.95it/s, loss=1.57]\n"
     ]
    },
    {
     "name": "stdout",
     "output_type": "stream",
     "text": [
      "Epoch [1569/1800]: Train loss: 1.8041, Valid loss: 2.0601\n"
     ]
    },
    {
     "name": "stderr",
     "output_type": "stream",
     "text": [
      "Epoch [1570/1800]: 100%|█████████████████████████████████████████████████████| 9/9 [00:00<00:00, 152.95it/s, loss=1.73]\n"
     ]
    },
    {
     "name": "stdout",
     "output_type": "stream",
     "text": [
      "Epoch [1570/1800]: Train loss: 1.7550, Valid loss: 2.0539\n"
     ]
    },
    {
     "name": "stderr",
     "output_type": "stream",
     "text": [
      "Epoch [1571/1800]: 100%|█████████████████████████████████████████████████████| 9/9 [00:00<00:00, 150.40it/s, loss=1.91]\n"
     ]
    },
    {
     "name": "stdout",
     "output_type": "stream",
     "text": [
      "Epoch [1571/1800]: Train loss: 1.7549, Valid loss: 2.0471\n"
     ]
    },
    {
     "name": "stderr",
     "output_type": "stream",
     "text": [
      "Epoch [1572/1800]: 100%|█████████████████████████████████████████████████████| 9/9 [00:00<00:00, 147.94it/s, loss=1.56]\n"
     ]
    },
    {
     "name": "stdout",
     "output_type": "stream",
     "text": [
      "Epoch [1572/1800]: Train loss: 1.8948, Valid loss: 1.8645\n"
     ]
    },
    {
     "name": "stderr",
     "output_type": "stream",
     "text": [
      "Epoch [1573/1800]: 100%|█████████████████████████████████████████████████████| 9/9 [00:00<00:00, 150.41it/s, loss=1.82]\n"
     ]
    },
    {
     "name": "stdout",
     "output_type": "stream",
     "text": [
      "Epoch [1573/1800]: Train loss: 1.8726, Valid loss: 2.5680\n"
     ]
    },
    {
     "name": "stderr",
     "output_type": "stream",
     "text": [
      "Epoch [1574/1800]: 100%|█████████████████████████████████████████████████████| 9/9 [00:00<00:00, 148.94it/s, loss=1.91]\n"
     ]
    },
    {
     "name": "stdout",
     "output_type": "stream",
     "text": [
      "Epoch [1574/1800]: Train loss: 1.8221, Valid loss: 1.9601\n"
     ]
    },
    {
     "name": "stderr",
     "output_type": "stream",
     "text": [
      "Epoch [1575/1800]: 100%|██████████████████████████████████████████████████████| 9/9 [00:00<00:00, 145.55it/s, loss=1.4]\n"
     ]
    },
    {
     "name": "stdout",
     "output_type": "stream",
     "text": [
      "Epoch [1575/1800]: Train loss: 1.7309, Valid loss: 2.1122\n"
     ]
    },
    {
     "name": "stderr",
     "output_type": "stream",
     "text": [
      "Epoch [1576/1800]: 100%|█████████████████████████████████████████████████████| 9/9 [00:00<00:00, 147.94it/s, loss=1.55]\n"
     ]
    },
    {
     "name": "stdout",
     "output_type": "stream",
     "text": [
      "Epoch [1576/1800]: Train loss: 1.7455, Valid loss: 2.2670\n"
     ]
    },
    {
     "name": "stderr",
     "output_type": "stream",
     "text": [
      "Epoch [1577/1800]: 100%|██████████████████████████████████████████████████████| 9/9 [00:00<00:00, 84.34it/s, loss=1.76]\n"
     ]
    },
    {
     "name": "stdout",
     "output_type": "stream",
     "text": [
      "Epoch [1577/1800]: Train loss: 1.7400, Valid loss: 2.1562\n"
     ]
    },
    {
     "name": "stderr",
     "output_type": "stream",
     "text": [
      "Epoch [1578/1800]: 100%|█████████████████████████████████████████████████████| 9/9 [00:00<00:00, 152.95it/s, loss=3.25]\n"
     ]
    },
    {
     "name": "stdout",
     "output_type": "stream",
     "text": [
      "Epoch [1578/1800]: Train loss: 2.0076, Valid loss: 2.8545\n"
     ]
    },
    {
     "name": "stderr",
     "output_type": "stream",
     "text": [
      "Epoch [1579/1800]: 100%|█████████████████████████████████████████████████████| 9/9 [00:00<00:00, 152.95it/s, loss=1.34]\n"
     ]
    },
    {
     "name": "stdout",
     "output_type": "stream",
     "text": [
      "Epoch [1579/1800]: Train loss: 1.8783, Valid loss: 2.2607\n"
     ]
    },
    {
     "name": "stderr",
     "output_type": "stream",
     "text": [
      "Epoch [1580/1800]: 100%|█████████████████████████████████████████████████████| 9/9 [00:00<00:00, 152.95it/s, loss=2.01]\n"
     ]
    },
    {
     "name": "stdout",
     "output_type": "stream",
     "text": [
      "Epoch [1580/1800]: Train loss: 1.9090, Valid loss: 2.6312\n"
     ]
    },
    {
     "name": "stderr",
     "output_type": "stream",
     "text": [
      "Epoch [1581/1800]: 100%|█████████████████████████████████████████████████████| 9/9 [00:00<00:00, 149.91it/s, loss=2.02]\n"
     ]
    },
    {
     "name": "stdout",
     "output_type": "stream",
     "text": [
      "Epoch [1581/1800]: Train loss: 2.0118, Valid loss: 2.5159\n"
     ]
    },
    {
     "name": "stderr",
     "output_type": "stream",
     "text": [
      "Epoch [1582/1800]: 100%|█████████████████████████████████████████████████████| 9/9 [00:00<00:00, 147.94it/s, loss=1.83]\n"
     ]
    },
    {
     "name": "stdout",
     "output_type": "stream",
     "text": [
      "Epoch [1582/1800]: Train loss: 1.9110, Valid loss: 2.1613\n"
     ]
    },
    {
     "name": "stderr",
     "output_type": "stream",
     "text": [
      "Epoch [1583/1800]: 100%|█████████████████████████████████████████████████████| 9/9 [00:00<00:00, 147.93it/s, loss=3.09]\n"
     ]
    },
    {
     "name": "stdout",
     "output_type": "stream",
     "text": [
      "Epoch [1583/1800]: Train loss: 2.1094, Valid loss: 2.0719\n"
     ]
    },
    {
     "name": "stderr",
     "output_type": "stream",
     "text": [
      "Epoch [1584/1800]: 100%|█████████████████████████████████████████████████████| 9/9 [00:00<00:00, 150.40it/s, loss=2.51]\n"
     ]
    },
    {
     "name": "stdout",
     "output_type": "stream",
     "text": [
      "Epoch [1584/1800]: Train loss: 2.0763, Valid loss: 4.9519\n"
     ]
    },
    {
     "name": "stderr",
     "output_type": "stream",
     "text": [
      "Epoch [1585/1800]: 100%|█████████████████████████████████████████████████████| 9/9 [00:00<00:00, 152.95it/s, loss=2.42]\n"
     ]
    },
    {
     "name": "stdout",
     "output_type": "stream",
     "text": [
      "Epoch [1585/1800]: Train loss: 2.7533, Valid loss: 3.4085\n"
     ]
    },
    {
     "name": "stderr",
     "output_type": "stream",
     "text": [
      "Epoch [1586/1800]: 100%|█████████████████████████████████████████████████████| 9/9 [00:00<00:00, 150.40it/s, loss=2.78]\n"
     ]
    },
    {
     "name": "stdout",
     "output_type": "stream",
     "text": [
      "Epoch [1586/1800]: Train loss: 2.6471, Valid loss: 2.2219\n"
     ]
    },
    {
     "name": "stderr",
     "output_type": "stream",
     "text": [
      "Epoch [1587/1800]: 100%|█████████████████████████████████████████████████████| 9/9 [00:00<00:00, 153.85it/s, loss=2.32]\n"
     ]
    },
    {
     "name": "stdout",
     "output_type": "stream",
     "text": [
      "Epoch [1587/1800]: Train loss: 2.1533, Valid loss: 3.3034\n"
     ]
    },
    {
     "name": "stderr",
     "output_type": "stream",
     "text": [
      "Epoch [1588/1800]: 100%|█████████████████████████████████████████████████████| 9/9 [00:00<00:00, 147.94it/s, loss=1.95]\n"
     ]
    },
    {
     "name": "stdout",
     "output_type": "stream",
     "text": [
      "Epoch [1588/1800]: Train loss: 2.2080, Valid loss: 1.9751\n"
     ]
    },
    {
     "name": "stderr",
     "output_type": "stream",
     "text": [
      "Epoch [1589/1800]: 100%|█████████████████████████████████████████████████████| 9/9 [00:00<00:00, 155.58it/s, loss=2.98]\n"
     ]
    },
    {
     "name": "stdout",
     "output_type": "stream",
     "text": [
      "Epoch [1589/1800]: Train loss: 2.6718, Valid loss: 2.8213\n"
     ]
    },
    {
     "name": "stderr",
     "output_type": "stream",
     "text": [
      "Epoch [1590/1800]: 100%|██████████████████████████████████████████████████████| 9/9 [00:00<00:00, 145.55it/s, loss=1.9]\n"
     ]
    },
    {
     "name": "stdout",
     "output_type": "stream",
     "text": [
      "Epoch [1590/1800]: Train loss: 1.9184, Valid loss: 2.0579\n"
     ]
    },
    {
     "name": "stderr",
     "output_type": "stream",
     "text": [
      "Epoch [1591/1800]: 100%|██████████████████████████████████████████████████████| 9/9 [00:00<00:00, 153.45it/s, loss=1.9]\n"
     ]
    },
    {
     "name": "stdout",
     "output_type": "stream",
     "text": [
      "Epoch [1591/1800]: Train loss: 2.0278, Valid loss: 2.9501\n"
     ]
    },
    {
     "name": "stderr",
     "output_type": "stream",
     "text": [
      "Epoch [1592/1800]: 100%|█████████████████████████████████████████████████████| 9/9 [00:00<00:00, 147.94it/s, loss=2.34]\n"
     ]
    },
    {
     "name": "stdout",
     "output_type": "stream",
     "text": [
      "Epoch [1592/1800]: Train loss: 2.1717, Valid loss: 2.0487\n"
     ]
    },
    {
     "name": "stderr",
     "output_type": "stream",
     "text": [
      "Epoch [1593/1800]: 100%|█████████████████████████████████████████████████████| 9/9 [00:00<00:00, 152.65it/s, loss=2.67]\n"
     ]
    },
    {
     "name": "stdout",
     "output_type": "stream",
     "text": [
      "Epoch [1593/1800]: Train loss: 1.8384, Valid loss: 2.6010\n"
     ]
    },
    {
     "name": "stderr",
     "output_type": "stream",
     "text": [
      "Epoch [1594/1800]: 100%|█████████████████████████████████████████████████████| 9/9 [00:00<00:00, 147.93it/s, loss=1.53]\n"
     ]
    },
    {
     "name": "stdout",
     "output_type": "stream",
     "text": [
      "Epoch [1594/1800]: Train loss: 1.8306, Valid loss: 2.2018\n"
     ]
    },
    {
     "name": "stderr",
     "output_type": "stream",
     "text": [
      "Epoch [1595/1800]: 100%|█████████████████████████████████████████████████████| 9/9 [00:00<00:00, 143.24it/s, loss=1.97]\n"
     ]
    },
    {
     "name": "stdout",
     "output_type": "stream",
     "text": [
      "Epoch [1595/1800]: Train loss: 1.9412, Valid loss: 1.9390\n"
     ]
    },
    {
     "name": "stderr",
     "output_type": "stream",
     "text": [
      "Epoch [1596/1800]: 100%|██████████████████████████████████████████████████████| 9/9 [00:00<00:00, 94.99it/s, loss=2.04]\n"
     ]
    },
    {
     "name": "stdout",
     "output_type": "stream",
     "text": [
      "Epoch [1596/1800]: Train loss: 1.8689, Valid loss: 1.9380\n"
     ]
    },
    {
     "name": "stderr",
     "output_type": "stream",
     "text": [
      "Epoch [1597/1800]: 100%|█████████████████████████████████████████████████████| 9/9 [00:00<00:00, 131.38it/s, loss=3.86]\n"
     ]
    },
    {
     "name": "stdout",
     "output_type": "stream",
     "text": [
      "Epoch [1597/1800]: Train loss: 2.4495, Valid loss: 2.9104\n"
     ]
    },
    {
     "name": "stderr",
     "output_type": "stream",
     "text": [
      "Epoch [1598/1800]: 100%|█████████████████████████████████████████████████████| 9/9 [00:00<00:00, 152.95it/s, loss=1.99]\n"
     ]
    },
    {
     "name": "stdout",
     "output_type": "stream",
     "text": [
      "Epoch [1598/1800]: Train loss: 2.2546, Valid loss: 2.4478\n"
     ]
    },
    {
     "name": "stderr",
     "output_type": "stream",
     "text": [
      "Epoch [1599/1800]: 100%|█████████████████████████████████████████████████████| 9/9 [00:00<00:00, 152.95it/s, loss=2.12]\n"
     ]
    },
    {
     "name": "stdout",
     "output_type": "stream",
     "text": [
      "Epoch [1599/1800]: Train loss: 1.8583, Valid loss: 2.6706\n"
     ]
    },
    {
     "name": "stderr",
     "output_type": "stream",
     "text": [
      "Epoch [1600/1800]: 100%|█████████████████████████████████████████████████████| 9/9 [00:00<00:00, 152.96it/s, loss=1.92]\n"
     ]
    },
    {
     "name": "stdout",
     "output_type": "stream",
     "text": [
      "Epoch [1600/1800]: Train loss: 1.8124, Valid loss: 1.7977\n"
     ]
    },
    {
     "name": "stderr",
     "output_type": "stream",
     "text": [
      "Epoch [1601/1800]: 100%|█████████████████████████████████████████████████████| 9/9 [00:00<00:00, 152.95it/s, loss=1.62]\n"
     ]
    },
    {
     "name": "stdout",
     "output_type": "stream",
     "text": [
      "Epoch [1601/1800]: Train loss: 1.7250, Valid loss: 2.2341\n"
     ]
    },
    {
     "name": "stderr",
     "output_type": "stream",
     "text": [
      "Epoch [1602/1800]: 100%|██████████████████████████████████████████████████████| 9/9 [00:00<00:00, 152.95it/s, loss=1.7]\n"
     ]
    },
    {
     "name": "stdout",
     "output_type": "stream",
     "text": [
      "Epoch [1602/1800]: Train loss: 1.7718, Valid loss: 2.4044\n"
     ]
    },
    {
     "name": "stderr",
     "output_type": "stream",
     "text": [
      "Epoch [1603/1800]: 100%|█████████████████████████████████████████████████████| 9/9 [00:00<00:00, 147.99it/s, loss=2.72]\n"
     ]
    },
    {
     "name": "stdout",
     "output_type": "stream",
     "text": [
      "Epoch [1603/1800]: Train loss: 1.9554, Valid loss: 3.2709\n"
     ]
    },
    {
     "name": "stderr",
     "output_type": "stream",
     "text": [
      "Epoch [1604/1800]: 100%|█████████████████████████████████████████████████████| 9/9 [00:00<00:00, 150.40it/s, loss=1.64]\n"
     ]
    },
    {
     "name": "stdout",
     "output_type": "stream",
     "text": [
      "Epoch [1604/1800]: Train loss: 2.2045, Valid loss: 2.5703\n"
     ]
    },
    {
     "name": "stderr",
     "output_type": "stream",
     "text": [
      "Epoch [1605/1800]: 100%|█████████████████████████████████████████████████████| 9/9 [00:00<00:00, 161.15it/s, loss=1.64]\n"
     ]
    },
    {
     "name": "stdout",
     "output_type": "stream",
     "text": [
      "Epoch [1605/1800]: Train loss: 2.0009, Valid loss: 2.0113\n"
     ]
    },
    {
     "name": "stderr",
     "output_type": "stream",
     "text": [
      "Epoch [1606/1800]: 100%|█████████████████████████████████████████████████████| 9/9 [00:00<00:00, 150.40it/s, loss=1.43]\n"
     ]
    },
    {
     "name": "stdout",
     "output_type": "stream",
     "text": [
      "Epoch [1606/1800]: Train loss: 1.7288, Valid loss: 2.7790\n"
     ]
    },
    {
     "name": "stderr",
     "output_type": "stream",
     "text": [
      "Epoch [1607/1800]: 100%|█████████████████████████████████████████████████████| 9/9 [00:00<00:00, 145.73it/s, loss=1.75]\n"
     ]
    },
    {
     "name": "stdout",
     "output_type": "stream",
     "text": [
      "Epoch [1607/1800]: Train loss: 1.9705, Valid loss: 2.4592\n"
     ]
    },
    {
     "name": "stderr",
     "output_type": "stream",
     "text": [
      "Epoch [1608/1800]: 100%|█████████████████████████████████████████████████████| 9/9 [00:00<00:00, 147.94it/s, loss=1.63]\n"
     ]
    },
    {
     "name": "stdout",
     "output_type": "stream",
     "text": [
      "Epoch [1608/1800]: Train loss: 1.8026, Valid loss: 2.1340\n"
     ]
    },
    {
     "name": "stderr",
     "output_type": "stream",
     "text": [
      "Epoch [1609/1800]: 100%|█████████████████████████████████████████████████████| 9/9 [00:00<00:00, 150.39it/s, loss=1.64]\n"
     ]
    },
    {
     "name": "stdout",
     "output_type": "stream",
     "text": [
      "Epoch [1609/1800]: Train loss: 1.7154, Valid loss: 2.9276\n"
     ]
    },
    {
     "name": "stderr",
     "output_type": "stream",
     "text": [
      "Epoch [1610/1800]: 100%|█████████████████████████████████████████████████████| 9/9 [00:00<00:00, 152.66it/s, loss=2.43]\n"
     ]
    },
    {
     "name": "stdout",
     "output_type": "stream",
     "text": [
      "Epoch [1610/1800]: Train loss: 1.8383, Valid loss: 1.9547\n"
     ]
    },
    {
     "name": "stderr",
     "output_type": "stream",
     "text": [
      "Epoch [1611/1800]: 100%|█████████████████████████████████████████████████████| 9/9 [00:00<00:00, 147.93it/s, loss=1.43]\n"
     ]
    },
    {
     "name": "stdout",
     "output_type": "stream",
     "text": [
      "Epoch [1611/1800]: Train loss: 1.8308, Valid loss: 1.9781\n"
     ]
    },
    {
     "name": "stderr",
     "output_type": "stream",
     "text": [
      "Epoch [1612/1800]: 100%|█████████████████████████████████████████████████████| 9/9 [00:00<00:00, 155.59it/s, loss=2.12]\n"
     ]
    },
    {
     "name": "stdout",
     "output_type": "stream",
     "text": [
      "Epoch [1612/1800]: Train loss: 1.7698, Valid loss: 2.0832\n"
     ]
    },
    {
     "name": "stderr",
     "output_type": "stream",
     "text": [
      "Epoch [1613/1800]: 100%|█████████████████████████████████████████████████████| 9/9 [00:00<00:00, 147.93it/s, loss=1.52]\n"
     ]
    },
    {
     "name": "stdout",
     "output_type": "stream",
     "text": [
      "Epoch [1613/1800]: Train loss: 1.8054, Valid loss: 1.8936\n"
     ]
    },
    {
     "name": "stderr",
     "output_type": "stream",
     "text": [
      "Epoch [1614/1800]: 100%|█████████████████████████████████████████████████████| 9/9 [00:00<00:00, 148.95it/s, loss=2.09]\n"
     ]
    },
    {
     "name": "stdout",
     "output_type": "stream",
     "text": [
      "Epoch [1614/1800]: Train loss: 1.8241, Valid loss: 1.9687\n"
     ]
    },
    {
     "name": "stderr",
     "output_type": "stream",
     "text": [
      "Epoch [1615/1800]: 100%|█████████████████████████████████████████████████████| 9/9 [00:00<00:00, 150.41it/s, loss=1.65]\n"
     ]
    },
    {
     "name": "stdout",
     "output_type": "stream",
     "text": [
      "Epoch [1615/1800]: Train loss: 1.7837, Valid loss: 2.0009\n"
     ]
    },
    {
     "name": "stderr",
     "output_type": "stream",
     "text": [
      "Epoch [1616/1800]: 100%|█████████████████████████████████████████████████████| 9/9 [00:00<00:00, 147.93it/s, loss=1.85]\n"
     ]
    },
    {
     "name": "stdout",
     "output_type": "stream",
     "text": [
      "Epoch [1616/1800]: Train loss: 1.9392, Valid loss: 3.3996\n"
     ]
    },
    {
     "name": "stderr",
     "output_type": "stream",
     "text": [
      "Epoch [1617/1800]: 100%|█████████████████████████████████████████████████████| 9/9 [00:00<00:00, 146.01it/s, loss=1.91]\n"
     ]
    },
    {
     "name": "stdout",
     "output_type": "stream",
     "text": [
      "Epoch [1617/1800]: Train loss: 2.3898, Valid loss: 2.1627\n"
     ]
    },
    {
     "name": "stderr",
     "output_type": "stream",
     "text": [
      "Epoch [1618/1800]: 100%|█████████████████████████████████████████████████████| 9/9 [00:00<00:00, 152.95it/s, loss=1.47]\n"
     ]
    },
    {
     "name": "stdout",
     "output_type": "stream",
     "text": [
      "Epoch [1618/1800]: Train loss: 1.7503, Valid loss: 1.8572\n"
     ]
    },
    {
     "name": "stderr",
     "output_type": "stream",
     "text": [
      "Epoch [1619/1800]: 100%|██████████████████████████████████████████████████████| 9/9 [00:00<00:00, 87.61it/s, loss=1.42]\n"
     ]
    },
    {
     "name": "stdout",
     "output_type": "stream",
     "text": [
      "Epoch [1619/1800]: Train loss: 1.7658, Valid loss: 1.8670\n"
     ]
    },
    {
     "name": "stderr",
     "output_type": "stream",
     "text": [
      "Epoch [1620/1800]: 100%|██████████████████████████████████████████████████████| 9/9 [00:00<00:00, 152.95it/s, loss=1.5]\n"
     ]
    },
    {
     "name": "stdout",
     "output_type": "stream",
     "text": [
      "Epoch [1620/1800]: Train loss: 1.7383, Valid loss: 2.6346\n"
     ]
    },
    {
     "name": "stderr",
     "output_type": "stream",
     "text": [
      "Epoch [1621/1800]: 100%|█████████████████████████████████████████████████████| 9/9 [00:00<00:00, 147.94it/s, loss=2.23]\n"
     ]
    },
    {
     "name": "stdout",
     "output_type": "stream",
     "text": [
      "Epoch [1621/1800]: Train loss: 2.1657, Valid loss: 2.5893\n"
     ]
    },
    {
     "name": "stderr",
     "output_type": "stream",
     "text": [
      "Epoch [1622/1800]: 100%|█████████████████████████████████████████████████████| 9/9 [00:00<00:00, 145.55it/s, loss=1.81]\n"
     ]
    },
    {
     "name": "stdout",
     "output_type": "stream",
     "text": [
      "Epoch [1622/1800]: Train loss: 2.4555, Valid loss: 3.3883\n"
     ]
    },
    {
     "name": "stderr",
     "output_type": "stream",
     "text": [
      "Epoch [1623/1800]: 100%|█████████████████████████████████████████████████████| 9/9 [00:00<00:00, 155.59it/s, loss=2.02]\n"
     ]
    },
    {
     "name": "stdout",
     "output_type": "stream",
     "text": [
      "Epoch [1623/1800]: Train loss: 2.6304, Valid loss: 3.3786\n"
     ]
    },
    {
     "name": "stderr",
     "output_type": "stream",
     "text": [
      "Epoch [1624/1800]: 100%|█████████████████████████████████████████████████████| 9/9 [00:00<00:00, 155.16it/s, loss=7.08]\n"
     ]
    },
    {
     "name": "stdout",
     "output_type": "stream",
     "text": [
      "Epoch [1624/1800]: Train loss: 4.1739, Valid loss: 5.8149\n"
     ]
    },
    {
     "name": "stderr",
     "output_type": "stream",
     "text": [
      "Epoch [1625/1800]: 100%|█████████████████████████████████████████████████████| 9/9 [00:00<00:00, 150.40it/s, loss=3.24]\n"
     ]
    },
    {
     "name": "stdout",
     "output_type": "stream",
     "text": [
      "Epoch [1625/1800]: Train loss: 3.7935, Valid loss: 2.6758\n"
     ]
    },
    {
     "name": "stderr",
     "output_type": "stream",
     "text": [
      "Epoch [1626/1800]: 100%|█████████████████████████████████████████████████████| 9/9 [00:00<00:00, 145.55it/s, loss=2.27]\n"
     ]
    },
    {
     "name": "stdout",
     "output_type": "stream",
     "text": [
      "Epoch [1626/1800]: Train loss: 2.4074, Valid loss: 2.6980\n"
     ]
    },
    {
     "name": "stderr",
     "output_type": "stream",
     "text": [
      "Epoch [1627/1800]: 100%|█████████████████████████████████████████████████████| 9/9 [00:00<00:00, 150.40it/s, loss=3.55]\n"
     ]
    },
    {
     "name": "stdout",
     "output_type": "stream",
     "text": [
      "Epoch [1627/1800]: Train loss: 2.5012, Valid loss: 3.8422\n"
     ]
    },
    {
     "name": "stderr",
     "output_type": "stream",
     "text": [
      "Epoch [1628/1800]: 100%|█████████████████████████████████████████████████████| 9/9 [00:00<00:00, 147.42it/s, loss=2.91]\n"
     ]
    },
    {
     "name": "stdout",
     "output_type": "stream",
     "text": [
      "Epoch [1628/1800]: Train loss: 2.6692, Valid loss: 1.9046\n"
     ]
    },
    {
     "name": "stderr",
     "output_type": "stream",
     "text": [
      "Epoch [1629/1800]: 100%|█████████████████████████████████████████████████████| 9/9 [00:00<00:00, 150.40it/s, loss=1.99]\n"
     ]
    },
    {
     "name": "stdout",
     "output_type": "stream",
     "text": [
      "Epoch [1629/1800]: Train loss: 2.0529, Valid loss: 2.7956\n"
     ]
    },
    {
     "name": "stderr",
     "output_type": "stream",
     "text": [
      "Epoch [1630/1800]: 100%|█████████████████████████████████████████████████████| 9/9 [00:00<00:00, 152.95it/s, loss=2.27]\n"
     ]
    },
    {
     "name": "stdout",
     "output_type": "stream",
     "text": [
      "Epoch [1630/1800]: Train loss: 2.1912, Valid loss: 1.9263\n"
     ]
    },
    {
     "name": "stderr",
     "output_type": "stream",
     "text": [
      "Epoch [1631/1800]: 100%|█████████████████████████████████████████████████████| 9/9 [00:00<00:00, 152.95it/s, loss=1.44]\n"
     ]
    },
    {
     "name": "stdout",
     "output_type": "stream",
     "text": [
      "Epoch [1631/1800]: Train loss: 2.0377, Valid loss: 3.3620\n"
     ]
    },
    {
     "name": "stderr",
     "output_type": "stream",
     "text": [
      "Epoch [1632/1800]: 100%|█████████████████████████████████████████████████████| 9/9 [00:00<00:00, 150.40it/s, loss=1.82]\n"
     ]
    },
    {
     "name": "stdout",
     "output_type": "stream",
     "text": [
      "Epoch [1632/1800]: Train loss: 2.0214, Valid loss: 2.6020\n"
     ]
    },
    {
     "name": "stderr",
     "output_type": "stream",
     "text": [
      "Epoch [1633/1800]: 100%|█████████████████████████████████████████████████████| 9/9 [00:00<00:00, 150.40it/s, loss=1.81]\n"
     ]
    },
    {
     "name": "stdout",
     "output_type": "stream",
     "text": [
      "Epoch [1633/1800]: Train loss: 1.9156, Valid loss: 1.9350\n"
     ]
    },
    {
     "name": "stderr",
     "output_type": "stream",
     "text": [
      "Epoch [1634/1800]: 100%|█████████████████████████████████████████████████████| 9/9 [00:00<00:00, 150.40it/s, loss=2.21]\n"
     ]
    },
    {
     "name": "stdout",
     "output_type": "stream",
     "text": [
      "Epoch [1634/1800]: Train loss: 1.8507, Valid loss: 1.9208\n"
     ]
    },
    {
     "name": "stderr",
     "output_type": "stream",
     "text": [
      "Epoch [1635/1800]: 100%|█████████████████████████████████████████████████████| 9/9 [00:00<00:00, 145.55it/s, loss=1.43]\n"
     ]
    },
    {
     "name": "stdout",
     "output_type": "stream",
     "text": [
      "Epoch [1635/1800]: Train loss: 2.0518, Valid loss: 2.3478\n"
     ]
    },
    {
     "name": "stderr",
     "output_type": "stream",
     "text": [
      "Epoch [1636/1800]: 100%|█████████████████████████████████████████████████████| 9/9 [00:00<00:00, 149.87it/s, loss=1.17]\n"
     ]
    },
    {
     "name": "stdout",
     "output_type": "stream",
     "text": [
      "Epoch [1636/1800]: Train loss: 1.8228, Valid loss: 2.1629\n"
     ]
    },
    {
     "name": "stderr",
     "output_type": "stream",
     "text": [
      "Epoch [1637/1800]: 100%|██████████████████████████████████████████████████████| 9/9 [00:00<00:00, 96.00it/s, loss=1.91]\n"
     ]
    },
    {
     "name": "stdout",
     "output_type": "stream",
     "text": [
      "Epoch [1637/1800]: Train loss: 1.7436, Valid loss: 2.0284\n"
     ]
    },
    {
     "name": "stderr",
     "output_type": "stream",
     "text": [
      "Epoch [1638/1800]: 100%|█████████████████████████████████████████████████████| 9/9 [00:00<00:00, 127.21it/s, loss=2.03]\n"
     ]
    },
    {
     "name": "stdout",
     "output_type": "stream",
     "text": [
      "Epoch [1638/1800]: Train loss: 1.7762, Valid loss: 2.1025\n"
     ]
    },
    {
     "name": "stderr",
     "output_type": "stream",
     "text": [
      "Epoch [1639/1800]: 100%|█████████████████████████████████████████████████████| 9/9 [00:00<00:00, 147.89it/s, loss=1.64]\n"
     ]
    },
    {
     "name": "stdout",
     "output_type": "stream",
     "text": [
      "Epoch [1639/1800]: Train loss: 1.8602, Valid loss: 1.8575\n"
     ]
    },
    {
     "name": "stderr",
     "output_type": "stream",
     "text": [
      "Epoch [1640/1800]: 100%|█████████████████████████████████████████████████████| 9/9 [00:00<00:00, 152.95it/s, loss=1.98]\n"
     ]
    },
    {
     "name": "stdout",
     "output_type": "stream",
     "text": [
      "Epoch [1640/1800]: Train loss: 1.8294, Valid loss: 1.9699\n"
     ]
    },
    {
     "name": "stderr",
     "output_type": "stream",
     "text": [
      "Epoch [1641/1800]: 100%|█████████████████████████████████████████████████████| 9/9 [00:00<00:00, 151.24it/s, loss=1.64]\n"
     ]
    },
    {
     "name": "stdout",
     "output_type": "stream",
     "text": [
      "Epoch [1641/1800]: Train loss: 1.7604, Valid loss: 1.7175\n"
     ]
    },
    {
     "name": "stderr",
     "output_type": "stream",
     "text": [
      "Epoch [1642/1800]: 100%|█████████████████████████████████████████████████████| 9/9 [00:00<00:00, 152.95it/s, loss=2.46]\n"
     ]
    },
    {
     "name": "stdout",
     "output_type": "stream",
     "text": [
      "Epoch [1642/1800]: Train loss: 1.8301, Valid loss: 2.1731\n"
     ]
    },
    {
     "name": "stderr",
     "output_type": "stream",
     "text": [
      "Epoch [1643/1800]: 100%|█████████████████████████████████████████████████████| 9/9 [00:00<00:00, 150.40it/s, loss=2.67]\n"
     ]
    },
    {
     "name": "stdout",
     "output_type": "stream",
     "text": [
      "Epoch [1643/1800]: Train loss: 1.9609, Valid loss: 2.9991\n"
     ]
    },
    {
     "name": "stderr",
     "output_type": "stream",
     "text": [
      "Epoch [1644/1800]: 100%|█████████████████████████████████████████████████████| 9/9 [00:00<00:00, 150.40it/s, loss=3.82]\n"
     ]
    },
    {
     "name": "stdout",
     "output_type": "stream",
     "text": [
      "Epoch [1644/1800]: Train loss: 2.8042, Valid loss: 2.4326\n"
     ]
    },
    {
     "name": "stderr",
     "output_type": "stream",
     "text": [
      "Epoch [1645/1800]: 100%|█████████████████████████████████████████████████████| 9/9 [00:00<00:00, 150.40it/s, loss=2.74]\n"
     ]
    },
    {
     "name": "stdout",
     "output_type": "stream",
     "text": [
      "Epoch [1645/1800]: Train loss: 2.3074, Valid loss: 3.9154\n"
     ]
    },
    {
     "name": "stderr",
     "output_type": "stream",
     "text": [
      "Epoch [1646/1800]: 100%|█████████████████████████████████████████████████████| 9/9 [00:00<00:00, 152.95it/s, loss=1.94]\n"
     ]
    },
    {
     "name": "stdout",
     "output_type": "stream",
     "text": [
      "Epoch [1646/1800]: Train loss: 2.2399, Valid loss: 2.1726\n"
     ]
    },
    {
     "name": "stderr",
     "output_type": "stream",
     "text": [
      "Epoch [1647/1800]: 100%|█████████████████████████████████████████████████████| 9/9 [00:00<00:00, 150.40it/s, loss=1.72]\n"
     ]
    },
    {
     "name": "stdout",
     "output_type": "stream",
     "text": [
      "Epoch [1647/1800]: Train loss: 1.8883, Valid loss: 2.5961\n"
     ]
    },
    {
     "name": "stderr",
     "output_type": "stream",
     "text": [
      "Epoch [1648/1800]: 100%|█████████████████████████████████████████████████████| 9/9 [00:00<00:00, 147.93it/s, loss=2.46]\n"
     ]
    },
    {
     "name": "stdout",
     "output_type": "stream",
     "text": [
      "Epoch [1648/1800]: Train loss: 1.9712, Valid loss: 2.3547\n"
     ]
    },
    {
     "name": "stderr",
     "output_type": "stream",
     "text": [
      "Epoch [1649/1800]: 100%|█████████████████████████████████████████████████████| 9/9 [00:00<00:00, 145.55it/s, loss=1.29]\n"
     ]
    },
    {
     "name": "stdout",
     "output_type": "stream",
     "text": [
      "Epoch [1649/1800]: Train loss: 1.9252, Valid loss: 2.4483\n"
     ]
    },
    {
     "name": "stderr",
     "output_type": "stream",
     "text": [
      "Epoch [1650/1800]: 100%|█████████████████████████████████████████████████████| 9/9 [00:00<00:00, 150.40it/s, loss=2.39]\n"
     ]
    },
    {
     "name": "stdout",
     "output_type": "stream",
     "text": [
      "Epoch [1650/1800]: Train loss: 2.1701, Valid loss: 2.2947\n"
     ]
    },
    {
     "name": "stderr",
     "output_type": "stream",
     "text": [
      "Epoch [1651/1800]: 100%|█████████████████████████████████████████████████████| 9/9 [00:00<00:00, 147.80it/s, loss=2.46]\n"
     ]
    },
    {
     "name": "stdout",
     "output_type": "stream",
     "text": [
      "Epoch [1651/1800]: Train loss: 2.0881, Valid loss: 4.2230\n"
     ]
    },
    {
     "name": "stderr",
     "output_type": "stream",
     "text": [
      "Epoch [1652/1800]: 100%|█████████████████████████████████████████████████████| 9/9 [00:00<00:00, 152.95it/s, loss=1.35]\n"
     ]
    },
    {
     "name": "stdout",
     "output_type": "stream",
     "text": [
      "Epoch [1652/1800]: Train loss: 2.5158, Valid loss: 3.8321\n"
     ]
    },
    {
     "name": "stderr",
     "output_type": "stream",
     "text": [
      "Epoch [1653/1800]: 100%|█████████████████████████████████████████████████████| 9/9 [00:00<00:00, 147.94it/s, loss=1.25]\n"
     ]
    },
    {
     "name": "stdout",
     "output_type": "stream",
     "text": [
      "Epoch [1653/1800]: Train loss: 2.0707, Valid loss: 2.4241\n"
     ]
    },
    {
     "name": "stderr",
     "output_type": "stream",
     "text": [
      "Epoch [1654/1800]: 100%|█████████████████████████████████████████████████████| 9/9 [00:00<00:00, 152.95it/s, loss=1.56]\n"
     ]
    },
    {
     "name": "stdout",
     "output_type": "stream",
     "text": [
      "Epoch [1654/1800]: Train loss: 1.7072, Valid loss: 2.0232\n"
     ]
    },
    {
     "name": "stderr",
     "output_type": "stream",
     "text": [
      "Epoch [1655/1800]: 100%|█████████████████████████████████████████████████████| 9/9 [00:00<00:00, 148.48it/s, loss=1.87]\n"
     ]
    },
    {
     "name": "stdout",
     "output_type": "stream",
     "text": [
      "Epoch [1655/1800]: Train loss: 1.9272, Valid loss: 2.2574\n"
     ]
    },
    {
     "name": "stderr",
     "output_type": "stream",
     "text": [
      "Epoch [1656/1800]: 100%|█████████████████████████████████████████████████████| 9/9 [00:00<00:00, 147.93it/s, loss=2.35]\n"
     ]
    },
    {
     "name": "stdout",
     "output_type": "stream",
     "text": [
      "Epoch [1656/1800]: Train loss: 2.1759, Valid loss: 2.6942\n"
     ]
    },
    {
     "name": "stderr",
     "output_type": "stream",
     "text": [
      "Epoch [1657/1800]: 100%|█████████████████████████████████████████████████████| 9/9 [00:00<00:00, 145.66it/s, loss=2.24]\n"
     ]
    },
    {
     "name": "stdout",
     "output_type": "stream",
     "text": [
      "Epoch [1657/1800]: Train loss: 2.2167, Valid loss: 2.0137\n"
     ]
    },
    {
     "name": "stderr",
     "output_type": "stream",
     "text": [
      "Epoch [1658/1800]: 100%|█████████████████████████████████████████████████████| 9/9 [00:00<00:00, 150.40it/s, loss=1.87]\n"
     ]
    },
    {
     "name": "stdout",
     "output_type": "stream",
     "text": [
      "Epoch [1658/1800]: Train loss: 1.8431, Valid loss: 3.1493\n"
     ]
    },
    {
     "name": "stderr",
     "output_type": "stream",
     "text": [
      "Epoch [1659/1800]: 100%|█████████████████████████████████████████████████████| 9/9 [00:00<00:00, 152.95it/s, loss=2.01]\n"
     ]
    },
    {
     "name": "stdout",
     "output_type": "stream",
     "text": [
      "Epoch [1659/1800]: Train loss: 2.6568, Valid loss: 2.7031\n"
     ]
    },
    {
     "name": "stderr",
     "output_type": "stream",
     "text": [
      "Epoch [1660/1800]: 100%|█████████████████████████████████████████████████████| 9/9 [00:00<00:00, 152.95it/s, loss=3.08]\n"
     ]
    },
    {
     "name": "stdout",
     "output_type": "stream",
     "text": [
      "Epoch [1660/1800]: Train loss: 2.4007, Valid loss: 2.8009\n"
     ]
    },
    {
     "name": "stderr",
     "output_type": "stream",
     "text": [
      "Epoch [1661/1800]: 100%|██████████████████████████████████████████████████████| 9/9 [00:00<00:00, 85.93it/s, loss=2.93]\n"
     ]
    },
    {
     "name": "stdout",
     "output_type": "stream",
     "text": [
      "Epoch [1661/1800]: Train loss: 2.2440, Valid loss: 1.9947\n"
     ]
    },
    {
     "name": "stderr",
     "output_type": "stream",
     "text": [
      "Epoch [1662/1800]: 100%|█████████████████████████████████████████████████████| 9/9 [00:00<00:00, 147.94it/s, loss=2.79]\n"
     ]
    },
    {
     "name": "stdout",
     "output_type": "stream",
     "text": [
      "Epoch [1662/1800]: Train loss: 2.1080, Valid loss: 2.2331\n"
     ]
    },
    {
     "name": "stderr",
     "output_type": "stream",
     "text": [
      "Epoch [1663/1800]: 100%|█████████████████████████████████████████████████████| 9/9 [00:00<00:00, 145.55it/s, loss=1.49]\n"
     ]
    },
    {
     "name": "stdout",
     "output_type": "stream",
     "text": [
      "Epoch [1663/1800]: Train loss: 1.8488, Valid loss: 2.1293\n"
     ]
    },
    {
     "name": "stderr",
     "output_type": "stream",
     "text": [
      "Epoch [1664/1800]: 100%|█████████████████████████████████████████████████████| 9/9 [00:00<00:00, 152.98it/s, loss=1.84]\n"
     ]
    },
    {
     "name": "stdout",
     "output_type": "stream",
     "text": [
      "Epoch [1664/1800]: Train loss: 1.8364, Valid loss: 1.9338\n"
     ]
    },
    {
     "name": "stderr",
     "output_type": "stream",
     "text": [
      "Epoch [1665/1800]: 100%|█████████████████████████████████████████████████████| 9/9 [00:00<00:00, 147.93it/s, loss=2.71]\n"
     ]
    },
    {
     "name": "stdout",
     "output_type": "stream",
     "text": [
      "Epoch [1665/1800]: Train loss: 1.8325, Valid loss: 2.5535\n"
     ]
    },
    {
     "name": "stderr",
     "output_type": "stream",
     "text": [
      "Epoch [1666/1800]: 100%|█████████████████████████████████████████████████████| 9/9 [00:00<00:00, 152.95it/s, loss=2.61]\n"
     ]
    },
    {
     "name": "stdout",
     "output_type": "stream",
     "text": [
      "Epoch [1666/1800]: Train loss: 2.2734, Valid loss: 1.9293\n"
     ]
    },
    {
     "name": "stderr",
     "output_type": "stream",
     "text": [
      "Epoch [1667/1800]: 100%|██████████████████████████████████████████████████████| 9/9 [00:00<00:00, 150.40it/s, loss=3.2]\n"
     ]
    },
    {
     "name": "stdout",
     "output_type": "stream",
     "text": [
      "Epoch [1667/1800]: Train loss: 2.2002, Valid loss: 1.8278\n"
     ]
    },
    {
     "name": "stderr",
     "output_type": "stream",
     "text": [
      "Epoch [1668/1800]: 100%|█████████████████████████████████████████████████████| 9/9 [00:00<00:00, 147.83it/s, loss=1.75]\n"
     ]
    },
    {
     "name": "stdout",
     "output_type": "stream",
     "text": [
      "Epoch [1668/1800]: Train loss: 2.1673, Valid loss: 2.3783\n"
     ]
    },
    {
     "name": "stderr",
     "output_type": "stream",
     "text": [
      "Epoch [1669/1800]: 100%|█████████████████████████████████████████████████████| 9/9 [00:00<00:00, 146.85it/s, loss=3.62]\n"
     ]
    },
    {
     "name": "stdout",
     "output_type": "stream",
     "text": [
      "Epoch [1669/1800]: Train loss: 2.2024, Valid loss: 3.5428\n"
     ]
    },
    {
     "name": "stderr",
     "output_type": "stream",
     "text": [
      "Epoch [1670/1800]: 100%|█████████████████████████████████████████████████████| 9/9 [00:00<00:00, 150.28it/s, loss=3.24]\n"
     ]
    },
    {
     "name": "stdout",
     "output_type": "stream",
     "text": [
      "Epoch [1670/1800]: Train loss: 2.4376, Valid loss: 2.6520\n"
     ]
    },
    {
     "name": "stderr",
     "output_type": "stream",
     "text": [
      "Epoch [1671/1800]: 100%|█████████████████████████████████████████████████████| 9/9 [00:00<00:00, 150.40it/s, loss=1.58]\n"
     ]
    },
    {
     "name": "stdout",
     "output_type": "stream",
     "text": [
      "Epoch [1671/1800]: Train loss: 2.1739, Valid loss: 3.1384\n"
     ]
    },
    {
     "name": "stderr",
     "output_type": "stream",
     "text": [
      "Epoch [1672/1800]: 100%|██████████████████████████████████████████████████████| 9/9 [00:00<00:00, 150.40it/s, loss=2.2]\n"
     ]
    },
    {
     "name": "stdout",
     "output_type": "stream",
     "text": [
      "Epoch [1672/1800]: Train loss: 2.4498, Valid loss: 2.2349\n"
     ]
    },
    {
     "name": "stderr",
     "output_type": "stream",
     "text": [
      "Epoch [1673/1800]: 100%|█████████████████████████████████████████████████████| 9/9 [00:00<00:00, 150.40it/s, loss=1.72]\n"
     ]
    },
    {
     "name": "stdout",
     "output_type": "stream",
     "text": [
      "Epoch [1673/1800]: Train loss: 2.2020, Valid loss: 2.9343\n"
     ]
    },
    {
     "name": "stderr",
     "output_type": "stream",
     "text": [
      "Epoch [1674/1800]: 100%|█████████████████████████████████████████████████████| 9/9 [00:00<00:00, 150.02it/s, loss=2.08]\n"
     ]
    },
    {
     "name": "stdout",
     "output_type": "stream",
     "text": [
      "Epoch [1674/1800]: Train loss: 1.9241, Valid loss: 2.3802\n"
     ]
    },
    {
     "name": "stderr",
     "output_type": "stream",
     "text": [
      "Epoch [1675/1800]: 100%|█████████████████████████████████████████████████████| 9/9 [00:00<00:00, 143.24it/s, loss=1.54]\n"
     ]
    },
    {
     "name": "stdout",
     "output_type": "stream",
     "text": [
      "Epoch [1675/1800]: Train loss: 1.9795, Valid loss: 1.9416\n"
     ]
    },
    {
     "name": "stderr",
     "output_type": "stream",
     "text": [
      "Epoch [1676/1800]: 100%|█████████████████████████████████████████████████████| 9/9 [00:00<00:00, 145.79it/s, loss=1.85]\n"
     ]
    },
    {
     "name": "stdout",
     "output_type": "stream",
     "text": [
      "Epoch [1676/1800]: Train loss: 1.9061, Valid loss: 1.8058\n"
     ]
    },
    {
     "name": "stderr",
     "output_type": "stream",
     "text": [
      "Epoch [1677/1800]: 100%|█████████████████████████████████████████████████████| 9/9 [00:00<00:00, 145.55it/s, loss=1.65]\n"
     ]
    },
    {
     "name": "stdout",
     "output_type": "stream",
     "text": [
      "Epoch [1677/1800]: Train loss: 1.7593, Valid loss: 2.8068\n"
     ]
    },
    {
     "name": "stderr",
     "output_type": "stream",
     "text": [
      "Epoch [1678/1800]: 100%|█████████████████████████████████████████████████████| 9/9 [00:00<00:00, 150.29it/s, loss=1.83]\n"
     ]
    },
    {
     "name": "stdout",
     "output_type": "stream",
     "text": [
      "Epoch [1678/1800]: Train loss: 1.9074, Valid loss: 2.3922\n"
     ]
    },
    {
     "name": "stderr",
     "output_type": "stream",
     "text": [
      "Epoch [1679/1800]: 100%|█████████████████████████████████████████████████████| 9/9 [00:00<00:00, 147.94it/s, loss=2.26]\n"
     ]
    },
    {
     "name": "stdout",
     "output_type": "stream",
     "text": [
      "Epoch [1679/1800]: Train loss: 2.0319, Valid loss: 2.2479\n"
     ]
    },
    {
     "name": "stderr",
     "output_type": "stream",
     "text": [
      "Epoch [1680/1800]: 100%|█████████████████████████████████████████████████████| 9/9 [00:00<00:00, 150.40it/s, loss=2.47]\n"
     ]
    },
    {
     "name": "stdout",
     "output_type": "stream",
     "text": [
      "Epoch [1680/1800]: Train loss: 1.9815, Valid loss: 2.4084\n"
     ]
    },
    {
     "name": "stderr",
     "output_type": "stream",
     "text": [
      "Epoch [1681/1800]: 100%|█████████████████████████████████████████████████████| 9/9 [00:00<00:00, 150.40it/s, loss=1.97]\n"
     ]
    },
    {
     "name": "stdout",
     "output_type": "stream",
     "text": [
      "Epoch [1681/1800]: Train loss: 2.0711, Valid loss: 2.6945\n"
     ]
    },
    {
     "name": "stderr",
     "output_type": "stream",
     "text": [
      "Epoch [1682/1800]: 100%|██████████████████████████████████████████████████████| 9/9 [00:00<00:00, 97.25it/s, loss=1.48]\n"
     ]
    },
    {
     "name": "stdout",
     "output_type": "stream",
     "text": [
      "Epoch [1682/1800]: Train loss: 1.8961, Valid loss: 2.0202\n"
     ]
    },
    {
     "name": "stderr",
     "output_type": "stream",
     "text": [
      "Epoch [1683/1800]: 100%|█████████████████████████████████████████████████████| 9/9 [00:00<00:00, 125.33it/s, loss=1.69]\n"
     ]
    },
    {
     "name": "stdout",
     "output_type": "stream",
     "text": [
      "Epoch [1683/1800]: Train loss: 1.7852, Valid loss: 2.0067\n"
     ]
    },
    {
     "name": "stderr",
     "output_type": "stream",
     "text": [
      "Epoch [1684/1800]: 100%|█████████████████████████████████████████████████████| 9/9 [00:00<00:00, 150.40it/s, loss=1.91]\n"
     ]
    },
    {
     "name": "stdout",
     "output_type": "stream",
     "text": [
      "Epoch [1684/1800]: Train loss: 1.8300, Valid loss: 2.1190\n"
     ]
    },
    {
     "name": "stderr",
     "output_type": "stream",
     "text": [
      "Epoch [1685/1800]: 100%|█████████████████████████████████████████████████████| 9/9 [00:00<00:00, 150.40it/s, loss=1.93]\n"
     ]
    },
    {
     "name": "stdout",
     "output_type": "stream",
     "text": [
      "Epoch [1685/1800]: Train loss: 1.8874, Valid loss: 3.3133\n"
     ]
    },
    {
     "name": "stderr",
     "output_type": "stream",
     "text": [
      "Epoch [1686/1800]: 100%|█████████████████████████████████████████████████████| 9/9 [00:00<00:00, 152.95it/s, loss=1.72]\n"
     ]
    },
    {
     "name": "stdout",
     "output_type": "stream",
     "text": [
      "Epoch [1686/1800]: Train loss: 2.1562, Valid loss: 2.3677\n"
     ]
    },
    {
     "name": "stderr",
     "output_type": "stream",
     "text": [
      "Epoch [1687/1800]: 100%|█████████████████████████████████████████████████████| 9/9 [00:00<00:00, 145.55it/s, loss=1.85]\n"
     ]
    },
    {
     "name": "stdout",
     "output_type": "stream",
     "text": [
      "Epoch [1687/1800]: Train loss: 1.8954, Valid loss: 2.3317\n"
     ]
    },
    {
     "name": "stderr",
     "output_type": "stream",
     "text": [
      "Epoch [1688/1800]: 100%|█████████████████████████████████████████████████████| 9/9 [00:00<00:00, 150.40it/s, loss=3.68]\n"
     ]
    },
    {
     "name": "stdout",
     "output_type": "stream",
     "text": [
      "Epoch [1688/1800]: Train loss: 2.2727, Valid loss: 2.2845\n"
     ]
    },
    {
     "name": "stderr",
     "output_type": "stream",
     "text": [
      "Epoch [1689/1800]: 100%|█████████████████████████████████████████████████████| 9/9 [00:00<00:00, 147.94it/s, loss=1.46]\n"
     ]
    },
    {
     "name": "stdout",
     "output_type": "stream",
     "text": [
      "Epoch [1689/1800]: Train loss: 1.8242, Valid loss: 1.8588\n"
     ]
    },
    {
     "name": "stderr",
     "output_type": "stream",
     "text": [
      "Epoch [1690/1800]: 100%|█████████████████████████████████████████████████████| 9/9 [00:00<00:00, 150.40it/s, loss=1.82]\n"
     ]
    },
    {
     "name": "stdout",
     "output_type": "stream",
     "text": [
      "Epoch [1690/1800]: Train loss: 1.7524, Valid loss: 2.3200\n"
     ]
    },
    {
     "name": "stderr",
     "output_type": "stream",
     "text": [
      "Epoch [1691/1800]: 100%|█████████████████████████████████████████████████████| 9/9 [00:00<00:00, 152.76it/s, loss=1.53]\n"
     ]
    },
    {
     "name": "stdout",
     "output_type": "stream",
     "text": [
      "Epoch [1691/1800]: Train loss: 2.2284, Valid loss: 3.0230\n"
     ]
    },
    {
     "name": "stderr",
     "output_type": "stream",
     "text": [
      "Epoch [1692/1800]: 100%|██████████████████████████████████████████████████████| 9/9 [00:00<00:00, 150.40it/s, loss=1.4]\n"
     ]
    },
    {
     "name": "stdout",
     "output_type": "stream",
     "text": [
      "Epoch [1692/1800]: Train loss: 1.9669, Valid loss: 2.0493\n"
     ]
    },
    {
     "name": "stderr",
     "output_type": "stream",
     "text": [
      "Epoch [1693/1800]: 100%|██████████████████████████████████████████████████████| 9/9 [00:00<00:00, 149.97it/s, loss=1.7]\n"
     ]
    },
    {
     "name": "stdout",
     "output_type": "stream",
     "text": [
      "Epoch [1693/1800]: Train loss: 1.7763, Valid loss: 1.7562\n"
     ]
    },
    {
     "name": "stderr",
     "output_type": "stream",
     "text": [
      "Epoch [1694/1800]: 100%|█████████████████████████████████████████████████████| 9/9 [00:00<00:00, 145.57it/s, loss=1.31]\n"
     ]
    },
    {
     "name": "stdout",
     "output_type": "stream",
     "text": [
      "Epoch [1694/1800]: Train loss: 1.8630, Valid loss: 3.1810\n"
     ]
    },
    {
     "name": "stderr",
     "output_type": "stream",
     "text": [
      "Epoch [1695/1800]: 100%|█████████████████████████████████████████████████████| 9/9 [00:00<00:00, 148.58it/s, loss=2.39]\n"
     ]
    },
    {
     "name": "stdout",
     "output_type": "stream",
     "text": [
      "Epoch [1695/1800]: Train loss: 2.0179, Valid loss: 2.1839\n"
     ]
    },
    {
     "name": "stderr",
     "output_type": "stream",
     "text": [
      "Epoch [1696/1800]: 100%|█████████████████████████████████████████████████████| 9/9 [00:00<00:00, 147.58it/s, loss=1.49]\n"
     ]
    },
    {
     "name": "stdout",
     "output_type": "stream",
     "text": [
      "Epoch [1696/1800]: Train loss: 1.8677, Valid loss: 2.4440\n"
     ]
    },
    {
     "name": "stderr",
     "output_type": "stream",
     "text": [
      "Epoch [1697/1800]: 100%|█████████████████████████████████████████████████████| 9/9 [00:00<00:00, 155.59it/s, loss=2.15]\n"
     ]
    },
    {
     "name": "stdout",
     "output_type": "stream",
     "text": [
      "Epoch [1697/1800]: Train loss: 1.9455, Valid loss: 2.4114\n"
     ]
    },
    {
     "name": "stderr",
     "output_type": "stream",
     "text": [
      "Epoch [1698/1800]: 100%|█████████████████████████████████████████████████████| 9/9 [00:00<00:00, 155.60it/s, loss=1.79]\n"
     ]
    },
    {
     "name": "stdout",
     "output_type": "stream",
     "text": [
      "Epoch [1698/1800]: Train loss: 1.8964, Valid loss: 1.9724\n"
     ]
    },
    {
     "name": "stderr",
     "output_type": "stream",
     "text": [
      "Epoch [1699/1800]: 100%|█████████████████████████████████████████████████████| 9/9 [00:00<00:00, 145.55it/s, loss=1.73]\n"
     ]
    },
    {
     "name": "stdout",
     "output_type": "stream",
     "text": [
      "Epoch [1699/1800]: Train loss: 1.8199, Valid loss: 2.4237\n"
     ]
    },
    {
     "name": "stderr",
     "output_type": "stream",
     "text": [
      "Epoch [1700/1800]: 100%|█████████████████████████████████████████████████████| 9/9 [00:00<00:00, 152.93it/s, loss=1.89]\n"
     ]
    },
    {
     "name": "stdout",
     "output_type": "stream",
     "text": [
      "Epoch [1700/1800]: Train loss: 2.0323, Valid loss: 2.4133\n"
     ]
    },
    {
     "name": "stderr",
     "output_type": "stream",
     "text": [
      "Epoch [1701/1800]: 100%|█████████████████████████████████████████████████████| 9/9 [00:00<00:00, 152.95it/s, loss=1.77]\n"
     ]
    },
    {
     "name": "stdout",
     "output_type": "stream",
     "text": [
      "Epoch [1701/1800]: Train loss: 2.0656, Valid loss: 2.1492\n"
     ]
    },
    {
     "name": "stderr",
     "output_type": "stream",
     "text": [
      "Epoch [1702/1800]: 100%|█████████████████████████████████████████████████████| 9/9 [00:00<00:00, 148.18it/s, loss=1.58]\n"
     ]
    },
    {
     "name": "stdout",
     "output_type": "stream",
     "text": [
      "Epoch [1702/1800]: Train loss: 2.0969, Valid loss: 2.6996\n"
     ]
    },
    {
     "name": "stderr",
     "output_type": "stream",
     "text": [
      "Epoch [1703/1800]: 100%|██████████████████████████████████████████████████████| 9/9 [00:00<00:00, 88.47it/s, loss=1.46]\n"
     ]
    },
    {
     "name": "stdout",
     "output_type": "stream",
     "text": [
      "Epoch [1703/1800]: Train loss: 1.8809, Valid loss: 2.3268\n"
     ]
    },
    {
     "name": "stderr",
     "output_type": "stream",
     "text": [
      "Epoch [1704/1800]: 100%|█████████████████████████████████████████████████████| 9/9 [00:00<00:00, 147.93it/s, loss=2.09]\n"
     ]
    },
    {
     "name": "stdout",
     "output_type": "stream",
     "text": [
      "Epoch [1704/1800]: Train loss: 1.8928, Valid loss: 1.9868\n"
     ]
    },
    {
     "name": "stderr",
     "output_type": "stream",
     "text": [
      "Epoch [1705/1800]: 100%|█████████████████████████████████████████████████████| 9/9 [00:00<00:00, 155.63it/s, loss=2.37]\n"
     ]
    },
    {
     "name": "stdout",
     "output_type": "stream",
     "text": [
      "Epoch [1705/1800]: Train loss: 1.8399, Valid loss: 2.1120\n"
     ]
    },
    {
     "name": "stderr",
     "output_type": "stream",
     "text": [
      "Epoch [1706/1800]: 100%|█████████████████████████████████████████████████████| 9/9 [00:00<00:00, 152.95it/s, loss=1.92]\n"
     ]
    },
    {
     "name": "stdout",
     "output_type": "stream",
     "text": [
      "Epoch [1706/1800]: Train loss: 1.9051, Valid loss: 2.7594\n"
     ]
    },
    {
     "name": "stderr",
     "output_type": "stream",
     "text": [
      "Epoch [1707/1800]: 100%|█████████████████████████████████████████████████████| 9/9 [00:00<00:00, 152.96it/s, loss=1.62]\n"
     ]
    },
    {
     "name": "stdout",
     "output_type": "stream",
     "text": [
      "Epoch [1707/1800]: Train loss: 1.8778, Valid loss: 2.1766\n"
     ]
    },
    {
     "name": "stderr",
     "output_type": "stream",
     "text": [
      "Epoch [1708/1800]: 100%|█████████████████████████████████████████████████████| 9/9 [00:00<00:00, 152.95it/s, loss=2.61]\n"
     ]
    },
    {
     "name": "stdout",
     "output_type": "stream",
     "text": [
      "Epoch [1708/1800]: Train loss: 1.9895, Valid loss: 3.7644\n"
     ]
    },
    {
     "name": "stderr",
     "output_type": "stream",
     "text": [
      "Epoch [1709/1800]: 100%|█████████████████████████████████████████████████████| 9/9 [00:00<00:00, 152.08it/s, loss=2.33]\n"
     ]
    },
    {
     "name": "stdout",
     "output_type": "stream",
     "text": [
      "Epoch [1709/1800]: Train loss: 2.7828, Valid loss: 2.7420\n"
     ]
    },
    {
     "name": "stderr",
     "output_type": "stream",
     "text": [
      "Epoch [1710/1800]: 100%|█████████████████████████████████████████████████████| 9/9 [00:00<00:00, 148.13it/s, loss=2.06]\n"
     ]
    },
    {
     "name": "stdout",
     "output_type": "stream",
     "text": [
      "Epoch [1710/1800]: Train loss: 2.1264, Valid loss: 2.1816\n"
     ]
    },
    {
     "name": "stderr",
     "output_type": "stream",
     "text": [
      "Epoch [1711/1800]: 100%|█████████████████████████████████████████████████████| 9/9 [00:00<00:00, 145.56it/s, loss=2.01]\n"
     ]
    },
    {
     "name": "stdout",
     "output_type": "stream",
     "text": [
      "Epoch [1711/1800]: Train loss: 1.8410, Valid loss: 1.9494\n"
     ]
    },
    {
     "name": "stderr",
     "output_type": "stream",
     "text": [
      "Epoch [1712/1800]: 100%|█████████████████████████████████████████████████████| 9/9 [00:00<00:00, 154.69it/s, loss=1.69]\n"
     ]
    },
    {
     "name": "stdout",
     "output_type": "stream",
     "text": [
      "Epoch [1712/1800]: Train loss: 1.7825, Valid loss: 1.8996\n"
     ]
    },
    {
     "name": "stderr",
     "output_type": "stream",
     "text": [
      "Epoch [1713/1800]: 100%|█████████████████████████████████████████████████████| 9/9 [00:00<00:00, 150.40it/s, loss=2.26]\n"
     ]
    },
    {
     "name": "stdout",
     "output_type": "stream",
     "text": [
      "Epoch [1713/1800]: Train loss: 1.7991, Valid loss: 1.8995\n"
     ]
    },
    {
     "name": "stderr",
     "output_type": "stream",
     "text": [
      "Epoch [1714/1800]: 100%|█████████████████████████████████████████████████████| 9/9 [00:00<00:00, 149.76it/s, loss=1.85]\n"
     ]
    },
    {
     "name": "stdout",
     "output_type": "stream",
     "text": [
      "Epoch [1714/1800]: Train loss: 1.8335, Valid loss: 2.3241\n"
     ]
    },
    {
     "name": "stderr",
     "output_type": "stream",
     "text": [
      "Epoch [1715/1800]: 100%|█████████████████████████████████████████████████████| 9/9 [00:00<00:00, 150.40it/s, loss=3.66]\n"
     ]
    },
    {
     "name": "stdout",
     "output_type": "stream",
     "text": [
      "Epoch [1715/1800]: Train loss: 2.1862, Valid loss: 1.9230\n"
     ]
    },
    {
     "name": "stderr",
     "output_type": "stream",
     "text": [
      "Epoch [1716/1800]: 100%|█████████████████████████████████████████████████████| 9/9 [00:00<00:00, 150.40it/s, loss=1.65]\n"
     ]
    },
    {
     "name": "stdout",
     "output_type": "stream",
     "text": [
      "Epoch [1716/1800]: Train loss: 2.1763, Valid loss: 3.3653\n"
     ]
    },
    {
     "name": "stderr",
     "output_type": "stream",
     "text": [
      "Epoch [1717/1800]: 100%|█████████████████████████████████████████████████████| 9/9 [00:00<00:00, 150.40it/s, loss=2.55]\n"
     ]
    },
    {
     "name": "stdout",
     "output_type": "stream",
     "text": [
      "Epoch [1717/1800]: Train loss: 2.1337, Valid loss: 1.9608\n"
     ]
    },
    {
     "name": "stderr",
     "output_type": "stream",
     "text": [
      "Epoch [1718/1800]: 100%|█████████████████████████████████████████████████████| 9/9 [00:00<00:00, 147.93it/s, loss=1.74]\n"
     ]
    },
    {
     "name": "stdout",
     "output_type": "stream",
     "text": [
      "Epoch [1718/1800]: Train loss: 2.0570, Valid loss: 2.2571\n"
     ]
    },
    {
     "name": "stderr",
     "output_type": "stream",
     "text": [
      "Epoch [1719/1800]: 100%|█████████████████████████████████████████████████████| 9/9 [00:00<00:00, 148.25it/s, loss=2.61]\n"
     ]
    },
    {
     "name": "stdout",
     "output_type": "stream",
     "text": [
      "Epoch [1719/1800]: Train loss: 1.9491, Valid loss: 2.5792\n"
     ]
    },
    {
     "name": "stderr",
     "output_type": "stream",
     "text": [
      "Epoch [1720/1800]: 100%|█████████████████████████████████████████████████████| 9/9 [00:00<00:00, 150.40it/s, loss=1.72]\n"
     ]
    },
    {
     "name": "stdout",
     "output_type": "stream",
     "text": [
      "Epoch [1720/1800]: Train loss: 1.7286, Valid loss: 1.8256\n"
     ]
    },
    {
     "name": "stderr",
     "output_type": "stream",
     "text": [
      "Epoch [1721/1800]: 100%|█████████████████████████████████████████████████████| 9/9 [00:00<00:00, 152.95it/s, loss=1.85]\n"
     ]
    },
    {
     "name": "stdout",
     "output_type": "stream",
     "text": [
      "Epoch [1721/1800]: Train loss: 1.7240, Valid loss: 1.9541\n"
     ]
    },
    {
     "name": "stderr",
     "output_type": "stream",
     "text": [
      "Epoch [1722/1800]: 100%|█████████████████████████████████████████████████████| 9/9 [00:00<00:00, 147.93it/s, loss=1.77]\n"
     ]
    },
    {
     "name": "stdout",
     "output_type": "stream",
     "text": [
      "Epoch [1722/1800]: Train loss: 1.8007, Valid loss: 2.2403\n"
     ]
    },
    {
     "name": "stderr",
     "output_type": "stream",
     "text": [
      "Epoch [1723/1800]: 100%|█████████████████████████████████████████████████████| 9/9 [00:00<00:00, 153.49it/s, loss=1.95]\n"
     ]
    },
    {
     "name": "stdout",
     "output_type": "stream",
     "text": [
      "Epoch [1723/1800]: Train loss: 1.8721, Valid loss: 2.4286\n"
     ]
    },
    {
     "name": "stderr",
     "output_type": "stream",
     "text": [
      "Epoch [1724/1800]: 100%|█████████████████████████████████████████████████████| 9/9 [00:00<00:00, 152.95it/s, loss=1.31]\n"
     ]
    },
    {
     "name": "stdout",
     "output_type": "stream",
     "text": [
      "Epoch [1724/1800]: Train loss: 1.7570, Valid loss: 1.7300\n"
     ]
    },
    {
     "name": "stderr",
     "output_type": "stream",
     "text": [
      "Epoch [1725/1800]: 100%|█████████████████████████████████████████████████████| 9/9 [00:00<00:00, 145.55it/s, loss=1.94]\n"
     ]
    },
    {
     "name": "stdout",
     "output_type": "stream",
     "text": [
      "Epoch [1725/1800]: Train loss: 2.0656, Valid loss: 2.0463\n"
     ]
    },
    {
     "name": "stderr",
     "output_type": "stream",
     "text": [
      "Epoch [1726/1800]: 100%|█████████████████████████████████████████████████████| 9/9 [00:00<00:00, 130.90it/s, loss=2.17]\n"
     ]
    },
    {
     "name": "stdout",
     "output_type": "stream",
     "text": [
      "Epoch [1726/1800]: Train loss: 1.7926, Valid loss: 2.2546\n"
     ]
    },
    {
     "name": "stderr",
     "output_type": "stream",
     "text": [
      "Epoch [1727/1800]: 100%|█████████████████████████████████████████████████████| 9/9 [00:00<00:00, 150.16it/s, loss=1.53]\n"
     ]
    },
    {
     "name": "stdout",
     "output_type": "stream",
     "text": [
      "Epoch [1727/1800]: Train loss: 1.8424, Valid loss: 1.9327\n"
     ]
    },
    {
     "name": "stderr",
     "output_type": "stream",
     "text": [
      "Epoch [1728/1800]: 100%|█████████████████████████████████████████████████████| 9/9 [00:00<00:00, 152.57it/s, loss=1.37]\n"
     ]
    },
    {
     "name": "stdout",
     "output_type": "stream",
     "text": [
      "Epoch [1728/1800]: Train loss: 1.8280, Valid loss: 2.8158\n"
     ]
    },
    {
     "name": "stderr",
     "output_type": "stream",
     "text": [
      "Epoch [1729/1800]: 100%|█████████████████████████████████████████████████████| 9/9 [00:00<00:00, 141.00it/s, loss=1.89]\n"
     ]
    },
    {
     "name": "stdout",
     "output_type": "stream",
     "text": [
      "Epoch [1729/1800]: Train loss: 2.1579, Valid loss: 2.0535\n"
     ]
    },
    {
     "name": "stderr",
     "output_type": "stream",
     "text": [
      "Epoch [1730/1800]: 100%|█████████████████████████████████████████████████████| 9/9 [00:00<00:00, 152.95it/s, loss=1.65]\n"
     ]
    },
    {
     "name": "stdout",
     "output_type": "stream",
     "text": [
      "Epoch [1730/1800]: Train loss: 1.8189, Valid loss: 1.7622\n"
     ]
    },
    {
     "name": "stderr",
     "output_type": "stream",
     "text": [
      "Epoch [1731/1800]: 100%|█████████████████████████████████████████████████████| 9/9 [00:00<00:00, 150.40it/s, loss=2.05]\n"
     ]
    },
    {
     "name": "stdout",
     "output_type": "stream",
     "text": [
      "Epoch [1731/1800]: Train loss: 1.8868, Valid loss: 2.4600\n"
     ]
    },
    {
     "name": "stderr",
     "output_type": "stream",
     "text": [
      "Epoch [1732/1800]: 100%|█████████████████████████████████████████████████████| 9/9 [00:00<00:00, 150.40it/s, loss=2.84]\n"
     ]
    },
    {
     "name": "stdout",
     "output_type": "stream",
     "text": [
      "Epoch [1732/1800]: Train loss: 2.3510, Valid loss: 2.0233\n"
     ]
    },
    {
     "name": "stderr",
     "output_type": "stream",
     "text": [
      "Epoch [1733/1800]: 100%|█████████████████████████████████████████████████████| 9/9 [00:00<00:00, 152.94it/s, loss=3.05]\n"
     ]
    },
    {
     "name": "stdout",
     "output_type": "stream",
     "text": [
      "Epoch [1733/1800]: Train loss: 2.0980, Valid loss: 3.5149\n"
     ]
    },
    {
     "name": "stderr",
     "output_type": "stream",
     "text": [
      "Epoch [1734/1800]: 100%|█████████████████████████████████████████████████████| 9/9 [00:00<00:00, 147.94it/s, loss=1.69]\n"
     ]
    },
    {
     "name": "stdout",
     "output_type": "stream",
     "text": [
      "Epoch [1734/1800]: Train loss: 2.3489, Valid loss: 2.8905\n"
     ]
    },
    {
     "name": "stderr",
     "output_type": "stream",
     "text": [
      "Epoch [1735/1800]: 100%|█████████████████████████████████████████████████████| 9/9 [00:00<00:00, 152.95it/s, loss=2.23]\n"
     ]
    },
    {
     "name": "stdout",
     "output_type": "stream",
     "text": [
      "Epoch [1735/1800]: Train loss: 2.0592, Valid loss: 2.2252\n"
     ]
    },
    {
     "name": "stderr",
     "output_type": "stream",
     "text": [
      "Epoch [1736/1800]: 100%|█████████████████████████████████████████████████████| 9/9 [00:00<00:00, 148.75it/s, loss=2.16]\n"
     ]
    },
    {
     "name": "stdout",
     "output_type": "stream",
     "text": [
      "Epoch [1736/1800]: Train loss: 1.9166, Valid loss: 3.6118\n"
     ]
    },
    {
     "name": "stderr",
     "output_type": "stream",
     "text": [
      "Epoch [1737/1800]: 100%|█████████████████████████████████████████████████████| 9/9 [00:00<00:00, 151.25it/s, loss=1.35]\n"
     ]
    },
    {
     "name": "stdout",
     "output_type": "stream",
     "text": [
      "Epoch [1737/1800]: Train loss: 1.9816, Valid loss: 1.9757\n"
     ]
    },
    {
     "name": "stderr",
     "output_type": "stream",
     "text": [
      "Epoch [1738/1800]: 100%|█████████████████████████████████████████████████████| 9/9 [00:00<00:00, 152.47it/s, loss=2.09]\n"
     ]
    },
    {
     "name": "stdout",
     "output_type": "stream",
     "text": [
      "Epoch [1738/1800]: Train loss: 1.8039, Valid loss: 2.8355\n"
     ]
    },
    {
     "name": "stderr",
     "output_type": "stream",
     "text": [
      "Epoch [1739/1800]: 100%|█████████████████████████████████████████████████████| 9/9 [00:00<00:00, 147.93it/s, loss=3.23]\n"
     ]
    },
    {
     "name": "stdout",
     "output_type": "stream",
     "text": [
      "Epoch [1739/1800]: Train loss: 2.3388, Valid loss: 1.8061\n"
     ]
    },
    {
     "name": "stderr",
     "output_type": "stream",
     "text": [
      "Epoch [1740/1800]: 100%|█████████████████████████████████████████████████████| 9/9 [00:00<00:00, 150.40it/s, loss=3.47]\n"
     ]
    },
    {
     "name": "stdout",
     "output_type": "stream",
     "text": [
      "Epoch [1740/1800]: Train loss: 2.1522, Valid loss: 3.0628\n"
     ]
    },
    {
     "name": "stderr",
     "output_type": "stream",
     "text": [
      "Epoch [1741/1800]: 100%|█████████████████████████████████████████████████████| 9/9 [00:00<00:00, 150.40it/s, loss=1.86]\n"
     ]
    },
    {
     "name": "stdout",
     "output_type": "stream",
     "text": [
      "Epoch [1741/1800]: Train loss: 2.3373, Valid loss: 2.0127\n"
     ]
    },
    {
     "name": "stderr",
     "output_type": "stream",
     "text": [
      "Epoch [1742/1800]: 100%|█████████████████████████████████████████████████████| 9/9 [00:00<00:00, 147.72it/s, loss=1.13]\n"
     ]
    },
    {
     "name": "stdout",
     "output_type": "stream",
     "text": [
      "Epoch [1742/1800]: Train loss: 1.7964, Valid loss: 3.7928\n"
     ]
    },
    {
     "name": "stderr",
     "output_type": "stream",
     "text": [
      "Epoch [1743/1800]: 100%|████████████████████████████████████████████████████████| 9/9 [00:00<00:00, 150.40it/s, loss=4]\n"
     ]
    },
    {
     "name": "stdout",
     "output_type": "stream",
     "text": [
      "Epoch [1743/1800]: Train loss: 2.7079, Valid loss: 3.3336\n"
     ]
    },
    {
     "name": "stderr",
     "output_type": "stream",
     "text": [
      "Epoch [1744/1800]: 100%|█████████████████████████████████████████████████████| 9/9 [00:00<00:00, 150.40it/s, loss=3.03]\n"
     ]
    },
    {
     "name": "stdout",
     "output_type": "stream",
     "text": [
      "Epoch [1744/1800]: Train loss: 2.4340, Valid loss: 4.2534\n"
     ]
    },
    {
     "name": "stderr",
     "output_type": "stream",
     "text": [
      "Epoch [1745/1800]: 100%|█████████████████████████████████████████████████████| 9/9 [00:00<00:00, 153.17it/s, loss=3.15]\n"
     ]
    },
    {
     "name": "stdout",
     "output_type": "stream",
     "text": [
      "Epoch [1745/1800]: Train loss: 2.7483, Valid loss: 2.3753\n"
     ]
    },
    {
     "name": "stderr",
     "output_type": "stream",
     "text": [
      "Epoch [1746/1800]: 100%|█████████████████████████████████████████████████████| 9/9 [00:00<00:00, 152.52it/s, loss=3.45]"
     ]
    },
    {
     "name": "stdout",
     "output_type": "stream",
     "text": [
      "Epoch [1746/1800]: Train loss: 2.8269, Valid loss: 2.1790"
     ]
    },
    {
     "name": "stderr",
     "output_type": "stream",
     "text": [
      "\n"
     ]
    },
    {
     "name": "stdout",
     "output_type": "stream",
     "text": [
      "\n"
     ]
    },
    {
     "name": "stderr",
     "output_type": "stream",
     "text": [
      "Epoch [1747/1800]: 100%|█████████████████████████████████████████████████████| 9/9 [00:00<00:00, 153.10it/s, loss=4.16]\n"
     ]
    },
    {
     "name": "stdout",
     "output_type": "stream",
     "text": [
      "Epoch [1747/1800]: Train loss: 2.9141, Valid loss: 2.6044\n"
     ]
    },
    {
     "name": "stderr",
     "output_type": "stream",
     "text": [
      "Epoch [1748/1800]: 100%|██████████████████████████████████████████████████████| 9/9 [00:00<00:00, 150.40it/s, loss=3.3]\n"
     ]
    },
    {
     "name": "stdout",
     "output_type": "stream",
     "text": [
      "Epoch [1748/1800]: Train loss: 2.7156, Valid loss: 3.3160\n"
     ]
    },
    {
     "name": "stderr",
     "output_type": "stream",
     "text": [
      "Epoch [1749/1800]: 100%|█████████████████████████████████████████████████████| 9/9 [00:00<00:00, 153.23it/s, loss=1.71]\n"
     ]
    },
    {
     "name": "stdout",
     "output_type": "stream",
     "text": [
      "Epoch [1749/1800]: Train loss: 2.3424, Valid loss: 2.0847\n"
     ]
    },
    {
     "name": "stderr",
     "output_type": "stream",
     "text": [
      "Epoch [1750/1800]: 100%|█████████████████████████████████████████████████████| 9/9 [00:00<00:00, 148.40it/s, loss=1.83]\n"
     ]
    },
    {
     "name": "stdout",
     "output_type": "stream",
     "text": [
      "Epoch [1750/1800]: Train loss: 1.7145, Valid loss: 2.4323\n"
     ]
    },
    {
     "name": "stderr",
     "output_type": "stream",
     "text": [
      "Epoch [1751/1800]: 100%|█████████████████████████████████████████████████████| 9/9 [00:00<00:00, 152.95it/s, loss=1.72]\n"
     ]
    },
    {
     "name": "stdout",
     "output_type": "stream",
     "text": [
      "Epoch [1751/1800]: Train loss: 1.7151, Valid loss: 2.3139\n"
     ]
    },
    {
     "name": "stderr",
     "output_type": "stream",
     "text": [
      "Epoch [1752/1800]: 100%|█████████████████████████████████████████████████████| 9/9 [00:00<00:00, 147.93it/s, loss=1.19]\n"
     ]
    },
    {
     "name": "stdout",
     "output_type": "stream",
     "text": [
      "Epoch [1752/1800]: Train loss: 1.7524, Valid loss: 2.0386\n"
     ]
    },
    {
     "name": "stderr",
     "output_type": "stream",
     "text": [
      "Epoch [1753/1800]: 100%|█████████████████████████████████████████████████████| 9/9 [00:00<00:00, 150.40it/s, loss=2.02]\n"
     ]
    },
    {
     "name": "stdout",
     "output_type": "stream",
     "text": [
      "Epoch [1753/1800]: Train loss: 1.8216, Valid loss: 2.2980\n"
     ]
    },
    {
     "name": "stderr",
     "output_type": "stream",
     "text": [
      "Epoch [1754/1800]: 100%|█████████████████████████████████████████████████████| 9/9 [00:00<00:00, 150.40it/s, loss=3.71]\n"
     ]
    },
    {
     "name": "stdout",
     "output_type": "stream",
     "text": [
      "Epoch [1754/1800]: Train loss: 2.3360, Valid loss: 2.2373\n"
     ]
    },
    {
     "name": "stderr",
     "output_type": "stream",
     "text": [
      "Epoch [1755/1800]: 100%|█████████████████████████████████████████████████████| 9/9 [00:00<00:00, 145.84it/s, loss=2.42]\n"
     ]
    },
    {
     "name": "stdout",
     "output_type": "stream",
     "text": [
      "Epoch [1755/1800]: Train loss: 2.3249, Valid loss: 1.9231\n"
     ]
    },
    {
     "name": "stderr",
     "output_type": "stream",
     "text": [
      "Epoch [1756/1800]: 100%|█████████████████████████████████████████████████████| 9/9 [00:00<00:00, 152.95it/s, loss=2.32]\n"
     ]
    },
    {
     "name": "stdout",
     "output_type": "stream",
     "text": [
      "Epoch [1756/1800]: Train loss: 1.8886, Valid loss: 2.0160\n"
     ]
    },
    {
     "name": "stderr",
     "output_type": "stream",
     "text": [
      "Epoch [1757/1800]: 100%|█████████████████████████████████████████████████████| 9/9 [00:00<00:00, 145.55it/s, loss=2.24]\n"
     ]
    },
    {
     "name": "stdout",
     "output_type": "stream",
     "text": [
      "Epoch [1757/1800]: Train loss: 1.8724, Valid loss: 2.3535\n"
     ]
    },
    {
     "name": "stderr",
     "output_type": "stream",
     "text": [
      "Epoch [1758/1800]: 100%|█████████████████████████████████████████████████████| 9/9 [00:00<00:00, 150.40it/s, loss=1.72]\n"
     ]
    },
    {
     "name": "stdout",
     "output_type": "stream",
     "text": [
      "Epoch [1758/1800]: Train loss: 1.9302, Valid loss: 1.9229\n"
     ]
    },
    {
     "name": "stderr",
     "output_type": "stream",
     "text": [
      "Epoch [1759/1800]: 100%|█████████████████████████████████████████████████████| 9/9 [00:00<00:00, 147.36it/s, loss=1.76]\n"
     ]
    },
    {
     "name": "stdout",
     "output_type": "stream",
     "text": [
      "Epoch [1759/1800]: Train loss: 1.7374, Valid loss: 1.9289\n"
     ]
    },
    {
     "name": "stderr",
     "output_type": "stream",
     "text": [
      "Epoch [1760/1800]: 100%|█████████████████████████████████████████████████████| 9/9 [00:00<00:00, 150.40it/s, loss=1.36]\n"
     ]
    },
    {
     "name": "stdout",
     "output_type": "stream",
     "text": [
      "Epoch [1760/1800]: Train loss: 1.7505, Valid loss: 2.5223\n"
     ]
    },
    {
     "name": "stderr",
     "output_type": "stream",
     "text": [
      "Epoch [1761/1800]: 100%|█████████████████████████████████████████████████████| 9/9 [00:00<00:00, 152.95it/s, loss=2.02]\n"
     ]
    },
    {
     "name": "stdout",
     "output_type": "stream",
     "text": [
      "Epoch [1761/1800]: Train loss: 1.8599, Valid loss: 2.3565\n"
     ]
    },
    {
     "name": "stderr",
     "output_type": "stream",
     "text": [
      "Epoch [1762/1800]: 100%|█████████████████████████████████████████████████████| 9/9 [00:00<00:00, 145.44it/s, loss=1.85]\n"
     ]
    },
    {
     "name": "stdout",
     "output_type": "stream",
     "text": [
      "Epoch [1762/1800]: Train loss: 2.1024, Valid loss: 2.2610\n"
     ]
    },
    {
     "name": "stderr",
     "output_type": "stream",
     "text": [
      "Epoch [1763/1800]: 100%|█████████████████████████████████████████████████████| 9/9 [00:00<00:00, 142.85it/s, loss=1.98]\n"
     ]
    },
    {
     "name": "stdout",
     "output_type": "stream",
     "text": [
      "Epoch [1763/1800]: Train loss: 1.8136, Valid loss: 2.3304\n"
     ]
    },
    {
     "name": "stderr",
     "output_type": "stream",
     "text": [
      "Epoch [1764/1800]: 100%|█████████████████████████████████████████████████████| 9/9 [00:00<00:00, 152.95it/s, loss=2.22]\n"
     ]
    },
    {
     "name": "stdout",
     "output_type": "stream",
     "text": [
      "Epoch [1764/1800]: Train loss: 1.7679, Valid loss: 2.0477\n"
     ]
    },
    {
     "name": "stderr",
     "output_type": "stream",
     "text": [
      "Epoch [1765/1800]: 100%|█████████████████████████████████████████████████████| 9/9 [00:00<00:00, 150.39it/s, loss=1.83]\n"
     ]
    },
    {
     "name": "stdout",
     "output_type": "stream",
     "text": [
      "Epoch [1765/1800]: Train loss: 1.6890, Valid loss: 2.2503\n"
     ]
    },
    {
     "name": "stderr",
     "output_type": "stream",
     "text": [
      "Epoch [1766/1800]: 100%|█████████████████████████████████████████████████████| 9/9 [00:00<00:00, 150.40it/s, loss=1.59]\n"
     ]
    },
    {
     "name": "stdout",
     "output_type": "stream",
     "text": [
      "Epoch [1766/1800]: Train loss: 1.8482, Valid loss: 2.0048\n"
     ]
    },
    {
     "name": "stderr",
     "output_type": "stream",
     "text": [
      "Epoch [1767/1800]: 100%|█████████████████████████████████████████████████████| 9/9 [00:00<00:00, 145.55it/s, loss=1.51]\n"
     ]
    },
    {
     "name": "stdout",
     "output_type": "stream",
     "text": [
      "Epoch [1767/1800]: Train loss: 1.7720, Valid loss: 2.2844\n"
     ]
    },
    {
     "name": "stderr",
     "output_type": "stream",
     "text": [
      "Epoch [1768/1800]: 100%|█████████████████████████████████████████████████████| 9/9 [00:00<00:00, 150.40it/s, loss=1.41]\n"
     ]
    },
    {
     "name": "stdout",
     "output_type": "stream",
     "text": [
      "Epoch [1768/1800]: Train loss: 1.8056, Valid loss: 2.3840\n"
     ]
    },
    {
     "name": "stderr",
     "output_type": "stream",
     "text": [
      "Epoch [1769/1800]: 100%|█████████████████████████████████████████████████████| 9/9 [00:00<00:00, 150.20it/s, loss=1.54]\n"
     ]
    },
    {
     "name": "stdout",
     "output_type": "stream",
     "text": [
      "Epoch [1769/1800]: Train loss: 1.6884, Valid loss: 1.8562\n"
     ]
    },
    {
     "name": "stderr",
     "output_type": "stream",
     "text": [
      "Epoch [1770/1800]: 100%|█████████████████████████████████████████████████████| 9/9 [00:00<00:00, 149.59it/s, loss=2.06]\n"
     ]
    },
    {
     "name": "stdout",
     "output_type": "stream",
     "text": [
      "Epoch [1770/1800]: Train loss: 1.7880, Valid loss: 2.7111\n"
     ]
    },
    {
     "name": "stderr",
     "output_type": "stream",
     "text": [
      "Epoch [1771/1800]: 100%|██████████████████████████████████████████████████████| 9/9 [00:00<00:00, 98.09it/s, loss=1.88]\n"
     ]
    },
    {
     "name": "stdout",
     "output_type": "stream",
     "text": [
      "Epoch [1771/1800]: Train loss: 1.8691, Valid loss: 2.3158\n"
     ]
    },
    {
     "name": "stderr",
     "output_type": "stream",
     "text": [
      "Epoch [1772/1800]: 100%|█████████████████████████████████████████████████████| 9/9 [00:00<00:00, 136.73it/s, loss=2.23]\n"
     ]
    },
    {
     "name": "stdout",
     "output_type": "stream",
     "text": [
      "Epoch [1772/1800]: Train loss: 1.8786, Valid loss: 2.3458\n"
     ]
    },
    {
     "name": "stderr",
     "output_type": "stream",
     "text": [
      "Epoch [1773/1800]: 100%|█████████████████████████████████████████████████████| 9/9 [00:00<00:00, 155.59it/s, loss=1.91]\n"
     ]
    },
    {
     "name": "stdout",
     "output_type": "stream",
     "text": [
      "Epoch [1773/1800]: Train loss: 1.8078, Valid loss: 2.2383\n"
     ]
    },
    {
     "name": "stderr",
     "output_type": "stream",
     "text": [
      "Epoch [1774/1800]: 100%|█████████████████████████████████████████████████████| 9/9 [00:00<00:00, 153.06it/s, loss=1.56]\n"
     ]
    },
    {
     "name": "stdout",
     "output_type": "stream",
     "text": [
      "Epoch [1774/1800]: Train loss: 1.7441, Valid loss: 2.1082\n"
     ]
    },
    {
     "name": "stderr",
     "output_type": "stream",
     "text": [
      "Epoch [1775/1800]: 100%|█████████████████████████████████████████████████████| 9/9 [00:00<00:00, 150.40it/s, loss=1.76]\n"
     ]
    },
    {
     "name": "stdout",
     "output_type": "stream",
     "text": [
      "Epoch [1775/1800]: Train loss: 1.7925, Valid loss: 1.7877\n"
     ]
    },
    {
     "name": "stderr",
     "output_type": "stream",
     "text": [
      "Epoch [1776/1800]: 100%|█████████████████████████████████████████████████████| 9/9 [00:00<00:00, 152.95it/s, loss=1.97]\n"
     ]
    },
    {
     "name": "stdout",
     "output_type": "stream",
     "text": [
      "Epoch [1776/1800]: Train loss: 1.7179, Valid loss: 2.2880\n"
     ]
    },
    {
     "name": "stderr",
     "output_type": "stream",
     "text": [
      "Epoch [1777/1800]: 100%|█████████████████████████████████████████████████████| 9/9 [00:00<00:00, 153.64it/s, loss=2.08]\n"
     ]
    },
    {
     "name": "stdout",
     "output_type": "stream",
     "text": [
      "Epoch [1777/1800]: Train loss: 1.7410, Valid loss: 2.1031\n"
     ]
    },
    {
     "name": "stderr",
     "output_type": "stream",
     "text": [
      "Epoch [1778/1800]: 100%|█████████████████████████████████████████████████████| 9/9 [00:00<00:00, 147.94it/s, loss=1.24]\n"
     ]
    },
    {
     "name": "stdout",
     "output_type": "stream",
     "text": [
      "Epoch [1778/1800]: Train loss: 1.7611, Valid loss: 2.4659\n"
     ]
    },
    {
     "name": "stderr",
     "output_type": "stream",
     "text": [
      "Epoch [1779/1800]: 100%|█████████████████████████████████████████████████████| 9/9 [00:00<00:00, 150.40it/s, loss=2.06]\n"
     ]
    },
    {
     "name": "stdout",
     "output_type": "stream",
     "text": [
      "Epoch [1779/1800]: Train loss: 1.7650, Valid loss: 2.0057\n"
     ]
    },
    {
     "name": "stderr",
     "output_type": "stream",
     "text": [
      "Epoch [1780/1800]: 100%|█████████████████████████████████████████████████████| 9/9 [00:00<00:00, 147.93it/s, loss=2.09]\n"
     ]
    },
    {
     "name": "stdout",
     "output_type": "stream",
     "text": [
      "Epoch [1780/1800]: Train loss: 1.8535, Valid loss: 2.1370\n"
     ]
    },
    {
     "name": "stderr",
     "output_type": "stream",
     "text": [
      "Epoch [1781/1800]: 100%|█████████████████████████████████████████████████████| 9/9 [00:00<00:00, 150.39it/s, loss=1.44]\n"
     ]
    },
    {
     "name": "stdout",
     "output_type": "stream",
     "text": [
      "Epoch [1781/1800]: Train loss: 1.8306, Valid loss: 1.8570\n"
     ]
    },
    {
     "name": "stderr",
     "output_type": "stream",
     "text": [
      "Epoch [1782/1800]: 100%|█████████████████████████████████████████████████████| 9/9 [00:00<00:00, 157.72it/s, loss=1.46]\n"
     ]
    },
    {
     "name": "stdout",
     "output_type": "stream",
     "text": [
      "Epoch [1782/1800]: Train loss: 1.7003, Valid loss: 2.0046\n"
     ]
    },
    {
     "name": "stderr",
     "output_type": "stream",
     "text": [
      "Epoch [1783/1800]: 100%|█████████████████████████████████████████████████████| 9/9 [00:00<00:00, 152.52it/s, loss=1.57]\n"
     ]
    },
    {
     "name": "stdout",
     "output_type": "stream",
     "text": [
      "Epoch [1783/1800]: Train loss: 1.8308, Valid loss: 2.3895\n"
     ]
    },
    {
     "name": "stderr",
     "output_type": "stream",
     "text": [
      "Epoch [1784/1800]: 100%|█████████████████████████████████████████████████████| 9/9 [00:00<00:00, 147.69it/s, loss=2.03]\n"
     ]
    },
    {
     "name": "stdout",
     "output_type": "stream",
     "text": [
      "Epoch [1784/1800]: Train loss: 1.9207, Valid loss: 2.5814\n"
     ]
    },
    {
     "name": "stderr",
     "output_type": "stream",
     "text": [
      "Epoch [1785/1800]: 100%|█████████████████████████████████████████████████████| 9/9 [00:00<00:00, 145.61it/s, loss=1.13]\n"
     ]
    },
    {
     "name": "stdout",
     "output_type": "stream",
     "text": [
      "Epoch [1785/1800]: Train loss: 2.0730, Valid loss: 3.0949\n"
     ]
    },
    {
     "name": "stderr",
     "output_type": "stream",
     "text": [
      "Epoch [1786/1800]: 100%|█████████████████████████████████████████████████████| 9/9 [00:00<00:00, 152.95it/s, loss=2.42]\n"
     ]
    },
    {
     "name": "stdout",
     "output_type": "stream",
     "text": [
      "Epoch [1786/1800]: Train loss: 2.2226, Valid loss: 1.9806\n"
     ]
    },
    {
     "name": "stderr",
     "output_type": "stream",
     "text": [
      "Epoch [1787/1800]: 100%|█████████████████████████████████████████████████████| 9/9 [00:00<00:00, 147.95it/s, loss=2.34]\n"
     ]
    },
    {
     "name": "stdout",
     "output_type": "stream",
     "text": [
      "Epoch [1787/1800]: Train loss: 1.9646, Valid loss: 2.0390\n"
     ]
    },
    {
     "name": "stderr",
     "output_type": "stream",
     "text": [
      "Epoch [1788/1800]: 100%|█████████████████████████████████████████████████████| 9/9 [00:00<00:00, 152.95it/s, loss=1.99]\n"
     ]
    },
    {
     "name": "stdout",
     "output_type": "stream",
     "text": [
      "Epoch [1788/1800]: Train loss: 2.1584, Valid loss: 2.6565\n"
     ]
    },
    {
     "name": "stderr",
     "output_type": "stream",
     "text": [
      "Epoch [1789/1800]: 100%|█████████████████████████████████████████████████████| 9/9 [00:00<00:00, 145.00it/s, loss=1.82]\n"
     ]
    },
    {
     "name": "stdout",
     "output_type": "stream",
     "text": [
      "Epoch [1789/1800]: Train loss: 1.9598, Valid loss: 1.9589\n"
     ]
    },
    {
     "name": "stderr",
     "output_type": "stream",
     "text": [
      "Epoch [1790/1800]: 100%|█████████████████████████████████████████████████████| 9/9 [00:00<00:00, 153.73it/s, loss=2.76]\n"
     ]
    },
    {
     "name": "stdout",
     "output_type": "stream",
     "text": [
      "Epoch [1790/1800]: Train loss: 1.8428, Valid loss: 1.7125\n"
     ]
    },
    {
     "name": "stderr",
     "output_type": "stream",
     "text": [
      "Epoch [1791/1800]: 100%|█████████████████████████████████████████████████████| 9/9 [00:00<00:00, 146.20it/s, loss=1.52]\n"
     ]
    },
    {
     "name": "stdout",
     "output_type": "stream",
     "text": [
      "Epoch [1791/1800]: Train loss: 1.8958, Valid loss: 2.6493\n"
     ]
    },
    {
     "name": "stderr",
     "output_type": "stream",
     "text": [
      "Epoch [1792/1800]: 100%|█████████████████████████████████████████████████████| 9/9 [00:00<00:00, 150.40it/s, loss=1.42]\n"
     ]
    },
    {
     "name": "stdout",
     "output_type": "stream",
     "text": [
      "Epoch [1792/1800]: Train loss: 2.0706, Valid loss: 2.2168\n"
     ]
    },
    {
     "name": "stderr",
     "output_type": "stream",
     "text": [
      "Epoch [1793/1800]: 100%|█████████████████████████████████████████████████████| 9/9 [00:00<00:00, 153.02it/s, loss=1.83]\n"
     ]
    },
    {
     "name": "stdout",
     "output_type": "stream",
     "text": [
      "Epoch [1793/1800]: Train loss: 1.8311, Valid loss: 1.8425\n"
     ]
    },
    {
     "name": "stderr",
     "output_type": "stream",
     "text": [
      "Epoch [1794/1800]: 100%|█████████████████████████████████████████████████████| 9/9 [00:00<00:00, 150.39it/s, loss=1.23]\n"
     ]
    },
    {
     "name": "stdout",
     "output_type": "stream",
     "text": [
      "Epoch [1794/1800]: Train loss: 1.6571, Valid loss: 2.1731\n"
     ]
    },
    {
     "name": "stderr",
     "output_type": "stream",
     "text": [
      "Epoch [1795/1800]: 100%|█████████████████████████████████████████████████████| 9/9 [00:00<00:00, 145.28it/s, loss=1.82]\n"
     ]
    },
    {
     "name": "stdout",
     "output_type": "stream",
     "text": [
      "Epoch [1795/1800]: Train loss: 1.7903, Valid loss: 1.9844\n"
     ]
    },
    {
     "name": "stderr",
     "output_type": "stream",
     "text": [
      "Epoch [1796/1800]: 100%|█████████████████████████████████████████████████████| 9/9 [00:00<00:00, 147.61it/s, loss=2.31]\n"
     ]
    },
    {
     "name": "stdout",
     "output_type": "stream",
     "text": [
      "Epoch [1796/1800]: Train loss: 1.7698, Valid loss: 2.3483\n"
     ]
    },
    {
     "name": "stderr",
     "output_type": "stream",
     "text": [
      "Epoch [1797/1800]: 100%|██████████████████████████████████████████████████████| 9/9 [00:00<00:00, 152.54it/s, loss=1.8]\n"
     ]
    },
    {
     "name": "stdout",
     "output_type": "stream",
     "text": [
      "Epoch [1797/1800]: Train loss: 2.0628, Valid loss: 2.5164\n"
     ]
    },
    {
     "name": "stderr",
     "output_type": "stream",
     "text": [
      "Epoch [1798/1800]: 100%|█████████████████████████████████████████████████████| 9/9 [00:00<00:00, 145.55it/s, loss=1.54]\n"
     ]
    },
    {
     "name": "stdout",
     "output_type": "stream",
     "text": [
      "Epoch [1798/1800]: Train loss: 1.9779, Valid loss: 2.3973\n"
     ]
    },
    {
     "name": "stderr",
     "output_type": "stream",
     "text": [
      "Epoch [1799/1800]: 100%|█████████████████████████████████████████████████████| 9/9 [00:00<00:00, 150.40it/s, loss=1.57]\n"
     ]
    },
    {
     "name": "stdout",
     "output_type": "stream",
     "text": [
      "Epoch [1799/1800]: Train loss: 1.7334, Valid loss: 1.7931\n"
     ]
    },
    {
     "name": "stderr",
     "output_type": "stream",
     "text": [
      "Epoch [1800/1800]: 100%|█████████████████████████████████████████████████████| 9/9 [00:00<00:00, 155.74it/s, loss=1.74]\n"
     ]
    },
    {
     "name": "stdout",
     "output_type": "stream",
     "text": [
      "Epoch [1800/1800]: Train loss: 1.7339, Valid loss: 1.9435\n"
     ]
    }
   ],
   "source": [
    "model = My_Model(input_dim=x_train.shape[1]).to(device) # put your model and data on the same computation device.\n",
    "trainer(train_loader, valid_loader, model, config, device)"
   ]
  },
  {
   "cell_type": "code",
   "execution_count": 10,
   "id": "95456b48",
   "metadata": {},
   "outputs": [
    {
     "data": {
      "text/html": [
       "\n",
       "      <iframe id=\"tensorboard-frame-f8381ecd73094b44\" width=\"100%\" height=\"800\" frameborder=\"0\">\n",
       "      </iframe>\n",
       "      <script>\n",
       "        (function() {\n",
       "          const frame = document.getElementById(\"tensorboard-frame-f8381ecd73094b44\");\n",
       "          const url = new URL(\"/\", window.location);\n",
       "          const port = 6006;\n",
       "          if (port) {\n",
       "            url.port = port;\n",
       "          }\n",
       "          frame.src = url;\n",
       "        })();\n",
       "      </script>\n",
       "    "
      ],
      "text/plain": [
       "<IPython.core.display.HTML object>"
      ]
     },
     "metadata": {},
     "output_type": "display_data"
    }
   ],
   "source": [
    "%reload_ext tensorboard\n",
    "%tensorboard --logdir=./runs/"
   ]
  },
  {
   "cell_type": "code",
   "execution_count": 11,
   "id": "fe675599",
   "metadata": {},
   "outputs": [
    {
     "name": "stderr",
     "output_type": "stream",
     "text": [
      "100%|███████████████████████████████████████████████████████████████████████████████████| 5/5 [00:00<00:00, 636.70it/s]\n"
     ]
    }
   ],
   "source": [
    "def save_pred(preds, file):\n",
    "    ''' Save predictions to specified file '''\n",
    "    with open(file, 'w') as fp:\n",
    "        writer = csv.writer(fp)\n",
    "        writer.writerow(['id', 'tested_positive'])\n",
    "        for i, p in enumerate(preds):\n",
    "            writer.writerow([i, p])\n",
    "\n",
    "model = My_Model(input_dim=x_train.shape[1]).to(device)\n",
    "model.load_state_dict(torch.load(config['save_path']))\n",
    "preds = predict(test_loader, model, device) \n",
    "save_pred(preds, 'pred.csv')        "
   ]
  },
  {
   "cell_type": "code",
   "execution_count": null,
   "id": "75d24891",
   "metadata": {},
   "outputs": [],
   "source": []
  },
  {
   "cell_type": "code",
   "execution_count": null,
   "id": "53367508",
   "metadata": {},
   "outputs": [],
   "source": []
  }
 ],
 "metadata": {
  "kernelspec": {
   "display_name": "DL",
   "language": "python",
   "name": "dl"
  },
  "language_info": {
   "codemirror_mode": {
    "name": "ipython",
    "version": 3
   },
   "file_extension": ".py",
   "mimetype": "text/x-python",
   "name": "python",
   "nbconvert_exporter": "python",
   "pygments_lexer": "ipython3",
   "version": "3.9.19"
  }
 },
 "nbformat": 4,
 "nbformat_minor": 5
}
